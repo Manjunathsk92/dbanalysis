{
 "cells": [
  {
   "cell_type": "code",
   "execution_count": 1,
   "metadata": {},
   "outputs": [],
   "source": [
    "import scrape_bus_schedule_API"
   ]
  },
  {
   "cell_type": "code",
   "execution_count": null,
   "metadata": {},
   "outputs": [],
   "source": [
    "scrape_bus_schedule_API.getDepartTime('trimmed_routes.json')"
   ]
  },
  {
   "cell_type": "code",
   "execution_count": 5,
   "metadata": {},
   "outputs": [],
   "source": [
    "import json\n",
    "with open('Bus_stops_schedule.json') as data_file:    \n",
    "    data = json.load(data_file)"
   ]
  },
  {
   "cell_type": "code",
   "execution_count": 6,
   "metadata": {},
   "outputs": [],
   "source": [
    "#missing 70D, add it manually by checking api \n",
    "#actually no results at all for route 70d- errorcode: 1\n",
    "#cross check with dublin bus timetable and insert values: \n",
    "data['70D']['startdayofweek']='Monday'\n",
    "data['70D']['enddayofweek']='Friday'\n",
    "data['70D']['first_departure']='17:05:00'\n",
    "data['70D']['last_departure']='17:05:00'\n",
    "data['70D']['destination']='Dunboyne'\n",
    "data['only_term_time']='True'\n",
    "\n",
    "data['70D']['startdayofweek1']='Monday'\n",
    "data['70D']['enddayofweek1']='Friday'\n",
    "data['70D']['first_departure1']='07:15:00'\n",
    "data['70D']['last_departure1']='07:15:00'\n",
    "data['70D']['destination1']='UCD'\n",
    "data['only_term_time']='True'"
   ]
  },
  {
   "cell_type": "code",
   "execution_count": 7,
   "metadata": {},
   "outputs": [],
   "source": [
    "#31D missing\n",
    "#Route 31d will operate during term time only\n",
    "data['31D']['startdayofweek']='Monday'\n",
    "data['31D']['enddayofweek']='Friday'\n",
    "data['31D']['first_departure']='17:15:00'\n",
    "data['31D']['last_departure']='17:15:00'\n",
    "data['31D']['destination']='Baldoyle'\n",
    "data['only_term_time']='True'\n",
    "\n",
    "data['31D']['startdayofweek1']='Monday'\n",
    "data['31D']['enddayofweek1']='Friday'\n",
    "data['31D']['first_departure1']='07:45:00'\n",
    "data['31D']['last_departure1']='07:45:00'\n",
    "data['31D']['destination1']='DCU'\n",
    "data['only_term_time1']='True'"
   ]
  },
  {
   "cell_type": "code",
   "execution_count": 8,
   "metadata": {},
   "outputs": [],
   "source": [
    "#42D\n",
    "#Route 42d will operate during term time only\n",
    "data['42D']['startdayofweek']='Monday'\n",
    "data['42D']['enddayofweek']='Friday'\n",
    "data['42D']['first_departure']='17:10:00'\n",
    "data['42D']['last_departure']='17:10:00'\n",
    "data['42D']['destination']='Portmarnock'\n",
    "data['only_term_time']='True'\n",
    "\n",
    "data['42D']['startdayofweek1']='Monday'\n",
    "data['42D']['enddayofweek1']='Friday'\n",
    "data['42D']['first_departure1']='07:30:00'\n",
    "data['42D']['last_departure1']='07:30:00'\n",
    "data['42D']['destination1']='DCU'\n",
    "data['only_term_time1']='True'"
   ]
  },
  {
   "cell_type": "code",
   "execution_count": 9,
   "metadata": {},
   "outputs": [],
   "source": [
    "with open('Bus_stops_schedule.json','w') as f:\n",
    "        json.dump(data, f, indent=4)   "
   ]
  },
  {
   "cell_type": "code",
   "execution_count": null,
   "metadata": {},
   "outputs": [],
   "source": [
    "Hi :) I can see what you are doin :p"
   ]
  }
 ],
 "metadata": {
  "kernelspec": {
   "display_name": "Python 3",
   "language": "python",
   "name": "python3"
  },
  "language_info": {
   "codemirror_mode": {
    "name": "ipython",
    "version": 3
   },
   "file_extension": ".py",
   "mimetype": "text/x-python",
   "name": "python",
   "nbconvert_exporter": "python",
   "pygments_lexer": "ipython3",
   "version": "3.6.5"
  }
 },
 "nbformat": 4,
 "nbformat_minor": 2
}
