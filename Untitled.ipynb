{
 "cells": [
  {
   "cell_type": "code",
   "execution_count": 1,
   "metadata": {},
   "outputs": [],
   "source": [
    "import json\n",
    "routes = json.loads(open('/home/student/db/resources/trimmed_routes.json').read())"
   ]
  },
  {
   "cell_type": "code",
   "execution_count": 3,
   "metadata": {},
   "outputs": [
    {
     "data": {
      "text/plain": [
       "[' Strand Road',\n",
       " 7571,\n",
       " 92,\n",
       " 93,\n",
       " 94,\n",
       " 126,\n",
       " 6182,\n",
       " 322,\n",
       " 6312,\n",
       " 7197,\n",
       " 7195,\n",
       " 3653,\n",
       " 6055,\n",
       " 1073,\n",
       " 3641,\n",
       " 3642,\n",
       " 3643,\n",
       " 3583,\n",
       " 3584,\n",
       " 3585,\n",
       " 3625,\n",
       " 3626,\n",
       " 3627,\n",
       " 3628,\n",
       " 6052,\n",
       " 3613,\n",
       " 3615,\n",
       " 3594,\n",
       " 3595,\n",
       " 3596,\n",
       " 3597,\n",
       " 3598,\n",
       " 4465]"
      ]
     },
     "execution_count": 3,
     "metadata": {},
     "output_type": "execute_result"
    }
   ],
   "source": [
    "routes['42D'][0]"
   ]
  },
  {
   "cell_type": "code",
   "execution_count": null,
   "metadata": {},
   "outputs": [],
   "source": []
  }
 ],
 "metadata": {
  "kernelspec": {
   "display_name": "Python 3",
   "language": "python",
   "name": "python3"
  },
  "language_info": {
   "codemirror_mode": {
    "name": "ipython",
    "version": 3
   },
   "file_extension": ".py",
   "mimetype": "text/x-python",
   "name": "python",
   "nbconvert_exporter": "python",
   "pygments_lexer": "ipython3",
   "version": "3.6.5"
  }
 },
 "nbformat": 4,
 "nbformat_minor": 2
}
