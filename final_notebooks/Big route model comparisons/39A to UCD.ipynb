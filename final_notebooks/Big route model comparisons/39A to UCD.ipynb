{
 "cells": [
  {
   "cell_type": "code",
   "execution_count": 1,
   "metadata": {},
   "outputs": [],
   "source": [
    "import json\n",
    "routes = json.loads(open('/home/student/db/resources/trimmed_routes.json','r').read())"
   ]
  },
  {
   "cell_type": "code",
   "execution_count": 2,
   "metadata": {},
   "outputs": [
    {
     "name": "stdout",
     "output_type": "stream",
     "text": [
      " Ongar\n",
      " Aston Quay\n",
      " Bachelor's Walk\n",
      " UCD\n",
      " Ongar\n",
      " UCD\n"
     ]
    }
   ],
   "source": [
    "for v in routes['39A']:\n",
    "    print (v[0])"
   ]
  },
  {
   "cell_type": "code",
   "execution_count": 2,
   "metadata": {},
   "outputs": [
    {
     "data": {
      "text/plain": [
       "70"
      ]
     },
     "execution_count": 2,
     "metadata": {},
     "output_type": "execute_result"
    }
   ],
   "source": [
    "len(routes['39A'][3])"
   ]
  },
  {
   "cell_type": "code",
   "execution_count": 11,
   "metadata": {},
   "outputs": [],
   "source": [
    "#we will use the route to clongriffin as this is the longest one"
   ]
  },
  {
   "cell_type": "code",
   "execution_count": 35,
   "metadata": {},
   "outputs": [],
   "source": [
    "from dbanalysis import stop_tools\n",
    "import pandas as pd\n",
    "class BRModel():\n",
    "    \"\"\"\n",
    "    Big route model class\n",
    "    uses the distance of a stop from first stop on a route to compute predictions lalalala\n",
    "    MAPE and r2 scores are not as good as they were in the notebook\n",
    "    (we achieved 0.57 r2, and 7% MAPE on the time to complete the route)\n",
    "    Should look into this.\n",
    "    \"\"\"\n",
    "    def __init__ (self, route,variation,verbose=True,src='build',rgr='RandomForest',\\\n",
    "                mode='validate',features = ['base_time_dep','distance','rain','temp','day'],use_dummies=True):\n",
    "        \n",
    "        import json\n",
    "        self.regr_type = rgr\n",
    "        self.verbose = verbose\n",
    "        self.route = route\n",
    "        self.use_dummies = use_dummies\n",
    "        self.variation = variation\n",
    "        self.routes = json.loads(open('/home/student/dbanalysis/dbanalysis/resources/trimmed_routes.json').read())\n",
    "        self.features = features\n",
    "        self.route_array = self.routes[route][variation][1:]\n",
    "        del(self.routes)\n",
    "        if src == 'build':\n",
    "            if not self.can_be_modelled():\n",
    "                \n",
    "                raise ValueError ('Missing data for modelling this route')\n",
    "\n",
    "            self.gather_data()\n",
    "            self.preprocess()\n",
    "            if rgr == 'RandomForest':\n",
    "                from sklearn.ensemble import RandomForestRegressor as rf\n",
    "                self.rgr = rf()\n",
    "            elif rgr == 'Linear':\n",
    "                from sklearn.linear_model import LinearRegression as lr\n",
    "                self.rgr = lr(fit_intercept=True)\n",
    "            elif rgr == 'Neural':\n",
    "                from sklearn.neural_network import MLPRegressor as mlpr\n",
    "                self.rgr = mlpr(hidden_layer_sizes=(100,),verbose=True)\n",
    "                from sklearn.preprocessing import normalize\n",
    "                \n",
    " \n",
    "            #if mode == 'validate':\n",
    "            #   if self.regr_type == 'Neural':\n",
    "                    #self.validate_neural()\n",
    "            #   else:\n",
    "                    #self.validate_model()\n",
    "            #lif mode == 'production':\n",
    "                #self.build_full_model()\n",
    "                #self.dump_model()\n",
    "    def validate_neural(self):\n",
    "        print('training regressor')\n",
    "        self.model = self.rgr.fit(self.train_X,self.train_Y)\n",
    "        preds = self.model.predict(self.test_1_X)\n",
    "        from sklearn import metrics\n",
    "        print('Validating...')\n",
    "        print(metrics.r2_score(self.test_1_Y,preds))\n",
    "        preds = self.model.predict(self.test_2_X)\n",
    "        print(metrics.r2_score(self.test_2_Y,preds))\n",
    "        print('calculated from norms-->')\n",
    "        preds = preds * self.test_2_norm\n",
    "        print(metrics.r2_score(self.test_2_real,preds))\n",
    "        preds = self.model.predict(self.test_3_X)\n",
    "        print(metrics.r2_score(self.test_3_Y,preds))\n",
    "    def validate_model(self):\n",
    "        self.data = self.data[self.data['traveltime']>0] \n",
    "        if self.verbose:\n",
    "            print('Validating model on all trips...\\n\\n')\n",
    "        \n",
    "        self.train = self.data[self.data['year']==2016]\n",
    "        self.test = self.data[self.data['year']==2017]\n",
    "        self.model = self.rgr.fit(self.train_X,self.train_Y)\n",
    "        preds = self.model.predict(self.test_1_X)\n",
    "        from sklearn import metrics\n",
    "        print('-----> Tested on all distances')\n",
    "        print('R2:', metrics.r2_score(self.test_1_Y,preds))\n",
    "        print('MAE:', metrics.mean_absolute_error(self.test_1_Y,preds)*self.norm[-1])\n",
    "        print('MAPE:', ((abs(self.test_1_Y-preds)/self.test_1_Y)*100).mean())\n",
    "        #add more options for testing eventually\n",
    "        print('Validating model on longest trip')\n",
    "        test2= self.test[self.test['distance']==self.test['distance'].max()]\n",
    "        if self.regr_type == 'Neural':\n",
    "            test2 = self.test[self.test['distance2']==self.test['distance2'].max()]\n",
    "        preds = self.model.predict(test2[self.features])\n",
    "        print('-----> ')\n",
    "        print('R2:', metrics.r2_score(test2['traveltime'],preds))\n",
    "        print('MAE:', metrics.mean_absolute_error(test2['traveltime'],preds)*self.norm[-1])\n",
    "        print('MAPE:', ((abs(test2['traveltime']-preds)/test2['traveltime'])*100).mean())\n",
    "        print('\\n\\n Validated on median trip -->')\n",
    "        test2= self.test[self.test['distance']==self.test['distance'].median()]\n",
    "        if self.regr_type == 'Neural':\n",
    "            test2 = self.test[self.test['distance2']==self.test['distance2'].median()]\n",
    "        \n",
    "        preds = self.model.predict(test2[self.features])\n",
    "        print('-----> ')\n",
    "        print('R2:', metrics.r2_score(test2['traveltime'],preds))\n",
    "        print('MAE:', metrics.mean_absolute_error(test2['traveltime'],preds)*self.norm[-1])\n",
    "        print('MAPE:', ((abs(test2['traveltime']-preds)/test2['traveltime'])*100).mean())\n",
    "        del(self.train)\n",
    "        del(self.test)\n",
    "        del(self.data)\n",
    "        del(test2)\n",
    "\n",
    "\n",
    "    def gather_data(self):\n",
    "        if self.verbose:\n",
    "            print('gathering data...')\n",
    "        from dbanalysis import stop_tools\n",
    "        arr = self.route_array\n",
    "        import os\n",
    "        to_concat = []\n",
    "        for i in range(len(arr)-1):\n",
    "            \n",
    "            data = stop_tools.get_stop_link(arr[i],arr[i+1])\n",
    "            to_concat.append(data)\n",
    "            del(data)\n",
    "        self.data = pd.concat(to_concat,axis=0)\n",
    "        del to_concat\n",
    "        \n",
    "\n",
    "    def preprocess(self):\n",
    "        if self.verbose:\n",
    "            print('Preprocessing data')\n",
    "        self.select_routes()\n",
    "        self.clean_1()\n",
    "        self.add_distances()\n",
    "        self.add_base_departure_time()\n",
    "        self.add_time_info()\n",
    "        \n",
    "        self.merge_weather()\n",
    "        #if self.use_dummies:\n",
    "        #    self.add_dummies()\n",
    "        #    self.features += self.dummy_features\n",
    "    def select_routes(self):\n",
    "        if self.verbose:\n",
    "            print('parsing routeids')\n",
    "        routeids = self.data['routeid'].unique()\n",
    "        valid_routeids = [r for r in routeids if r.split('_')[0] == self.route]\n",
    "        self.data = self.data[self.data['routeid'].isin(valid_routeids)]\n",
    "    def clean_1(self):\n",
    "        if self.verbose:\n",
    "            print('dropping null values')\n",
    "        self.data = self.data.dropna()\n",
    "        \n",
    "    def add_distances(self):\n",
    "        if self.verbose:\n",
    "            print('adding distances')\n",
    "        s_getter =stop_tools.stop_getter()\n",
    "        total_distance = 0\n",
    "        r = self.route_array\n",
    "        route_distances = {r[0]:0}\n",
    "        \n",
    "        for i in range(0, len(r)-1):\n",
    "            distance = s_getter.get_stop_distance(str(r[i]),str(r[i+1]))\n",
    "                \n",
    "            total_distance += distance\n",
    "            route_distances[r[i+1]]=total_distance\n",
    "        self.data['distance']=self.data['stopA'].apply(lambda x: route_distances[x])\n",
    "        del(s_getter)\n",
    "    def add_base_departure_time(self):\n",
    "        if self.verbose:\n",
    "            print('adding base departure times')\n",
    "       \n",
    "        keys= self.data[self.data['stopA']==self.route_array[0]]\n",
    "        keys['base_time_dep']=keys['actualtime_arr_from']\n",
    "        keys2=keys[['tripid','dayofservice','routeid','base_time_dep']]\n",
    "        self.data = pd.merge(self.data,keys2,on=['dayofservice','tripid','routeid'])\n",
    "        \n",
    "        self.data['traveltime']=self.data['actualtime_arr_from']-self.data['base_time_dep'] \n",
    "        #A number of rows have negative travel time. But its a really small number, so I guess they \n",
    "        #can go in the bin.\n",
    "        self.data = self.data[self.data['traveltime']>0]\n",
    "        del(keys)\n",
    "        del(keys2)\n",
    "    \n",
    "    def add_time_info(self):\n",
    "        if self.verbose:\n",
    "            print('adding time information')\n",
    "        time_format = \"%d-%b-%y %H:%M:%S\"\n",
    "        self.data['dt']=pd.to_datetime(self.data['dayofservice'],format=time_format)\n",
    "        self.data['day']=self.data['dt'].dt.dayofweek\n",
    "        self.data['month']=self.data['dt'].dt.month\n",
    "        self.data['hour'] = self.data['dt'].dt.hour\n",
    "        self.data['weekend']=self.data['day']>4\n",
    "        self.data['year']=self.data['dt'].dt.year\n",
    "        self.data['date'] = self.data['dt'].dt.date\n",
    "    def merge_weather(self,weather=None):\n",
    "        if self.verbose:\n",
    "            print('merging weather')\n",
    "        if weather == None:\n",
    "          \n",
    "            weather = pd.read_csv('/home/student/dbanalysis/dbanalysis/resources/cleanweather.csv').dropna()\n",
    "        weather['dt']=pd.to_datetime(weather['date'])\n",
    "        weather['hour']=weather['dt'].dt.hour\n",
    "        weather['date']=weather['dt'].dt.date\n",
    "        \n",
    "        self.data = pd.merge(self.data,weather,on=['date','hour'])\n",
    "        del(weather)\n",
    "\n",
    "    def add_dummies(self):\n",
    "        if self.verbose:\n",
    "            print('Making dummy features')\n",
    "        self.data = pd.get_dummies(self.data,columns=['day','month','hour'])\n",
    "        self.dummy_features = [col for col in self.data.columns\\\n",
    "                                if (col[0:3] == 'day' and col != 'dayofservice')\\\n",
    "                                or col[0:5] == 'month' or col[0:4] == 'hour']\n",
    "\n",
    "\n",
    "    def can_be_modelled(self):\n",
    "        if self.verbose:\n",
    "            print('Checking for data files')\n",
    "        import os\n",
    "        base_dir = '/data/stops/'\n",
    "        arr = self.route_array\n",
    "        for i in range(len(arr)-1):\n",
    "            \n",
    "            if os.path.exists(base_dir+str(arr[i])+'/'+str(arr[i+1])+'.csv'):\n",
    "                pass\n",
    "            else:\n",
    "                print('broken')\n",
    "                input()\n",
    "                return False\n",
    "        return True\n"
   ]
  },
  {
   "cell_type": "code",
   "execution_count": 36,
   "metadata": {},
   "outputs": [
    {
     "name": "stdout",
     "output_type": "stream",
     "text": [
      "Checking for data files\n",
      "gathering data...\n",
      "Preprocessing data\n",
      "parsing routeids\n",
      "dropping null values\n",
      "adding distances\n",
      "adding base departure times\n"
     ]
    },
    {
     "name": "stderr",
     "output_type": "stream",
     "text": [
      "/home/student/anaconda3/lib/python3.6/site-packages/ipykernel_launcher.py:164: SettingWithCopyWarning: \n",
      "A value is trying to be set on a copy of a slice from a DataFrame.\n",
      "Try using .loc[row_indexer,col_indexer] = value instead\n",
      "\n",
      "See the caveats in the documentation: http://pandas.pydata.org/pandas-docs/stable/indexing.html#indexing-view-versus-copy\n"
     ]
    },
    {
     "name": "stdout",
     "output_type": "stream",
     "text": [
      "adding time information\n",
      "merging weather\n"
     ]
    }
   ],
   "source": [
    "r = BRModel('39A',3,rgr='Neural')"
   ]
  },
  {
   "cell_type": "code",
   "execution_count": 37,
   "metadata": {},
   "outputs": [],
   "source": [
    "train = r.data[r.data['year']==2016]\n",
    "test = r.data[r.data['year']==2017]"
   ]
  },
  {
   "cell_type": "code",
   "execution_count": 38,
   "metadata": {},
   "outputs": [],
   "source": [
    "from sklearn.preprocessing import StandardScaler as ss"
   ]
  },
  {
   "cell_type": "code",
   "execution_count": 39,
   "metadata": {},
   "outputs": [],
   "source": [
    "scaler_X = ss()\n",
    "X = scaler_X.fit_transform(train[r.features])"
   ]
  },
  {
   "cell_type": "code",
   "execution_count": 40,
   "metadata": {},
   "outputs": [
    {
     "name": "stderr",
     "output_type": "stream",
     "text": [
      "/home/student/anaconda3/lib/python3.6/site-packages/sklearn/utils/validation.py:475: DataConversionWarning: Data with input dtype int64 was converted to float64 by StandardScaler.\n",
      "  warnings.warn(msg, DataConversionWarning)\n"
     ]
    }
   ],
   "source": [
    "scaler_Y = ss()\n",
    "Y = scaler_Y.fit_transform(train['traveltime'].values.reshape(-1,1))"
   ]
  },
  {
   "cell_type": "code",
   "execution_count": 41,
   "metadata": {},
   "outputs": [
    {
     "name": "stderr",
     "output_type": "stream",
     "text": [
      "/home/student/anaconda3/lib/python3.6/site-packages/sklearn/neural_network/multilayer_perceptron.py:1306: DataConversionWarning: A column-vector y was passed when a 1d array was expected. Please change the shape of y to (n_samples, ), for example using ravel().\n",
      "  y = column_or_1d(y, warn=True)\n"
     ]
    },
    {
     "name": "stdout",
     "output_type": "stream",
     "text": [
      "Iteration 1, loss = 0.02864520\n",
      "Iteration 2, loss = 0.01825983\n",
      "Iteration 3, loss = 0.01670994\n",
      "Iteration 4, loss = 0.01610054\n",
      "Iteration 5, loss = 0.01580763\n",
      "Iteration 6, loss = 0.01564973\n",
      "Iteration 7, loss = 0.01553094\n",
      "Iteration 8, loss = 0.01545083\n",
      "Iteration 9, loss = 0.01539965\n",
      "Iteration 10, loss = 0.01535150\n",
      "Training loss did not improve more than tol=0.000100 for two consecutive epochs. Stopping.\n"
     ]
    }
   ],
   "source": [
    "model = r.rgr.fit(X,Y)"
   ]
  },
  {
   "cell_type": "markdown",
   "metadata": {},
   "source": [
    "# Test on training set"
   ]
  },
  {
   "cell_type": "code",
   "execution_count": 42,
   "metadata": {},
   "outputs": [
    {
     "data": {
      "text/plain": [
       "14.739329320441156"
      ]
     },
     "execution_count": 42,
     "metadata": {},
     "output_type": "execute_result"
    }
   ],
   "source": [
    "preds = scaler_Y.inverse_transform(model.predict(X))\n",
    "((abs(train['traveltime']-preds)/train['traveltime'])*100).mean()"
   ]
  },
  {
   "cell_type": "markdown",
   "metadata": {},
   "source": [
    "# Test on test set"
   ]
  },
  {
   "cell_type": "code",
   "execution_count": 43,
   "metadata": {},
   "outputs": [
    {
     "name": "stdout",
     "output_type": "stream",
     "text": [
      "15.11682584298633\n",
      "0.9641876221408483\n"
     ]
    }
   ],
   "source": [
    "from sklearn import metrics\n",
    "real_Y = test['traveltime']\n",
    "X = scaler_X.transform(test[r.features])\n",
    "preds = scaler_Y.inverse_transform(model.predict(X))\n",
    "print(((abs(real_Y-preds)/real_Y)*100).mean())\n",
    "print(metrics.r2_score(real_Y,preds))"
   ]
  },
  {
   "cell_type": "code",
   "execution_count": 44,
   "metadata": {},
   "outputs": [
    {
     "name": "stdout",
     "output_type": "stream",
     "text": [
      "-395.1016893939327\n",
      "-319.90326824898375\n",
      "-299.2254775368838\n",
      "-193.23748878877723\n",
      "-139.6935251019927\n",
      "-85.38400029784134\n",
      "-53.99324603807918\n",
      "3.572969707489392\n",
      "78.7611926359682\n",
      "157.75945533861932\n",
      "186.20368833020802\n",
      "254.43603894558555\n",
      "294.22283467631723\n",
      "341.2524599305307\n",
      "366.24036777511105\n",
      "392.81626160559654\n",
      "425.28705418691106\n",
      "456.92494200100646\n",
      "486.06810509209663\n",
      "524.1346407508186\n",
      "561.6407594516445\n",
      "603.6799422129895\n",
      "631.7832102252041\n",
      "701.9452612062819\n",
      "767.2417962947366\n",
      "1016.7067496709642\n",
      "1032.8040581411663\n",
      "1054.0715116284512\n",
      "1096.4184404764649\n",
      "1098.7902375264455\n",
      "1116.934780961751\n",
      "1133.8116398294408\n",
      "1158.985650597955\n",
      "1191.6799928823439\n",
      "1218.5491931360998\n",
      "1244.0253380122813\n",
      "1273.7038303947083\n",
      "1319.3007948471395\n",
      "1343.6985777109871\n",
      "1364.9160231694723\n",
      "1391.1524752946232\n",
      "1455.2300845474394\n",
      "1472.4578972411682\n",
      "1513.1046276650366\n",
      "1564.5389912733267\n",
      "1648.5858808432552\n",
      "1696.8514826378814\n",
      "2033.5035223951706\n",
      "2339.970109083443\n",
      "2078.2115321340284\n",
      "2133.66534053825\n",
      "2141.967445515986\n",
      "2152.0334308385736\n",
      "2158.709494369035\n",
      "2165.5302112399313\n",
      "2176.7350589693424\n",
      "2185.4906800194267\n",
      "2197.578986781393\n",
      "2210.8749720617056\n",
      "2233.8096641260368\n",
      "2255.253042720116\n",
      "2268.3200401833333\n",
      "2294.161899215331\n",
      "2321.582404549833\n",
      "2351.224571868367\n",
      "2377.0938052072866\n"
     ]
    }
   ],
   "source": [
    "distances = sorted(test['distance'].unique())\n",
    "ds = []\n",
    "r2 = []\n",
    "mape = []\n",
    "for i in range(0,len(distances)-1):\n",
    "    distance1 = distances[i]\n",
    "    distance2 = distances[i+1]\n",
    "    X = test[(test['distance']>=distance1) & (test['distance'] < distance2)]\n",
    "    real_Y = X['traveltime']\n",
    "    X = scaler_X.transform(X[r.features])\n",
    "    preds =  scaler_Y.inverse_transform(model.predict(X))\n",
    "    ds.append(distance1)\n",
    "    from sklearn import metrics\n",
    "    r2.append(metrics.r2_score(real_Y,preds))\n",
    "    mape.append(((abs(real_Y - preds)/real_Y)*100).mean())\n",
    "    print(preds.min())\n",
    "    \n",
    "    \n"
   ]
  },
  {
   "cell_type": "code",
   "execution_count": 45,
   "metadata": {},
   "outputs": [
    {
     "data": {
      "image/png": "[encoded data removed]",
      "text/plain": [
       "<Figure size 432x288 with 1 Axes>"
      ]
     },
     "metadata": {},
     "output_type": "display_data"
    }
   ],
   "source": [
    "from matplotlib import pyplot as plt\n",
    "plt.plot(ds,r2)\n",
    "plt.show()"
   ]
  },
  {
   "cell_type": "code",
   "execution_count": 46,
   "metadata": {},
   "outputs": [
    {
     "data": {
      "image/png": "[encoded data removed]",
      "text/plain": [
       "<Figure size 432x288 with 1 Axes>"
      ]
     },
     "metadata": {},
     "output_type": "display_data"
    }
   ],
   "source": [
    "from matplotlib import pyplot as plt\n",
    "plt.plot(ds[5:],r2[5:])\n",
    "plt.show()"
   ]
  },
  {
   "cell_type": "code",
   "execution_count": 47,
   "metadata": {},
   "outputs": [
    {
     "data": {
      "text/plain": [
       "[<matplotlib.lines.Line2D at 0x7f004d97a2b0>]"
      ]
     },
     "execution_count": 47,
     "metadata": {},
     "output_type": "execute_result"
    },
    {
     "data": {
      "image/png": "[encoded data removed]",
      "text/plain": [
       "<Figure size 432x288 with 1 Axes>"
      ]
     },
     "metadata": {},
     "output_type": "display_data"
    }
   ],
   "source": [
    "plt.plot(ds,mape)\n"
   ]
  },
  {
   "cell_type": "code",
   "execution_count": null,
   "metadata": {},
   "outputs": [],
   "source": []
  }
 ],
 "metadata": {
  "kernelspec": {
   "display_name": "Python 3",
   "language": "python",
   "name": "python3"
  },
  "language_info": {
   "codemirror_mode": {
    "name": "ipython",
    "version": 3
   },
   "file_extension": ".py",
   "mimetype": "text/x-python",
   "name": "python",
   "nbconvert_exporter": "python",
   "pygments_lexer": "ipython3",
   "version": "3.6.5"
  }
 },
 "nbformat": 4,
 "nbformat_minor": 2
}
