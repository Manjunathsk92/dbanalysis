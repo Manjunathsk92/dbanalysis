{
 "cells": [
  {
   "cell_type": "code",
   "execution_count": 3,
   "metadata": {},
   "outputs": [],
   "source": [
    "import json\n",
    "routes = json.loads(open('/home/student/db/resources/trimmed_routes.json','r').read())"
   ]
  },
  {
   "cell_type": "code",
   "execution_count": 4,
   "metadata": {},
   "outputs": [
    {
     "name": "stdout",
     "output_type": "stream",
     "text": [
      " Dun Laoghaire\n",
      " Dun Laoghaire\n",
      " The Square\n",
      " The Square\n",
      " The Square\n"
     ]
    }
   ],
   "source": [
    "for v in routes['75']:\n",
    "    print (v[0])"
   ]
  },
  {
   "cell_type": "code",
   "execution_count": 6,
   "metadata": {},
   "outputs": [
    {
     "data": {
      "text/plain": [
       "88"
      ]
     },
     "execution_count": 6,
     "metadata": {},
     "output_type": "execute_result"
    }
   ],
   "source": [
    "len(routes['75'][1])"
   ]
  },
  {
   "cell_type": "code",
   "execution_count": 3,
   "metadata": {},
   "outputs": [],
   "source": [
    "#we will use the route to clongriffin as this is the longest one"
   ]
  },
  {
   "cell_type": "code",
   "execution_count": 1,
   "metadata": {},
   "outputs": [],
   "source": [
    "from dbanalysis import stop_tools\n",
    "import pandas as pd\n",
    "class BRModel():\n",
    "    \"\"\"\n",
    "    Big route model class\n",
    "    uses the distance of a stop from first stop on a route to compute predictions lalalala\n",
    "    MAPE and r2 scores are not as good as they were in the notebook\n",
    "    (we achieved 0.57 r2, and 7% MAPE on the time to complete the route)\n",
    "    Should look into this.\n",
    "    \"\"\"\n",
    "    def __init__ (self, route,variation,verbose=True,src='build',rgr='RandomForest',\\\n",
    "                mode='validate',features = ['base_time_dep','distance','rain','temp','day'],use_dummies=True):\n",
    "        \n",
    "        import json\n",
    "        self.regr_type = rgr\n",
    "        self.verbose = verbose\n",
    "        self.route = route\n",
    "        self.use_dummies = use_dummies\n",
    "        self.variation = variation\n",
    "        self.routes = json.loads(open('/home/student/dbanalysis/dbanalysis/resources/trimmed_routes.json').read())\n",
    "        self.features = features\n",
    "        self.route_array = self.routes[route][variation][1:]\n",
    "        del(self.routes)\n",
    "        if src == 'build':\n",
    "            if not self.can_be_modelled():\n",
    "                \n",
    "                raise ValueError ('Missing data for modelling this route')\n",
    "\n",
    "            self.gather_data()\n",
    "            self.preprocess()\n",
    "            if rgr == 'RandomForest':\n",
    "                from sklearn.ensemble import RandomForestRegressor as rf\n",
    "                self.rgr = rf()\n",
    "            elif rgr == 'Linear':\n",
    "                from sklearn.linear_model import LinearRegression as lr\n",
    "                self.rgr = lr(fit_intercept=True)\n",
    "            elif rgr == 'Neural':\n",
    "                from sklearn.neural_network import MLPRegressor as mlpr\n",
    "                self.rgr = mlpr(hidden_layer_sizes=(100,),verbose=True)\n",
    "                from sklearn.preprocessing import normalize\n",
    "                \n",
    " \n",
    "            #if mode == 'validate':\n",
    "            #   if self.regr_type == 'Neural':\n",
    "                    #self.validate_neural()\n",
    "            #   else:\n",
    "                    #self.validate_model()\n",
    "            #lif mode == 'production':\n",
    "                #self.build_full_model()\n",
    "                #self.dump_model()\n",
    "    def validate_neural(self):\n",
    "        print('training regressor')\n",
    "        self.model = self.rgr.fit(self.train_X,self.train_Y)\n",
    "        preds = self.model.predict(self.test_1_X)\n",
    "        from sklearn import metrics\n",
    "        print('Validating...')\n",
    "        print(metrics.r2_score(self.test_1_Y,preds))\n",
    "        preds = self.model.predict(self.test_2_X)\n",
    "        print(metrics.r2_score(self.test_2_Y,preds))\n",
    "        print('calculated from norms-->')\n",
    "        preds = preds * self.test_2_norm\n",
    "        print(metrics.r2_score(self.test_2_real,preds))\n",
    "        preds = self.model.predict(self.test_3_X)\n",
    "        print(metrics.r2_score(self.test_3_Y,preds))\n",
    "    def validate_model(self):\n",
    "        self.data = self.data[self.data['traveltime']>0] \n",
    "        if self.verbose:\n",
    "            print('Validating model on all trips...\\n\\n')\n",
    "        \n",
    "        self.train = self.data[self.data['year']==2016]\n",
    "        self.test = self.data[self.data['year']==2017]\n",
    "        self.model = self.rgr.fit(self.train_X,self.train_Y)\n",
    "        preds = self.model.predict(self.test_1_X)\n",
    "        from sklearn import metrics\n",
    "        print('-----> Tested on all distances')\n",
    "        print('R2:', metrics.r2_score(self.test_1_Y,preds))\n",
    "        print('MAE:', metrics.mean_absolute_error(self.test_1_Y,preds)*self.norm[-1])\n",
    "        print('MAPE:', ((abs(self.test_1_Y-preds)/self.test_1_Y)*100).mean())\n",
    "        #add more options for testing eventually\n",
    "        print('Validating model on longest trip')\n",
    "        test2= self.test[self.test['distance']==self.test['distance'].max()]\n",
    "        if self.regr_type == 'Neural':\n",
    "            test2 = self.test[self.test['distance2']==self.test['distance2'].max()]\n",
    "        preds = self.model.predict(test2[self.features])\n",
    "        print('-----> ')\n",
    "        print('R2:', metrics.r2_score(test2['traveltime'],preds))\n",
    "        print('MAE:', metrics.mean_absolute_error(test2['traveltime'],preds)*self.norm[-1])\n",
    "        print('MAPE:', ((abs(test2['traveltime']-preds)/test2['traveltime'])*100).mean())\n",
    "        print('\\n\\n Validated on median trip -->')\n",
    "        test2= self.test[self.test['distance']==self.test['distance'].median()]\n",
    "        if self.regr_type == 'Neural':\n",
    "            test2 = self.test[self.test['distance2']==self.test['distance2'].median()]\n",
    "        \n",
    "        preds = self.model.predict(test2[self.features])\n",
    "        print('-----> ')\n",
    "        print('R2:', metrics.r2_score(test2['traveltime'],preds))\n",
    "        print('MAE:', metrics.mean_absolute_error(test2['traveltime'],preds)*self.norm[-1])\n",
    "        print('MAPE:', ((abs(test2['traveltime']-preds)/test2['traveltime'])*100).mean())\n",
    "        del(self.train)\n",
    "        del(self.test)\n",
    "        del(self.data)\n",
    "        del(test2)\n",
    "\n",
    "\n",
    "    def gather_data(self):\n",
    "        if self.verbose:\n",
    "            print('gathering data...')\n",
    "        from dbanalysis import stop_tools\n",
    "        arr = self.route_array\n",
    "        import os\n",
    "        to_concat = []\n",
    "        for i in range(len(arr)-1):\n",
    "            \n",
    "            data = stop_tools.get_stop_link(arr[i],arr[i+1])\n",
    "            to_concat.append(data)\n",
    "            del(data)\n",
    "        self.data = pd.concat(to_concat,axis=0)\n",
    "        del to_concat\n",
    "        \n",
    "\n",
    "    def preprocess(self):\n",
    "        if self.verbose:\n",
    "            print('Preprocessing data')\n",
    "        self.select_routes()\n",
    "        self.clean_1()\n",
    "        self.add_distances()\n",
    "        self.add_base_departure_time()\n",
    "        self.add_time_info()\n",
    "        \n",
    "        self.merge_weather()\n",
    "        #if self.use_dummies:\n",
    "        #    self.add_dummies()\n",
    "        #    self.features += self.dummy_features\n",
    "    def select_routes(self):\n",
    "        if self.verbose:\n",
    "            print('parsing routeids')\n",
    "        routeids = self.data['routeid'].unique()\n",
    "        valid_routeids = [r for r in routeids if r.split('_')[0] == self.route]\n",
    "        self.data = self.data[self.data['routeid'].isin(valid_routeids)]\n",
    "    def clean_1(self):\n",
    "        if self.verbose:\n",
    "            print('dropping null values')\n",
    "        self.data = self.data.dropna()\n",
    "        \n",
    "    def add_distances(self):\n",
    "        if self.verbose:\n",
    "            print('adding distances')\n",
    "        s_getter =stop_tools.stop_getter()\n",
    "        total_distance = 0\n",
    "        r = self.route_array\n",
    "        route_distances = {r[0]:0}\n",
    "        \n",
    "        for i in range(0, len(r)-1):\n",
    "            distance = s_getter.get_stop_distance(str(r[i]),str(r[i+1]))\n",
    "                \n",
    "            total_distance += distance\n",
    "            route_distances[r[i+1]]=total_distance\n",
    "        self.data['distance']=self.data['stopA'].apply(lambda x: route_distances[x])\n",
    "        del(s_getter)\n",
    "    def add_base_departure_time(self):\n",
    "        if self.verbose:\n",
    "            print('adding base departure times')\n",
    "       \n",
    "        keys= self.data[self.data['stopA']==self.route_array[0]]\n",
    "        keys['base_time_dep']=keys['actualtime_arr_from']\n",
    "        keys2=keys[['tripid','dayofservice','routeid','base_time_dep']]\n",
    "        self.data = pd.merge(self.data,keys2,on=['dayofservice','tripid','routeid'])\n",
    "        \n",
    "        self.data['traveltime']=self.data['actualtime_arr_from']-self.data['base_time_dep'] \n",
    "        #A number of rows have negative travel time. But its a really small number, so I guess they \n",
    "        #can go in the bin.\n",
    "        self.data = self.data[self.data['traveltime']>0]\n",
    "        del(keys)\n",
    "        del(keys2)\n",
    "    \n",
    "    def add_time_info(self):\n",
    "        if self.verbose:\n",
    "            print('adding time information')\n",
    "        time_format = \"%d-%b-%y %H:%M:%S\"\n",
    "        self.data['dt']=pd.to_datetime(self.data['dayofservice'],format=time_format)\n",
    "        self.data['day']=self.data['dt'].dt.dayofweek\n",
    "        self.data['month']=self.data['dt'].dt.month\n",
    "        self.data['hour'] = self.data['dt'].dt.hour\n",
    "        self.data['weekend']=self.data['day']>4\n",
    "        self.data['year']=self.data['dt'].dt.year\n",
    "        self.data['date'] = self.data['dt'].dt.date\n",
    "    def merge_weather(self,weather=None):\n",
    "        if self.verbose:\n",
    "            print('merging weather')\n",
    "        if weather == None:\n",
    "          \n",
    "            weather = pd.read_csv('/home/student/dbanalysis/dbanalysis/resources/cleanweather.csv').dropna()\n",
    "        weather['dt']=pd.to_datetime(weather['date'])\n",
    "        weather['hour']=weather['dt'].dt.hour\n",
    "        weather['date']=weather['dt'].dt.date\n",
    "        \n",
    "        self.data = pd.merge(self.data,weather,on=['date','hour'])\n",
    "        del(weather)\n",
    "\n",
    "    def add_dummies(self):\n",
    "        if self.verbose:\n",
    "            print('Making dummy features')\n",
    "        self.data = pd.get_dummies(self.data,columns=['day','month','hour'])\n",
    "        self.dummy_features = [col for col in self.data.columns\\\n",
    "                                if (col[0:3] == 'day' and col != 'dayofservice')\\\n",
    "                                or col[0:5] == 'month' or col[0:4] == 'hour']\n",
    "\n",
    "\n",
    "    def can_be_modelled(self):\n",
    "        if self.verbose:\n",
    "            print('Checking for data files')\n",
    "        import os\n",
    "        base_dir = '/data/stops/'\n",
    "        arr = self.route_array\n",
    "        for i in range(len(arr)-1):\n",
    "            \n",
    "            if os.path.exists(base_dir+str(arr[i])+'/'+str(arr[i+1])+'.csv'):\n",
    "                pass\n",
    "            else:\n",
    "                print('broken')\n",
    "                input()\n",
    "                return False\n",
    "        return True\n"
   ]
  },
  {
   "cell_type": "code",
   "execution_count": 2,
   "metadata": {},
   "outputs": [
    {
     "name": "stdout",
     "output_type": "stream",
     "text": [
      "Checking for data files\n",
      "gathering data...\n",
      "Preprocessing data\n",
      "parsing routeids\n",
      "dropping null values\n",
      "adding distances\n",
      "adding base departure times\n"
     ]
    },
    {
     "name": "stderr",
     "output_type": "stream",
     "text": [
      "/home/student/anaconda3/lib/python3.6/site-packages/ipykernel_launcher.py:164: SettingWithCopyWarning: \n",
      "A value is trying to be set on a copy of a slice from a DataFrame.\n",
      "Try using .loc[row_indexer,col_indexer] = value instead\n",
      "\n",
      "See the caveats in the documentation: http://pandas.pydata.org/pandas-docs/stable/indexing.html#indexing-view-versus-copy\n"
     ]
    },
    {
     "name": "stdout",
     "output_type": "stream",
     "text": [
      "adding time information\n",
      "merging weather\n"
     ]
    }
   ],
   "source": [
    "r = BRModel('75',1,rgr='Neural')"
   ]
  },
  {
   "cell_type": "code",
   "execution_count": 3,
   "metadata": {},
   "outputs": [],
   "source": [
    "train = r.data[r.data['year']==2016]\n",
    "test = r.data[r.data['year']==2017]"
   ]
  },
  {
   "cell_type": "code",
   "execution_count": 4,
   "metadata": {},
   "outputs": [],
   "source": [
    "from sklearn.preprocessing import StandardScaler as ss"
   ]
  },
  {
   "cell_type": "code",
   "execution_count": 5,
   "metadata": {},
   "outputs": [],
   "source": [
    "scaler_X = ss()\n",
    "X = scaler_X.fit_transform(train[r.features])"
   ]
  },
  {
   "cell_type": "code",
   "execution_count": 6,
   "metadata": {},
   "outputs": [
    {
     "name": "stderr",
     "output_type": "stream",
     "text": [
      "/home/student/anaconda3/lib/python3.6/site-packages/sklearn/utils/validation.py:475: DataConversionWarning: Data with input dtype int64 was converted to float64 by StandardScaler.\n",
      "  warnings.warn(msg, DataConversionWarning)\n"
     ]
    }
   ],
   "source": [
    "scaler_Y = ss()\n",
    "Y = scaler_Y.fit_transform(train['traveltime'].values.reshape(-1,1))"
   ]
  },
  {
   "cell_type": "code",
   "execution_count": 7,
   "metadata": {},
   "outputs": [
    {
     "name": "stderr",
     "output_type": "stream",
     "text": [
      "/home/student/anaconda3/lib/python3.6/site-packages/sklearn/neural_network/multilayer_perceptron.py:1306: DataConversionWarning: A column-vector y was passed when a 1d array was expected. Please change the shape of y to (n_samples, ), for example using ravel().\n",
      "  y = column_or_1d(y, warn=True)\n"
     ]
    },
    {
     "name": "stdout",
     "output_type": "stream",
     "text": [
      "Iteration 1, loss = 0.05566986\n",
      "Iteration 2, loss = 0.04242437\n",
      "Iteration 3, loss = 0.03828910\n",
      "Iteration 4, loss = 0.03453781\n",
      "Iteration 5, loss = 0.03168483\n",
      "Iteration 6, loss = 0.02973659\n",
      "Iteration 7, loss = 0.02840472\n",
      "Iteration 8, loss = 0.02736137\n",
      "Iteration 9, loss = 0.02660150\n",
      "Iteration 10, loss = 0.02604376\n",
      "Iteration 11, loss = 0.02570161\n",
      "Iteration 12, loss = 0.02537932\n",
      "Iteration 13, loss = 0.02515213\n",
      "Iteration 14, loss = 0.02495988\n",
      "Iteration 15, loss = 0.02483923\n",
      "Iteration 16, loss = 0.02470332\n",
      "Iteration 17, loss = 0.02462584\n",
      "Iteration 18, loss = 0.02453951\n",
      "Iteration 19, loss = 0.02452592\n",
      "Training loss did not improve more than tol=0.000100 for two consecutive epochs. Stopping.\n"
     ]
    }
   ],
   "source": [
    "model = r.rgr.fit(X,Y)"
   ]
  },
  {
   "cell_type": "markdown",
   "metadata": {},
   "source": [
    "# Test on training set"
   ]
  },
  {
   "cell_type": "code",
   "execution_count": 8,
   "metadata": {},
   "outputs": [
    {
     "data": {
      "text/plain": [
       "15.50190212592497"
      ]
     },
     "execution_count": 8,
     "metadata": {},
     "output_type": "execute_result"
    }
   ],
   "source": [
    "preds = scaler_Y.inverse_transform(model.predict(X))\n",
    "((abs(train['traveltime']-preds)/train['traveltime'])*100).mean()"
   ]
  },
  {
   "cell_type": "markdown",
   "metadata": {},
   "source": [
    "# Test on test set"
   ]
  },
  {
   "cell_type": "code",
   "execution_count": 9,
   "metadata": {},
   "outputs": [
    {
     "name": "stdout",
     "output_type": "stream",
     "text": [
      "18.544984255902694\n",
      "0.9385508543817294\n"
     ]
    }
   ],
   "source": [
    "from sklearn import metrics\n",
    "real_Y = test['traveltime']\n",
    "X = scaler_X.transform(test[r.features])\n",
    "preds = scaler_Y.inverse_transform(model.predict(X))\n",
    "print(((abs(real_Y-preds)/real_Y)*100).mean())\n",
    "print(metrics.r2_score(real_Y,preds))"
   ]
  },
  {
   "cell_type": "code",
   "execution_count": 10,
   "metadata": {},
   "outputs": [
    {
     "name": "stdout",
     "output_type": "stream",
     "text": [
      "-534.9089593730914\n",
      "-475.27698183297616\n",
      "-447.82789612145916\n",
      "-348.1602266125842\n",
      "-279.6930990071123\n",
      "-228.13913129664525\n",
      "-149.21142801911492\n",
      "-122.23711175174685\n",
      "-93.72042120311062\n",
      "51.603106383705835\n",
      "70.51804058186417\n",
      "124.98130366149599\n",
      "198.9912909665627\n",
      "254.1343309257868\n",
      "368.4352644638441\n",
      "405.65388993758165\n",
      "420.49912314308654\n",
      "465.2367894237607\n",
      "488.43763709090763\n",
      "536.2826555843396\n",
      "581.6318565329138\n",
      "640.6234373199554\n",
      "672.856712241912\n",
      "705.5340731282324\n",
      "729.3263075125665\n",
      "757.2157127528681\n",
      "824.6503726792921\n",
      "900.0542557453095\n",
      "941.1405265855947\n",
      "963.1002825361827\n",
      "1007.25782349526\n",
      "1031.7350024726552\n",
      "1074.8291772205373\n",
      "1096.0438000718782\n",
      "1123.373761236277\n",
      "1150.7823236157003\n",
      "1211.0761917889797\n",
      "1252.2657653228534\n",
      "1271.5253822762083\n",
      "1330.216394748781\n",
      "1346.4603310015762\n",
      "1390.690621646073\n",
      "1427.3013881938136\n",
      "1481.524112864847\n",
      "1526.3913451685996\n",
      "1554.7139500575627\n",
      "1579.5946875091154\n",
      "1597.0705425810615\n",
      "1600.1020933343934\n",
      "1602.5943904222195\n",
      "2206.707942954478\n",
      "2245.1367749190235\n",
      "2295.233593381719\n",
      "2334.320670093988\n",
      "2394.492957948585\n",
      "2414.597209214712\n",
      "2442.8170236306387\n",
      "2493.3418121341265\n",
      "2536.843081906781\n",
      "2565.4415057193373\n",
      "1702.6338906585638\n",
      "1717.4533757805048\n",
      "1738.948952102527\n",
      "1773.848897961775\n",
      "1815.7631283064773\n",
      "1854.8526285552052\n",
      "1893.4865091410547\n",
      "1919.35482751405\n",
      "1968.7769832656036\n",
      "2006.4788460129175\n",
      "2025.5060355248186\n",
      "2052.0635040620537\n",
      "2074.7595242956586\n",
      "2116.3185509406894\n",
      "2135.6938915942214\n",
      "2165.8597004845246\n",
      "2214.483720825378\n",
      "2242.558678524284\n",
      "2281.754897133321\n",
      "2315.1443859590213\n",
      "2349.537124703663\n",
      "2370.4677561650315\n",
      "2383.9693741728784\n",
      "2482.0385297892217\n"
     ]
    }
   ],
   "source": [
    "distances = sorted(test['distance'].unique())\n",
    "ds = []\n",
    "r2 = []\n",
    "mape = []\n",
    "for i in range(0,len(distances)-1):\n",
    "    distance1 = distances[i]\n",
    "    distance2 = distances[i+1]\n",
    "    X = test[(test['distance']>=distance1) & (test['distance'] < distance2)]\n",
    "    real_Y = X['traveltime']\n",
    "    X = scaler_X.transform(X[r.features])\n",
    "    preds =  scaler_Y.inverse_transform(model.predict(X))\n",
    "    ds.append(distance1)\n",
    "    from sklearn import metrics\n",
    "    r2.append(metrics.r2_score(real_Y,preds))\n",
    "    mape.append(((abs(real_Y - preds)/real_Y)*100).mean())\n",
    "    print(preds.min())\n",
    "    \n",
    "    \n"
   ]
  },
  {
   "cell_type": "code",
   "execution_count": 11,
   "metadata": {},
   "outputs": [
    {
     "data": {
      "text/plain": [
       "<Figure size 640x480 with 1 Axes>"
      ]
     },
     "metadata": {},
     "output_type": "display_data"
    }
   ],
   "source": [
    "from matplotlib import pyplot as plt\n",
    "plt.plot(ds,r2)\n",
    "plt.show()"
   ]
  },
  {
   "cell_type": "code",
   "execution_count": 12,
   "metadata": {},
   "outputs": [
    {
     "data": {
      "image/png": "[encoded data removed]",
      "text/plain": [
       "<Figure size 432x288 with 1 Axes>"
      ]
     },
     "metadata": {},
     "output_type": "display_data"
    }
   ],
   "source": [
    "from matplotlib import pyplot as plt\n",
    "plt.plot(ds[5:],r2[5:])\n",
    "plt.show()"
   ]
  },
  {
   "cell_type": "code",
   "execution_count": 13,
   "metadata": {},
   "outputs": [
    {
     "data": {
      "text/plain": [
       "[<matplotlib.lines.Line2D at 0x7f0842fc3b70>]"
      ]
     },
     "execution_count": 13,
     "metadata": {},
     "output_type": "execute_result"
    },
    {
     "data": {
      "image/png": "[encoded data removed]",
      "text/plain": [
       "<Figure size 432x288 with 1 Axes>"
      ]
     },
     "metadata": {},
     "output_type": "display_data"
    }
   ],
   "source": [
    "plt.plot(ds,mape)\n"
   ]
  },
  {
   "cell_type": "code",
   "execution_count": null,
   "metadata": {},
   "outputs": [],
   "source": []
  }
 ],
 "metadata": {
  "kernelspec": {
   "display_name": "Python 3",
   "language": "python",
   "name": "python3"
  },
  "language_info": {
   "codemirror_mode": {
    "name": "ipython",
    "version": 3
   },
   "file_extension": ".py",
   "mimetype": "text/x-python",
   "name": "python",
   "nbconvert_exporter": "python",
   "pygments_lexer": "ipython3",
   "version": "3.6.5"
  }
 },
 "nbformat": 4,
 "nbformat_minor": 2
}
