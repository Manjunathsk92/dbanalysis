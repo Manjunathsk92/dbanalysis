{
 "cells": [
  {
   "cell_type": "code",
   "execution_count": 8,
   "metadata": {},
   "outputs": [],
   "source": [
    "from sklearn.linear_model import LinearRegression as lr\n",
    "from sklearn.preprocessing import StandardScaler as ss\n",
    "from sklearn import metrics\n",
    "import pandas as pd\n",
    "import json\n",
    "from dbanalysis import stop_tools\n",
    "routes = json.loads(open('/home/student/dbanalysis/dbanalysis/resources/trimmed_routes.json','r').read())\n",
    "route = routes['130'][0]\n",
    "models = []\n",
    "scalers = []\n",
    "all_dummies = []"
   ]
  },
  {
   "cell_type": "code",
   "execution_count": 9,
   "metadata": {},
   "outputs": [
    {
     "data": {
      "text/plain": [
       "37"
      ]
     },
     "execution_count": 9,
     "metadata": {},
     "output_type": "execute_result"
    }
   ],
   "source": [
    "len(route)"
   ]
  },
  {
   "cell_type": "markdown",
   "metadata": {},
   "source": [
    "## With neural networks"
   ]
  },
  {
   "cell_type": "code",
   "execution_count": 10,
   "metadata": {},
   "outputs": [
    {
     "name": "stdout",
     "output_type": "stream",
     "text": [
      "Building for 7591 to 496\n"
     ]
    },
    {
     "name": "stderr",
     "output_type": "stream",
     "text": [
      "/home/student/anaconda3/lib/python3.6/site-packages/sklearn/utils/validation.py:475: DataConversionWarning: Data with input dtype int64 was converted to float64 by StandardScaler.\n",
      "  warnings.warn(msg, DataConversionWarning)\n",
      "/home/student/anaconda3/lib/python3.6/site-packages/sklearn/neural_network/multilayer_perceptron.py:1306: DataConversionWarning: A column-vector y was passed when a 1d array was expected. Please change the shape of y to (n_samples, ), for example using ravel().\n",
      "  y = column_or_1d(y, warn=True)\n"
     ]
    },
    {
     "name": "stdout",
     "output_type": "stream",
     "text": [
      "model for: 7591 to 496\n",
      "min pred: 61.703097347296\n",
      "mean pred: 109.3215298051486\n",
      "max pred: 134.8650592682286\n",
      "Mape: 43.903091096554896\n",
      "r2: 0.028328881196520883\n",
      "mae: 46.94214963883124 \n",
      "\n",
      "\n",
      "Building for 496 to 515\n"
     ]
    },
    {
     "name": "stderr",
     "output_type": "stream",
     "text": [
      "/home/student/anaconda3/lib/python3.6/site-packages/sklearn/neural_network/multilayer_perceptron.py:564: ConvergenceWarning: Stochastic Optimizer: Maximum iterations (200) reached and the optimization hasn't converged yet.\n",
      "  % self.max_iter, ConvergenceWarning)\n"
     ]
    },
    {
     "name": "stdout",
     "output_type": "stream",
     "text": [
      "model for: 496 to 515\n",
      "min pred: -1355.1417262735658\n",
      "mean pred: 99.88282685159456\n",
      "max pred: 329.850606397962\n",
      "Mape: 62.859068090174866\n",
      "r2: -4.251598232360193\n",
      "mae: 91.87590957446439 \n",
      "\n",
      "\n",
      "Building for 515 to 516\n",
      "model for: 515 to 516\n",
      "min pred: 48.95339885850649\n",
      "mean pred: 67.91703577212886\n",
      "max pred: 78.93017451669726\n",
      "Mape: 37.15255988153054\n",
      "r2: 0.03749409797757208\n",
      "mae: 20.23375851894947 \n",
      "\n",
      "\n",
      "Building for 516 to 4384\n",
      "model for: 516 to 4384\n",
      "min pred: 32.88008509664275\n",
      "mean pred: 49.24992164579861\n",
      "max pred: 63.82541446677799\n",
      "Mape: 33.71355597589973\n",
      "r2: -0.06298154619070306\n",
      "mae: 19.943486492469148 \n",
      "\n",
      "\n",
      "Building for 4384 to 519\n",
      "model for: 4384 to 519\n",
      "min pred: 43.91870266868681\n",
      "mean pred: 59.744206966083496\n",
      "max pred: 70.99800441892503\n",
      "Mape: 25.777928381436862\n",
      "r2: 0.05530547411909714\n",
      "mae: 13.700944887044988 \n",
      "\n",
      "\n",
      "Building for 519 to 521\n",
      "model for: 519 to 521\n",
      "min pred: 27.108416917169833\n",
      "mean pred: 37.80344324403826\n",
      "max pred: 47.75416427653709\n",
      "Mape: 49.34918471487737\n",
      "r2: 0.05906560895273105\n",
      "mae: 16.226887030286594 \n",
      "\n",
      "\n",
      "Building for 521 to 522\n",
      "model for: 521 to 522\n",
      "min pred: 20.69397019887643\n",
      "mean pred: 57.51100045515378\n",
      "max pred: 78.89306149267522\n",
      "Mape: 41.29850986042146\n",
      "r2: 0.013371451961998737\n",
      "mae: 17.82553303882399 \n",
      "\n",
      "\n",
      "Building for 522 to 523\n",
      "model for: 522 to 523\n",
      "min pred: 34.020804367657576\n",
      "mean pred: 52.887135315513014\n",
      "max pred: 96.6113020384528\n",
      "Mape: 31.099201016333865\n",
      "r2: 0.24134341200622045\n",
      "mae: 16.583412508156446 \n",
      "\n",
      "\n",
      "Building for 523 to 1740\n",
      "model for: 523 to 1740\n",
      "min pred: 45.66402942380451\n",
      "mean pred: 75.09230055581624\n",
      "max pred: 101.91283362007212\n",
      "Mape: 32.31473343791738\n",
      "r2: -0.03717276130580949\n",
      "mae: 26.022041718620738 \n",
      "\n",
      "\n",
      "Building for 1740 to 1741\n",
      "model for: 1740 to 1741\n",
      "min pred: 31.231365547181987\n",
      "mean pred: 78.37153500231784\n",
      "max pred: 125.18409166981473\n",
      "Mape: 26.238435068751496\n",
      "r2: 0.18784224105833058\n",
      "mae: 18.365147718900538 \n",
      "\n",
      "\n",
      "Building for 1741 to 1742\n",
      "model for: 1741 to 1742\n",
      "min pred: 31.86816275919671\n",
      "mean pred: 53.15437684980576\n",
      "max pred: 74.78528696333207\n",
      "Mape: 26.048772357649774\n",
      "r2: 0.19994412018349372\n",
      "mae: 14.534883846690377 \n",
      "\n",
      "\n",
      "Building for 1742 to 1743\n",
      "model for: 1742 to 1743\n",
      "min pred: 29.04735034024538\n",
      "mean pred: 47.73201196611765\n",
      "max pred: 63.66105880217168\n",
      "Mape: 34.58156550386027\n",
      "r2: 0.0753451519045315\n",
      "mae: 12.852799626057541 \n",
      "\n",
      "\n",
      "Building for 1743 to 1744\n",
      "model for: 1743 to 1744\n",
      "min pred: 40.59696096352402\n",
      "mean pred: 51.43211640964572\n",
      "max pred: 64.11116747550155\n",
      "Mape: 21.26620593460613\n",
      "r2: 0.07734053991511403\n",
      "mae: 9.651725223453983 \n",
      "\n",
      "\n",
      "Building for 1744 to 1745\n",
      "model for: 1744 to 1745\n",
      "min pred: 21.251159028085233\n",
      "mean pred: 29.946068939695742\n",
      "max pred: 48.66614414957592\n",
      "Mape: 33.238460695519294\n",
      "r2: 0.14088815235086272\n",
      "mae: 8.026704399423961 \n",
      "\n",
      "\n",
      "Building for 1745 to 1746\n",
      "model for: 1745 to 1746\n",
      "min pred: 11.896581817139827\n",
      "mean pred: 19.934145265315617\n",
      "max pred: 32.17741283439868\n",
      "Mape: 20.678572042222626\n",
      "r2: 0.015703598197483015\n",
      "mae: 4.754836854295576 \n",
      "\n",
      "\n",
      "Building for 1746 to 1747\n",
      "model for: 1746 to 1747\n",
      "min pred: 35.8359611746351\n",
      "mean pred: 46.68582429577569\n",
      "max pred: 55.364970607286466\n",
      "Mape: 18.328905817729414\n",
      "r2: 0.037610126749418216\n",
      "mae: 8.590198205827924 \n",
      "\n",
      "\n",
      "Building for 1747 to 1748\n",
      "model for: 1747 to 1748\n",
      "min pred: 38.02892781090647\n",
      "mean pred: 52.657359203852344\n",
      "max pred: 59.34454873803534\n",
      "Mape: 27.92381604860273\n",
      "r2: 0.021691115391978988\n",
      "mae: 12.265915807290655 \n",
      "\n",
      "\n",
      "Building for 1748 to 1749\n",
      "model for: 1748 to 1749\n",
      "min pred: 20.62032472736007\n",
      "mean pred: 28.898691028875014\n",
      "max pred: 33.511763619463366\n",
      "Mape: 27.704414414790076\n",
      "r2: 0.018962831864373975\n",
      "mae: 8.565615877940756 \n",
      "\n",
      "\n",
      "Building for 1749 to 1751\n",
      "model for: 1749 to 1751\n",
      "min pred: 24.299679001652827\n",
      "mean pred: 68.2304889742137\n",
      "max pred: 124.13135051990355\n",
      "Mape: 50.45581732770075\n",
      "r2: 0.05929595323512904\n",
      "mae: 35.63309636670018 \n",
      "\n",
      "\n",
      "Building for 1751 to 1752\n",
      "model for: 1751 to 1752\n",
      "min pred: 11.44849673405102\n",
      "mean pred: 47.23234098694334\n",
      "max pred: 119.307006968627\n",
      "Mape: 38.43430761030013\n",
      "r2: 0.049226975110900906\n",
      "mae: 20.92307412305292 \n",
      "\n",
      "\n",
      "Building for 1752 to 1753\n",
      "model for: 1752 to 1753\n",
      "min pred: 15.253254162960886\n",
      "mean pred: 58.636569411738485\n",
      "max pred: 128.8573947496485\n",
      "Mape: 54.76834295207007\n",
      "r2: -0.651693929319358\n",
      "mae: 22.00082072208752 \n",
      "\n",
      "\n",
      "Building for 1753 to 1754\n",
      "model for: 1753 to 1754\n",
      "min pred: 8.88837734592581\n",
      "mean pred: 59.70750614218139\n",
      "max pred: 121.92104219132801\n",
      "Mape: 89.51160876625367\n",
      "r2: -3.9978521068036965\n",
      "mae: 27.966601335824997 \n",
      "\n",
      "\n",
      "Building for 1754 to 1759\n",
      "model for: 1754 to 1759\n",
      "min pred: 0.6117141684066425\n",
      "mean pred: 55.90340757293557\n",
      "max pred: 101.297735137485\n",
      "Mape: 106.65493415240113\n",
      "r2: -5.269466662979806\n",
      "mae: 27.81367639532148 \n",
      "\n",
      "\n",
      "Building for 1759 to 1758\n",
      "model for: 1759 to 1758\n",
      "min pred: 40.621537017856085\n",
      "mean pred: 70.44469257490918\n",
      "max pred: 114.70236736054552\n",
      "Mape: 33.27528857232563\n",
      "r2: -1.0863337774308128\n",
      "mae: 17.32290690865469 \n",
      "\n",
      "\n",
      "Building for 1758 to 1750\n",
      "model for: 1758 to 1750\n",
      "min pred: 15.37470793939824\n",
      "mean pred: 23.662872238672215\n",
      "max pred: 37.74870962800195\n",
      "Mape: 42.52478150650021\n",
      "r2: 0.10431167724383406\n",
      "mae: 8.837685402241615 \n",
      "\n",
      "\n",
      "Building for 1750 to 1769\n",
      "model for: 1750 to 1769\n",
      "min pred: 40.37125924128625\n",
      "mean pred: 47.7975616442188\n",
      "max pred: 61.01101543530224\n",
      "Mape: 15.158244857326473\n",
      "r2: 0.056100425879607285\n",
      "mae: 7.605840508776167 \n",
      "\n",
      "\n",
      "Building for 1769 to 1770\n",
      "model for: 1769 to 1770\n",
      "min pred: 15.051891978094178\n",
      "mean pred: 29.882904482559262\n",
      "max pred: 36.219546662744484\n",
      "Mape: 29.919103148637554\n",
      "r2: 0.02421134896474242\n",
      "mae: 8.428009588680997 \n",
      "\n",
      "\n",
      "Building for 1770 to 1771\n",
      "model for: 1770 to 1771\n",
      "min pred: 23.744042468442323\n",
      "mean pred: 32.501665128511476\n",
      "max pred: 39.623389224138926\n",
      "Mape: 21.055515242925036\n",
      "r2: 0.0024649081949489338\n",
      "mae: 7.50436667674034 \n",
      "\n",
      "\n",
      "Building for 1771 to 1760\n",
      "model for: 1771 to 1760\n",
      "min pred: 30.657128330350353\n",
      "mean pred: 38.067502267629855\n",
      "max pred: 45.08504186455394\n",
      "Mape: 21.970118193487398\n",
      "r2: 0.04574843819242502\n",
      "mae: 8.791715648844999 \n",
      "\n",
      "\n",
      "Building for 1760 to 1761\n",
      "model for: 1760 to 1761\n",
      "min pred: 36.40826086410749\n",
      "mean pred: 46.31567057684672\n",
      "max pred: 52.57872278871451\n",
      "Mape: 17.958102693102965\n",
      "r2: 0.044481158513650754\n",
      "mae: 8.425552694827179 \n",
      "\n",
      "\n",
      "Building for 1761 to 1762\n",
      "model for: 1761 to 1762\n",
      "min pred: 30.8690315789498\n",
      "mean pred: 42.764960785413855\n",
      "max pred: 50.69437231111833\n",
      "Mape: 22.327934460733037\n",
      "r2: 0.08321807537363035\n",
      "mae: 9.67582282626987 \n",
      "\n",
      "\n",
      "Building for 1762 to 1763\n",
      "model for: 1762 to 1763\n",
      "min pred: 50.90229287222772\n",
      "mean pred: 69.97056464685654\n",
      "max pred: 99.37783928745958\n",
      "Mape: 30.861011658278464\n",
      "r2: 0.009463733781108208\n",
      "mae: 18.674998178991252 \n",
      "\n",
      "\n",
      "Building for 1763 to 1764\n",
      "model for: 1763 to 1764\n",
      "min pred: 29.116880410423512\n",
      "mean pred: 44.317325076136065\n",
      "max pred: 51.26179765415021\n",
      "Mape: 36.41627278297369\n",
      "r2: -0.0021724520299011285\n",
      "mae: 12.141338046091352 \n",
      "\n",
      "\n",
      "Building for 1764 to 1765\n",
      "model for: 1764 to 1765\n",
      "min pred: 42.31570355931831\n",
      "mean pred: 60.10451336539664\n",
      "max pred: 74.87250472762942\n",
      "Mape: 17.92971133742098\n",
      "r2: 0.018768797368652224\n",
      "mae: 10.637587023253431 \n",
      "\n",
      "\n",
      "Building for 1765 to 1767\n",
      "model for: 1765 to 1767\n",
      "min pred: 68.62644948861507\n",
      "mean pred: 81.27078899552215\n",
      "max pred: 92.01160240787226\n",
      "Mape: 16.52410649114253\n",
      "r2: 0.012214559374044698\n",
      "mae: 13.990365727019197 \n",
      "\n",
      "\n"
     ]
    }
   ],
   "source": [
    "from sklearn.neural_network import MLPRegressor as mlp\n",
    "from sklearn.preprocessing import StandardScaler as ss\n",
    "features = ['rain','temp','day','hour']\n",
    "y_scalers=[]\n",
    "from sklearn.preprocessing import MinMaxScaler as mms\n",
    "route=routes['130'][0]\n",
    "for i in range(1,len(route)-1):\n",
    "    stopA = str(route[i])\n",
    "    stopB = str(route[i+1])\n",
    "    print('Building for',stopA,'to',stopB)\n",
    "\n",
    "    df = stop_tools.stop_data(stopA,stopB)\n",
    "    df = df[df['traveltime']>df['traveltime'].quantile(0.05)]\n",
    "    test = df[df['year']==2017]\n",
    "    df = df[df['year']==2016]\n",
    "    df['traveltime'] = df['actualtime_arr_to'] - df['actualtime_arr_from']\n",
    "    \n",
    "    scaler = ss()\n",
    "    X = scaler.fit_transform(df[features])\n",
    "    y_scaler = ss()\n",
    "    Y = y_scaler.fit_transform(df['traveltime'].values.reshape(-1,1))\n",
    "    model = mlp().fit(X,Y)\n",
    "    preds = model.predict(scaler.transform(test[features]))\n",
    "    preds = y_scaler.inverse_transform(preds)\n",
    "    from sklearn import metrics\n",
    "    print('model for:',stopA,'to',stopB)\n",
    "    print('min pred:',preds.min())\n",
    "    print('mean pred:',preds.mean())\n",
    "    print('max pred:',preds.max())\n",
    "    print('Mape:',((abs(test['traveltime']-preds)/test['traveltime'])*100).mean())\n",
    "    print('r2:',metrics.r2_score(test['traveltime'],preds))\n",
    "    print('mae:',metrics.mean_absolute_error(test['traveltime'],preds),'\\n\\n')\n",
    "    models.append(model)\n",
    "    scalers.append(scaler)\n",
    "    y_scalers.append(y_scaler)\n",
    "    del(df)\n"
   ]
  },
  {
   "cell_type": "code",
   "execution_count": 32,
   "metadata": {},
   "outputs": [],
   "source": [
    "import pickle\n",
    "with open('/data/chainedneuralmodels.bin','rb') as handle:\n",
    "   \n",
    "    d=pickle.load(handle)\n",
    "models = d['models']\n",
    "scalers = d['x-scalers']\n",
    "y_scalers = d['y-scalers']"
   ]
  },
  {
   "cell_type": "code",
   "execution_count": 11,
   "metadata": {},
   "outputs": [],
   "source": [
    "def get_merged(stop):\n",
    "    route = routes['130'][0][1:]\n",
    "    begins = stop_tools.stop_data(str(route[0]),str(route[1]))\n",
    "    begins = begins[begins['year']==2017]\n",
    "    ends = stop_tools.stop_data(str(route[int(stop)]),str(route[int(stop)+1]))\n",
    "    ends = ends[ends['year']==2017]\n",
    "    ends['end'] = ends['actualtime_arr_to']\n",
    "    \n",
    "    merged = pd.merge(begins,ends[['tripid','dayofservice','routeid','end']], on=['tripid','dayofservice','routeid'])\n",
    "    merged = merged[merged['traveltime']>0]\n",
    "    return merged"
   ]
  },
  {
   "cell_type": "code",
   "execution_count": 12,
   "metadata": {},
   "outputs": [],
   "source": [
    "def run_to_stop(number,verbose=True):\n",
    "    features = ['rain','temp','day','hour']\n",
    "    import copy\n",
    "    global route\n",
    "    stop = str(route[number])\n",
    "    index = 0\n",
    "    merged = get_merged(number)\n",
    "    df = copy.deepcopy(merged)\n",
    "    for i,model in enumerate(models):\n",
    "        \n",
    "        index+=1\n",
    "        cur_stop = route[index]\n",
    "        if cur_stop == route[number+1]:\n",
    "            break\n",
    "        X=copy.deepcopy(df[features])\n",
    "        X = scalers[i].transform(X)\n",
    "        traveltime = model.predict(X)\n",
    "        traveltime = y_scalers[i].inverse_transform(traveltime)\n",
    "        #print(traveltime.mean())\n",
    "        df['actualtime_arr_from'] = df['actualtime_arr_from'] + traveltime\n",
    "        df = df[[i for i in df.columns if i[0:4] != 'hour']]\n",
    "        df['hour'] = (df['actualtime_arr_from'] //3600).astype('int64')\n",
    "        #arr.append(copy.deepcopy(df))\n",
    "\n",
    "        \n",
    "    real_traveltimes = merged['end'] - merged['actualtime_arr_from']\n",
    "\n",
    "    pred_traveltimes = df['actualtime_arr_from'] - merged['actualtime_arr_from']\n",
    "    if verbose:\n",
    "        print(df['actualtime_arr_from'].mean())\n",
    "        print('MAE:',metrics.mean_absolute_error(real_traveltimes,pred_traveltimes))\n",
    "        print('MAPE:',((abs(real_traveltimes-pred_traveltimes)/real_traveltimes)*100).mean())\n",
    "        print('r2:',metrics.r2_score(real_traveltimes,pred_traveltimes))\n",
    "    return metrics.r2_score(real_traveltimes,pred_traveltimes),((abs(real_traveltimes-pred_traveltimes)/real_traveltimes)*100).mean()"
   ]
  },
  {
   "cell_type": "code",
   "execution_count": 15,
   "metadata": {},
   "outputs": [
    {
     "name": "stdout",
     "output_type": "stream",
     "text": [
      "1\n",
      "2\n",
      "3\n",
      "4\n",
      "5\n",
      "6\n",
      "7\n",
      "8\n",
      "9\n",
      "10\n",
      "11\n",
      "12\n",
      "13\n",
      "14\n",
      "15\n",
      "16\n",
      "17\n",
      "18\n",
      "19\n",
      "20\n",
      "21\n",
      "22\n",
      "23\n",
      "24\n",
      "25\n",
      "26\n",
      "27\n",
      "28\n",
      "29\n",
      "30\n",
      "31\n",
      "32\n",
      "33\n",
      "34\n",
      "85.73310256004333\n"
     ]
    }
   ],
   "source": [
    "MAPES = []\n",
    "r2s = []\n",
    "import time\n",
    "t = time.time()\n",
    "for i in range(1,35):\n",
    "    print(i)\n",
    "    r2,MAPE = run_to_stop(i,verbose=False)\n",
    "    r2s.append(r2)\n",
    "    MAPES.append(MAPE)\n",
    "print(time.time()-t)\n",
    "\n"
   ]
  },
  {
   "cell_type": "code",
   "execution_count": 16,
   "metadata": {},
   "outputs": [
    {
     "data": {
      "text/plain": [
       "19.584270273777165"
      ]
     },
     "execution_count": 16,
     "metadata": {},
     "output_type": "execute_result"
    }
   ],
   "source": [
    "sum(MAPES)/len(MAPES)"
   ]
  },
  {
   "cell_type": "code",
   "execution_count": null,
   "metadata": {},
   "outputs": [],
   "source": [
    "min(MAPES)"
   ]
  },
  {
   "cell_type": "code",
   "execution_count": 18,
   "metadata": {},
   "outputs": [
    {
     "data": {
      "image/png": "[encoded data removed]",
      "text/plain": [
       "<Figure size 432x288 with 1 Axes>"
      ]
     },
     "metadata": {},
     "output_type": "display_data"
    }
   ],
   "source": [
    "from matplotlib import pyplot as plt\n",
    "plt.plot(range(len(MAPES)),MAPES)\n",
    "plt.show()"
   ]
  },
  {
   "cell_type": "code",
   "execution_count": 19,
   "metadata": {
    "scrolled": true
   },
   "outputs": [
    {
     "data": {
      "text/plain": [
       "[<matplotlib.lines.Line2D at 0x7f65da971a90>]"
      ]
     },
     "execution_count": 19,
     "metadata": {},
     "output_type": "execute_result"
    },
    {
     "data": {
      "image/png": "[encoded data removed]",
      "text/plain": [
       "<Figure size 432x288 with 1 Axes>"
      ]
     },
     "metadata": {},
     "output_type": "display_data"
    }
   ],
   "source": [
    "from matplotlib import pyplot as plt\n",
    "plt.plot(range(len(r2s)),r2s)\n"
   ]
  },
  {
   "cell_type": "code",
   "execution_count": 20,
   "metadata": {},
   "outputs": [
    {
     "data": {
      "text/plain": [
       "0.2595316020609715"
      ]
     },
     "execution_count": 20,
     "metadata": {},
     "output_type": "execute_result"
    }
   ],
   "source": [
    "max(r2s)"
   ]
  },
  {
   "cell_type": "code",
   "execution_count": 15,
   "metadata": {},
   "outputs": [
    {
     "data": {
      "text/plain": [
       "-0.5894347329251236"
      ]
     },
     "execution_count": 15,
     "metadata": {},
     "output_type": "execute_result"
    }
   ],
   "source": []
  },
  {
   "cell_type": "code",
   "execution_count": 21,
   "metadata": {},
   "outputs": [
    {
     "data": {
      "text/plain": [
       "[<matplotlib.lines.Line2D at 0x7f25682a4588>]"
      ]
     },
     "execution_count": 21,
     "metadata": {},
     "output_type": "execute_result"
    },
    {
     "data": {
      "image/png": "[encoded data removed]",
      "text/plain": [
       "<Figure size 432x288 with 1 Axes>"
      ]
     },
     "metadata": {},
     "output_type": "display_data"
    }
   ],
   "source": [
    "from matplotlib import pyplot as plt\n",
    "plt.plot(range(9,69),r2s[8:])\n"
   ]
  },
  {
   "cell_type": "code",
   "execution_count": 13,
   "metadata": {},
   "outputs": [
    {
     "data": {
      "text/plain": [
       "0.5167369239106632"
      ]
     },
     "execution_count": 13,
     "metadata": {},
     "output_type": "execute_result"
    }
   ],
   "source": [
    "max(r2s)"
   ]
  },
  {
   "cell_type": "code",
   "execution_count": 17,
   "metadata": {},
   "outputs": [
    {
     "data": {
      "text/plain": [
       "[-2.3243963800559464,\n",
       " -5.122852718987301,\n",
       " -1.466225453086044,\n",
       " -0.9765732214368865,\n",
       " 0.04131244740870532,\n",
       " -0.05741087802918754,\n",
       " -0.21335463841355584,\n",
       " -0.044777395479644655,\n",
       " 0.020514438062677054,\n",
       " 0.14775545095191123,\n",
       " -0.09843726146392595,\n",
       " 0.0903747652054614,\n",
       " 0.28604008081344,\n",
       " 0.20765217756066245,\n",
       " 0.2723283514588516,\n",
       " 0.22319049829180637,\n",
       " 0.2451910419534553,\n",
       " 0.21236341277763426,\n",
       " 0.30161277569223943,\n",
       " 0.3465129756070603,\n",
       " 0.35254771477960267,\n",
       " 0.27478340419172265,\n",
       " 0.2625933693915301,\n",
       " 0.3497972083635482,\n",
       " 0.3397104819858573,\n",
       " 0.3469183890249389,\n",
       " 0.36170864252864066,\n",
       " 0.3260883969942254,\n",
       " 0.40574149757735134,\n",
       " 0.3272323686015437,\n",
       " -0.1736892263550447,\n",
       " -0.39244511728335274,\n",
       " 0.06570195164843029,\n",
       " 0.2441273048369964,\n",
       " 0.25790235342469836,\n",
       " 0.24597415275739953,\n",
       " 0.2509308891626172,\n",
       " 0.34613515806401063,\n",
       " 0.3695159604058712,\n",
       " 0.38139908855394056,\n",
       " 0.3796616107914146,\n",
       " 0.36876404375336835,\n",
       " 0.36139120455344076,\n",
       " 0.37522733502024297,\n",
       " 0.38243218382087707,\n",
       " 0.40324094695441537,\n",
       " 0.398743906371391,\n",
       " 0.3922518800698812,\n",
       " 0.4182408192375139,\n",
       " 0.4053435754034115,\n",
       " 0.42162434644315094,\n",
       " 0.4396430505559371,\n",
       " 0.4455063320897428,\n",
       " 0.4511529439706359,\n",
       " 0.43479031019677195,\n",
       " 0.4233918470313013,\n",
       " 0.4351407793363866,\n",
       " 0.40685844838154384,\n",
       " 0.4705555038006419,\n",
       " 0.487499762684652,\n",
       " 0.47637238412139815,\n",
       " 0.4896239794874321,\n",
       " 0.47133539614410935,\n",
       " 0.47192313022501065,\n",
       " 0.4515348952975935,\n",
       " 0.5167369239106632,\n",
       " 0.5072349322214555,\n",
       " 0.07414645579333556]"
      ]
     },
     "execution_count": 17,
     "metadata": {},
     "output_type": "execute_result"
    }
   ],
   "source": [
    "r2s"
   ]
  },
  {
   "cell_type": "code",
   "execution_count": 15,
   "metadata": {},
   "outputs": [
    {
     "data": {
      "text/plain": [
       "0.47391227923156953"
      ]
     },
     "execution_count": 15,
     "metadata": {},
     "output_type": "execute_result"
    }
   ],
   "source": [
    "max(r2s)"
   ]
  },
  {
   "cell_type": "code",
   "execution_count": null,
   "metadata": {},
   "outputs": [],
   "source": [
    "import pickle\n",
    "with open('/data/chainedneuralmodels.bin','wb') as handle:\n",
    "    d= {'models':models,\\\n",
    "       'x-scalers':scalers,\\\n",
    "        'y-scalers':y_scalers}\n",
    "    pickle.dump(d,handle,protocol=pickle.HIGHEST_PROTOCOL)"
   ]
  },
  {
   "cell_type": "code",
   "execution_count": 14,
   "metadata": {},
   "outputs": [
    {
     "data": {
      "text/plain": [
       "69"
      ]
     },
     "execution_count": 14,
     "metadata": {},
     "output_type": "execute_result"
    }
   ],
   "source": [
    "len(models)"
   ]
  },
  {
   "cell_type": "markdown",
   "metadata": {},
   "source": [
    "A reason not to use these is that these sixty models and scalers pickle to about 6 megabytes. We would need roughly 500-600 megabytes of models in memory then, just to run our time table predictions quickly. Though it is possible we could just load and delete them as needed, the linear models are miniscule in comparison.\n",
    "\n",
    "They also take much longer to predict than the linear models, (but only slightly), and some still give negative predictions.\n",
    "\n",
    "Also, an instance can be seen of r2 score sharply plunging at the end of the route. Though I think this is also true for the linear models. The trouble is that, since the training time is so greatly increased, it will be harder to avoid this. Harder than with the liner models anyway.\n",
    "\n",
    "The r2 scores are significantly better, but the MAPE isn't. The r2 matters to us as data scientists, but it would seem like a) MAPE and b) actually having a working app would be of more concern to the user.\n",
    "\n",
    "\n",
    "\n",
    "\n"
   ]
  },
  {
   "cell_type": "code",
   "execution_count": 25,
   "metadata": {},
   "outputs": [
    {
     "data": {
      "text/plain": [
       "12.103629580532802"
      ]
     },
     "execution_count": 25,
     "metadata": {},
     "output_type": "execute_result"
    }
   ],
   "source": [
    "sum(MAPES)/len(MAPES)"
   ]
  },
  {
   "cell_type": "markdown",
   "metadata": {},
   "source": [
    "The Mean MAPE was about 13% for the linear models. They're also much faster."
   ]
  },
  {
   "cell_type": "markdown",
   "metadata": {},
   "source": [
    "## On production:\n",
    "\n",
    "The decision was made to build the neural models and use them in the application, lagely due to the\n",
    "increased r2 score.\n",
    "\n",
    "Negative predictions were encountered when the models were deployed into the application. Here they are investigated.\n"
   ]
  },
  {
   "cell_type": "code",
   "execution_count": 1,
   "metadata": {},
   "outputs": [
    {
     "name": "stdout",
     "output_type": "stream",
     "text": [
      "   temp  vappr  rain  hour  day  actualtime_arr_from\n",
      "0    10     10  0.08     5    0                    0\n",
      "0    10     10  0.08     6    0                    0\n",
      "0    10     10  0.08     7    0                    0\n",
      "0    10     10  0.08     8    0                    0\n",
      "0    10     10  0.08     9    0                    0\n",
      "\n",
      "0.005804054371854569\n"
     ]
    }
   ],
   "source": [
    "from sklearn.neural_network import MLPRegressor as mlp\n",
    "from sklearn.preprocessing import MinMaxScaler as mms\n",
    "from sklearn.preprocessing import StandardScaler as ss\n",
    "import os\n",
    "import pandas as pd\n",
    "import pickle\n",
    "df = pd.DataFrame({'temp':[10],'vappr':[10],'rain':[0.08],'hour':[5],'day':[4]})\n",
    "to_concat = []\n",
    "import copy\n",
    "for day in range(7):\n",
    "    for hour in range(5,24):\n",
    "        af = copy.deepcopy(df)\n",
    "        af['day'] = day\n",
    "        af['hour'] = hour\n",
    "        af['actualtime_arr_from'] = hour // 3600\n",
    "        to_concat.append(af)\n",
    "df = pd.concat(to_concat,axis=0)\n",
    "print(df.head(5))\n",
    "input()\n",
    "files = os.listdir('/data/neural_models')\n",
    "negative_count = 0\n",
    "total_count = 0\n",
    "for f in files:\n",
    "    try:\n",
    "        with open('/data/neural_models/'+f,'rb') as handle:\n",
    "            d = pickle.load(handle)\n",
    "    except:\n",
    "        continue\n",
    "    handle.close()\n",
    "    X_scaler = d['X_scaler']\n",
    "    Y_scaler = d['Y_scaler']\n",
    "\n",
    "\n",
    "    X = X_scaler.transform(df[['rain','temp','vappr','hour','day']])\n",
    "\n",
    "    preds = d['model'].predict(X)\n",
    "    Y = Y_scaler.inverse_transform(preds)\n",
    "    negative_count += sum(Y<0)\n",
    "    total_count += Y.shape[0]\n",
    "    \n",
    "print(negative_count / total_count)"
   ]
  },
  {
   "cell_type": "markdown",
   "metadata": {},
   "source": [
    "Almost two percent of the predictions returned negative. This posed numerous problems. The trouble was that negative predictions had a propensity to propagate down the chain. Though they could be offset by imputing the mean  "
   ]
  },
  {
   "cell_type": "code",
   "execution_count": 2,
   "metadata": {},
   "outputs": [
    {
     "name": "stdout",
     "output_type": "stream",
     "text": [
      "   temp  vappr  rain  hour  day  actualtime_arr_from  hour2  day2  hour3  \\\n",
      "0    10     10  0.08     5    0                    0     25     0    125   \n",
      "0    10     10  0.08     6    0                    0     36     0    216   \n",
      "0    10     10  0.08     7    0                    0     49     0    343   \n",
      "0    10     10  0.08     8    0                    0     64     0    512   \n",
      "0    10     10  0.08     9    0                    0     81     0    729   \n",
      "\n",
      "   day3  hour4  day4  \n",
      "0     0    625     0  \n",
      "0     0   1296     0  \n",
      "0     0   2401     0  \n",
      "0     0   4096     0  \n",
      "0     0   6561     0  \n",
      "\n",
      "0.015657870721702962\n"
     ]
    }
   ],
   "source": [
    "from sklearn.neural_network import MLPRegressor as mlp\n",
    "from sklearn.preprocessing import MinMaxScaler as mms\n",
    "from sklearn.preprocessing import StandardScaler as ss\n",
    "import os\n",
    "import pandas as pd\n",
    "import pickle\n",
    "df = pd.DataFrame({'temp':[10],'vappr':[10],'rain':[0.08],'hour':[5],'day':[4]})\n",
    "\n",
    "to_concat = []\n",
    "import copy\n",
    "for day in range(7):\n",
    "    for hour in range(5,24):\n",
    "        af = copy.deepcopy(df)\n",
    "        af['day'] = day\n",
    "        af['hour'] = hour\n",
    "        af['actualtime_arr_from'] = hour // 3600\n",
    "        to_concat.append(af)\n",
    "\n",
    "    \n",
    "df = pd.concat(to_concat,axis=0)\n",
    "for i in range(2,5):\n",
    "    df['hour'+str(i)] = df['hour']**i\n",
    "    df['day'+str(i)] = df['day'] ** i\n",
    "print(df.head(5))\n",
    "input()\n",
    "files = os.listdir('/data/linear_models3')\n",
    "negative_count = 0\n",
    "total_count = 0\n",
    "for f in files:\n",
    "    try:\n",
    "        with open('/data/linear_models3/'+f,'rb') as handle:\n",
    "            model = pickle.load(handle)\n",
    "    except:\n",
    "        continue\n",
    "    handle.close()\n",
    "    features = ['rain','temp','vappr','hour','hour2','hour3','hour4','day','day2','day3','day4']\n",
    "    X = df[features]\n",
    "    Y = model.predict(X)\n",
    "    \n",
    "   \n",
    "    total_count += Y.shape[0]\n",
    "    negative_count += sum(Y < 0)\n",
    "\n",
    "print(negative_count / total_count)"
   ]
  },
  {
   "cell_type": "markdown",
   "metadata": {},
   "source": [
    " There were, it seemed, actually more negative predictions for the linear models."
   ]
  },
  {
   "cell_type": "code",
   "execution_count": 15,
   "metadata": {},
   "outputs": [
    {
     "data": {
      "text/plain": [
       "array([44.56610446, 44.56610446, 44.56610446, 44.56610446, 44.56610446,\n",
       "       44.56610446, 44.56610446, 44.56610446, 44.56610446, 44.56610446,\n",
       "       44.56610446, 44.56610446, 44.56610446, 44.56610446, 44.56610446,\n",
       "       44.56610446, 44.56610446, 44.56610446, 44.56610446, 43.93371241,\n",
       "       43.93371241, 43.93371241, 43.93371241, 43.93371241, 43.93371241,\n",
       "       43.93371241, 43.93371241, 43.93371241, 43.93371241, 43.93371241,\n",
       "       43.93371241, 43.93371241, 43.93371241, 43.93371241, 43.93371241,\n",
       "       43.93371241, 43.93371241, 43.93371241, 44.40815811, 44.40815811,\n",
       "       44.40815811, 44.40815811, 44.40815811, 44.40815811, 44.40815811,\n",
       "       44.40815811, 44.40815811, 44.40815811, 44.40815811, 44.40815811,\n",
       "       44.40815811, 44.40815811, 44.40815811, 44.40815811, 44.40815811,\n",
       "       44.40815811, 44.40815811, 44.61983034, 44.61983034, 44.61983034,\n",
       "       44.61983034, 44.61983034, 44.61983034, 44.61983034, 44.61983034,\n",
       "       44.61983034, 44.61983034, 44.61983034, 44.61983034, 44.61983034,\n",
       "       44.61983034, 44.61983034, 44.61983034, 44.61983034, 44.61983034,\n",
       "       44.61983034, 43.94434098, 43.94434098, 43.94434098, 43.94434098,\n",
       "       43.94434098, 43.94434098, 43.94434098, 43.94434098, 43.94434098,\n",
       "       43.94434098, 43.94434098, 43.94434098, 43.94434098, 43.94434098,\n",
       "       43.94434098, 43.94434098, 43.94434098, 43.94434098, 43.94434098,\n",
       "       42.50252499, 42.50252499, 42.50252499, 42.50252499, 42.50252499,\n",
       "       42.50252499, 42.50252499, 42.50252499, 42.50252499, 42.50252499,\n",
       "       42.50252499, 42.50252499, 42.50252499, 42.50252499, 42.50252499,\n",
       "       42.50252499, 42.50252499, 42.50252499, 42.50252499, 41.16044047,\n",
       "       41.16044047, 41.16044047, 41.16044047, 41.16044047, 41.16044047,\n",
       "       41.16044047, 41.16044047, 41.16044047, 41.16044047, 41.16044047,\n",
       "       41.16044047, 41.16044047, 41.16044047, 41.16044047, 41.16044047,\n",
       "       41.16044047, 41.16044047, 41.16044047])"
      ]
     },
     "execution_count": 15,
     "metadata": {},
     "output_type": "execute_result"
    }
   ],
   "source": [
    "Y[Y > 0]"
   ]
  },
  {
   "cell_type": "code",
   "execution_count": 16,
   "metadata": {},
   "outputs": [],
   "source": [
    "m = Y[Y>0].mean()"
   ]
  },
  {
   "cell_type": "code",
   "execution_count": 17,
   "metadata": {},
   "outputs": [
    {
     "data": {
      "text/plain": [
       "43.5907302504894"
      ]
     },
     "execution_count": 17,
     "metadata": {},
     "output_type": "execute_result"
    }
   ],
   "source": [
    "m"
   ]
  },
  {
   "cell_type": "code",
   "execution_count": 20,
   "metadata": {},
   "outputs": [
    {
     "data": {
      "text/plain": [
       "-1.0"
      ]
     },
     "execution_count": 20,
     "metadata": {},
     "output_type": "execute_result"
    }
   ],
   "source": [
    "Y[Y<0].mean()"
   ]
  },
  {
   "cell_type": "code",
   "execution_count": 21,
   "metadata": {},
   "outputs": [],
   "source": [
    "Y[Y<0] = m"
   ]
  },
  {
   "cell_type": "code",
   "execution_count": 19,
   "metadata": {},
   "outputs": [],
   "source": [
    "Y[0] = -1"
   ]
  },
  {
   "cell_type": "code",
   "execution_count": 22,
   "metadata": {},
   "outputs": [
    {
     "data": {
      "text/plain": [
       "43.5907302504894"
      ]
     },
     "execution_count": 22,
     "metadata": {},
     "output_type": "execute_result"
    }
   ],
   "source": [
    "Y[0]"
   ]
  },
  {
   "cell_type": "code",
   "execution_count": 23,
   "metadata": {},
   "outputs": [
    {
     "data": {
      "text/plain": [
       "array([43.59073025, 44.56610446, 44.56610446, 44.56610446, 44.56610446,\n",
       "       44.56610446, 44.56610446, 44.56610446, 44.56610446, 44.56610446,\n",
       "       44.56610446, 44.56610446, 44.56610446, 44.56610446, 44.56610446,\n",
       "       44.56610446, 44.56610446, 44.56610446, 44.56610446, 43.93371241,\n",
       "       43.93371241, 43.93371241, 43.93371241, 43.93371241, 43.93371241,\n",
       "       43.93371241, 43.93371241, 43.93371241, 43.93371241, 43.93371241,\n",
       "       43.93371241, 43.93371241, 43.93371241, 43.93371241, 43.93371241,\n",
       "       43.93371241, 43.93371241, 43.93371241, 44.40815811, 44.40815811,\n",
       "       44.40815811, 44.40815811, 44.40815811, 44.40815811, 44.40815811,\n",
       "       44.40815811, 44.40815811, 44.40815811, 44.40815811, 44.40815811,\n",
       "       44.40815811, 44.40815811, 44.40815811, 44.40815811, 44.40815811,\n",
       "       44.40815811, 44.40815811, 44.61983034, 44.61983034, 44.61983034,\n",
       "       44.61983034, 44.61983034, 44.61983034, 44.61983034, 44.61983034,\n",
       "       44.61983034, 44.61983034, 44.61983034, 44.61983034, 44.61983034,\n",
       "       44.61983034, 44.61983034, 44.61983034, 44.61983034, 44.61983034,\n",
       "       44.61983034, 43.94434098, 43.94434098, 43.94434098, 43.94434098,\n",
       "       43.94434098, 43.94434098, 43.94434098, 43.94434098, 43.94434098,\n",
       "       43.94434098, 43.94434098, 43.94434098, 43.94434098, 43.94434098,\n",
       "       43.94434098, 43.94434098, 43.94434098, 43.94434098, 43.94434098,\n",
       "       42.50252499, 42.50252499, 42.50252499, 42.50252499, 42.50252499,\n",
       "       42.50252499, 42.50252499, 42.50252499, 42.50252499, 42.50252499,\n",
       "       42.50252499, 42.50252499, 42.50252499, 42.50252499, 42.50252499,\n",
       "       42.50252499, 42.50252499, 42.50252499, 42.50252499, 41.16044047,\n",
       "       41.16044047, 41.16044047, 41.16044047, 41.16044047, 41.16044047,\n",
       "       41.16044047, 41.16044047, 41.16044047, 41.16044047, 41.16044047,\n",
       "       41.16044047, 41.16044047, 41.16044047, 41.16044047, 41.16044047,\n",
       "       41.16044047, 41.16044047, 41.16044047])"
      ]
     },
     "execution_count": 23,
     "metadata": {},
     "output_type": "execute_result"
    }
   ],
   "source": [
    "Y\n"
   ]
  },
  {
   "cell_type": "markdown",
   "metadata": {},
   "source": [
    "# Comparing this with the big route model .\n",
    "\n",
    "Big route model had a higher MAPE, overall. 15% for the entire route. The chained models manage 12 %.\n",
    "\n",
    "Big route model is very, very bad at the start, and then quite good, though it does suffer a drop in r2 score in the middle. The chained models are bad at the start, and then bad again in the middle, though I don't feel like they are _quite_ as bad overall.\n",
    "\n",
    "The big route model gives negative scores, and there is no actual certainty that it won't predict that distance X+1 takes less time than distance X.\n",
    "\n",
    "The chained models also give negative scores, but they can be corrected easier. \n",
    "\n",
    "There are only five days left, but maybe the solution is to deliver both. I don't feel that either is particularly good, but I honestly can't decide between them.\n",
    "\n",
    "I like the chained models better because it's easier to understand what they're doing, and they don't seem to automatically learn negatives for the beginning of their curves.\n",
    "\n",
    "There is also the strong positive that they don't rely on dummies etc. In addition, it is easier to use them to impute the missing values and thus build the whole network."
   ]
  },
  {
   "cell_type": "code",
   "execution_count": null,
   "metadata": {},
   "outputs": [],
   "source": []
  }
 ],
 "metadata": {
  "kernelspec": {
   "display_name": "Python 3",
   "language": "python",
   "name": "python3"
  },
  "language_info": {
   "codemirror_mode": {
    "name": "ipython",
    "version": 3
   },
   "file_extension": ".py",
   "mimetype": "text/x-python",
   "name": "python",
   "nbconvert_exporter": "python",
   "pygments_lexer": "ipython3",
   "version": "3.6.5"
  }
 },
 "nbformat": 4,
 "nbformat_minor": 2
}
