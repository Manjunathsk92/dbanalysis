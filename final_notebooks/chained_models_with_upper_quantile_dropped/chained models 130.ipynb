{
 "cells": [
  {
   "cell_type": "code",
   "execution_count": 18,
   "metadata": {},
   "outputs": [],
   "source": [
    "from sklearn.linear_model import LinearRegression as lr\n",
    "from sklearn.preprocessing import StandardScaler as ss\n",
    "from sklearn import metrics\n",
    "import pandas as pd\n",
    "import json\n",
    "from dbanalysis import stop_tools\n",
    "routes = json.loads(open('/home/student/dbanalysis/dbanalysis/resources/trimmed_routes.json','r').read())\n",
    "route = routes['130'][0]\n",
    "models = []\n",
    "scalers = []\n",
    "all_dummies = []"
   ]
  },
  {
   "cell_type": "code",
   "execution_count": 9,
   "metadata": {},
   "outputs": [
    {
     "data": {
      "text/plain": [
       "37"
      ]
     },
     "execution_count": 9,
     "metadata": {},
     "output_type": "execute_result"
    }
   ],
   "source": [
    "len(route)"
   ]
  },
  {
   "cell_type": "markdown",
   "metadata": {},
   "source": [
    "## With neural networks"
   ]
  },
  {
   "cell_type": "code",
   "execution_count": 19,
   "metadata": {},
   "outputs": [
    {
     "name": "stdout",
     "output_type": "stream",
     "text": [
      "Building for 7591 to 496\n"
     ]
    },
    {
     "name": "stderr",
     "output_type": "stream",
     "text": [
      "/home/student/anaconda3/lib/python3.6/site-packages/sklearn/utils/validation.py:475: DataConversionWarning: Data with input dtype int64 was converted to float64 by StandardScaler.\n",
      "  warnings.warn(msg, DataConversionWarning)\n",
      "/home/student/anaconda3/lib/python3.6/site-packages/sklearn/neural_network/multilayer_perceptron.py:1306: DataConversionWarning: A column-vector y was passed when a 1d array was expected. Please change the shape of y to (n_samples, ), for example using ravel().\n",
      "  y = column_or_1d(y, warn=True)\n"
     ]
    },
    {
     "name": "stdout",
     "output_type": "stream",
     "text": [
      "model for: 7591 to 496\n",
      "min pred: 72.77489307059537\n",
      "mean pred: 104.20221342729026\n",
      "max pred: 133.12551412466695\n",
      "Mape: 41.01567194812227\n",
      "r2: 0.052425359130819804\n",
      "mae: 36.61071375341522 \n",
      "\n",
      "\n",
      "Building for 496 to 515\n"
     ]
    },
    {
     "name": "stderr",
     "output_type": "stream",
     "text": [
      "/home/student/anaconda3/lib/python3.6/site-packages/sklearn/neural_network/multilayer_perceptron.py:564: ConvergenceWarning: Stochastic Optimizer: Maximum iterations (200) reached and the optimization hasn't converged yet.\n",
      "  % self.max_iter, ConvergenceWarning)\n"
     ]
    },
    {
     "name": "stdout",
     "output_type": "stream",
     "text": [
      "model for: 496 to 515\n",
      "min pred: -4.566652190948446\n",
      "mean pred: 122.91820367432896\n",
      "max pred: 237.1045652546598\n",
      "Mape: 34.47180971440409\n",
      "r2: -0.7728709847741211\n",
      "mae: 52.251293899250534 \n",
      "\n",
      "\n",
      "Building for 515 to 516\n",
      "model for: 515 to 516\n",
      "min pred: 47.22557409696382\n",
      "mean pred: 65.38844453180168\n",
      "max pred: 73.72287784281878\n",
      "Mape: 36.14109833627857\n",
      "r2: 0.03087302783688306\n",
      "mae: 18.645425162002564 \n",
      "\n",
      "\n",
      "Building for 516 to 4384\n",
      "model for: 516 to 4384\n",
      "min pred: 35.08499429357024\n",
      "mean pred: 47.749705669889025\n",
      "max pred: 57.956647121290764\n",
      "Mape: 31.783628576369576\n",
      "r2: -0.03670099249507586\n",
      "mae: 16.56991470632097 \n",
      "\n",
      "\n",
      "Building for 4384 to 519\n",
      "model for: 4384 to 519\n",
      "min pred: 45.63857241982211\n",
      "mean pred: 57.47072557144829\n",
      "max pred: 66.99998573171541\n",
      "Mape: 23.40671453893582\n",
      "r2: 0.05221724168114816\n",
      "mae: 11.55107403142128 \n",
      "\n",
      "\n",
      "Building for 519 to 521\n",
      "model for: 519 to 521\n",
      "min pred: 28.058184688851153\n",
      "mean pred: 34.91684476810534\n",
      "max pred: 42.00639423742506\n",
      "Mape: 45.50607908073803\n",
      "r2: 0.014446822835167628\n",
      "mae: 13.592144167109897 \n",
      "\n",
      "\n",
      "Building for 521 to 522\n",
      "model for: 521 to 522\n",
      "min pred: 31.213564870681683\n",
      "mean pred: 53.981562802031995\n",
      "max pred: 65.33896449123169\n",
      "Mape: 35.798186273809925\n",
      "r2: 0.0761674513370022\n",
      "mae: 14.870484066015141 \n",
      "\n",
      "\n",
      "Building for 522 to 523\n",
      "model for: 522 to 523\n",
      "min pred: 33.85117348989555\n",
      "mean pred: 47.78005733555578\n",
      "max pred: 64.215178329872\n",
      "Mape: 26.127393351570007\n",
      "r2: 0.15415849789995806\n",
      "mae: 10.504727959778048 \n",
      "\n",
      "\n",
      "Building for 523 to 1740\n",
      "model for: 523 to 1740\n",
      "min pred: 49.961179990462185\n",
      "mean pred: 72.09794521476933\n",
      "max pred: 88.80712269613583\n",
      "Mape: 30.50170504785138\n",
      "r2: -0.022616412278842812\n",
      "mae: 22.15232312982439 \n",
      "\n",
      "\n",
      "Building for 1740 to 1741\n",
      "model for: 1740 to 1741\n",
      "min pred: 38.41263458087364\n",
      "mean pred: 72.83875290372072\n",
      "max pred: 96.79337764248046\n",
      "Mape: 23.140635312763592\n",
      "r2: 0.23120468481635947\n",
      "mae: 15.010211754214234 \n",
      "\n",
      "\n",
      "Building for 1741 to 1742\n",
      "model for: 1741 to 1742\n",
      "min pred: 35.05619348125928\n",
      "mean pred: 50.47358944884693\n",
      "max pred: 66.17131953217276\n",
      "Mape: 23.089368242933155\n",
      "r2: 0.19876775681140524\n",
      "mae: 11.216464059151345 \n",
      "\n",
      "\n",
      "Building for 1742 to 1743\n",
      "model for: 1742 to 1743\n",
      "min pred: 31.361231486302547\n",
      "mean pred: 44.630849438880524\n",
      "max pred: 52.97177936919684\n",
      "Mape: 30.39384247635821\n",
      "r2: 0.07222971531123312\n",
      "mae: 10.694002219184291 \n",
      "\n",
      "\n",
      "Building for 1743 to 1744\n",
      "model for: 1743 to 1744\n",
      "min pred: 38.941052151185744\n",
      "mean pred: 48.83136123488021\n",
      "max pred: 53.79436418445631\n",
      "Mape: 18.607226458036973\n",
      "r2: 0.09490823945249216\n",
      "mae: 8.081065348814052 \n",
      "\n",
      "\n",
      "Building for 1744 to 1745\n",
      "model for: 1744 to 1745\n",
      "min pred: 21.66622840002455\n",
      "mean pred: 28.01189937142532\n",
      "max pred: 33.95363681759266\n",
      "Mape: 31.45385796569742\n",
      "r2: 0.1661069824764727\n",
      "mae: 7.312478321660476 \n",
      "\n",
      "\n",
      "Building for 1745 to 1746\n",
      "model for: 1745 to 1746\n",
      "min pred: 16.014735393397846\n",
      "mean pred: 18.79398180168912\n",
      "max pred: 20.659966038514504\n",
      "Mape: 16.138007309970433\n",
      "r2: 0.021204045362967272\n",
      "mae: 3.3754984577496896 \n",
      "\n",
      "\n",
      "Building for 1746 to 1747\n",
      "model for: 1746 to 1747\n",
      "min pred: 36.04494416697021\n",
      "mean pred: 44.60217478206919\n",
      "max pred: 49.59028163487465\n",
      "Mape: 16.645495477965966\n",
      "r2: 0.08357503973951907\n",
      "mae: 7.459280711997374 \n",
      "\n",
      "\n",
      "Building for 1747 to 1748\n",
      "model for: 1747 to 1748\n",
      "min pred: 38.0079964339321\n",
      "mean pred: 49.22817551615996\n",
      "max pred: 53.44147708836599\n",
      "Mape: 23.800038732211945\n",
      "r2: 0.039579152135348794\n",
      "mae: 9.453969379947166 \n",
      "\n",
      "\n",
      "Building for 1748 to 1749\n",
      "model for: 1748 to 1749\n",
      "min pred: 21.668463300218693\n",
      "mean pred: 27.00098729389816\n",
      "max pred: 31.027658102895852\n",
      "Mape: 24.102908898910645\n",
      "r2: 0.08531889218750255\n",
      "mae: 6.521906731497217 \n",
      "\n",
      "\n",
      "Building for 1749 to 1751\n",
      "model for: 1749 to 1751\n",
      "min pred: 33.769988760283326\n",
      "mean pred: 58.905838096117115\n",
      "max pred: 99.80862071474039\n",
      "Mape: 35.51859062412929\n",
      "r2: 0.09315323066036962\n",
      "mae: 22.524318100504765 \n",
      "\n",
      "\n",
      "Building for 1751 to 1752\n",
      "model for: 1751 to 1752\n",
      "min pred: 23.86750720125545\n",
      "mean pred: 40.33314185646877\n",
      "max pred: 70.94970839727539\n",
      "Mape: 28.181647399744005\n",
      "r2: 0.04300059110343446\n",
      "mae: 13.227391906961095 \n",
      "\n",
      "\n",
      "Building for 1752 to 1753\n",
      "model for: 1752 to 1753\n",
      "min pred: 25.58778158157605\n",
      "mean pred: 47.9347684920622\n",
      "max pred: 75.73198947086338\n",
      "Mape: 31.068936234603388\n",
      "r2: -0.09276130280359429\n",
      "mae: 11.048049217212876 \n",
      "\n",
      "\n",
      "Building for 1753 to 1754\n",
      "model for: 1753 to 1754\n",
      "min pred: 14.803574051005196\n",
      "mean pred: 45.90975019528496\n",
      "max pred: 66.5365706744135\n",
      "Mape: 49.30828661659964\n",
      "r2: -1.6228088839479407\n",
      "mae: 14.453385775826634 \n",
      "\n",
      "\n",
      "Building for 1754 to 1759\n",
      "model for: 1754 to 1759\n",
      "min pred: 16.351194449270785\n",
      "mean pred: 42.340389572179014\n",
      "max pred: 66.16191977823865\n",
      "Mape: 58.722679404197414\n",
      "r2: -1.6850826959245886\n",
      "mae: 14.600765147135354 \n",
      "\n",
      "\n",
      "Building for 1759 to 1758\n",
      "model for: 1759 to 1758\n",
      "min pred: 48.92317668476516\n",
      "mean pred: 61.21887201991735\n",
      "max pred: 73.08500536899074\n",
      "Mape: 20.66370183584979\n",
      "r2: -0.06970806900926307\n",
      "mae: 10.953820194653865 \n",
      "\n",
      "\n",
      "Building for 1758 to 1750\n",
      "model for: 1758 to 1750\n",
      "min pred: 16.182646399550627\n",
      "mean pred: 22.06997663976221\n",
      "max pred: 25.804743069240644\n",
      "Mape: 39.04974707128239\n",
      "r2: 0.0854957765677491\n",
      "mae: 7.68117007478606 \n",
      "\n",
      "\n",
      "Building for 1750 to 1769\n",
      "model for: 1750 to 1769\n",
      "min pred: 42.62834234131634\n",
      "mean pred: 45.77596683798177\n",
      "max pred: 50.060367610411014\n",
      "Mape: 12.254678295588128\n",
      "r2: 0.0477255535553357\n",
      "mae: 5.747864862319292 \n",
      "\n",
      "\n",
      "Building for 1769 to 1770\n",
      "model for: 1769 to 1770\n",
      "min pred: 15.444093814306054\n",
      "mean pred: 28.30271126553397\n",
      "max pred: 34.04735745553141\n",
      "Mape: 27.929040973739355\n",
      "r2: 0.2026492185299099\n",
      "mae: 7.135296229180497 \n",
      "\n",
      "\n",
      "Building for 1770 to 1771\n",
      "model for: 1770 to 1771\n",
      "min pred: 25.798188225426465\n",
      "mean pred: 31.652933798412118\n",
      "max pred: 34.02716337232681\n",
      "Mape: 18.984688042421375\n",
      "r2: 0.04190451441083909\n",
      "mae: 6.319039248032858 \n",
      "\n",
      "\n",
      "Building for 1771 to 1760\n",
      "model for: 1771 to 1760\n",
      "min pred: 30.95047938492577\n",
      "mean pred: 36.74672593046463\n",
      "max pred: 41.695300431400774\n",
      "Mape: 20.13067793700911\n",
      "r2: 0.08750312309610409\n",
      "mae: 7.529388911359793 \n",
      "\n",
      "\n",
      "Building for 1760 to 1761\n",
      "model for: 1760 to 1761\n",
      "min pred: 36.07682486275814\n",
      "mean pred: 44.24194083833075\n",
      "max pred: 49.89810708279475\n",
      "Mape: 15.05269599730344\n",
      "r2: 0.1278378835558196\n",
      "mae: 6.398809834404988 \n",
      "\n",
      "\n",
      "Building for 1761 to 1762\n",
      "model for: 1761 to 1762\n",
      "min pred: 32.58493971268217\n",
      "mean pred: 40.631958333836735\n",
      "max pred: 45.87451015833141\n",
      "Mape: 19.39928649297519\n",
      "r2: 0.10160883214102545\n",
      "mae: 7.936756577245934 \n",
      "\n",
      "\n",
      "Building for 1762 to 1763\n",
      "model for: 1762 to 1763\n",
      "min pred: 50.21632889317672\n",
      "mean pred: 65.17860557657278\n",
      "max pred: 71.30421801593262\n",
      "Mape: 25.936097514605116\n",
      "r2: -0.011524727025011838\n",
      "mae: 14.696222825732768 \n",
      "\n",
      "\n",
      "Building for 1763 to 1764\n",
      "model for: 1763 to 1764\n",
      "min pred: 33.71799757652732\n",
      "mean pred: 41.86151254639424\n",
      "max pred: 48.217317904473006\n",
      "Mape: 32.905275330237835\n",
      "r2: -0.0009801120926951068\n",
      "mae: 10.5885921531977 \n",
      "\n",
      "\n",
      "Building for 1764 to 1765\n",
      "model for: 1764 to 1765\n",
      "min pred: 45.69018290961211\n",
      "mean pred: 56.57645355237771\n",
      "max pred: 61.7373608046559\n",
      "Mape: 14.81312389419955\n",
      "r2: 0.05835679706422814\n",
      "mae: 8.277094591639903 \n",
      "\n",
      "\n",
      "Building for 1765 to 1767\n",
      "model for: 1765 to 1767\n",
      "min pred: 66.49784902818035\n",
      "mean pred: 76.8564746648646\n",
      "max pred: 83.96104495067775\n",
      "Mape: 13.779681018618112\n",
      "r2: 0.01968164525538063\n",
      "mae: 10.762141771568595 \n",
      "\n",
      "\n"
     ]
    }
   ],
   "source": [
    "from sklearn.neural_network import MLPRegressor as mlp\n",
    "from sklearn.preprocessing import StandardScaler as ss\n",
    "features = ['rain','temp','day','hour']\n",
    "y_scalers=[]\n",
    "from sklearn.preprocessing import MinMaxScaler as mms\n",
    "route=routes['130'][0]\n",
    "for i in range(1,len(route)-1):\n",
    "    stopA = str(route[i])\n",
    "    stopB = str(route[i+1])\n",
    "    print('Building for',stopA,'to',stopB)\n",
    "\n",
    "    df = stop_tools.stop_data(stopA,stopB)\n",
    "    df = df[df['traveltime']>df['traveltime'].quantile(0.05)]\n",
    "    df = df[df['traveltime']<df['traveltime'].quantile(0.95)]\n",
    "    test = df[df['year']==2017]\n",
    "    df = df[df['year']==2016]\n",
    "    df['traveltime'] = df['actualtime_arr_to'] - df['actualtime_arr_from']\n",
    "    \n",
    "    scaler = ss()\n",
    "    X = scaler.fit_transform(df[features])\n",
    "    y_scaler = ss()\n",
    "    Y = y_scaler.fit_transform(df['traveltime'].values.reshape(-1,1))\n",
    "    model = mlp().fit(X,Y)\n",
    "    preds = model.predict(scaler.transform(test[features]))\n",
    "    preds = y_scaler.inverse_transform(preds)\n",
    "    from sklearn import metrics\n",
    "    print('model for:',stopA,'to',stopB)\n",
    "    print('min pred:',preds.min())\n",
    "    print('mean pred:',preds.mean())\n",
    "    print('max pred:',preds.max())\n",
    "    print('Mape:',((abs(test['traveltime']-preds)/test['traveltime'])*100).mean())\n",
    "    print('r2:',metrics.r2_score(test['traveltime'],preds))\n",
    "    print('mae:',metrics.mean_absolute_error(test['traveltime'],preds),'\\n\\n')\n",
    "    models.append(model)\n",
    "    scalers.append(scaler)\n",
    "    y_scalers.append(y_scaler)\n",
    "    del(df)\n"
   ]
  },
  {
   "cell_type": "code",
   "execution_count": 20,
   "metadata": {},
   "outputs": [],
   "source": [
    "def get_merged(stop):\n",
    "    route = routes['130'][0][1:]\n",
    "    begins = stop_tools.stop_data(str(route[0]),str(route[1]))\n",
    "    begins = begins[begins['year']==2017]\n",
    "    ends = stop_tools.stop_data(str(route[int(stop)]),str(route[int(stop)+1]))\n",
    "    ends = ends[ends['year']==2017]\n",
    "    ends['end'] = ends['actualtime_arr_to']\n",
    "    \n",
    "    merged = pd.merge(begins,ends[['tripid','dayofservice','routeid','end']], on=['tripid','dayofservice','routeid'])\n",
    "    merged = merged[merged['traveltime']>0]\n",
    "    return merged"
   ]
  },
  {
   "cell_type": "code",
   "execution_count": 21,
   "metadata": {},
   "outputs": [],
   "source": [
    "def run_to_stop(number,verbose=True):\n",
    "    features = ['rain','temp','day','hour']\n",
    "    import copy\n",
    "    global route\n",
    "    stop = str(route[number])\n",
    "    index = 0\n",
    "    merged = get_merged(number)\n",
    "    df = copy.deepcopy(merged)\n",
    "    print(len(df))\n",
    "    for i,model in enumerate(models):\n",
    "        \n",
    "        index+=1\n",
    "        cur_stop = route[index]\n",
    "        if cur_stop == route[number+1]:\n",
    "            break\n",
    "        X=copy.deepcopy(df[features])\n",
    "        X = scalers[i].transform(X)\n",
    "        traveltime = model.predict(X)\n",
    "        traveltime = y_scalers[i].inverse_transform(traveltime)\n",
    "        #print(traveltime.mean())\n",
    "        df['actualtime_arr_from'] = df['actualtime_arr_from'] + traveltime\n",
    "        df = df[[i for i in df.columns if i[0:4] != 'hour']]\n",
    "        df['hour'] = (df['actualtime_arr_from'] //3600).astype('int64')\n",
    "        #arr.append(copy.deepcopy(df))\n",
    "\n",
    "        \n",
    "    real_traveltimes = merged['end'] - merged['actualtime_arr_from']\n",
    "\n",
    "    pred_traveltimes = df['actualtime_arr_from'] - merged['actualtime_arr_from']\n",
    "    if verbose:\n",
    "        print(df['actualtime_arr_from'].mean())\n",
    "        print('MAE:',metrics.mean_absolute_error(real_traveltimes,pred_traveltimes))\n",
    "        print('MAPE:',((abs(real_traveltimes-pred_traveltimes)/real_traveltimes)*100).mean())\n",
    "        print('r2:',metrics.r2_score(real_traveltimes,pred_traveltimes))\n",
    "    return metrics.r2_score(real_traveltimes,pred_traveltimes),((abs(real_traveltimes-pred_traveltimes)/real_traveltimes)*100).mean()"
   ]
  },
  {
   "cell_type": "code",
   "execution_count": 22,
   "metadata": {},
   "outputs": [
    {
     "name": "stdout",
     "output_type": "stream",
     "text": [
      "1\n",
      "72\n",
      "2\n",
      "6683\n",
      "3\n",
      "6709\n",
      "4\n",
      "6760\n",
      "5\n",
      "6731\n",
      "6\n",
      "6708\n",
      "7\n",
      "2896\n",
      "8\n",
      "6771\n",
      "9\n",
      "6753\n",
      "10\n",
      "6760\n",
      "11\n",
      "6764\n",
      "12\n",
      "6772\n",
      "13\n",
      "6787\n",
      "14\n",
      "6773\n",
      "15\n",
      "6751\n",
      "16\n",
      "6759\n",
      "17\n",
      "6777\n",
      "18\n",
      "6742\n",
      "19\n",
      "6701\n",
      "20\n",
      "6694\n",
      "21\n",
      "6684\n",
      "22\n",
      "6697\n",
      "23\n",
      "6700\n",
      "24\n",
      "6682\n",
      "25\n",
      "6672\n",
      "26\n",
      "6681\n",
      "27\n",
      "6696\n",
      "28\n",
      "6715\n",
      "29\n",
      "6710\n",
      "30\n",
      "6666\n",
      "31\n",
      "6612\n",
      "32\n",
      "6623\n",
      "33\n",
      "6551\n",
      "34\n",
      "5748\n",
      "78.21233201026917\n"
     ]
    }
   ],
   "source": [
    "MAPES = []\n",
    "r2s = []\n",
    "import time\n",
    "t = time.time()\n",
    "for i in range(1,35):\n",
    "    print(i)\n",
    "    r2,MAPE = run_to_stop(i,verbose=False)\n",
    "    r2s.append(r2)\n",
    "    MAPES.append(MAPE)\n",
    "print(time.time()-t)\n",
    "\n"
   ]
  },
  {
   "cell_type": "code",
   "execution_count": 23,
   "metadata": {},
   "outputs": [
    {
     "data": {
      "text/plain": [
       "17.296387639596357"
      ]
     },
     "execution_count": 23,
     "metadata": {},
     "output_type": "execute_result"
    }
   ],
   "source": [
    "sum(MAPES)/len(MAPES)"
   ]
  },
  {
   "cell_type": "code",
   "execution_count": 24,
   "metadata": {},
   "outputs": [
    {
     "data": {
      "text/plain": [
       "10.849852903226333"
      ]
     },
     "execution_count": 24,
     "metadata": {},
     "output_type": "execute_result"
    }
   ],
   "source": [
    "min(MAPES)"
   ]
  },
  {
   "cell_type": "code",
   "execution_count": 25,
   "metadata": {},
   "outputs": [
    {
     "data": {
      "text/plain": [
       "<Figure size 640x480 with 1 Axes>"
      ]
     },
     "metadata": {},
     "output_type": "display_data"
    }
   ],
   "source": [
    "from matplotlib import pyplot as plt\n",
    "plt.plot(range(len(MAPES)),MAPES)\n",
    "plt.show()"
   ]
  },
  {
   "cell_type": "code",
   "execution_count": 26,
   "metadata": {
    "scrolled": true
   },
   "outputs": [
    {
     "data": {
      "text/plain": [
       "[<matplotlib.lines.Line2D at 0x7f4933af7c50>]"
      ]
     },
     "execution_count": 26,
     "metadata": {},
     "output_type": "execute_result"
    },
    {
     "data": {
      "image/png": "[encoded data removed]",
      "text/plain": [
       "<Figure size 432x288 with 1 Axes>"
      ]
     },
     "metadata": {},
     "output_type": "display_data"
    }
   ],
   "source": [
    "from matplotlib import pyplot as plt\n",
    "plt.plot(range(len(r2s)),r2s)\n"
   ]
  },
  {
   "cell_type": "code",
   "execution_count": 27,
   "metadata": {},
   "outputs": [
    {
     "data": {
      "text/plain": [
       "0.25234770217628244"
      ]
     },
     "execution_count": 27,
     "metadata": {},
     "output_type": "execute_result"
    }
   ],
   "source": [
    "max(r2s)"
   ]
  },
  {
   "cell_type": "code",
   "execution_count": null,
   "metadata": {},
   "outputs": [],
   "source": []
  },
  {
   "cell_type": "code",
   "execution_count": 28,
   "metadata": {},
   "outputs": [
    {
     "ename": "ValueError",
     "evalue": "x and y must have same first dimension, but have shapes (60,) and (26,)",
     "output_type": "error",
     "traceback": [
      "\u001b[0;31m---------------------------------------------------------------------------\u001b[0m",
      "\u001b[0;31mValueError\u001b[0m                                Traceback (most recent call last)",
      "\u001b[0;32m<ipython-input-28-d26d924f4115>\u001b[0m in \u001b[0;36m<module>\u001b[0;34m()\u001b[0m\n\u001b[1;32m      1\u001b[0m \u001b[0;32mfrom\u001b[0m \u001b[0mmatplotlib\u001b[0m \u001b[0;32mimport\u001b[0m \u001b[0mpyplot\u001b[0m \u001b[0;32mas\u001b[0m \u001b[0mplt\u001b[0m\u001b[0;34m\u001b[0m\u001b[0m\n\u001b[0;32m----> 2\u001b[0;31m \u001b[0mplt\u001b[0m\u001b[0;34m.\u001b[0m\u001b[0mplot\u001b[0m\u001b[0;34m(\u001b[0m\u001b[0mrange\u001b[0m\u001b[0;34m(\u001b[0m\u001b[0;36m9\u001b[0m\u001b[0;34m,\u001b[0m\u001b[0;36m69\u001b[0m\u001b[0;34m)\u001b[0m\u001b[0;34m,\u001b[0m\u001b[0mr2s\u001b[0m\u001b[0;34m[\u001b[0m\u001b[0;36m8\u001b[0m\u001b[0;34m:\u001b[0m\u001b[0;34m]\u001b[0m\u001b[0;34m)\u001b[0m\u001b[0;34m\u001b[0m\u001b[0m\n\u001b[0m",
      "\u001b[0;32m~/anaconda3/lib/python3.6/site-packages/matplotlib/pyplot.py\u001b[0m in \u001b[0;36mplot\u001b[0;34m(*args, **kwargs)\u001b[0m\n\u001b[1;32m   3356\u001b[0m                       mplDeprecation)\n\u001b[1;32m   3357\u001b[0m     \u001b[0;32mtry\u001b[0m\u001b[0;34m:\u001b[0m\u001b[0;34m\u001b[0m\u001b[0m\n\u001b[0;32m-> 3358\u001b[0;31m         \u001b[0mret\u001b[0m \u001b[0;34m=\u001b[0m \u001b[0max\u001b[0m\u001b[0;34m.\u001b[0m\u001b[0mplot\u001b[0m\u001b[0;34m(\u001b[0m\u001b[0;34m*\u001b[0m\u001b[0margs\u001b[0m\u001b[0;34m,\u001b[0m \u001b[0;34m**\u001b[0m\u001b[0mkwargs\u001b[0m\u001b[0;34m)\u001b[0m\u001b[0;34m\u001b[0m\u001b[0m\n\u001b[0m\u001b[1;32m   3359\u001b[0m     \u001b[0;32mfinally\u001b[0m\u001b[0;34m:\u001b[0m\u001b[0;34m\u001b[0m\u001b[0m\n\u001b[1;32m   3360\u001b[0m         \u001b[0max\u001b[0m\u001b[0;34m.\u001b[0m\u001b[0m_hold\u001b[0m \u001b[0;34m=\u001b[0m \u001b[0mwashold\u001b[0m\u001b[0;34m\u001b[0m\u001b[0m\n",
      "\u001b[0;32m~/anaconda3/lib/python3.6/site-packages/matplotlib/__init__.py\u001b[0m in \u001b[0;36minner\u001b[0;34m(ax, *args, **kwargs)\u001b[0m\n\u001b[1;32m   1853\u001b[0m                         \u001b[0;34m\"the Matplotlib list!)\"\u001b[0m \u001b[0;34m%\u001b[0m \u001b[0;34m(\u001b[0m\u001b[0mlabel_namer\u001b[0m\u001b[0;34m,\u001b[0m \u001b[0mfunc\u001b[0m\u001b[0;34m.\u001b[0m\u001b[0m__name__\u001b[0m\u001b[0;34m)\u001b[0m\u001b[0;34m,\u001b[0m\u001b[0;34m\u001b[0m\u001b[0m\n\u001b[1;32m   1854\u001b[0m                         RuntimeWarning, stacklevel=2)\n\u001b[0;32m-> 1855\u001b[0;31m             \u001b[0;32mreturn\u001b[0m \u001b[0mfunc\u001b[0m\u001b[0;34m(\u001b[0m\u001b[0max\u001b[0m\u001b[0;34m,\u001b[0m \u001b[0;34m*\u001b[0m\u001b[0margs\u001b[0m\u001b[0;34m,\u001b[0m \u001b[0;34m**\u001b[0m\u001b[0mkwargs\u001b[0m\u001b[0;34m)\u001b[0m\u001b[0;34m\u001b[0m\u001b[0m\n\u001b[0m\u001b[1;32m   1856\u001b[0m \u001b[0;34m\u001b[0m\u001b[0m\n\u001b[1;32m   1857\u001b[0m         inner.__doc__ = _add_data_doc(inner.__doc__,\n",
      "\u001b[0;32m~/anaconda3/lib/python3.6/site-packages/matplotlib/axes/_axes.py\u001b[0m in \u001b[0;36mplot\u001b[0;34m(self, *args, **kwargs)\u001b[0m\n\u001b[1;32m   1525\u001b[0m         \u001b[0mkwargs\u001b[0m \u001b[0;34m=\u001b[0m \u001b[0mcbook\u001b[0m\u001b[0;34m.\u001b[0m\u001b[0mnormalize_kwargs\u001b[0m\u001b[0;34m(\u001b[0m\u001b[0mkwargs\u001b[0m\u001b[0;34m,\u001b[0m \u001b[0m_alias_map\u001b[0m\u001b[0;34m)\u001b[0m\u001b[0;34m\u001b[0m\u001b[0m\n\u001b[1;32m   1526\u001b[0m \u001b[0;34m\u001b[0m\u001b[0m\n\u001b[0;32m-> 1527\u001b[0;31m         \u001b[0;32mfor\u001b[0m \u001b[0mline\u001b[0m \u001b[0;32min\u001b[0m \u001b[0mself\u001b[0m\u001b[0;34m.\u001b[0m\u001b[0m_get_lines\u001b[0m\u001b[0;34m(\u001b[0m\u001b[0;34m*\u001b[0m\u001b[0margs\u001b[0m\u001b[0;34m,\u001b[0m \u001b[0;34m**\u001b[0m\u001b[0mkwargs\u001b[0m\u001b[0;34m)\u001b[0m\u001b[0;34m:\u001b[0m\u001b[0;34m\u001b[0m\u001b[0m\n\u001b[0m\u001b[1;32m   1528\u001b[0m             \u001b[0mself\u001b[0m\u001b[0;34m.\u001b[0m\u001b[0madd_line\u001b[0m\u001b[0;34m(\u001b[0m\u001b[0mline\u001b[0m\u001b[0;34m)\u001b[0m\u001b[0;34m\u001b[0m\u001b[0m\n\u001b[1;32m   1529\u001b[0m             \u001b[0mlines\u001b[0m\u001b[0;34m.\u001b[0m\u001b[0mappend\u001b[0m\u001b[0;34m(\u001b[0m\u001b[0mline\u001b[0m\u001b[0;34m)\u001b[0m\u001b[0;34m\u001b[0m\u001b[0m\n",
      "\u001b[0;32m~/anaconda3/lib/python3.6/site-packages/matplotlib/axes/_base.py\u001b[0m in \u001b[0;36m_grab_next_args\u001b[0;34m(self, *args, **kwargs)\u001b[0m\n\u001b[1;32m    404\u001b[0m                 \u001b[0mthis\u001b[0m \u001b[0;34m+=\u001b[0m \u001b[0margs\u001b[0m\u001b[0;34m[\u001b[0m\u001b[0;36m0\u001b[0m\u001b[0;34m]\u001b[0m\u001b[0;34m,\u001b[0m\u001b[0;34m\u001b[0m\u001b[0m\n\u001b[1;32m    405\u001b[0m                 \u001b[0margs\u001b[0m \u001b[0;34m=\u001b[0m \u001b[0margs\u001b[0m\u001b[0;34m[\u001b[0m\u001b[0;36m1\u001b[0m\u001b[0;34m:\u001b[0m\u001b[0;34m]\u001b[0m\u001b[0;34m\u001b[0m\u001b[0m\n\u001b[0;32m--> 406\u001b[0;31m             \u001b[0;32mfor\u001b[0m \u001b[0mseg\u001b[0m \u001b[0;32min\u001b[0m \u001b[0mself\u001b[0m\u001b[0;34m.\u001b[0m\u001b[0m_plot_args\u001b[0m\u001b[0;34m(\u001b[0m\u001b[0mthis\u001b[0m\u001b[0;34m,\u001b[0m \u001b[0mkwargs\u001b[0m\u001b[0;34m)\u001b[0m\u001b[0;34m:\u001b[0m\u001b[0;34m\u001b[0m\u001b[0m\n\u001b[0m\u001b[1;32m    407\u001b[0m                 \u001b[0;32myield\u001b[0m \u001b[0mseg\u001b[0m\u001b[0;34m\u001b[0m\u001b[0m\n\u001b[1;32m    408\u001b[0m \u001b[0;34m\u001b[0m\u001b[0m\n",
      "\u001b[0;32m~/anaconda3/lib/python3.6/site-packages/matplotlib/axes/_base.py\u001b[0m in \u001b[0;36m_plot_args\u001b[0;34m(self, tup, kwargs)\u001b[0m\n\u001b[1;32m    381\u001b[0m             \u001b[0mx\u001b[0m\u001b[0;34m,\u001b[0m \u001b[0my\u001b[0m \u001b[0;34m=\u001b[0m \u001b[0mindex_of\u001b[0m\u001b[0;34m(\u001b[0m\u001b[0mtup\u001b[0m\u001b[0;34m[\u001b[0m\u001b[0;34m-\u001b[0m\u001b[0;36m1\u001b[0m\u001b[0;34m]\u001b[0m\u001b[0;34m)\u001b[0m\u001b[0;34m\u001b[0m\u001b[0m\n\u001b[1;32m    382\u001b[0m \u001b[0;34m\u001b[0m\u001b[0m\n\u001b[0;32m--> 383\u001b[0;31m         \u001b[0mx\u001b[0m\u001b[0;34m,\u001b[0m \u001b[0my\u001b[0m \u001b[0;34m=\u001b[0m \u001b[0mself\u001b[0m\u001b[0;34m.\u001b[0m\u001b[0m_xy_from_xy\u001b[0m\u001b[0;34m(\u001b[0m\u001b[0mx\u001b[0m\u001b[0;34m,\u001b[0m \u001b[0my\u001b[0m\u001b[0;34m)\u001b[0m\u001b[0;34m\u001b[0m\u001b[0m\n\u001b[0m\u001b[1;32m    384\u001b[0m \u001b[0;34m\u001b[0m\u001b[0m\n\u001b[1;32m    385\u001b[0m         \u001b[0;32mif\u001b[0m \u001b[0mself\u001b[0m\u001b[0;34m.\u001b[0m\u001b[0mcommand\u001b[0m \u001b[0;34m==\u001b[0m \u001b[0;34m'plot'\u001b[0m\u001b[0;34m:\u001b[0m\u001b[0;34m\u001b[0m\u001b[0m\n",
      "\u001b[0;32m~/anaconda3/lib/python3.6/site-packages/matplotlib/axes/_base.py\u001b[0m in \u001b[0;36m_xy_from_xy\u001b[0;34m(self, x, y)\u001b[0m\n\u001b[1;32m    240\u001b[0m         \u001b[0;32mif\u001b[0m \u001b[0mx\u001b[0m\u001b[0;34m.\u001b[0m\u001b[0mshape\u001b[0m\u001b[0;34m[\u001b[0m\u001b[0;36m0\u001b[0m\u001b[0;34m]\u001b[0m \u001b[0;34m!=\u001b[0m \u001b[0my\u001b[0m\u001b[0;34m.\u001b[0m\u001b[0mshape\u001b[0m\u001b[0;34m[\u001b[0m\u001b[0;36m0\u001b[0m\u001b[0;34m]\u001b[0m\u001b[0;34m:\u001b[0m\u001b[0;34m\u001b[0m\u001b[0m\n\u001b[1;32m    241\u001b[0m             raise ValueError(\"x and y must have same first dimension, but \"\n\u001b[0;32m--> 242\u001b[0;31m                              \"have shapes {} and {}\".format(x.shape, y.shape))\n\u001b[0m\u001b[1;32m    243\u001b[0m         \u001b[0;32mif\u001b[0m \u001b[0mx\u001b[0m\u001b[0;34m.\u001b[0m\u001b[0mndim\u001b[0m \u001b[0;34m>\u001b[0m \u001b[0;36m2\u001b[0m \u001b[0;32mor\u001b[0m \u001b[0my\u001b[0m\u001b[0;34m.\u001b[0m\u001b[0mndim\u001b[0m \u001b[0;34m>\u001b[0m \u001b[0;36m2\u001b[0m\u001b[0;34m:\u001b[0m\u001b[0;34m\u001b[0m\u001b[0m\n\u001b[1;32m    244\u001b[0m             raise ValueError(\"x and y can be no greater than 2-D, but have \"\n",
      "\u001b[0;31mValueError\u001b[0m: x and y must have same first dimension, but have shapes (60,) and (26,)"
     ]
    },
    {
     "data": {
      "image/png": "[encoded data removed]",
      "text/plain": [
       "<Figure size 432x288 with 1 Axes>"
      ]
     },
     "metadata": {},
     "output_type": "display_data"
    }
   ],
   "source": [
    "from matplotlib import pyplot as plt\n",
    "plt.plot(len(r2s)[8:],r2s[8:])\n"
   ]
  },
  {
   "cell_type": "code",
   "execution_count": null,
   "metadata": {},
   "outputs": [],
   "source": [
    "max(r2s)"
   ]
  },
  {
   "cell_type": "code",
   "execution_count": null,
   "metadata": {},
   "outputs": [],
   "source": [
    "r2s"
   ]
  },
  {
   "cell_type": "code",
   "execution_count": null,
   "metadata": {},
   "outputs": [],
   "source": [
    "max(r2s)"
   ]
  },
  {
   "cell_type": "code",
   "execution_count": null,
   "metadata": {},
   "outputs": [],
   "source": [
    "import pickle\n",
    "with open('/data/chainedneuralmodels.bin','wb') as handle:\n",
    "    d= {'models':models,\\\n",
    "       'x-scalers':scalers,\\\n",
    "        'y-scalers':y_scalers}\n",
    "    pickle.dump(d,handle,protocol=pickle.HIGHEST_PROTOCOL)"
   ]
  },
  {
   "cell_type": "code",
   "execution_count": null,
   "metadata": {},
   "outputs": [],
   "source": [
    "len(models)"
   ]
  },
  {
   "cell_type": "markdown",
   "metadata": {},
   "source": [
    "A reason not to use these is that these sixty models and scalers pickle to about 6 megabytes. We would need roughly 500-600 megabytes of models in memory then, just to run our time table predictions quickly. Though it is possible we could just load and delete them as needed, the linear models are miniscule in comparison.\n",
    "\n",
    "They also take much longer to predict than the linear models, (but only slightly), and some still give negative predictions.\n",
    "\n",
    "Also, an instance can be seen of r2 score sharply plunging at the end of the route. Though I think this is also true for the linear models. The trouble is that, since the training time is so greatly increased, it will be harder to avoid this. Harder than with the liner models anyway.\n",
    "\n",
    "The r2 scores are significantly better, but the MAPE isn't. The r2 matters to us as data scientists, but it would seem like a) MAPE and b) actually having a working app would be of more concern to the user.\n",
    "\n",
    "\n",
    "\n",
    "\n"
   ]
  },
  {
   "cell_type": "code",
   "execution_count": null,
   "metadata": {},
   "outputs": [],
   "source": [
    "sum(MAPES)/len(MAPES)"
   ]
  },
  {
   "cell_type": "markdown",
   "metadata": {},
   "source": [
    "The Mean MAPE was about 13% for the linear models. They're also much faster."
   ]
  },
  {
   "cell_type": "markdown",
   "metadata": {},
   "source": [
    "## On production:\n",
    "\n",
    "The decision was made to build the neural models and use them in the application, lagely due to the\n",
    "increased r2 score.\n",
    "\n",
    "Negative predictions were encountered when the models were deployed into the application. Here they are investigated.\n"
   ]
  },
  {
   "cell_type": "code",
   "execution_count": null,
   "metadata": {},
   "outputs": [],
   "source": [
    "from sklearn.neural_network import MLPRegressor as mlp\n",
    "from sklearn.preprocessing import MinMaxScaler as mms\n",
    "from sklearn.preprocessing import StandardScaler as ss\n",
    "import os\n",
    "import pandas as pd\n",
    "import pickle\n",
    "df = pd.DataFrame({'temp':[10],'vappr':[10],'rain':[0.08],'hour':[5],'day':[4]})\n",
    "to_concat = []\n",
    "import copy\n",
    "for day in range(7):\n",
    "    for hour in range(5,24):\n",
    "        af = copy.deepcopy(df)\n",
    "        af['day'] = day\n",
    "        af['hour'] = hour\n",
    "        af['actualtime_arr_from'] = hour // 3600\n",
    "        to_concat.append(af)\n",
    "df = pd.concat(to_concat,axis=0)\n",
    "print(df.head(5))\n",
    "input()\n",
    "files = os.listdir('/data/neural_models')\n",
    "negative_count = 0\n",
    "total_count = 0\n",
    "for f in files:\n",
    "    try:\n",
    "        with open('/data/neural_models/'+f,'rb') as handle:\n",
    "            d = pickle.load(handle)\n",
    "    except:\n",
    "        continue\n",
    "    handle.close()\n",
    "    X_scaler = d['X_scaler']\n",
    "    Y_scaler = d['Y_scaler']\n",
    "\n",
    "\n",
    "    X = X_scaler.transform(df[['rain','temp','vappr','hour','day']])\n",
    "\n",
    "    preds = d['model'].predict(X)\n",
    "    Y = Y_scaler.inverse_transform(preds)\n",
    "    negative_count += sum(Y<0)\n",
    "    total_count += Y.shape[0]\n",
    "    \n",
    "print(negative_count / total_count)"
   ]
  },
  {
   "cell_type": "markdown",
   "metadata": {},
   "source": [
    "Almost two percent of the predictions returned negative. This posed numerous problems. The trouble was that negative predictions had a propensity to propagate down the chain. Though they could be offset by imputing the mean  "
   ]
  },
  {
   "cell_type": "code",
   "execution_count": 2,
   "metadata": {},
   "outputs": [
    {
     "name": "stdout",
     "output_type": "stream",
     "text": [
      "   temp  vappr  rain  hour  day  actualtime_arr_from  hour2  day2  hour3  \\\n",
      "0    10     10  0.08     5    0                    0     25     0    125   \n",
      "0    10     10  0.08     6    0                    0     36     0    216   \n",
      "0    10     10  0.08     7    0                    0     49     0    343   \n",
      "0    10     10  0.08     8    0                    0     64     0    512   \n",
      "0    10     10  0.08     9    0                    0     81     0    729   \n",
      "\n",
      "   day3  hour4  day4  \n",
      "0     0    625     0  \n",
      "0     0   1296     0  \n",
      "0     0   2401     0  \n",
      "0     0   4096     0  \n",
      "0     0   6561     0  \n",
      "\n",
      "0.015657870721702962\n"
     ]
    }
   ],
   "source": [
    "from sklearn.neural_network import MLPRegressor as mlp\n",
    "from sklearn.preprocessing import MinMaxScaler as mms\n",
    "from sklearn.preprocessing import StandardScaler as ss\n",
    "import os\n",
    "import pandas as pd\n",
    "import pickle\n",
    "df = pd.DataFrame({'temp':[10],'vappr':[10],'rain':[0.08],'hour':[5],'day':[4]})\n",
    "\n",
    "to_concat = []\n",
    "import copy\n",
    "for day in range(7):\n",
    "    for hour in range(5,24):\n",
    "        af = copy.deepcopy(df)\n",
    "        af['day'] = day\n",
    "        af['hour'] = hour\n",
    "        af['actualtime_arr_from'] = hour // 3600\n",
    "        to_concat.append(af)\n",
    "\n",
    "    \n",
    "df = pd.concat(to_concat,axis=0)\n",
    "for i in range(2,5):\n",
    "    df['hour'+str(i)] = df['hour']**i\n",
    "    df['day'+str(i)] = df['day'] ** i\n",
    "print(df.head(5))\n",
    "input()\n",
    "files = os.listdir('/data/linear_models3')\n",
    "negative_count = 0\n",
    "total_count = 0\n",
    "for f in files:\n",
    "    try:\n",
    "        with open('/data/linear_models3/'+f,'rb') as handle:\n",
    "            model = pickle.load(handle)\n",
    "    except:\n",
    "        continue\n",
    "    handle.close()\n",
    "    features = ['rain','temp','vappr','hour','hour2','hour3','hour4','day','day2','day3','day4']\n",
    "    X = df[features]\n",
    "    Y = model.predict(X)\n",
    "    \n",
    "   \n",
    "    total_count += Y.shape[0]\n",
    "    negative_count += sum(Y < 0)\n",
    "\n",
    "print(negative_count / total_count)"
   ]
  },
  {
   "cell_type": "markdown",
   "metadata": {},
   "source": [
    " There were, it seemed, actually more negative predictions for the linear models."
   ]
  },
  {
   "cell_type": "code",
   "execution_count": 15,
   "metadata": {},
   "outputs": [
    {
     "data": {
      "text/plain": [
       "array([44.56610446, 44.56610446, 44.56610446, 44.56610446, 44.56610446,\n",
       "       44.56610446, 44.56610446, 44.56610446, 44.56610446, 44.56610446,\n",
       "       44.56610446, 44.56610446, 44.56610446, 44.56610446, 44.56610446,\n",
       "       44.56610446, 44.56610446, 44.56610446, 44.56610446, 43.93371241,\n",
       "       43.93371241, 43.93371241, 43.93371241, 43.93371241, 43.93371241,\n",
       "       43.93371241, 43.93371241, 43.93371241, 43.93371241, 43.93371241,\n",
       "       43.93371241, 43.93371241, 43.93371241, 43.93371241, 43.93371241,\n",
       "       43.93371241, 43.93371241, 43.93371241, 44.40815811, 44.40815811,\n",
       "       44.40815811, 44.40815811, 44.40815811, 44.40815811, 44.40815811,\n",
       "       44.40815811, 44.40815811, 44.40815811, 44.40815811, 44.40815811,\n",
       "       44.40815811, 44.40815811, 44.40815811, 44.40815811, 44.40815811,\n",
       "       44.40815811, 44.40815811, 44.61983034, 44.61983034, 44.61983034,\n",
       "       44.61983034, 44.61983034, 44.61983034, 44.61983034, 44.61983034,\n",
       "       44.61983034, 44.61983034, 44.61983034, 44.61983034, 44.61983034,\n",
       "       44.61983034, 44.61983034, 44.61983034, 44.61983034, 44.61983034,\n",
       "       44.61983034, 43.94434098, 43.94434098, 43.94434098, 43.94434098,\n",
       "       43.94434098, 43.94434098, 43.94434098, 43.94434098, 43.94434098,\n",
       "       43.94434098, 43.94434098, 43.94434098, 43.94434098, 43.94434098,\n",
       "       43.94434098, 43.94434098, 43.94434098, 43.94434098, 43.94434098,\n",
       "       42.50252499, 42.50252499, 42.50252499, 42.50252499, 42.50252499,\n",
       "       42.50252499, 42.50252499, 42.50252499, 42.50252499, 42.50252499,\n",
       "       42.50252499, 42.50252499, 42.50252499, 42.50252499, 42.50252499,\n",
       "       42.50252499, 42.50252499, 42.50252499, 42.50252499, 41.16044047,\n",
       "       41.16044047, 41.16044047, 41.16044047, 41.16044047, 41.16044047,\n",
       "       41.16044047, 41.16044047, 41.16044047, 41.16044047, 41.16044047,\n",
       "       41.16044047, 41.16044047, 41.16044047, 41.16044047, 41.16044047,\n",
       "       41.16044047, 41.16044047, 41.16044047])"
      ]
     },
     "execution_count": 15,
     "metadata": {},
     "output_type": "execute_result"
    }
   ],
   "source": [
    "Y[Y > 0]"
   ]
  },
  {
   "cell_type": "code",
   "execution_count": 16,
   "metadata": {},
   "outputs": [],
   "source": [
    "m = Y[Y>0].mean()"
   ]
  },
  {
   "cell_type": "code",
   "execution_count": 17,
   "metadata": {},
   "outputs": [
    {
     "data": {
      "text/plain": [
       "43.5907302504894"
      ]
     },
     "execution_count": 17,
     "metadata": {},
     "output_type": "execute_result"
    }
   ],
   "source": [
    "m"
   ]
  },
  {
   "cell_type": "code",
   "execution_count": 20,
   "metadata": {},
   "outputs": [
    {
     "data": {
      "text/plain": [
       "-1.0"
      ]
     },
     "execution_count": 20,
     "metadata": {},
     "output_type": "execute_result"
    }
   ],
   "source": [
    "Y[Y<0].mean()"
   ]
  },
  {
   "cell_type": "code",
   "execution_count": 21,
   "metadata": {},
   "outputs": [],
   "source": [
    "Y[Y<0] = m"
   ]
  },
  {
   "cell_type": "code",
   "execution_count": 19,
   "metadata": {},
   "outputs": [],
   "source": [
    "Y[0] = -1"
   ]
  },
  {
   "cell_type": "code",
   "execution_count": 22,
   "metadata": {},
   "outputs": [
    {
     "data": {
      "text/plain": [
       "43.5907302504894"
      ]
     },
     "execution_count": 22,
     "metadata": {},
     "output_type": "execute_result"
    }
   ],
   "source": [
    "Y[0]"
   ]
  },
  {
   "cell_type": "code",
   "execution_count": 23,
   "metadata": {},
   "outputs": [
    {
     "data": {
      "text/plain": [
       "array([43.59073025, 44.56610446, 44.56610446, 44.56610446, 44.56610446,\n",
       "       44.56610446, 44.56610446, 44.56610446, 44.56610446, 44.56610446,\n",
       "       44.56610446, 44.56610446, 44.56610446, 44.56610446, 44.56610446,\n",
       "       44.56610446, 44.56610446, 44.56610446, 44.56610446, 43.93371241,\n",
       "       43.93371241, 43.93371241, 43.93371241, 43.93371241, 43.93371241,\n",
       "       43.93371241, 43.93371241, 43.93371241, 43.93371241, 43.93371241,\n",
       "       43.93371241, 43.93371241, 43.93371241, 43.93371241, 43.93371241,\n",
       "       43.93371241, 43.93371241, 43.93371241, 44.40815811, 44.40815811,\n",
       "       44.40815811, 44.40815811, 44.40815811, 44.40815811, 44.40815811,\n",
       "       44.40815811, 44.40815811, 44.40815811, 44.40815811, 44.40815811,\n",
       "       44.40815811, 44.40815811, 44.40815811, 44.40815811, 44.40815811,\n",
       "       44.40815811, 44.40815811, 44.61983034, 44.61983034, 44.61983034,\n",
       "       44.61983034, 44.61983034, 44.61983034, 44.61983034, 44.61983034,\n",
       "       44.61983034, 44.61983034, 44.61983034, 44.61983034, 44.61983034,\n",
       "       44.61983034, 44.61983034, 44.61983034, 44.61983034, 44.61983034,\n",
       "       44.61983034, 43.94434098, 43.94434098, 43.94434098, 43.94434098,\n",
       "       43.94434098, 43.94434098, 43.94434098, 43.94434098, 43.94434098,\n",
       "       43.94434098, 43.94434098, 43.94434098, 43.94434098, 43.94434098,\n",
       "       43.94434098, 43.94434098, 43.94434098, 43.94434098, 43.94434098,\n",
       "       42.50252499, 42.50252499, 42.50252499, 42.50252499, 42.50252499,\n",
       "       42.50252499, 42.50252499, 42.50252499, 42.50252499, 42.50252499,\n",
       "       42.50252499, 42.50252499, 42.50252499, 42.50252499, 42.50252499,\n",
       "       42.50252499, 42.50252499, 42.50252499, 42.50252499, 41.16044047,\n",
       "       41.16044047, 41.16044047, 41.16044047, 41.16044047, 41.16044047,\n",
       "       41.16044047, 41.16044047, 41.16044047, 41.16044047, 41.16044047,\n",
       "       41.16044047, 41.16044047, 41.16044047, 41.16044047, 41.16044047,\n",
       "       41.16044047, 41.16044047, 41.16044047])"
      ]
     },
     "execution_count": 23,
     "metadata": {},
     "output_type": "execute_result"
    }
   ],
   "source": [
    "Y\n"
   ]
  },
  {
   "cell_type": "markdown",
   "metadata": {},
   "source": [
    "# Comparing this with the big route model .\n",
    "\n",
    "Big route model had a higher MAPE, overall. 15% for the entire route. The chained models manage 12 %.\n",
    "\n",
    "Big route model is very, very bad at the start, and then quite good, though it does suffer a drop in r2 score in the middle. The chained models are bad at the start, and then bad again in the middle, though I don't feel like they are _quite_ as bad overall.\n",
    "\n",
    "The big route model gives negative scores, and there is no actual certainty that it won't predict that distance X+1 takes less time than distance X.\n",
    "\n",
    "The chained models also give negative scores, but they can be corrected easier. \n",
    "\n",
    "There are only five days left, but maybe the solution is to deliver both. I don't feel that either is particularly good, but I honestly can't decide between them.\n",
    "\n",
    "I like the chained models better because it's easier to understand what they're doing, and they don't seem to automatically learn negatives for the beginning of their curves.\n",
    "\n",
    "There is also the strong positive that they don't rely on dummies etc. In addition, it is easier to use them to impute the missing values and thus build the whole network."
   ]
  },
  {
   "cell_type": "code",
   "execution_count": null,
   "metadata": {},
   "outputs": [],
   "source": []
  }
 ],
 "metadata": {
  "kernelspec": {
   "display_name": "Python 3",
   "language": "python",
   "name": "python3"
  },
  "language_info": {
   "codemirror_mode": {
    "name": "ipython",
    "version": 3
   },
   "file_extension": ".py",
   "mimetype": "text/x-python",
   "name": "python",
   "nbconvert_exporter": "python",
   "pygments_lexer": "ipython3",
   "version": "3.6.5"
  }
 },
 "nbformat": 4,
 "nbformat_minor": 2
}
