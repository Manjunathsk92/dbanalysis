{
 "cells": [
  {
   "cell_type": "markdown",
   "metadata": {},
   "source": [
    "# This is our large neural network model of a route.\n",
    "\n",
    "The model was intended to learn a relationship between the distance from the first stop on the route, the time of leaving the first stop on the route, the day of the week, and weather condition. This relationship was used to predict the arrival time at any distance of the route.\n",
    "\n",
    "The data is gathered from individual stop link files. Then any data without the right route id is thrown away.\n",
    "\n",
    "The distance for each stop on the route from the first stop on the route is found, and added to each corresponding row. \n",
    "\n",
    "The time of leaving the first stop is found, and added to each row. Travel time is then calculated as the time of arrival at a stop minus this departure time.\n",
    "\n",
    "Full date time information is then computed, and the data frame is merged with weather.\n",
    "\n",
    "Features are scaled, and a sklearn MLPRegressor is trained on the data frame."
   ]
  },
  {
   "cell_type": "code",
   "execution_count": 1,
   "metadata": {},
   "outputs": [],
   "source": [
    "from dbanalysis import stop_tools\n",
    "import pandas as pd\n",
    "class BRModel():\n",
    "    \"\"\"\n",
    "    Big route model class\n",
    "    uses the distance of a stop from first stop on a route to compute predictions lalalala\n",
    "    MAPE and r2 scores are not as good as they were in the notebook\n",
    "    (we achieved 0.57 r2, and 7% MAPE on the time to complete the route)\n",
    "    Should look into this.\n",
    "    \"\"\"\n",
    "    def __init__ (self, route,variation,verbose=True,src='build',rgr='RandomForest',\\\n",
    "                mode='validate',features = ['base_time_dep','distance','rain','temp','day'],use_dummies=True):\n",
    "        \n",
    "        import json\n",
    "        self.regr_type = rgr\n",
    "        self.verbose = verbose\n",
    "        self.route = route\n",
    "        self.use_dummies = use_dummies\n",
    "        self.variation = variation\n",
    "        self.routes = json.loads(open('/home/student/dbanalysis/dbanalysis/resources/trimmed_routes.json').read())\n",
    "        self.features = features\n",
    "        self.route_array = self.routes[route][variation][1:]\n",
    "        del(self.routes)\n",
    "        if src == 'build':\n",
    "            if not self.can_be_modelled():\n",
    "                \n",
    "                raise ValueError ('Missing data for modelling this route')\n",
    "\n",
    "            self.gather_data()\n",
    "            self.preprocess()\n",
    "            if rgr == 'RandomForest':\n",
    "                from sklearn.ensemble import RandomForestRegressor as rf\n",
    "                self.rgr = rf()\n",
    "            elif rgr == 'Linear':\n",
    "                from sklearn.linear_model import LinearRegression as lr\n",
    "                self.rgr = lr(fit_intercept=True)\n",
    "            elif rgr == 'Neural':\n",
    "                from sklearn.neural_network import MLPRegressor as mlpr\n",
    "                self.rgr = mlpr(hidden_layer_sizes=(100,100),verbose=True)\n",
    "                from sklearn.preprocessing import normalize\n",
    "                \n",
    " \n",
    "            #if mode == 'validate':\n",
    "            #   if self.regr_type == 'Neural':\n",
    "                    #self.validate_neural()\n",
    "            #   else:\n",
    "                    #self.validate_model()\n",
    "            #lif mode == 'production':\n",
    "                #self.build_full_model()\n",
    "                #self.dump_model()\n",
    "   \n",
    "\n",
    "    def gather_data(self):\n",
    "        if self.verbose:\n",
    "            print('gathering data...')\n",
    "        from dbanalysis import stop_tools\n",
    "        arr = self.route_array\n",
    "        import os\n",
    "        to_concat = []\n",
    "        for i in range(len(arr)-1):\n",
    "            \n",
    "            data = stop_tools.get_stop_link(arr[i],arr[i+1])\n",
    "            to_concat.append(data)\n",
    "            del(data)\n",
    "        self.data = pd.concat(to_concat,axis=0)\n",
    "        del to_concat\n",
    "        df = df[df['traveltime']>0]\n",
    "        \n",
    "\n",
    "    def preprocess(self):\n",
    "        if self.verbose:\n",
    "            print('Preprocessing data')\n",
    "        self.select_routes()\n",
    "        self.clean_1()\n",
    "        self.add_distances()\n",
    "        self.add_base_departure_time()\n",
    "        self.add_time_info()\n",
    "        \n",
    "        self.merge_weather()\n",
    "        #if self.use_dummies:\n",
    "        #    self.add_dummies()\n",
    "        #    self.features += self.dummy_features\n",
    "    def select_routes(self):\n",
    "        if self.verbose:\n",
    "            print('parsing routeids')\n",
    "        routeids = self.data['routeid'].unique()\n",
    "        valid_routeids = [r for r in routeids if r.split('_')[0] == self.route]\n",
    "        self.data = self.data[self.data['routeid'].isin(valid_routeids)]\n",
    "    def clean_1(self):\n",
    "        if self.verbose:\n",
    "            print('dropping null values')\n",
    "        self.data = self.data.dropna()\n",
    "        \n",
    "    def add_distances(self):\n",
    "        if self.verbose:\n",
    "            print('adding distances')\n",
    "        s_getter =stop_tools.stop_getter()\n",
    "        total_distance = 0\n",
    "        r = self.route_array\n",
    "        route_distances = {r[0]:0}\n",
    "        \n",
    "        for i in range(0, len(r)-1):\n",
    "            distance = s_getter.get_stop_distance(str(r[i]),str(r[i+1]))\n",
    "                \n",
    "            total_distance += distance\n",
    "            route_distances[r[i+1]]=total_distance\n",
    "        self.data['distance']=self.data['stopA'].apply(lambda x: route_distances[x])\n",
    "        del(s_getter)\n",
    "    def add_base_departure_time(self):\n",
    "        if self.verbose:\n",
    "            print('adding base departure times')\n",
    "       \n",
    "        keys= self.data[self.data['stopA']==self.route_array[0]]\n",
    "        keys['base_time_dep']=keys['actualtime_arr_from']\n",
    "        keys2=keys[['tripid','dayofservice','routeid','base_time_dep']]\n",
    "        self.data = pd.merge(self.data,keys2,on=['dayofservice','tripid','routeid'])\n",
    "        \n",
    "        self.data['traveltime']=self.data['actualtime_arr_from']-self.data['base_time_dep'] \n",
    "        #A number of rows have negative travel time. But its a really small number, so I guess they \n",
    "        #can go in the bin.\n",
    "        self.data = self.data[self.data['traveltime']>0]\n",
    "        del(keys)\n",
    "        del(keys2)\n",
    "    \n",
    "    def add_time_info(self):\n",
    "        if self.verbose:\n",
    "            print('adding time information')\n",
    "        time_format = \"%d-%b-%y %H:%M:%S\"\n",
    "        self.data['dt']=pd.to_datetime(self.data['dayofservice'],format=time_format)\n",
    "        self.data['day']=self.data['dt'].dt.dayofweek\n",
    "        self.data['month']=self.data['dt'].dt.month\n",
    "        self.data['hour'] = self.data['dt'].dt.hour\n",
    "        self.data['weekend']=self.data['day']>4\n",
    "        self.data['year']=self.data['dt'].dt.year\n",
    "        self.data['date'] = self.data['dt'].dt.date\n",
    "    def merge_weather(self,weather=None):\n",
    "        if self.verbose:\n",
    "            print('merging weather')\n",
    "        if weather == None:\n",
    "          \n",
    "            weather = pd.read_csv('/home/student/dbanalysis/dbanalysis/resources/cleanweather.csv').dropna()\n",
    "        weather['dt']=pd.to_datetime(weather['date'])\n",
    "        weather['hour']=weather['dt'].dt.hour\n",
    "        weather['date']=weather['dt'].dt.date\n",
    "        \n",
    "        self.data = pd.merge(self.data,weather,on=['date','hour'])\n",
    "        del(weather)\n",
    "\n",
    "    def add_dummies(self):\n",
    "        if self.verbose:\n",
    "            print('Making dummy features')\n",
    "        self.data = pd.get_dummies(self.data,columns=['day','month','hour'])\n",
    "        self.dummy_features = [col for col in self.data.columns\\\n",
    "                                if (col[0:3] == 'day' and col != 'dayofservice')\\\n",
    "                                or col[0:5] == 'month' or col[0:4] == 'hour']\n",
    "\n",
    "\n",
    "    def can_be_modelled(self):\n",
    "        if self.verbose:\n",
    "            print('Checking for data files')\n",
    "        import os\n",
    "        base_dir = '/data/stops/'\n",
    "        arr = self.route_array\n",
    "        for i in range(len(arr)-1):\n",
    "            \n",
    "            if os.path.exists(base_dir+str(arr[i])+'/'+str(arr[i+1])+'.csv'):\n",
    "                pass\n",
    "            else:\n",
    "                print('broken')\n",
    "                input()\n",
    "                return False\n",
    "        return True\n"
   ]
  },
  {
   "cell_type": "code",
   "execution_count": 2,
   "metadata": {
    "scrolled": true
   },
   "outputs": [
    {
     "name": "stdout",
     "output_type": "stream",
     "text": [
      "Checking for data files\n",
      "gathering data...\n",
      "Preprocessing data\n",
      "parsing routeids\n",
      "dropping null values\n",
      "adding distances\n",
      "adding base departure times\n"
     ]
    },
    {
     "name": "stderr",
     "output_type": "stream",
     "text": [
      "/home/student/anaconda3/lib/python3.6/site-packages/ipykernel_launcher.py:164: SettingWithCopyWarning: \n",
      "A value is trying to be set on a copy of a slice from a DataFrame.\n",
      "Try using .loc[row_indexer,col_indexer] = value instead\n",
      "\n",
      "See the caveats in the documentation: http://pandas.pydata.org/pandas-docs/stable/indexing.html#indexing-view-versus-copy\n"
     ]
    },
    {
     "name": "stdout",
     "output_type": "stream",
     "text": [
      "adding time information\n",
      "merging weather\n"
     ]
    }
   ],
   "source": [
    "r = BRModel('1',1,rgr='Neural')"
   ]
  },
  {
   "cell_type": "code",
   "execution_count": 3,
   "metadata": {},
   "outputs": [],
   "source": [
    "train = r.data[r.data['year']==2016]\n",
    "test = r.data[r.data['year']==2017]"
   ]
  },
  {
   "cell_type": "code",
   "execution_count": 4,
   "metadata": {},
   "outputs": [],
   "source": [
    "from sklearn.preprocessing import StandardScaler as ss"
   ]
  },
  {
   "cell_type": "code",
   "execution_count": 5,
   "metadata": {},
   "outputs": [],
   "source": [
    "scaler_X = ss()\n",
    "X = scaler_X.fit_transform(train[r.features])"
   ]
  },
  {
   "cell_type": "code",
   "execution_count": 6,
   "metadata": {},
   "outputs": [
    {
     "name": "stderr",
     "output_type": "stream",
     "text": [
      "/home/student/anaconda3/lib/python3.6/site-packages/sklearn/utils/validation.py:475: DataConversionWarning: Data with input dtype int64 was converted to float64 by StandardScaler.\n",
      "  warnings.warn(msg, DataConversionWarning)\n"
     ]
    }
   ],
   "source": [
    "scaler_Y = ss()\n",
    "Y = scaler_Y.fit_transform(train['traveltime'].values.reshape(-1,1))"
   ]
  },
  {
   "cell_type": "code",
   "execution_count": 7,
   "metadata": {},
   "outputs": [
    {
     "name": "stderr",
     "output_type": "stream",
     "text": [
      "/home/student/anaconda3/lib/python3.6/site-packages/sklearn/neural_network/multilayer_perceptron.py:1306: DataConversionWarning: A column-vector y was passed when a 1d array was expected. Please change the shape of y to (n_samples, ), for example using ravel().\n",
      "  y = column_or_1d(y, warn=True)\n"
     ]
    },
    {
     "name": "stdout",
     "output_type": "stream",
     "text": [
      "Iteration 1, loss = 0.03579506\n",
      "Iteration 2, loss = 0.02780701\n",
      "Iteration 3, loss = 0.02663528\n",
      "Iteration 4, loss = 0.02577339\n",
      "Iteration 5, loss = 0.02507498\n",
      "Iteration 6, loss = 0.02451681\n",
      "Iteration 7, loss = 0.02409723\n",
      "Iteration 8, loss = 0.02384071\n",
      "Iteration 9, loss = 0.02366243\n",
      "Iteration 10, loss = 0.02342031\n",
      "Iteration 11, loss = 0.02333099\n",
      "Iteration 12, loss = 0.02324701\n",
      "Iteration 13, loss = 0.02307448\n",
      "Iteration 14, loss = 0.02300359\n",
      "Iteration 15, loss = 0.02286265\n",
      "Iteration 16, loss = 0.02274339\n",
      "Iteration 17, loss = 0.02263890\n",
      "Iteration 18, loss = 0.02258850\n",
      "Iteration 19, loss = 0.02245514\n",
      "Iteration 20, loss = 0.02240499\n",
      "Iteration 21, loss = 0.02233735\n",
      "Iteration 22, loss = 0.02222415\n",
      "Iteration 23, loss = 0.02220330\n",
      "Iteration 24, loss = 0.02207056\n",
      "Iteration 25, loss = 0.02206690\n",
      "Iteration 26, loss = 0.02202334\n",
      "Iteration 27, loss = 0.02190333\n",
      "Iteration 28, loss = 0.02192537\n",
      "Iteration 29, loss = 0.02185100\n",
      "Iteration 30, loss = 0.02181660\n",
      "Training loss did not improve more than tol=0.000100 for two consecutive epochs. Stopping.\n"
     ]
    }
   ],
   "source": [
    "model = r.rgr.fit(X,Y)"
   ]
  },
  {
   "cell_type": "code",
   "execution_count": 9,
   "metadata": {},
   "outputs": [
    {
     "data": {
      "text/plain": [
       "15.25158872381179"
      ]
     },
     "execution_count": 9,
     "metadata": {},
     "output_type": "execute_result"
    }
   ],
   "source": [
    "preds = scaler_Y.inverse_transform(model.predict(X))\n",
    "((abs(train['traveltime']-preds)/train['traveltime'])*100).mean()"
   ]
  },
  {
   "cell_type": "markdown",
   "metadata": {},
   "source": [
    "# Scores are surprisingly good when we test the whole model"
   ]
  },
  {
   "cell_type": "code",
   "execution_count": 20,
   "metadata": {},
   "outputs": [
    {
     "name": "stdout",
     "output_type": "stream",
     "text": [
      "16.576612184486894\n",
      "0.938767173558468\n"
     ]
    }
   ],
   "source": [
    "from sklearn import metrics\n",
    "real_Y = test['traveltime']\n",
    "X = scaler_X.transform(test[r.features])\n",
    "preds = scaler_Y.inverse_transform(model.predict(X))\n",
    "print(((abs(real_Y-preds)/real_Y)*100).mean())\n",
    "print(metrics.r2_score(real_Y,preds))"
   ]
  },
  {
   "cell_type": "code",
   "execution_count": null,
   "metadata": {},
   "outputs": [],
   "source": [
    "# There are negative predictions though"
   ]
  },
  {
   "cell_type": "code",
   "execution_count": 21,
   "metadata": {},
   "outputs": [
    {
     "data": {
      "text/plain": [
       "-163.9788332668868"
      ]
     },
     "execution_count": 21,
     "metadata": {},
     "output_type": "execute_result"
    }
   ],
   "source": [
    "preds.min()"
   ]
  },
  {
   "cell_type": "code",
   "execution_count": 23,
   "metadata": {},
   "outputs": [
    {
     "data": {
      "text/plain": [
       "2053"
      ]
     },
     "execution_count": 23,
     "metadata": {},
     "output_type": "execute_result"
    }
   ],
   "source": [
    "len(preds[preds < 0])"
   ]
  },
  {
   "cell_type": "markdown",
   "metadata": {},
   "source": [
    "## On closer inspection though"
   ]
  },
  {
   "cell_type": "code",
   "execution_count": 12,
   "metadata": {},
   "outputs": [
    {
     "name": "stdout",
     "output_type": "stream",
     "text": [
      "-163.9788332668868\n",
      "-147.27102014162165\n",
      "-101.0234427524706\n",
      "-70.52917744695333\n",
      "-31.267845097918325\n",
      "39.53184154289352\n",
      "88.84096849963589\n",
      "125.39827195493831\n",
      "159.44863626869756\n",
      "194.53359186465354\n",
      "229.52812865281385\n",
      "263.61833437738824\n",
      "286.8067675792058\n",
      "313.78509560462135\n",
      "359.71743361845483\n",
      "405.9001563275208\n",
      "440.4666874107164\n",
      "502.9863430298727\n",
      "548.1495282766209\n",
      "573.7967720325366\n",
      "707.3813525932707\n",
      "865.7614866013657\n",
      "1025.8406000118166\n",
      "1122.9941134565893\n",
      "1215.151657673121\n",
      "1253.8004084008983\n",
      "1291.3068835923418\n",
      "1332.3220855407437\n",
      "1380.8483672456232\n",
      "1440.1851271096984\n",
      "1496.4845719878306\n",
      "1530.622952558849\n",
      "1590.9875966264383\n",
      "1621.1332431555195\n",
      "1647.5547397648913\n",
      "1694.944612343571\n",
      "1756.9735777429257\n",
      "1780.5012589228306\n",
      "1807.2667373467802\n"
     ]
    }
   ],
   "source": [
    "distances = sorted(test['distance'].unique())\n",
    "ds = []\n",
    "r2 = []\n",
    "mape = []\n",
    "for i in range(0,len(distances)-1):\n",
    "    distance1 = distances[i]\n",
    "    distance2 = distances[i+1]\n",
    "    X = test[(test['distance']>=distance1) & (test['distance'] < distance2)]\n",
    "    real_Y = X['traveltime']\n",
    "    X = scaler_X.transform(X[r.features])\n",
    "    preds =  scaler_Y.inverse_transform(model.predict(X))\n",
    "    ds.append(distance1)\n",
    "    from sklearn import metrics\n",
    "    r2.append(metrics.r2_score(real_Y,preds))\n",
    "    mape.append(((abs(real_Y - preds)/real_Y)*100).mean())\n",
    "    print(preds.min())\n",
    "    \n",
    "    \n"
   ]
  },
  {
   "cell_type": "code",
   "execution_count": 16,
   "metadata": {},
   "outputs": [
    {
     "data": {
      "image/png": "[encoded data removed]",
      "text/plain": [
       "<Figure size 432x288 with 1 Axes>"
      ]
     },
     "metadata": {},
     "output_type": "display_data"
    }
   ],
   "source": [
    "from matplotlib import pyplot as plt\n",
    "plt.plot(ds,r2)\n",
    "plt.show()"
   ]
  },
  {
   "cell_type": "code",
   "execution_count": 14,
   "metadata": {},
   "outputs": [
    {
     "data": {
      "image/png": "[encoded data removed]",
      "text/plain": [
       "<Figure size 432x288 with 1 Axes>"
      ]
     },
     "metadata": {},
     "output_type": "display_data"
    }
   ],
   "source": [
    "from matplotlib import pyplot as plt\n",
    "plt.plot(ds[5:],r2[5:])\n",
    "plt.show()"
   ]
  },
  {
   "cell_type": "code",
   "execution_count": 16,
   "metadata": {},
   "outputs": [
    {
     "data": {
      "text/plain": [
       "0.579678378096769"
      ]
     },
     "execution_count": 16,
     "metadata": {},
     "output_type": "execute_result"
    }
   ],
   "source": [
    "max(r2)"
   ]
  },
  {
   "cell_type": "code",
   "execution_count": 17,
   "metadata": {},
   "outputs": [
    {
     "data": {
      "text/plain": [
       "[<matplotlib.lines.Line2D at 0x7ff425dcd0b8>]"
      ]
     },
     "execution_count": 17,
     "metadata": {},
     "output_type": "execute_result"
    },
    {
     "data": {
      "image/png": "[encoded data removed]",
      "text/plain": [
       "<Figure size 432x288 with 1 Axes>"
      ]
     },
     "metadata": {},
     "output_type": "display_data"
    }
   ],
   "source": [
    "plt.plot(ds,mape)\n"
   ]
  },
  {
   "cell_type": "code",
   "execution_count": 20,
   "metadata": {},
   "outputs": [
    {
     "data": {
      "text/plain": [
       "8.066871460208265"
      ]
     },
     "execution_count": 20,
     "metadata": {},
     "output_type": "execute_result"
    }
   ],
   "source": [
    "min(mape)"
   ]
  },
  {
   "cell_type": "code",
   "execution_count": 18,
   "metadata": {},
   "outputs": [
    {
     "data": {
      "text/plain": [
       "[<matplotlib.lines.Line2D at 0x7ff425d238d0>]"
      ]
     },
     "execution_count": 18,
     "metadata": {},
     "output_type": "execute_result"
    },
    {
     "data": {
      "image/png": "[encoded data removed]",
      "text/plain": [
       "<Figure size 432x288 with 1 Axes>"
      ]
     },
     "metadata": {},
     "output_type": "display_data"
    }
   ],
   "source": [
    "plt.plot(ds[5:],mape[5:])\n"
   ]
  },
  {
   "cell_type": "markdown",
   "metadata": {},
   "source": [
    "## Scores for small distances are not very good at all. There are also numerous negative predictions.\n",
    "\n"
   ]
  },
  {
   "cell_type": "code",
   "execution_count": 19,
   "metadata": {},
   "outputs": [
    {
     "data": {
      "text/plain": [
       "1807.2667373467802"
      ]
     },
     "execution_count": 19,
     "metadata": {},
     "output_type": "execute_result"
    }
   ],
   "source": [
    "preds.min()"
   ]
  },
  {
   "cell_type": "code",
   "execution_count": null,
   "metadata": {},
   "outputs": [],
   "source": []
  }
 ],
 "metadata": {
  "kernelspec": {
   "display_name": "Python 3",
   "language": "python",
   "name": "python3"
  },
  "language_info": {
   "codemirror_mode": {
    "name": "ipython",
    "version": 3
   },
   "file_extension": ".py",
   "mimetype": "text/x-python",
   "name": "python",
   "nbconvert_exporter": "python",
   "pygments_lexer": "ipython3",
   "version": "3.6.5"
  }
 },
 "nbformat": 4,
 "nbformat_minor": 2
}
