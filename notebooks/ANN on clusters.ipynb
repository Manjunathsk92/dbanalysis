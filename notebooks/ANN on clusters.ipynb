{
 "cells": [
  {
   "cell_type": "code",
   "execution_count": 42,
   "metadata": {},
   "outputs": [],
   "source": [
    "import numpy as np\n",
    "import pandas as pd\n",
    "from sklearn.neural_network import MLPClassifier, MLPRegressor\n",
    "from sklearn.cross_validation import train_test_split\n",
    "from dbanalysis import stop_tools\n",
    "from dbanalysis import headers as hd\n",
    "import time\n",
    "from sklearn.metrics import mean_absolute_error\n",
    "import xgboost\n",
    "from xgboost import XGBRegressor\n",
    "from sklearn import metrics\n",
    "#from sklearn.utils import check_arrays\n",
    "\n",
    "pd.set_option('display.max_columns', 500)"
   ]
  },
  {
   "cell_type": "code",
   "execution_count": 43,
   "metadata": {},
   "outputs": [],
   "source": [
    "\n",
    "def mean_absolute_percentage_error(y_true, y_pred): \n",
    "    y_true, y_pred = np.array(y_true), np.array(y_pred)\n",
    "    MAPE=np.mean(np.abs((y_true - y_pred) / y_true)) * 100\n",
    "    del(y_true)\n",
    "    del(y_pred)\n",
    "    return MAPE"
   ]
  },
  {
   "cell_type": "code",
   "execution_count": 44,
   "metadata": {},
   "outputs": [],
   "source": [
    "def neural_networks(df, df_traveltime):\n",
    "    errors=[]\n",
    "    x_train, x_test, y_train, y_test=train_test_split(df, df_traveltime, test_size=0.2, random_state=4)\n",
    "    nn=MLPRegressor(activation='relu',solver='adam',hidden_layer_sizes=(100, 60,20),random_state=1, max_iter=1000)\n",
    "    nn.fit(x_train,y_train.values.ravel())\n",
    "    pred=nn.predict(x_test)\n",
    "    errors.append(mean_absolute_error(y_test, pred))\n",
    "    errors.append(mean_absolute_percentage_error(y_test, pred))\n",
    "    errors.append(metrics.r2_score(y_test, pred))\n",
    "    del(df)\n",
    "    del(df_traveltime)\n",
    "    return errors\n",
    "    "
   ]
  },
  {
   "cell_type": "code",
   "execution_count": 65,
   "metadata": {},
   "outputs": [],
   "source": [
    "def xgb(df, df_traveltime):\n",
    "    errors=[]\n",
    "    x_train, x_test, y_train, y_test=train_test_split(df, df_traveltime, test_size=0.2, random_state=4)\n",
    "    xgb=XGBRegressor()\n",
    "    xgb.fit(x_train,y_train.values.ravel())\n",
    "    pred=xgb.predict(x_test)\n",
    "    errors.append(mean_absolute_error(y_test, pred))\n",
    "    errors.append(mean_absolute_percentage_error(y_test, pred))\n",
    "    errors.append(metrics.r2_score(y_test, pred))\n",
    "    del(df)\n",
    "    del(df_traveltime)\n",
    "    return errors"
   ]
  },
  {
   "cell_type": "code",
   "execution_count": 45,
   "metadata": {},
   "outputs": [],
   "source": [
    "df_cluster= pd.read_csv('/data/cluser1.csv')"
   ]
  },
  {
   "cell_type": "code",
   "execution_count": 46,
   "metadata": {},
   "outputs": [
    {
     "data": {
      "text/plain": [
       "(228097, 29)"
      ]
     },
     "execution_count": 46,
     "metadata": {},
     "output_type": "execute_result"
    }
   ],
   "source": [
    "df_cluster.shape"
   ]
  },
  {
   "cell_type": "code",
   "execution_count": 47,
   "metadata": {},
   "outputs": [
    {
     "data": {
      "text/html": [
       "<div>\n",
       "<style scoped>\n",
       "    .dataframe tbody tr th:only-of-type {\n",
       "        vertical-align: middle;\n",
       "    }\n",
       "\n",
       "    .dataframe tbody tr th {\n",
       "        vertical-align: top;\n",
       "    }\n",
       "\n",
       "    .dataframe thead th {\n",
       "        text-align: right;\n",
       "    }\n",
       "</style>\n",
       "<table border=\"1\" class=\"dataframe\">\n",
       "  <thead>\n",
       "    <tr style=\"text-align: right;\">\n",
       "      <th></th>\n",
       "      <th>index</th>\n",
       "      <th>dayofservice</th>\n",
       "      <th>tripid</th>\n",
       "      <th>plannedtime_arr_from</th>\n",
       "      <th>plannedtime_dep_from</th>\n",
       "      <th>actualtime_arr_from</th>\n",
       "      <th>actualtime_dep_from</th>\n",
       "      <th>plannedtime_arr_to</th>\n",
       "      <th>actualtime_arr_to</th>\n",
       "      <th>routeid</th>\n",
       "      <th>fromstop</th>\n",
       "      <th>tostop</th>\n",
       "      <th>traveltime</th>\n",
       "      <th>dwelltime</th>\n",
       "      <th>distance</th>\n",
       "      <th>speed</th>\n",
       "      <th>dt</th>\n",
       "      <th>date</th>\n",
       "      <th>day</th>\n",
       "      <th>month</th>\n",
       "      <th>hour</th>\n",
       "      <th>year</th>\n",
       "      <th>dewpt</th>\n",
       "      <th>msl</th>\n",
       "      <th>rain</th>\n",
       "      <th>rhum</th>\n",
       "      <th>temp</th>\n",
       "      <th>vappr</th>\n",
       "      <th>wetb</th>\n",
       "    </tr>\n",
       "  </thead>\n",
       "  <tbody>\n",
       "    <tr>\n",
       "      <th>0</th>\n",
       "      <td>40</td>\n",
       "      <td>03-JAN-17 00:00:00</td>\n",
       "      <td>4089854</td>\n",
       "      <td>26003</td>\n",
       "      <td>26003</td>\n",
       "      <td>25729</td>\n",
       "      <td>25729</td>\n",
       "      <td>26023</td>\n",
       "      <td>25746</td>\n",
       "      <td>31_16</td>\n",
       "      <td>553</td>\n",
       "      <td>554</td>\n",
       "      <td>17</td>\n",
       "      <td>0</td>\n",
       "      <td>0.309288</td>\n",
       "      <td>65.496177</td>\n",
       "      <td>2017-01-03</td>\n",
       "      <td>2017-01-03</td>\n",
       "      <td>1</td>\n",
       "      <td>1</td>\n",
       "      <td>7</td>\n",
       "      <td>2017</td>\n",
       "      <td>0.5</td>\n",
       "      <td>1031.2</td>\n",
       "      <td>0.0</td>\n",
       "      <td>92</td>\n",
       "      <td>1.6</td>\n",
       "      <td>6.3</td>\n",
       "      <td>1.2</td>\n",
       "    </tr>\n",
       "    <tr>\n",
       "      <th>1</th>\n",
       "      <td>6693</td>\n",
       "      <td>03-JAN-17 00:00:00</td>\n",
       "      <td>4089907</td>\n",
       "      <td>27433</td>\n",
       "      <td>27433</td>\n",
       "      <td>27159</td>\n",
       "      <td>27172</td>\n",
       "      <td>27474</td>\n",
       "      <td>27200</td>\n",
       "      <td>31_15</td>\n",
       "      <td>553</td>\n",
       "      <td>554</td>\n",
       "      <td>28</td>\n",
       "      <td>13</td>\n",
       "      <td>0.309288</td>\n",
       "      <td>39.765536</td>\n",
       "      <td>2017-01-03</td>\n",
       "      <td>2017-01-03</td>\n",
       "      <td>1</td>\n",
       "      <td>1</td>\n",
       "      <td>7</td>\n",
       "      <td>2017</td>\n",
       "      <td>0.5</td>\n",
       "      <td>1031.2</td>\n",
       "      <td>0.0</td>\n",
       "      <td>92</td>\n",
       "      <td>1.6</td>\n",
       "      <td>6.3</td>\n",
       "      <td>1.2</td>\n",
       "    </tr>\n",
       "    <tr>\n",
       "      <th>2</th>\n",
       "      <td>16790</td>\n",
       "      <td>03-JAN-17 00:00:00</td>\n",
       "      <td>4089941</td>\n",
       "      <td>29098</td>\n",
       "      <td>29098</td>\n",
       "      <td>28591</td>\n",
       "      <td>28591</td>\n",
       "      <td>29120</td>\n",
       "      <td>28610</td>\n",
       "      <td>31_15</td>\n",
       "      <td>553</td>\n",
       "      <td>554</td>\n",
       "      <td>19</td>\n",
       "      <td>0</td>\n",
       "      <td>0.309288</td>\n",
       "      <td>58.601843</td>\n",
       "      <td>2017-01-03</td>\n",
       "      <td>2017-01-03</td>\n",
       "      <td>1</td>\n",
       "      <td>1</td>\n",
       "      <td>7</td>\n",
       "      <td>2017</td>\n",
       "      <td>0.5</td>\n",
       "      <td>1031.2</td>\n",
       "      <td>0.0</td>\n",
       "      <td>92</td>\n",
       "      <td>1.6</td>\n",
       "      <td>6.3</td>\n",
       "      <td>1.2</td>\n",
       "    </tr>\n",
       "    <tr>\n",
       "      <th>3</th>\n",
       "      <td>83</td>\n",
       "      <td>04-JAN-17 00:00:00</td>\n",
       "      <td>4089854</td>\n",
       "      <td>26003</td>\n",
       "      <td>26003</td>\n",
       "      <td>25890</td>\n",
       "      <td>25890</td>\n",
       "      <td>26023</td>\n",
       "      <td>25909</td>\n",
       "      <td>31_16</td>\n",
       "      <td>553</td>\n",
       "      <td>554</td>\n",
       "      <td>19</td>\n",
       "      <td>0</td>\n",
       "      <td>0.309288</td>\n",
       "      <td>58.601843</td>\n",
       "      <td>2017-01-04</td>\n",
       "      <td>2017-01-04</td>\n",
       "      <td>2</td>\n",
       "      <td>1</td>\n",
       "      <td>7</td>\n",
       "      <td>2017</td>\n",
       "      <td>4.0</td>\n",
       "      <td>1028.9</td>\n",
       "      <td>0.0</td>\n",
       "      <td>94</td>\n",
       "      <td>4.8</td>\n",
       "      <td>8.1</td>\n",
       "      <td>4.4</td>\n",
       "    </tr>\n",
       "    <tr>\n",
       "      <th>4</th>\n",
       "      <td>6745</td>\n",
       "      <td>04-JAN-17 00:00:00</td>\n",
       "      <td>4089907</td>\n",
       "      <td>27433</td>\n",
       "      <td>27433</td>\n",
       "      <td>27235</td>\n",
       "      <td>27245</td>\n",
       "      <td>27474</td>\n",
       "      <td>27270</td>\n",
       "      <td>31_15</td>\n",
       "      <td>553</td>\n",
       "      <td>554</td>\n",
       "      <td>25</td>\n",
       "      <td>10</td>\n",
       "      <td>0.309288</td>\n",
       "      <td>44.537401</td>\n",
       "      <td>2017-01-04</td>\n",
       "      <td>2017-01-04</td>\n",
       "      <td>2</td>\n",
       "      <td>1</td>\n",
       "      <td>7</td>\n",
       "      <td>2017</td>\n",
       "      <td>4.0</td>\n",
       "      <td>1028.9</td>\n",
       "      <td>0.0</td>\n",
       "      <td>94</td>\n",
       "      <td>4.8</td>\n",
       "      <td>8.1</td>\n",
       "      <td>4.4</td>\n",
       "    </tr>\n",
       "    <tr>\n",
       "      <th>5</th>\n",
       "      <td>16842</td>\n",
       "      <td>04-JAN-17 00:00:00</td>\n",
       "      <td>4089941</td>\n",
       "      <td>29098</td>\n",
       "      <td>29098</td>\n",
       "      <td>28575</td>\n",
       "      <td>28575</td>\n",
       "      <td>29120</td>\n",
       "      <td>28593</td>\n",
       "      <td>31_15</td>\n",
       "      <td>553</td>\n",
       "      <td>554</td>\n",
       "      <td>18</td>\n",
       "      <td>0</td>\n",
       "      <td>0.309288</td>\n",
       "      <td>61.857501</td>\n",
       "      <td>2017-01-04</td>\n",
       "      <td>2017-01-04</td>\n",
       "      <td>2</td>\n",
       "      <td>1</td>\n",
       "      <td>7</td>\n",
       "      <td>2017</td>\n",
       "      <td>4.0</td>\n",
       "      <td>1028.9</td>\n",
       "      <td>0.0</td>\n",
       "      <td>94</td>\n",
       "      <td>4.8</td>\n",
       "      <td>8.1</td>\n",
       "      <td>4.4</td>\n",
       "    </tr>\n",
       "    <tr>\n",
       "      <th>6</th>\n",
       "      <td>126</td>\n",
       "      <td>05-JAN-17 00:00:00</td>\n",
       "      <td>4089854</td>\n",
       "      <td>26003</td>\n",
       "      <td>26003</td>\n",
       "      <td>25863</td>\n",
       "      <td>25863</td>\n",
       "      <td>26023</td>\n",
       "      <td>25880</td>\n",
       "      <td>31_16</td>\n",
       "      <td>553</td>\n",
       "      <td>554</td>\n",
       "      <td>17</td>\n",
       "      <td>0</td>\n",
       "      <td>0.309288</td>\n",
       "      <td>65.496177</td>\n",
       "      <td>2017-01-05</td>\n",
       "      <td>2017-01-05</td>\n",
       "      <td>3</td>\n",
       "      <td>1</td>\n",
       "      <td>7</td>\n",
       "      <td>2017</td>\n",
       "      <td>-1.4</td>\n",
       "      <td>1031.7</td>\n",
       "      <td>0.0</td>\n",
       "      <td>95</td>\n",
       "      <td>-0.8</td>\n",
       "      <td>5.5</td>\n",
       "      <td>-1.0</td>\n",
       "    </tr>\n",
       "    <tr>\n",
       "      <th>7</th>\n",
       "      <td>6797</td>\n",
       "      <td>05-JAN-17 00:00:00</td>\n",
       "      <td>4089907</td>\n",
       "      <td>27433</td>\n",
       "      <td>27433</td>\n",
       "      <td>27428</td>\n",
       "      <td>27438</td>\n",
       "      <td>27474</td>\n",
       "      <td>27463</td>\n",
       "      <td>31_15</td>\n",
       "      <td>553</td>\n",
       "      <td>554</td>\n",
       "      <td>25</td>\n",
       "      <td>10</td>\n",
       "      <td>0.309288</td>\n",
       "      <td>44.537401</td>\n",
       "      <td>2017-01-05</td>\n",
       "      <td>2017-01-05</td>\n",
       "      <td>3</td>\n",
       "      <td>1</td>\n",
       "      <td>7</td>\n",
       "      <td>2017</td>\n",
       "      <td>-1.4</td>\n",
       "      <td>1031.7</td>\n",
       "      <td>0.0</td>\n",
       "      <td>95</td>\n",
       "      <td>-0.8</td>\n",
       "      <td>5.5</td>\n",
       "      <td>-1.0</td>\n",
       "    </tr>\n",
       "    <tr>\n",
       "      <th>8</th>\n",
       "      <td>16894</td>\n",
       "      <td>05-JAN-17 00:00:00</td>\n",
       "      <td>4089941</td>\n",
       "      <td>29098</td>\n",
       "      <td>29098</td>\n",
       "      <td>28579</td>\n",
       "      <td>28579</td>\n",
       "      <td>29120</td>\n",
       "      <td>28595</td>\n",
       "      <td>31_15</td>\n",
       "      <td>553</td>\n",
       "      <td>554</td>\n",
       "      <td>16</td>\n",
       "      <td>0</td>\n",
       "      <td>0.309288</td>\n",
       "      <td>69.589688</td>\n",
       "      <td>2017-01-05</td>\n",
       "      <td>2017-01-05</td>\n",
       "      <td>3</td>\n",
       "      <td>1</td>\n",
       "      <td>7</td>\n",
       "      <td>2017</td>\n",
       "      <td>-1.4</td>\n",
       "      <td>1031.7</td>\n",
       "      <td>0.0</td>\n",
       "      <td>95</td>\n",
       "      <td>-0.8</td>\n",
       "      <td>5.5</td>\n",
       "      <td>-1.0</td>\n",
       "    </tr>\n",
       "    <tr>\n",
       "      <th>9</th>\n",
       "      <td>169</td>\n",
       "      <td>06-JAN-17 00:00:00</td>\n",
       "      <td>4089854</td>\n",
       "      <td>26003</td>\n",
       "      <td>26003</td>\n",
       "      <td>25954</td>\n",
       "      <td>25968</td>\n",
       "      <td>26023</td>\n",
       "      <td>25996</td>\n",
       "      <td>31_16</td>\n",
       "      <td>553</td>\n",
       "      <td>554</td>\n",
       "      <td>28</td>\n",
       "      <td>14</td>\n",
       "      <td>0.309288</td>\n",
       "      <td>39.765536</td>\n",
       "      <td>2017-01-06</td>\n",
       "      <td>2017-01-06</td>\n",
       "      <td>4</td>\n",
       "      <td>1</td>\n",
       "      <td>7</td>\n",
       "      <td>2017</td>\n",
       "      <td>7.7</td>\n",
       "      <td>1027.8</td>\n",
       "      <td>0.1</td>\n",
       "      <td>86</td>\n",
       "      <td>9.9</td>\n",
       "      <td>10.5</td>\n",
       "      <td>8.8</td>\n",
       "    </tr>\n",
       "  </tbody>\n",
       "</table>\n",
       "</div>"
      ],
      "text/plain": [
       "   index        dayofservice   tripid  plannedtime_arr_from  \\\n",
       "0     40  03-JAN-17 00:00:00  4089854                 26003   \n",
       "1   6693  03-JAN-17 00:00:00  4089907                 27433   \n",
       "2  16790  03-JAN-17 00:00:00  4089941                 29098   \n",
       "3     83  04-JAN-17 00:00:00  4089854                 26003   \n",
       "4   6745  04-JAN-17 00:00:00  4089907                 27433   \n",
       "5  16842  04-JAN-17 00:00:00  4089941                 29098   \n",
       "6    126  05-JAN-17 00:00:00  4089854                 26003   \n",
       "7   6797  05-JAN-17 00:00:00  4089907                 27433   \n",
       "8  16894  05-JAN-17 00:00:00  4089941                 29098   \n",
       "9    169  06-JAN-17 00:00:00  4089854                 26003   \n",
       "\n",
       "   plannedtime_dep_from  actualtime_arr_from  actualtime_dep_from  \\\n",
       "0                 26003                25729                25729   \n",
       "1                 27433                27159                27172   \n",
       "2                 29098                28591                28591   \n",
       "3                 26003                25890                25890   \n",
       "4                 27433                27235                27245   \n",
       "5                 29098                28575                28575   \n",
       "6                 26003                25863                25863   \n",
       "7                 27433                27428                27438   \n",
       "8                 29098                28579                28579   \n",
       "9                 26003                25954                25968   \n",
       "\n",
       "   plannedtime_arr_to  actualtime_arr_to routeid  fromstop  tostop  \\\n",
       "0               26023              25746   31_16       553     554   \n",
       "1               27474              27200   31_15       553     554   \n",
       "2               29120              28610   31_15       553     554   \n",
       "3               26023              25909   31_16       553     554   \n",
       "4               27474              27270   31_15       553     554   \n",
       "5               29120              28593   31_15       553     554   \n",
       "6               26023              25880   31_16       553     554   \n",
       "7               27474              27463   31_15       553     554   \n",
       "8               29120              28595   31_15       553     554   \n",
       "9               26023              25996   31_16       553     554   \n",
       "\n",
       "   traveltime  dwelltime  distance      speed          dt        date  day  \\\n",
       "0          17          0  0.309288  65.496177  2017-01-03  2017-01-03    1   \n",
       "1          28         13  0.309288  39.765536  2017-01-03  2017-01-03    1   \n",
       "2          19          0  0.309288  58.601843  2017-01-03  2017-01-03    1   \n",
       "3          19          0  0.309288  58.601843  2017-01-04  2017-01-04    2   \n",
       "4          25         10  0.309288  44.537401  2017-01-04  2017-01-04    2   \n",
       "5          18          0  0.309288  61.857501  2017-01-04  2017-01-04    2   \n",
       "6          17          0  0.309288  65.496177  2017-01-05  2017-01-05    3   \n",
       "7          25         10  0.309288  44.537401  2017-01-05  2017-01-05    3   \n",
       "8          16          0  0.309288  69.589688  2017-01-05  2017-01-05    3   \n",
       "9          28         14  0.309288  39.765536  2017-01-06  2017-01-06    4   \n",
       "\n",
       "   month  hour  year  dewpt     msl  rain  rhum  temp  vappr  wetb  \n",
       "0      1     7  2017    0.5  1031.2   0.0    92   1.6    6.3   1.2  \n",
       "1      1     7  2017    0.5  1031.2   0.0    92   1.6    6.3   1.2  \n",
       "2      1     7  2017    0.5  1031.2   0.0    92   1.6    6.3   1.2  \n",
       "3      1     7  2017    4.0  1028.9   0.0    94   4.8    8.1   4.4  \n",
       "4      1     7  2017    4.0  1028.9   0.0    94   4.8    8.1   4.4  \n",
       "5      1     7  2017    4.0  1028.9   0.0    94   4.8    8.1   4.4  \n",
       "6      1     7  2017   -1.4  1031.7   0.0    95  -0.8    5.5  -1.0  \n",
       "7      1     7  2017   -1.4  1031.7   0.0    95  -0.8    5.5  -1.0  \n",
       "8      1     7  2017   -1.4  1031.7   0.0    95  -0.8    5.5  -1.0  \n",
       "9      1     7  2017    7.7  1027.8   0.1    86   9.9   10.5   8.8  "
      ]
     },
     "execution_count": 47,
     "metadata": {},
     "output_type": "execute_result"
    }
   ],
   "source": [
    "df_cluster.head(10)"
   ]
  },
  {
   "cell_type": "code",
   "execution_count": 48,
   "metadata": {},
   "outputs": [
    {
     "data": {
      "text/plain": [
       "array([ 553, 3276, 2167, 3578, 4552, 3576,  554, 1630, 3914, 3329, 4608,\n",
       "       3725, 1210, 1551, 3912, 1550, 3277, 4323, 6119, 4559, 7389, 3393,\n",
       "       7140, 3387, 6109, 2967])"
      ]
     },
     "execution_count": 48,
     "metadata": {},
     "output_type": "execute_result"
    }
   ],
   "source": [
    "df_cluster['fromstop'].unique()"
   ]
  },
  {
   "cell_type": "code",
   "execution_count": 49,
   "metadata": {},
   "outputs": [],
   "source": [
    "df=df_cluster[[ 'dewpt', 'msl', 'rain', 'rhum', 'temp', 'vappr', 'wetb','distance']]"
   ]
  },
  {
   "cell_type": "code",
   "execution_count": 50,
   "metadata": {},
   "outputs": [],
   "source": [
    "df_traveltime=df_cluster[['traveltime']]"
   ]
  },
  {
   "cell_type": "code",
   "execution_count": 51,
   "metadata": {},
   "outputs": [],
   "source": [
    "day_dummies = pd.get_dummies(df_cluster.day, prefix='day')\n",
    "hour_dummies = pd.get_dummies(df_cluster.hour, prefix='hour')"
   ]
  },
  {
   "cell_type": "code",
   "execution_count": 52,
   "metadata": {},
   "outputs": [],
   "source": [
    "fromstop_dummies=pd.get_dummies(df_cluster.fromstop, prefix='fromstop')\n",
    "tostop_dummies=pd.get_dummies(df_cluster.tostop, prefix='tostop')"
   ]
  },
  {
   "cell_type": "code",
   "execution_count": 53,
   "metadata": {},
   "outputs": [],
   "source": [
    "df=pd.concat([df, day_dummies, hour_dummies], axis=1)"
   ]
  },
  {
   "cell_type": "code",
   "execution_count": 54,
   "metadata": {},
   "outputs": [
    {
     "data": {
      "text/plain": [
       "(228097, 33)"
      ]
     },
     "execution_count": 54,
     "metadata": {},
     "output_type": "execute_result"
    }
   ],
   "source": [
    "df.shape"
   ]
  },
  {
   "cell_type": "code",
   "execution_count": 60,
   "metadata": {},
   "outputs": [],
   "source": [
    "df_reduced=df[:50000]"
   ]
  },
  {
   "cell_type": "code",
   "execution_count": 61,
   "metadata": {},
   "outputs": [
    {
     "data": {
      "text/plain": [
       "(50000, 33)"
      ]
     },
     "execution_count": 61,
     "metadata": {},
     "output_type": "execute_result"
    }
   ],
   "source": [
    "df_reduced.shape"
   ]
  },
  {
   "cell_type": "code",
   "execution_count": 62,
   "metadata": {},
   "outputs": [],
   "source": [
    "df_reduced_traveltime=df_traveltime[:50000]"
   ]
  },
  {
   "cell_type": "code",
   "execution_count": 63,
   "metadata": {},
   "outputs": [],
   "source": [
    "err=neural_networks(df_reduced,df_reduced_traveltime)"
   ]
  },
  {
   "cell_type": "code",
   "execution_count": 64,
   "metadata": {},
   "outputs": [
    {
     "data": {
      "text/plain": [
       "[4.970289862711456, 43.50231007082941, 0.16127288823820607]"
      ]
     },
     "execution_count": 64,
     "metadata": {},
     "output_type": "execute_result"
    }
   ],
   "source": [
    "err"
   ]
  },
  {
   "cell_type": "code",
   "execution_count": 66,
   "metadata": {},
   "outputs": [],
   "source": [
    "err_xgb=xgb(df_reduced,df_reduced_traveltime)"
   ]
  },
  {
   "cell_type": "code",
   "execution_count": 67,
   "metadata": {},
   "outputs": [
    {
     "data": {
      "text/plain": [
       "[4.938751832008362, 48.21394805230225, 0.17746744303629391]"
      ]
     },
     "execution_count": 67,
     "metadata": {},
     "output_type": "execute_result"
    }
   ],
   "source": [
    "err_xgb"
   ]
  },
  {
   "cell_type": "code",
   "execution_count": null,
   "metadata": {},
   "outputs": [],
   "source": []
  }
 ],
 "metadata": {
  "kernelspec": {
   "display_name": "Python 3",
   "language": "python",
   "name": "python3"
  },
  "language_info": {
   "codemirror_mode": {
    "name": "ipython",
    "version": 3
   },
   "file_extension": ".py",
   "mimetype": "text/x-python",
   "name": "python",
   "nbconvert_exporter": "python",
   "pygments_lexer": "ipython3",
   "version": "3.6.5"
  }
 },
 "nbformat": 4,
 "nbformat_minor": 2
}
