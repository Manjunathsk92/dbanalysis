{
 "cells": [
  {
   "cell_type": "code",
   "execution_count": 1,
   "metadata": {},
   "outputs": [],
   "source": [
    "from dbanalysis import stop_tools"
   ]
  },
  {
   "cell_type": "markdown",
   "metadata": {},
   "source": [
    "# SVM on one stop"
   ]
  },
  {
   "cell_type": "code",
   "execution_count": 23,
   "metadata": {},
   "outputs": [],
   "source": [
    "stop = (stop_tools.random_stop_data()).dropna()"
   ]
  },
  {
   "cell_type": "code",
   "execution_count": 3,
   "metadata": {},
   "outputs": [
    {
     "data": {
      "text/plain": [
       "Index(['index', 'dayofservice', 'tripid', 'plannedtime_arr_from',\n",
       "       'plannedtime_dep_from', 'actualtime_arr_from', 'actualtime_dep_from',\n",
       "       'plannedtime_arr_to', 'actualtime_arr_to', 'routeid', 'fromstop',\n",
       "       'tostop', 'traveltime', 'dwelltime', 'distance', 'speed', 'dt', 'date',\n",
       "       'day', 'month', 'hour', 'year', 'dewpt', 'msl', 'rain', 'rhum', 'temp',\n",
       "       'vappr', 'wetb'],\n",
       "      dtype='object')"
      ]
     },
     "execution_count": 3,
     "metadata": {},
     "output_type": "execute_result"
    }
   ],
   "source": [
    "stop.columns"
   ]
  },
  {
   "cell_type": "code",
   "execution_count": 24,
   "metadata": {},
   "outputs": [],
   "source": [
    "cols = [col for col in stop.columns if col not in ['index','dayofservice','tripid','date','dt','routeid']]"
   ]
  },
  {
   "cell_type": "code",
   "execution_count": 25,
   "metadata": {},
   "outputs": [
    {
     "name": "stdout",
     "output_type": "stream",
     "text": [
      "(3149, 29)\n",
      "(2044, 29)\n"
     ]
    }
   ],
   "source": [
    "train = stop[stop['year']==2016]\n",
    "test=stop[stop['year']==2017]\n",
    "print(train.shape)\n",
    "print(test.shape)"
   ]
  },
  {
   "cell_type": "code",
   "execution_count": 16,
   "metadata": {},
   "outputs": [],
   "source": [
    "features = [col for col in cols if col not in ['speed','traveltime','dwelltime','actualtime_arr_to','planned_time_arr_to']]"
   ]
  },
  {
   "cell_type": "code",
   "execution_count": 17,
   "metadata": {},
   "outputs": [],
   "source": [
    "features = [f for f in features if f not in ['fromstop','tostop','plannedtime_arr_to']]"
   ]
  },
  {
   "cell_type": "code",
   "execution_count": 9,
   "metadata": {},
   "outputs": [],
   "source": [
    "from sklearn.svm import SVR"
   ]
  },
  {
   "cell_type": "code",
   "execution_count": 69,
   "metadata": {},
   "outputs": [
    {
     "name": "stdout",
     "output_type": "stream",
     "text": [
      "9.416986746631142\n",
      "0.25945577860579566\n"
     ]
    }
   ],
   "source": [
    "regr=SVR().fit(train[features],train['traveltime'])\n",
    "preds=regr.predict(test[features])\n",
    "from sklearn import metrics\n",
    "print(metrics.mean_absolute_error(test['traveltime'],preds))\n",
    "percentage_errors = (abs(test['traveltime']-preds) / test['traveltime'])\n",
    "print(percentage_errors.mean())"
   ]
  },
  {
   "cell_type": "code",
   "execution_count": 71,
   "metadata": {},
   "outputs": [
    {
     "name": "stdout",
     "output_type": "stream",
     "text": [
      "9.416464220243617\n",
      "0.25950796286501215\n"
     ]
    }
   ],
   "source": [
    "regr=SVR(epsilon=0.0001).fit(train[features],train['traveltime'])\n",
    "preds=regr.predict(test[features])\n",
    "from sklearn import metrics\n",
    "print(metrics.mean_absolute_error(test['traveltime'],preds))\n",
    "percentage_errors = (abs(test['traveltime']-preds) / test['traveltime'])\n",
    "print(percentage_errors.mean())"
   ]
  },
  {
   "cell_type": "code",
   "execution_count": 72,
   "metadata": {},
   "outputs": [
    {
     "name": "stdout",
     "output_type": "stream",
     "text": [
      "9.41696297979627\n",
      "0.2594400170272908\n"
     ]
    }
   ],
   "source": [
    "regr=SVR(C=2.0,epsilon=0.0001).fit(train[features],train['traveltime'])\n",
    "preds=regr.predict(test[features])\n",
    "from sklearn import metrics\n",
    "print(metrics.mean_absolute_error(test['traveltime'],preds))\n",
    "percentage_errors = (abs(test['traveltime']-preds) / test['traveltime'])\n",
    "print(percentage_errors.mean())"
   ]
  },
  {
   "cell_type": "code",
   "execution_count": 74,
   "metadata": {},
   "outputs": [
    {
     "name": "stdout",
     "output_type": "stream",
     "text": [
      "9.404737193101466\n",
      "0.2698464871252399\n"
     ]
    }
   ],
   "source": [
    "regr=SVR(C=10.0,epsilon=0.0001).fit(train[features],train['traveltime'])\n",
    "preds=regr.predict(test[features])\n",
    "from sklearn import metrics\n",
    "print(metrics.mean_absolute_error(test['traveltime'],preds))\n",
    "percentage_errors = (abs(test['traveltime']-preds) / test['traveltime'])\n",
    "print(percentage_errors.mean())"
   ]
  },
  {
   "cell_type": "markdown",
   "metadata": {},
   "source": [
    "# Error is reduced by upping C"
   ]
  },
  {
   "cell_type": "code",
   "execution_count": 75,
   "metadata": {},
   "outputs": [
    {
     "name": "stdout",
     "output_type": "stream",
     "text": [
      "9.603303439259783\n",
      "0.29762491225089255\n"
     ]
    }
   ],
   "source": [
    "regr=SVR(C=20.0,epsilon=0.0001).fit(train[features],train['traveltime'])\n",
    "preds=regr.predict(test[features])\n",
    "from sklearn import metrics\n",
    "print(metrics.mean_absolute_error(test['traveltime'],preds))\n",
    "percentage_errors = (abs(test['traveltime']-preds) / test['traveltime'])\n",
    "print(percentage_errors.mean())\n"
   ]
  },
  {
   "cell_type": "markdown",
   "metadata": {},
   "source": [
    "### Actually this is not necessarily true"
   ]
  },
  {
   "cell_type": "code",
   "execution_count": null,
   "metadata": {},
   "outputs": [],
   "source": [
    "regr=SVR(C=10.0,epsilon=0.0001,kernel='linear').fit(train[features],train['traveltime'])\n",
    "preds=regr.predict(test[features])\n",
    "from sklearn import metrics\n",
    "print(metrics.mean_absolute_error(test['traveltime'],preds))\n",
    "percentage_errors = (abs(test['traveltime']-preds) / test['traveltime'])\n",
    "print(percentage_errors.mean())"
   ]
  },
  {
   "cell_type": "markdown",
   "metadata": {},
   "source": [
    "## 'Linear Kernel seems to break and take forever'"
   ]
  },
  {
   "cell_type": "markdown",
   "metadata": {},
   "source": [
    "## Try 'Linearsvm'"
   ]
  },
  {
   "cell_type": "code",
   "execution_count": 18,
   "metadata": {},
   "outputs": [],
   "source": [
    "from sklearn.svm import LinearSVR"
   ]
  },
  {
   "cell_type": "code",
   "execution_count": 36,
   "metadata": {},
   "outputs": [
    {
     "name": "stdout",
     "output_type": "stream",
     "text": [
      "3.877926345508803\n",
      "16.59015196250188\n"
     ]
    }
   ],
   "source": [
    "regr=LinearSVR().fit(train[features],train['traveltime'])\n",
    "preds=regr.predict(test[features])\n",
    "from sklearn import metrics\n",
    "print(metrics.mean_absolute_error(test['traveltime'],preds))\n",
    "percentage_errors = (abs(test['traveltime']-preds) / test['traveltime']) * 100\n",
    "print(percentage_errors.mean())"
   ]
  },
  {
   "cell_type": "code",
   "execution_count": 27,
   "metadata": {},
   "outputs": [
    {
     "data": {
      "text/plain": [
       "22.70903138840747"
      ]
     },
     "execution_count": 27,
     "metadata": {},
     "output_type": "execute_result"
    }
   ],
   "source": [
    "stop['traveltime'].mean()"
   ]
  },
  {
   "cell_type": "code",
   "execution_count": 39,
   "metadata": {},
   "outputs": [
    {
     "name": "stdout",
     "output_type": "stream",
     "text": [
      "3.8519986160893374\n",
      "14.935533899074716\n"
     ]
    }
   ],
   "source": [
    "regr=LinearSVR(epsilon=0.001).fit(train[features],train['traveltime'])\n",
    "preds=regr.predict(test[features])\n",
    "from sklearn import metrics\n",
    "print(metrics.mean_absolute_error(test['traveltime'],preds))\n",
    "percentage_errors = (abs(test['traveltime']-preds) / test['traveltime']) * 100\n",
    "print(percentage_errors.mean())"
   ]
  },
  {
   "cell_type": "markdown",
   "metadata": {},
   "source": [
    "### Interesting, just retraining these models (without changing parameters) can lead to significantly better results"
   ]
  },
  {
   "cell_type": "code",
   "execution_count": 49,
   "metadata": {},
   "outputs": [
    {
     "name": "stdout",
     "output_type": "stream",
     "text": [
      "3.803403306222431\n",
      "15.895216760827811\n"
     ]
    }
   ],
   "source": [
    "regr=LinearSVR(C=3.0,epsilon=0.001).fit(train[features],train['traveltime'])\n",
    "preds=regr.predict(test[features])\n",
    "from sklearn import metrics\n",
    "print(metrics.mean_absolute_error(test['traveltime'],preds))\n",
    "percentage_errors = (abs(test['traveltime']-preds) / test['traveltime']) * 100\n",
    "print(percentage_errors.mean())"
   ]
  },
  {
   "cell_type": "markdown",
   "metadata": {},
   "source": [
    "## In that case - how do we possibly effect a comparison with different models?"
   ]
  },
  {
   "cell_type": "code",
   "execution_count": 58,
   "metadata": {},
   "outputs": [
    {
     "name": "stdout",
     "output_type": "stream",
     "text": [
      "4.041665093749819\n",
      "17.913760379900925\n"
     ]
    }
   ],
   "source": [
    "regr=LinearSVR(C=0.001,epsilon=0.001).fit(train[features],train['traveltime'])\n",
    "preds=regr.predict(test[features])\n",
    "from sklearn import metrics\n",
    "print(metrics.mean_absolute_error(test['traveltime'],preds))\n",
    "percentage_errors = (abs(test['traveltime']-preds) / test['traveltime']) * 100\n",
    "print(percentage_errors.mean())"
   ]
  },
  {
   "cell_type": "code",
   "execution_count": 59,
   "metadata": {},
   "outputs": [
    {
     "name": "stdout",
     "output_type": "stream",
     "text": [
      "3.981691605429672\n",
      "17.489708994305744\n"
     ]
    }
   ],
   "source": [
    "regr=LinearSVR(C=0.001,epsilon=0.001,loss='squared_epsilon_insensitive',dual=False).fit(train[features],train['traveltime'])\n",
    "preds=regr.predict(test[features])\n",
    "from sklearn import metrics\n",
    "print(metrics.mean_absolute_error(test['traveltime'],preds))\n",
    "percentage_errors = (abs(test['traveltime']-preds) / test['traveltime']) * 100\n",
    "print(percentage_errors.mean())"
   ]
  },
  {
   "cell_type": "code",
   "execution_count": 77,
   "metadata": {},
   "outputs": [],
   "source": [
    "features=['actualtime_arr_from','rain','temp','distance','rhum','temp','hour','month','msl','dewpt']"
   ]
  },
  {
   "cell_type": "code",
   "execution_count": 73,
   "metadata": {},
   "outputs": [
    {
     "name": "stdout",
     "output_type": "stream",
     "text": [
      "4.008920242751589\n",
      "17.665848415252306\n"
     ]
    }
   ],
   "source": [
    "regr=LinearSVR(C=0.001,epsilon=0.001,loss='squared_epsilon_insensitive',dual=False).fit(train[features],train['traveltime'])\n",
    "preds=regr.predict(test[features])\n",
    "from sklearn import metrics\n",
    "print(metrics.mean_absolute_error(test['traveltime'],preds))\n",
    "percentage_errors = (abs(test['traveltime']-preds) / test['traveltime']) * 100\n",
    "print(percentage_errors.mean())"
   ]
  },
  {
   "cell_type": "code",
   "execution_count": 79,
   "metadata": {},
   "outputs": [],
   "source": [
    "features=['actualtime_arr_from']"
   ]
  },
  {
   "cell_type": "code",
   "execution_count": 81,
   "metadata": {},
   "outputs": [
    {
     "name": "stdout",
     "output_type": "stream",
     "text": [
      "7.235072953232928\n",
      "32.01538930581266\n"
     ]
    }
   ],
   "source": [
    "regr=LinearSVR(C=1.0,epsilon=0.001).fit(train[features],train['traveltime'])\n",
    "preds=regr.predict(test[features])\n",
    "from sklearn import metrics\n",
    "print(metrics.mean_absolute_error(test['traveltime'],preds))\n",
    "percentage_errors = (abs(test['traveltime']-preds) / test['traveltime']) * 100\n",
    "print(percentage_errors.mean())"
   ]
  },
  {
   "cell_type": "code",
   "execution_count": 82,
   "metadata": {},
   "outputs": [
    {
     "name": "stdout",
     "output_type": "stream",
     "text": [
      "hello\n"
     ]
    }
   ],
   "source": [
    "print('hello')"
   ]
  },
  {
   "cell_type": "code",
   "execution_count": 87,
   "metadata": {},
   "outputs": [],
   "source": [
    "stop['predict_mean']=stop['traveltime'].mean()"
   ]
  },
  {
   "cell_type": "code",
   "execution_count": 88,
   "metadata": {},
   "outputs": [
    {
     "name": "stdout",
     "output_type": "stream",
     "text": [
      "17.57524946911154\n"
     ]
    }
   ],
   "source": [
    "percentage_errors = (abs(stop['traveltime']-stop['predict_mean']) / stop['traveltime']) * 100\n",
    "print(percentage_errors.mean())"
   ]
  },
  {
   "cell_type": "code",
   "execution_count": 89,
   "metadata": {},
   "outputs": [
    {
     "ename": "NameError",
     "evalue": "name 'df' is not defined",
     "output_type": "error",
     "traceback": [
      "\u001b[0;31m---------------------------------------------------------------------------\u001b[0m",
      "\u001b[0;31mNameError\u001b[0m                                 Traceback (most recent call last)",
      "\u001b[0;32m<ipython-input-89-0afb11dd165d>\u001b[0m in \u001b[0;36m<module>\u001b[0;34m()\u001b[0m\n\u001b[0;32m----> 1\u001b[0;31m \u001b[0mdf\u001b[0m\u001b[0;34m=\u001b[0m\u001b[0mdf\u001b[0m\u001b[0;34m.\u001b[0m\u001b[0mreplace\u001b[0m\u001b[0;34m(\u001b[0m\u001b[0;34m[\u001b[0m\u001b[0mnp\u001b[0m\u001b[0;34m.\u001b[0m\u001b[0minf\u001b[0m\u001b[0;34m,\u001b[0m \u001b[0;34m-\u001b[0m\u001b[0mnp\u001b[0m\u001b[0;34m.\u001b[0m\u001b[0minf\u001b[0m\u001b[0;34m]\u001b[0m\u001b[0;34m,\u001b[0m \u001b[0mnp\u001b[0m\u001b[0;34m.\u001b[0m\u001b[0mnan\u001b[0m\u001b[0;34m)\u001b[0m\u001b[0;34m\u001b[0m\u001b[0m\n\u001b[0m",
      "\u001b[0;31mNameError\u001b[0m: name 'df' is not defined"
     ]
    }
   ],
   "source": [
    "df=df.replace([np.inf, -np.inf], np.nan)"
   ]
  },
  {
   "cell_type": "code",
   "execution_count": null,
   "metadata": {},
   "outputs": [],
   "source": []
  }
 ],
 "metadata": {
  "kernelspec": {
   "display_name": "Python 3",
   "language": "python",
   "name": "python3"
  },
  "language_info": {
   "codemirror_mode": {
    "name": "ipython",
    "version": 3
   },
   "file_extension": ".py",
   "mimetype": "text/x-python",
   "name": "python",
   "nbconvert_exporter": "python",
   "pygments_lexer": "ipython3",
   "version": "3.6.5"
  }
 },
 "nbformat": 4,
 "nbformat_minor": 2
}
