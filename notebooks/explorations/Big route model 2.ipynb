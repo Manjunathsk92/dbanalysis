{
 "cells": [
  {
   "cell_type": "markdown",
   "metadata": {},
   "source": [
    "# Big route model 2\n",
    "\n",
    "A big model for the route 15\n",
    "\n",
    "We will have all of the usual features + these two.\n",
    "\n",
    "a) The time of the bus leaving the first stop on the route\n",
    "b) the distance of the bus stop from the first stop on the route\n",
    "\n",
    "StopA, stopB won't be features in the model. Rather, we will be predicting the time for the bus to get to each successive stop on the route. e.g\n",
    "\n",
    "Time from stop 1 to stop 2\n",
    "Time from stop 1 to stop 3\n",
    "Time from stop 1 to stop 4\n",
    "Time from stop 1 to stop N"
   ]
  },
  {
   "cell_type": "markdown",
   "metadata": {},
   "source": [
    "## First gather all the data for the route"
   ]
  },
  {
   "cell_type": "code",
   "execution_count": 1,
   "metadata": {},
   "outputs": [],
   "source": [
    "# Get data for route 15\n",
    "import json\n",
    "routes = json.loads(open('/home/student/dbanalysis/dbanalysis/resources/trimmed_routes.json','r').read())"
   ]
  },
  {
   "cell_type": "code",
   "execution_count": 2,
   "metadata": {},
   "outputs": [],
   "source": [
    "r=routes['15'][1]"
   ]
  },
  {
   "cell_type": "code",
   "execution_count": 3,
   "metadata": {},
   "outputs": [],
   "source": [
    "from dbanalysis import stop_tools\n",
    "import pandas as pd"
   ]
  },
  {
   "cell_type": "code",
   "execution_count": 4,
   "metadata": {},
   "outputs": [
    {
     "name": "stdout",
     "output_type": "stream",
     "text": [
      "18392 18380\n",
      "18518 18507\n",
      "18744 18733\n",
      "18915 18903\n",
      "18961 18949\n",
      "34833 34812\n",
      "35092 35071\n",
      "49594 49564\n",
      "33441 33419\n",
      "33381 33356\n",
      "33387 33359\n",
      "49987 49950\n",
      "50215 50173\n",
      "50184 50140\n",
      "50096 50053\n",
      "68681 68627\n",
      "68817 68761\n",
      "71444 71383\n",
      "68799 68733\n",
      "80965 80885\n",
      "81013 80929\n",
      "80983 80893\n",
      "81047 80952\n",
      "81106 80998\n",
      "126712 126539\n",
      "126531 126353\n",
      "129054 128860\n",
      "129063 128856\n",
      "129012 128789\n",
      "129256 129016\n",
      "56482 56450\n",
      "30211 30191\n",
      "6342 6341\n",
      "556 556\n",
      "66391 66355\n",
      "66357 66319\n",
      "66284 66245\n",
      "88438 88386\n",
      "89505 89446\n",
      "89653 89591\n",
      "89768 89705\n",
      "89755 89690\n",
      "89853 89786\n",
      "75706 75645\n",
      "61041 60987\n",
      "61090 61029\n",
      "61134 61064\n",
      "61082 61006\n",
      "37441 37380\n",
      "37430 37356\n",
      "37429 37351\n",
      "26335 26285\n",
      "34030 33968\n",
      "34027 33954\n",
      "34035 33959\n",
      "34129 34049\n",
      "34088 34000\n",
      "34086 33986\n",
      "26293 26218\n",
      "18502 18411\n",
      "18536 18428\n",
      "18531 18413\n",
      "18553 18413\n",
      "18565 18419\n",
      "18578 18416\n",
      "18475 18289\n",
      "18539 18323\n",
      "18447 18235\n",
      "18395 18186\n"
     ]
    }
   ],
   "source": [
    "to_concat=[]\n",
    "for i in range(1, len(r)-1):\n",
    "    a=r[i]\n",
    "    b=r[i+1]\n",
    "    df=stop_tools.get_stop_link(a,b,merge_weather=True)\n",
    "    to_concat.append(df)\n",
    "    del(df)\n",
    "    \n",
    "df = pd.concat(to_concat,axis=0)\n",
    "    "
   ]
  },
  {
   "cell_type": "code",
   "execution_count": 5,
   "metadata": {},
   "outputs": [],
   "source": [
    "del(to_concat)"
   ]
  },
  {
   "cell_type": "code",
   "execution_count": 7,
   "metadata": {},
   "outputs": [],
   "source": [
    "af=df[df['routeid'].isin(['15_16','15_10'])]"
   ]
  },
  {
   "cell_type": "code",
   "execution_count": 9,
   "metadata": {},
   "outputs": [],
   "source": [
    "del(df)"
   ]
  },
  {
   "cell_type": "code",
   "execution_count": 12,
   "metadata": {},
   "outputs": [
    {
     "data": {
      "text/plain": [
       "(1262844, 19)"
      ]
     },
     "execution_count": 12,
     "metadata": {},
     "output_type": "execute_result"
    }
   ],
   "source": [
    "af.shape"
   ]
  },
  {
   "cell_type": "code",
   "execution_count": 6,
   "metadata": {},
   "outputs": [
    {
     "data": {
      "text/plain": [
       "array(['15_16', '15_10', '27X_42', '27_19', '27_20', '42_44', '43_89',\n",
       "       '43_88', '27B_34', '27A_5', '27B_38', '27B_36', '27B_35', '27B_39',\n",
       "       '27B_37', '27A_6', '104_16', '14_15', '14C_17', '29A_15', '32_58',\n",
       "       '130_11', '31_18', '31A_26', '31B_45', '31B_46', '53_19', '151_15',\n",
       "       '151_16', '142_10', '15A_81', '15B_55', '140_19', '15A_80',\n",
       "       '15B_56', '15B_57', '65B_65', '83_16', '65_72', '65_74', '83A_17',\n",
       "       '65_73', '83A_20', '83_19', '142_8', '49_27'], dtype=object)"
      ]
     },
     "execution_count": 6,
     "metadata": {},
     "output_type": "execute_result"
    }
   ],
   "source": [
    "df['routeid'].unique()"
   ]
  },
  {
   "cell_type": "code",
   "execution_count": 7,
   "metadata": {},
   "outputs": [],
   "source": [
    "data = df[df['routeid'].isin(['15_16', '15_10'])]"
   ]
  },
  {
   "cell_type": "code",
   "execution_count": 8,
   "metadata": {},
   "outputs": [],
   "source": [
    "del(df)"
   ]
  },
  {
   "cell_type": "code",
   "execution_count": 9,
   "metadata": {},
   "outputs": [],
   "source": [
    "df=data"
   ]
  },
  {
   "cell_type": "code",
   "execution_count": 10,
   "metadata": {},
   "outputs": [],
   "source": [
    "df=df.dropna()"
   ]
  },
  {
   "cell_type": "code",
   "execution_count": 11,
   "metadata": {},
   "outputs": [
    {
     "data": {
      "text/plain": [
       "Index(['dayofservice', 'tripid', 'plannedtime_arr_from',\n",
       "       'plannedtime_dep_from', 'actualtime_arr_from', 'actualtime_dep_from',\n",
       "       'plannedtime_arr_to', 'actualtime_arr_to', 'routeid', 'stopA', 'stopB',\n",
       "       'hour', 'dewpt', 'msl', 'rain', 'rhum', 'temp', 'vappr', 'wetb'],\n",
       "      dtype='object')"
      ]
     },
     "execution_count": 11,
     "metadata": {},
     "output_type": "execute_result"
    }
   ],
   "source": [
    "df.columns"
   ]
  },
  {
   "cell_type": "code",
   "execution_count": 6,
   "metadata": {},
   "outputs": [
    {
     "name": "stdout",
     "output_type": "stream",
     "text": [
      "hello\n"
     ]
    }
   ],
   "source": [
    "print('hello')"
   ]
  },
  {
   "cell_type": "markdown",
   "metadata": {},
   "source": [
    "## Now get the distances from the first stop on the route"
   ]
  },
  {
   "cell_type": "code",
   "execution_count": 12,
   "metadata": {},
   "outputs": [],
   "source": [
    "s_getter =stop_tools.stop_getter()\n",
    "total_distance = 0\n",
    "route_distances = {r[1]:0}\n",
    "for i in range(1, len(r)-1):\n",
    "    distance = s_getter.get_stop_distance(str(r[i]),str(r[i+1]))\n",
    "    \n",
    "    total_distance += distance\n",
    "    route_distances[r[i+1]]=total_distance\n",
    "    "
   ]
  },
  {
   "cell_type": "code",
   "execution_count": 13,
   "metadata": {},
   "outputs": [],
   "source": [
    "df['distance']=df['stopA'].apply(lambda x: route_distances[x])"
   ]
  },
  {
   "cell_type": "markdown",
   "metadata": {},
   "source": [
    "## Now add the time of leaving the first stop"
   ]
  },
  {
   "cell_type": "code",
   "execution_count": 14,
   "metadata": {
    "scrolled": true
   },
   "outputs": [
    {
     "name": "stderr",
     "output_type": "stream",
     "text": [
      "/home/student/anaconda3/lib/python3.6/site-packages/ipykernel_launcher.py:2: SettingWithCopyWarning: \n",
      "A value is trying to be set on a copy of a slice from a DataFrame.\n",
      "Try using .loc[row_indexer,col_indexer] = value instead\n",
      "\n",
      "See the caveats in the documentation: http://pandas.pydata.org/pandas-docs/stable/indexing.html#indexing-view-versus-copy\n",
      "  \n"
     ]
    }
   ],
   "source": [
    "keys= df[df['stopA']==6318]\n",
    "keys['base_time_dep']=keys['actualtime_arr_from']\n",
    "keys2=keys[['tripid','dayofservice','base_time_dep']]\n",
    "full_df = pd.merge(df,keys2,on=['dayofservice','tripid'])"
   ]
  },
  {
   "cell_type": "code",
   "execution_count": 65,
   "metadata": {},
   "outputs": [],
   "source": [
    "del (df)\n",
    "del (data)"
   ]
  },
  {
   "cell_type": "markdown",
   "metadata": {},
   "source": [
    "## Now add time information"
   ]
  },
  {
   "cell_type": "code",
   "execution_count": 15,
   "metadata": {},
   "outputs": [],
   "source": [
    "full_df['traveltime']=full_df['actualtime_arr_from']-full_df['base_time_dep']"
   ]
  },
  {
   "cell_type": "code",
   "execution_count": 17,
   "metadata": {},
   "outputs": [],
   "source": [
    "time_format = \"%d-%b-%y %H:%M:%S\"\n",
    "full_df['dt']=pd.to_datetime(full_df['dayofservice'],format=time_format)\n",
    "full_df['day']=full_df['dt'].dt.dayofweek\n",
    "full_df['month']=full_df['dt'].dt.month\n",
    "full_df['weekend']=full_df['day']>4\n",
    "full_df['year']=full_df['dt'].dt.year"
   ]
  },
  {
   "cell_type": "code",
   "execution_count": 18,
   "metadata": {},
   "outputs": [
    {
     "data": {
      "text/plain": [
       "Index(['dayofservice', 'tripid', 'plannedtime_arr_from',\n",
       "       'plannedtime_dep_from', 'actualtime_arr_from', 'actualtime_dep_from',\n",
       "       'plannedtime_arr_to', 'actualtime_arr_to', 'routeid', 'stopA', 'stopB',\n",
       "       'hour', 'dewpt', 'msl', 'rain', 'rhum', 'temp', 'vappr', 'wetb',\n",
       "       'distance'],\n",
       "      dtype='object')"
      ]
     },
     "execution_count": 18,
     "metadata": {},
     "output_type": "execute_result"
    }
   ],
   "source": [
    "full_df.columns"
   ]
  },
  {
   "cell_type": "code",
   "execution_count": 19,
   "metadata": {},
   "outputs": [
    {
     "data": {
      "text/plain": [
       "1262844"
      ]
     },
     "execution_count": 19,
     "metadata": {},
     "output_type": "execute_result"
    }
   ],
   "source": [
    "len(full_df)"
   ]
  },
  {
   "cell_type": "code",
   "execution_count": 21,
   "metadata": {},
   "outputs": [],
   "source": [
    "full_df=full_df[full_df['traveltime']!=0]"
   ]
  },
  {
   "cell_type": "code",
   "execution_count": 22,
   "metadata": {},
   "outputs": [
    {
     "data": {
      "text/plain": [
       "1170823"
      ]
     },
     "execution_count": 22,
     "metadata": {},
     "output_type": "execute_result"
    }
   ],
   "source": [
    "len(full_df)"
   ]
  },
  {
   "cell_type": "code",
   "execution_count": 23,
   "metadata": {},
   "outputs": [
    {
     "data": {
      "text/plain": [
       "Index(['dayofservice', 'tripid', 'plannedtime_arr_from',\n",
       "       'plannedtime_dep_from', 'actualtime_arr_from', 'actualtime_dep_from',\n",
       "       'plannedtime_arr_to', 'actualtime_arr_to', 'routeid', 'stopA', 'stopB',\n",
       "       'hour', 'dewpt', 'msl', 'rain', 'rhum', 'temp', 'vappr', 'wetb',\n",
       "       'distance', 'base_time_dep', 'traveltime', 'dt', 'day', 'month',\n",
       "       'weekend', 'year'],\n",
       "      dtype='object')"
      ]
     },
     "execution_count": 23,
     "metadata": {},
     "output_type": "execute_result"
    }
   ],
   "source": [
    "full_df.columns"
   ]
  },
  {
   "cell_type": "markdown",
   "metadata": {},
   "source": [
    "# Now we have a dataframe for route 15\n",
    "lets define some feature sets"
   ]
  },
  {
   "cell_type": "code",
   "execution_count": 24,
   "metadata": {},
   "outputs": [],
   "source": [
    "simple_features_A = ['hour','day','base_time_dep','weekend','distance']"
   ]
  },
  {
   "cell_type": "code",
   "execution_count": 37,
   "metadata": {},
   "outputs": [],
   "source": [
    "train = full_df[full_df['year']==2016]\n",
    "test = full_df[full_df['year']==2017]"
   ]
  },
  {
   "cell_type": "markdown",
   "metadata": {},
   "source": [
    "# Model with linear regression"
   ]
  },
  {
   "cell_type": "code",
   "execution_count": 25,
   "metadata": {},
   "outputs": [],
   "source": [
    "from sklearn.linear_model import LinearRegression as lr"
   ]
  },
  {
   "cell_type": "code",
   "execution_count": 27,
   "metadata": {},
   "outputs": [],
   "source": [
    "rgr = lr(fit_intercept=True).fit(train[simple_features_A],train['traveltime'])"
   ]
  },
  {
   "cell_type": "code",
   "execution_count": 28,
   "metadata": {},
   "outputs": [],
   "source": [
    "preds_A = rgr.predict(train[simple_features_A])"
   ]
  },
  {
   "cell_type": "code",
   "execution_count": 29,
   "metadata": {},
   "outputs": [],
   "source": [
    "from sklearn import metrics"
   ]
  },
  {
   "cell_type": "code",
   "execution_count": 30,
   "metadata": {},
   "outputs": [
    {
     "data": {
      "text/plain": [
       "0.9247493774959163"
      ]
     },
     "execution_count": 30,
     "metadata": {},
     "output_type": "execute_result"
    }
   ],
   "source": [
    "metrics.r2_score(train['traveltime'],preds_A)"
   ]
  },
  {
   "cell_type": "code",
   "execution_count": 31,
   "metadata": {},
   "outputs": [
    {
     "data": {
      "text/plain": [
       "41.993757072313144"
      ]
     },
     "execution_count": 31,
     "metadata": {},
     "output_type": "execute_result"
    }
   ],
   "source": [
    "((abs(train['traveltime']-preds_A)/train['traveltime'])*100).mean()"
   ]
  },
  {
   "cell_type": "code",
   "execution_count": 38,
   "metadata": {},
   "outputs": [],
   "source": [
    "# test on just one feature (time for whole route)\n",
    "test2 = test[test['distance']==test['distance'].max()]\n",
    "preds_B = rgr.predict(test2[simple_features_A])"
   ]
  },
  {
   "cell_type": "code",
   "execution_count": 40,
   "metadata": {},
   "outputs": [
    {
     "data": {
      "text/plain": [
       "0.22963261381217104"
      ]
     },
     "execution_count": 40,
     "metadata": {},
     "output_type": "execute_result"
    }
   ],
   "source": [
    "metrics.r2_score(test2['traveltime'],preds_B)"
   ]
  },
  {
   "cell_type": "code",
   "execution_count": 41,
   "metadata": {},
   "outputs": [
    {
     "data": {
      "text/plain": [
       "11.69507533905664"
      ]
     },
     "execution_count": 41,
     "metadata": {},
     "output_type": "execute_result"
    }
   ],
   "source": [
    "((abs(test2['traveltime']-preds_B)/test2['traveltime'])*100).mean()"
   ]
  },
  {
   "cell_type": "markdown",
   "metadata": {},
   "source": [
    "# So even using simple, simple linear regression, the mean error for the whole route isn't thaaaaat bad, not really."
   ]
  },
  {
   "cell_type": "code",
   "execution_count": 43,
   "metadata": {},
   "outputs": [],
   "source": [
    "#more complex features\n",
    "dummy_df = pd.get_dummies(full_df,columns=['day','hour','month'])"
   ]
  },
  {
   "cell_type": "code",
   "execution_count": 44,
   "metadata": {},
   "outputs": [
    {
     "data": {
      "text/plain": [
       "Index(['dayofservice', 'tripid', 'plannedtime_arr_from',\n",
       "       'plannedtime_dep_from', 'actualtime_arr_from', 'actualtime_dep_from',\n",
       "       'plannedtime_arr_to', 'actualtime_arr_to', 'routeid', 'stopA', 'stopB',\n",
       "       'dewpt', 'msl', 'rain', 'rhum', 'temp', 'vappr', 'wetb', 'distance',\n",
       "       'base_time_dep', 'traveltime', 'dt', 'weekend', 'year', 'day_0',\n",
       "       'day_1', 'day_2', 'day_3', 'day_4', 'day_5', 'day_6', 'hour_5',\n",
       "       'hour_6', 'hour_7', 'hour_8', 'hour_9', 'hour_10', 'hour_11', 'hour_12',\n",
       "       'hour_13', 'hour_14', 'hour_15', 'hour_16', 'hour_17', 'hour_18',\n",
       "       'hour_19', 'hour_20', 'hour_21', 'hour_22', 'hour_23', 'month_1',\n",
       "       'month_2', 'month_3', 'month_4', 'month_5', 'month_6'],\n",
       "      dtype='object')"
      ]
     },
     "execution_count": 44,
     "metadata": {},
     "output_type": "execute_result"
    }
   ],
   "source": [
    "dummy_df.columns"
   ]
  },
  {
   "cell_type": "code",
   "execution_count": 46,
   "metadata": {},
   "outputs": [],
   "source": [
    "simple_features_B = ['base_time_dep', 'weekend','distance','day_0',\n",
    "       'day_1', 'day_2', 'day_3', 'day_4', 'day_5', 'day_6', 'hour_5',\n",
    "       'hour_6', 'hour_7', 'hour_8', 'hour_9', 'hour_10', 'hour_11', 'hour_12',\n",
    "       'hour_13', 'hour_14', 'hour_15', 'hour_16', 'hour_17', 'hour_18',\n",
    "       'hour_19', 'hour_20', 'hour_21', 'hour_22', 'hour_23', 'month_1',\n",
    "       'month_2', 'month_3', 'month_4', 'month_5', 'month_6']"
   ]
  },
  {
   "cell_type": "code",
   "execution_count": 52,
   "metadata": {},
   "outputs": [],
   "source": [
    "train = dummy_df[dummy_df['year'] == 2016]\n",
    "test = dummy_df[dummy_df['year']==2017]"
   ]
  },
  {
   "cell_type": "code",
   "execution_count": 53,
   "metadata": {},
   "outputs": [],
   "source": [
    "rgr = lr(fit_intercept=True).fit(train[simple_features_B],train['traveltime'])"
   ]
  },
  {
   "cell_type": "code",
   "execution_count": 55,
   "metadata": {},
   "outputs": [],
   "source": [
    "preds_C = rgr.predict(train[simple_features_B])"
   ]
  },
  {
   "cell_type": "code",
   "execution_count": 56,
   "metadata": {},
   "outputs": [
    {
     "data": {
      "text/plain": [
       "0.9378605100350959"
      ]
     },
     "execution_count": 56,
     "metadata": {},
     "output_type": "execute_result"
    }
   ],
   "source": [
    "metrics.r2_score(train['traveltime'],preds_C)"
   ]
  },
  {
   "cell_type": "code",
   "execution_count": 58,
   "metadata": {},
   "outputs": [
    {
     "data": {
      "text/plain": [
       "45.026134732203204"
      ]
     },
     "execution_count": 58,
     "metadata": {},
     "output_type": "execute_result"
    }
   ],
   "source": [
    "((abs(train['traveltime']-preds_C)/train['traveltime'])*100).mean()"
   ]
  },
  {
   "cell_type": "code",
   "execution_count": 59,
   "metadata": {},
   "outputs": [],
   "source": [
    "# test on just one feature (time for whole route)\n",
    "test2 = test[test['distance']==test['distance'].max()]\n",
    "preds_B = rgr.predict(test2[simple_features_B])"
   ]
  },
  {
   "cell_type": "code",
   "execution_count": 60,
   "metadata": {},
   "outputs": [
    {
     "data": {
      "text/plain": [
       "0.4089228642520375"
      ]
     },
     "execution_count": 60,
     "metadata": {},
     "output_type": "execute_result"
    }
   ],
   "source": [
    "metrics.r2_score(test2['traveltime'],preds_B)"
   ]
  },
  {
   "cell_type": "code",
   "execution_count": 61,
   "metadata": {},
   "outputs": [
    {
     "data": {
      "text/plain": [
       "10.231348275023402"
      ]
     },
     "execution_count": 61,
     "metadata": {},
     "output_type": "execute_result"
    }
   ],
   "source": [
    "((abs(test2['traveltime']-preds_B)/test2['traveltime'])*100).mean()"
   ]
  },
  {
   "cell_type": "markdown",
   "metadata": {},
   "source": [
    "# So this model is quite good at predicting for the final stop on the route, but likely terrible at predicting for those in between\n",
    "\n",
    "Now test for all of the distances in the route...\n",
    "\n",
    "We get a meaningless r2 score, and a very high MAPE"
   ]
  },
  {
   "cell_type": "code",
   "execution_count": 62,
   "metadata": {},
   "outputs": [],
   "source": [
    "preds_B = rgr.predict(test[simple_features_B])"
   ]
  },
  {
   "cell_type": "code",
   "execution_count": 63,
   "metadata": {},
   "outputs": [
    {
     "data": {
      "text/plain": [
       "0.93601052474354"
      ]
     },
     "execution_count": 63,
     "metadata": {},
     "output_type": "execute_result"
    }
   ],
   "source": [
    "metrics.r2_score(test['traveltime'],preds_B)"
   ]
  },
  {
   "cell_type": "code",
   "execution_count": 64,
   "metadata": {},
   "outputs": [
    {
     "data": {
      "text/plain": [
       "45.899750813767504"
      ]
     },
     "execution_count": 64,
     "metadata": {},
     "output_type": "execute_result"
    }
   ],
   "source": [
    "((abs(test['traveltime']-preds_B)/test['traveltime'])*100).mean()"
   ]
  },
  {
   "cell_type": "markdown",
   "metadata": {},
   "source": [
    "# add weather"
   ]
  },
  {
   "cell_type": "code",
   "execution_count": 66,
   "metadata": {},
   "outputs": [],
   "source": [
    "simple_features_C = simple_features_B + ['rain', 'temp']"
   ]
  },
  {
   "cell_type": "code",
   "execution_count": 67,
   "metadata": {},
   "outputs": [],
   "source": [
    "rgr = lr(fit_intercept=True).fit(train[simple_features_C],train['traveltime'])"
   ]
  },
  {
   "cell_type": "code",
   "execution_count": 69,
   "metadata": {},
   "outputs": [],
   "source": [
    "preds_B = rgr.predict(test[simple_features_C])"
   ]
  },
  {
   "cell_type": "code",
   "execution_count": 70,
   "metadata": {},
   "outputs": [
    {
     "data": {
      "text/plain": [
       "0.9357665959238073"
      ]
     },
     "execution_count": 70,
     "metadata": {},
     "output_type": "execute_result"
    }
   ],
   "source": [
    "metrics.r2_score(test['traveltime'],preds_B)"
   ]
  },
  {
   "cell_type": "code",
   "execution_count": 71,
   "metadata": {},
   "outputs": [
    {
     "data": {
      "text/plain": [
       "46.29122545298618"
      ]
     },
     "execution_count": 71,
     "metadata": {},
     "output_type": "execute_result"
    }
   ],
   "source": [
    "((abs(test['traveltime']-preds_B)/test['traveltime'])*100).mean()"
   ]
  },
  {
   "cell_type": "code",
   "execution_count": 73,
   "metadata": {},
   "outputs": [],
   "source": [
    "# test on just one feature (time for whole route)\n",
    "test2 = test[test['distance']==test['distance'].max()]\n",
    "preds_B = rgr.predict(test2[simple_features_C])"
   ]
  },
  {
   "cell_type": "code",
   "execution_count": 76,
   "metadata": {},
   "outputs": [
    {
     "data": {
      "text/plain": [
       "0.41118333530778006"
      ]
     },
     "execution_count": 76,
     "metadata": {},
     "output_type": "execute_result"
    }
   ],
   "source": [
    "metrics.r2_score(test2['traveltime'],preds_B)"
   ]
  },
  {
   "cell_type": "code",
   "execution_count": 77,
   "metadata": {},
   "outputs": [
    {
     "data": {
      "text/plain": [
       "10.19576390318248"
      ]
     },
     "execution_count": 77,
     "metadata": {},
     "output_type": "execute_result"
    }
   ],
   "source": [
    "((abs(test2['traveltime']-preds_B)/test2['traveltime'])*100).mean()"
   ]
  },
  {
   "cell_type": "markdown",
   "metadata": {},
   "source": [
    "# Try other models.\n",
    "\n",
    "# Model 1. Random Forest"
   ]
  },
  {
   "cell_type": "code",
   "execution_count": 78,
   "metadata": {},
   "outputs": [],
   "source": [
    "from sklearn.ensemble import RandomForestRegressor as rfr"
   ]
  },
  {
   "cell_type": "code",
   "execution_count": 80,
   "metadata": {},
   "outputs": [],
   "source": [
    "rgr = rfr().fit(train[simple_features_C],train['traveltime'])"
   ]
  },
  {
   "cell_type": "code",
   "execution_count": 81,
   "metadata": {},
   "outputs": [],
   "source": [
    "preds_B = rgr.predict(train[simple_features_C])"
   ]
  },
  {
   "cell_type": "code",
   "execution_count": 82,
   "metadata": {},
   "outputs": [
    {
     "data": {
      "text/plain": [
       "0.9984505416788239"
      ]
     },
     "execution_count": 82,
     "metadata": {},
     "output_type": "execute_result"
    }
   ],
   "source": [
    "metrics.r2_score(train['traveltime'],preds_B)"
   ]
  },
  {
   "cell_type": "code",
   "execution_count": 83,
   "metadata": {},
   "outputs": [
    {
     "data": {
      "text/plain": [
       "2.684655513443022"
      ]
     },
     "execution_count": 83,
     "metadata": {},
     "output_type": "execute_result"
    }
   ],
   "source": [
    "((abs(train['traveltime']-preds_B)/train['traveltime'])*100).mean()"
   ]
  },
  {
   "cell_type": "code",
   "execution_count": 84,
   "metadata": {},
   "outputs": [],
   "source": [
    "preds_C = rgr.predict(test[simple_features_C])"
   ]
  },
  {
   "cell_type": "code",
   "execution_count": 86,
   "metadata": {},
   "outputs": [
    {
     "data": {
      "text/plain": [
       "0.9600555887198465"
      ]
     },
     "execution_count": 86,
     "metadata": {},
     "output_type": "execute_result"
    }
   ],
   "source": [
    "metrics.r2_score(test['traveltime'],preds_C)"
   ]
  },
  {
   "cell_type": "code",
   "execution_count": 87,
   "metadata": {},
   "outputs": [
    {
     "data": {
      "text/plain": [
       "10.389133366871654"
      ]
     },
     "execution_count": 87,
     "metadata": {},
     "output_type": "execute_result"
    }
   ],
   "source": [
    "((abs(test['traveltime']-preds_C)/test['traveltime'])*100).mean()"
   ]
  },
  {
   "cell_type": "markdown",
   "metadata": {},
   "source": [
    "## Then just for one trip\n"
   ]
  },
  {
   "cell_type": "code",
   "execution_count": 88,
   "metadata": {},
   "outputs": [],
   "source": [
    "test2 = test[test['distance']==test['distance'].max()]"
   ]
  },
  {
   "cell_type": "code",
   "execution_count": 90,
   "metadata": {},
   "outputs": [],
   "source": [
    "preds_C = rgr.predict(test2[simple_features_C])"
   ]
  },
  {
   "cell_type": "code",
   "execution_count": 91,
   "metadata": {},
   "outputs": [
    {
     "data": {
      "text/plain": [
       "0.5703429732391834"
      ]
     },
     "execution_count": 91,
     "metadata": {},
     "output_type": "execute_result"
    }
   ],
   "source": [
    "metrics.r2_score(test2['traveltime'],preds_C)"
   ]
  },
  {
   "cell_type": "code",
   "execution_count": 92,
   "metadata": {},
   "outputs": [
    {
     "data": {
      "text/plain": [
       "7.723682633043119"
      ]
     },
     "execution_count": 92,
     "metadata": {},
     "output_type": "execute_result"
    }
   ],
   "source": [
    "((abs(test2['traveltime']-preds_C)/test2['traveltime'])*100).mean()"
   ]
  },
  {
   "cell_type": "code",
   "execution_count": 93,
   "metadata": {},
   "outputs": [],
   "source": [
    "test2 = test[test['distance']==test['distance'].median()]"
   ]
  },
  {
   "cell_type": "code",
   "execution_count": 95,
   "metadata": {},
   "outputs": [],
   "source": [
    "preds_C = rgr.predict(test2[simple_features_C])"
   ]
  },
  {
   "cell_type": "code",
   "execution_count": 96,
   "metadata": {},
   "outputs": [
    {
     "data": {
      "text/plain": [
       "0.4545912622559859"
      ]
     },
     "execution_count": 96,
     "metadata": {},
     "output_type": "execute_result"
    }
   ],
   "source": [
    "metrics.r2_score(test2['traveltime'],preds_C)"
   ]
  },
  {
   "cell_type": "code",
   "execution_count": 97,
   "metadata": {},
   "outputs": [
    {
     "data": {
      "text/plain": [
       "9.082183275815371"
      ]
     },
     "execution_count": 97,
     "metadata": {},
     "output_type": "execute_result"
    }
   ],
   "source": [
    "((abs(test2['traveltime']-preds_C)/test2['traveltime'])*100).mean()"
   ]
  },
  {
   "cell_type": "code",
   "execution_count": 98,
   "metadata": {},
   "outputs": [
    {
     "data": {
      "text/plain": [
       "245.4642078310301"
      ]
     },
     "execution_count": 98,
     "metadata": {},
     "output_type": "execute_result"
    }
   ],
   "source": [
    "metrics.mean_absolute_error(test2['traveltime'],preds_C)"
   ]
  },
  {
   "cell_type": "markdown",
   "metadata": {},
   "source": [
    "Now for the first stop on the trip"
   ]
  },
  {
   "cell_type": "code",
   "execution_count": 99,
   "metadata": {},
   "outputs": [
    {
     "data": {
      "text/plain": [
       "array([ 0.19439372,  0.42661594,  0.91399099,  2.12746783,  2.13710899,\n",
       "        2.41355696,  2.73836243,  3.05509448,  3.47239308,  3.98918733,\n",
       "        4.29713731,  4.60077595,  5.07080026,  5.22224552,  5.52456992,\n",
       "        5.73902979,  6.13097876,  6.47090175,  6.80926407,  7.12874632,\n",
       "        7.41718128,  7.73113298,  8.15250246,  8.459664  ,  8.79233752,\n",
       "        9.06522538,  9.34944473,  9.63199619,  9.91663643, 10.07682693,\n",
       "       10.38606964, 11.79891293, 12.14116219, 12.56124053, 13.00315193,\n",
       "       13.38822997, 13.59259852, 13.8187145 , 13.9437401 , 14.10590383,\n",
       "       14.33519184, 14.54172718, 14.83736879, 15.17371397, 15.38787347,\n",
       "       15.67475222, 15.87786843, 16.06248638, 16.37022232, 16.61976575,\n",
       "       16.90819453, 17.16837317, 17.39439661, 17.86033059, 18.30079427,\n",
       "       18.76220611, 19.16280228, 19.600695  , 19.86110042, 20.46557701,\n",
       "       20.63406303, 20.9327889 , 21.35775595, 22.17246364, 22.28254239,\n",
       "       22.60855934, 11.24524183, 11.02329844])"
      ]
     },
     "execution_count": 99,
     "metadata": {},
     "output_type": "execute_result"
    }
   ],
   "source": [
    "test['distance'].unique()"
   ]
  },
  {
   "cell_type": "code",
   "execution_count": 104,
   "metadata": {},
   "outputs": [],
   "source": [
    "test3 = test[(test['distance']>0) & ( test['distance']<0.2)]"
   ]
  },
  {
   "cell_type": "code",
   "execution_count": 105,
   "metadata": {},
   "outputs": [
    {
     "data": {
      "text/plain": [
       "7196"
      ]
     },
     "execution_count": 105,
     "metadata": {},
     "output_type": "execute_result"
    }
   ],
   "source": [
    "len(test3)"
   ]
  },
  {
   "cell_type": "code",
   "execution_count": 106,
   "metadata": {},
   "outputs": [
    {
     "data": {
      "text/plain": [
       "array([0.19439372])"
      ]
     },
     "execution_count": 106,
     "metadata": {},
     "output_type": "execute_result"
    }
   ],
   "source": [
    "test3['distance'].unique()"
   ]
  },
  {
   "cell_type": "code",
   "execution_count": 107,
   "metadata": {},
   "outputs": [],
   "source": [
    "preds_C = rgr.predict(test3[simple_features_C])"
   ]
  },
  {
   "cell_type": "code",
   "execution_count": 108,
   "metadata": {},
   "outputs": [
    {
     "data": {
      "text/plain": [
       "-0.401011274376323"
      ]
     },
     "execution_count": 108,
     "metadata": {},
     "output_type": "execute_result"
    }
   ],
   "source": [
    "metrics.r2_score(test3['traveltime'],preds_C)"
   ]
  },
  {
   "cell_type": "code",
   "execution_count": 109,
   "metadata": {},
   "outputs": [
    {
     "data": {
      "text/plain": [
       "29.843328080637185"
      ]
     },
     "execution_count": 109,
     "metadata": {},
     "output_type": "execute_result"
    }
   ],
   "source": [
    "((abs(test3['traveltime']-preds_C)/test3['traveltime'])*100).mean()"
   ]
  },
  {
   "cell_type": "markdown",
   "metadata": {},
   "source": [
    "# So for just predicting the second stop on the trip, the metrics are abysmal. Awful, really"
   ]
  },
  {
   "cell_type": "code",
   "execution_count": 110,
   "metadata": {},
   "outputs": [
    {
     "data": {
      "text/plain": [
       "array([ 0.19439372,  0.42661594,  0.91399099,  2.12746783,  2.13710899,\n",
       "        2.41355696,  2.73836243,  3.05509448,  3.47239308,  3.98918733,\n",
       "        4.29713731,  4.60077595,  5.07080026,  5.22224552,  5.52456992,\n",
       "        5.73902979,  6.13097876,  6.47090175,  6.80926407,  7.12874632,\n",
       "        7.41718128,  7.73113298,  8.15250246,  8.459664  ,  8.79233752,\n",
       "        9.06522538,  9.34944473,  9.63199619,  9.91663643, 10.07682693,\n",
       "       10.38606964, 11.79891293, 12.14116219, 12.56124053, 13.00315193,\n",
       "       13.38822997, 13.59259852, 13.8187145 , 13.9437401 , 14.10590383,\n",
       "       14.33519184, 14.54172718, 14.83736879, 15.17371397, 15.38787347,\n",
       "       15.67475222, 15.87786843, 16.06248638, 16.37022232, 16.61976575,\n",
       "       16.90819453, 17.16837317, 17.39439661, 17.86033059, 18.30079427,\n",
       "       18.76220611, 19.16280228, 19.600695  , 19.86110042, 20.46557701,\n",
       "       20.63406303, 20.9327889 , 21.35775595, 22.17246364, 22.28254239,\n",
       "       22.60855934, 11.24524183, 11.02329844])"
      ]
     },
     "execution_count": 110,
     "metadata": {},
     "output_type": "execute_result"
    }
   ],
   "source": [
    "test['distance'].unique()"
   ]
  },
  {
   "cell_type": "code",
   "execution_count": 111,
   "metadata": {},
   "outputs": [],
   "source": [
    "arr = [distance for distance in test['distance'].unique()]"
   ]
  },
  {
   "cell_type": "code",
   "execution_count": 113,
   "metadata": {},
   "outputs": [
    {
     "name": "stdout",
     "output_type": "stream",
     "text": [
      "hello\n"
     ]
    }
   ],
   "source": [
    "print('hello')"
   ]
  },
  {
   "cell_type": "code",
   "execution_count": 114,
   "metadata": {},
   "outputs": [
    {
     "name": "stdout",
     "output_type": "stream",
     "text": [
      "hello\n"
     ]
    }
   ],
   "source": [
    "print('hello')"
   ]
  },
  {
   "cell_type": "code",
   "execution_count": 116,
   "metadata": {},
   "outputs": [],
   "source": [
    "arr = sorted(arr)"
   ]
  },
  {
   "cell_type": "code",
   "execution_count": 118,
   "metadata": {},
   "outputs": [],
   "source": [
    "arr = [0] + arr + [23]"
   ]
  },
  {
   "cell_type": "code",
   "execution_count": 125,
   "metadata": {},
   "outputs": [
    {
     "name": "stdout",
     "output_type": "stream",
     "text": [
      "\n",
      "\n",
      "\n",
      "r2: -0.401011274376323\n",
      "MAPE: 29.843328080637185\n",
      "max travel time 1113\n",
      "min travel time 1\n",
      "mean travel time 23.594219010561424\n",
      "\n",
      "\n",
      "\n",
      "r2: -0.29968377461028495\n",
      "MAPE: 27.146656832890393\n",
      "max travel time 1151\n",
      "min travel time 18\n",
      "mean travel time 64.49831413318348\n",
      "\n",
      "\n",
      "\n",
      "r2: -0.4209064046237443\n",
      "MAPE: 18.591875587452165\n",
      "max travel time 1243\n",
      "min travel time 59\n",
      "mean travel time 156.62443693693695\n",
      "\n",
      "\n",
      "\n",
      "r2: 0.09161694291692368\n",
      "MAPE: 16.66797654232437\n",
      "max travel time 1353\n",
      "min travel time 123\n",
      "mean travel time 242.76107439178736\n",
      "\n",
      "\n",
      "\n",
      "r2: 0.1972486717658587\n",
      "MAPE: 14.200725458184866\n",
      "max travel time 1466\n",
      "min travel time 40\n",
      "mean travel time 334.8658245614035\n",
      "\n",
      "\n",
      "\n",
      "r2: 0.2505150319282422\n",
      "MAPE: 14.063478889377137\n",
      "max travel time 1548\n",
      "min travel time 84\n",
      "mean travel time 383.46099789177794\n",
      "\n",
      "\n",
      "\n",
      "r2: 0.28753079137595283\n",
      "MAPE: 13.357137348379945\n",
      "max travel time 1859\n",
      "min travel time 141\n",
      "mean travel time 448.32776677045007\n",
      "\n",
      "\n",
      "\n",
      "r2: 0.2968843652312897\n",
      "MAPE: 13.193106816914113\n",
      "max travel time 1894\n",
      "min travel time 226\n",
      "mean travel time 527.6476001698994\n",
      "\n",
      "\n",
      "\n",
      "r2: 0.34919026571180545\n",
      "MAPE: 12.34958020241853\n",
      "max travel time 1789\n",
      "min travel time 272\n",
      "mean travel time 592.7798974943053\n",
      "\n",
      "\n",
      "\n",
      "r2: 0.3493885855691753\n",
      "MAPE: 11.979114998747482\n",
      "max travel time 1851\n",
      "min travel time 318\n",
      "mean travel time 657.4074389551391\n",
      "\n",
      "\n",
      "\n",
      "r2: 0.3280623697955881\n",
      "MAPE: 12.003642863012718\n",
      "max travel time 1891\n",
      "min travel time 346\n",
      "mean travel time 704.2133446663834\n",
      "\n",
      "\n",
      "\n",
      "r2: 0.32663047491268105\n",
      "MAPE: 11.69046988054885\n",
      "max travel time 1982\n",
      "min travel time 376\n",
      "mean travel time 788.0206112295665\n",
      "\n",
      "\n",
      "\n",
      "r2: 0.30633114414381546\n",
      "MAPE: 11.592137080413048\n",
      "max travel time 2045\n",
      "min travel time 408\n",
      "mean travel time 854.1028077141236\n",
      "\n",
      "\n",
      "\n",
      "r2: 0.3193977496093062\n",
      "MAPE: 11.672781428413662\n",
      "max travel time 2082\n",
      "min travel time 415\n",
      "mean travel time 879.100608461865\n",
      "\n",
      "\n",
      "\n",
      "r2: 0.3394454590027831\n",
      "MAPE: 11.370877920511358\n",
      "max travel time 2136\n",
      "min travel time 441\n",
      "mean travel time 931.6639286220083\n",
      "\n",
      "\n",
      "\n",
      "r2: 0.3666951059103023\n",
      "MAPE: 11.185896246939764\n",
      "max travel time 2181\n",
      "min travel time 456\n",
      "mean travel time 975.9930722465715\n",
      "\n",
      "\n",
      "\n",
      "r2: 0.3871827527755827\n",
      "MAPE: 10.796773360689256\n",
      "max travel time 2260\n",
      "min travel time 489\n",
      "mean travel time 1034.6220217115465\n",
      "\n",
      "\n",
      "\n",
      "r2: 0.3965584335582245\n",
      "MAPE: 10.693558244609598\n",
      "max travel time 2316\n",
      "min travel time 508\n",
      "mean travel time 1094.0107042253521\n",
      "\n",
      "\n",
      "\n",
      "r2: 0.388142102658003\n",
      "MAPE: 10.526091641306666\n",
      "max travel time 2393\n",
      "min travel time 533\n",
      "mean travel time 1167.829870859068\n",
      "\n",
      "\n",
      "\n",
      "r2: 0.41204868832262065\n",
      "MAPE: 10.253072973193113\n",
      "max travel time 2444\n",
      "min travel time 551\n",
      "mean travel time 1219.0941704035874\n",
      "\n",
      "\n",
      "\n",
      "r2: 0.4208191630210153\n",
      "MAPE: 10.11963280000056\n",
      "max travel time 2479\n",
      "min travel time 565\n",
      "mean travel time 1255.6579652885566\n",
      "\n",
      "\n",
      "\n",
      "r2: 0.42292281884771343\n",
      "MAPE: 10.035546586947492\n",
      "max travel time 2537\n",
      "min travel time 581\n",
      "mean travel time 1294.3680860093366\n",
      "\n",
      "\n",
      "\n",
      "r2: 0.42295945086699416\n",
      "MAPE: 9.94642043447742\n",
      "max travel time 2665\n",
      "min travel time 609\n",
      "mean travel time 1365.2036097010716\n",
      "\n",
      "\n",
      "\n",
      "r2: 0.4360972977409594\n",
      "MAPE: 9.899342556269993\n",
      "max travel time 2693\n",
      "min travel time 683\n",
      "mean travel time 1445.0216079696927\n",
      "\n",
      "\n",
      "\n",
      "r2: 0.4300123696538475\n",
      "MAPE: 9.83644106233818\n",
      "max travel time 2864\n",
      "min travel time 717\n",
      "mean travel time 1498.4144662921349\n",
      "\n",
      "\n",
      "\n",
      "r2: 0.4393222219304008\n",
      "MAPE: 9.755645850719983\n",
      "max travel time 3048\n",
      "min travel time 762\n",
      "mean travel time 1554.2869948776324\n",
      "\n",
      "\n",
      "\n",
      "r2: 0.45760804726776094\n",
      "MAPE: 9.717898060657298\n",
      "max travel time 3120\n",
      "min travel time 782\n",
      "mean travel time 1612.9833309383532\n",
      "\n",
      "\n",
      "\n",
      "r2: 0.4752170034713986\n",
      "MAPE: 9.525931581393625\n",
      "max travel time 3213\n",
      "min travel time 799\n",
      "mean travel time 1667.1510604530372\n",
      "\n",
      "\n",
      "\n",
      "r2: 0.46442607168539674\n",
      "MAPE: 9.626904291690323\n",
      "max travel time 3349\n",
      "min travel time 817\n",
      "mean travel time 1735.4244336105535\n",
      "\n",
      "\n",
      "\n",
      "r2: 0.4703075590565221\n",
      "MAPE: 9.644930595790331\n",
      "max travel time 3400\n",
      "min travel time 825\n",
      "mean travel time 1764.606378393909\n",
      "\n",
      "\n",
      "\n",
      "r2: 0.5163553132285394\n",
      "MAPE: 9.566912437078592\n",
      "max travel time 3682\n",
      "min travel time 856\n",
      "mean travel time 1837.8019556107404\n",
      "\n",
      "\n",
      "\n",
      "r2: 0.2302535505766109\n",
      "MAPE: 10.396686519809057\n",
      "max travel time 3348\n",
      "min travel time 1218\n",
      "mean travel time 2105.48730964467\n",
      "\n",
      "\n",
      "\n",
      "r2: 0.3738745146727511\n",
      "MAPE: 10.471719074406407\n",
      "max travel time 3594\n",
      "min travel time 1282\n",
      "mean travel time 2333.9281045751636\n",
      "\n",
      "\n",
      "\n",
      "r2: 0.46550884767682954\n",
      "MAPE: 9.284576099741825\n",
      "max travel time 6492\n",
      "min travel time 1210\n",
      "mean travel time 2541.8339467098485\n",
      "\n",
      "\n",
      "\n",
      "r2: 0.4545912622559859\n",
      "MAPE: 9.082183275815371\n",
      "max travel time 6657\n",
      "min travel time 1275\n",
      "mean travel time 2680.4039988238756\n",
      "\n",
      "\n",
      "\n",
      "r2: 0.46768671053852595\n",
      "MAPE: 8.735232751833859\n",
      "max travel time 6771\n",
      "min travel time 1348\n",
      "mean travel time 2807.3876288659794\n",
      "\n",
      "\n",
      "\n",
      "r2: 0.4761743080911034\n",
      "MAPE: 8.657112576830565\n",
      "max travel time 6891\n",
      "min travel time 1438\n",
      "mean travel time 2946.2929589886817\n",
      "\n",
      "\n",
      "\n",
      "r2: 0.47818769306272846\n",
      "MAPE: 8.586840580295153\n",
      "max travel time 7006\n",
      "min travel time 1522\n",
      "mean travel time 3109.4245144202473\n",
      "\n",
      "\n",
      "\n",
      "r2: 0.45987179036972003\n",
      "MAPE: 8.73722909060401\n",
      "max travel time 7085\n",
      "min travel time 1535\n",
      "mean travel time 3193.2139493819896\n",
      "\n",
      "\n",
      "\n",
      "r2: 0.46669386749833974\n",
      "MAPE: 8.76079306703297\n",
      "max travel time 7107\n",
      "min travel time 1554\n",
      "mean travel time 3244.7320011754337\n",
      "\n",
      "\n",
      "\n",
      "r2: 0.46988816991004156\n",
      "MAPE: 8.754875916369759\n",
      "max travel time 7134\n",
      "min travel time 1571\n",
      "mean travel time 3279.0931365313654\n",
      "\n",
      "\n",
      "\n",
      "r2: 0.46956427499790987\n",
      "MAPE: 8.763272781404513\n",
      "max travel time 7162\n",
      "min travel time 1584\n",
      "mean travel time 3320.2334366238747\n",
      "\n",
      "\n",
      "\n",
      "r2: 0.49080818477583754\n",
      "MAPE: 8.529556281678635\n",
      "max travel time 7244\n",
      "min travel time 1601\n",
      "mean travel time 3374.8650758580056\n",
      "\n",
      "\n",
      "\n",
      "r2: 0.4963738454918234\n",
      "MAPE: 8.432234181704997\n",
      "max travel time 7306\n",
      "min travel time 1629\n",
      "mean travel time 3443.4725339633787\n",
      "\n",
      "\n",
      "\n",
      "r2: 0.505188399208102\n",
      "MAPE: 8.336381701500335\n",
      "max travel time 7337\n",
      "min travel time 1652\n",
      "mean travel time 3496.1004289306316\n",
      "\n",
      "\n",
      "\n",
      "r2: 0.49977468742485087\n",
      "MAPE: 8.365562448350728\n",
      "max travel time 7458\n",
      "min travel time 1673\n",
      "mean travel time 3553.1624815361893\n",
      "\n",
      "\n",
      "\n",
      "r2: 0.4975190406132862\n",
      "MAPE: 8.355407895939729\n",
      "max travel time 7491\n",
      "min travel time 1702\n",
      "mean travel time 3585.3165191740413\n",
      "\n",
      "\n",
      "\n",
      "r2: 0.49831021954395294\n",
      "MAPE: 8.332832166614878\n",
      "max travel time 7517\n",
      "min travel time 1725\n",
      "mean travel time 3630.024268274746\n",
      "\n",
      "\n",
      "\n",
      "r2: 0.5001027272213721\n",
      "MAPE: 8.3217889523644\n",
      "max travel time 7544\n",
      "min travel time 1756\n",
      "mean travel time 3692.173150604185\n",
      "\n",
      "\n",
      "\n",
      "r2: 0.500903629391469\n",
      "MAPE: 8.32680393037939\n",
      "max travel time 7576\n",
      "min travel time 1767\n",
      "mean travel time 3719.6836990134\n",
      "\n",
      "\n",
      "\n",
      "r2: 0.525811382287842\n",
      "MAPE: 8.257900431632896\n",
      "max travel time 7607\n",
      "min travel time 1790\n",
      "mean travel time 3801.8594602565995\n",
      "\n",
      "\n",
      "\n",
      "r2: 0.49389665850547293\n",
      "MAPE: 8.432064280222656\n",
      "max travel time 7643\n",
      "min travel time 1827\n",
      "mean travel time 3875.929837518464\n",
      "\n",
      "\n",
      "\n",
      "r2: 0.4911678342309138\n",
      "MAPE: 8.418956320195717\n",
      "max travel time 7671\n",
      "min travel time 1844\n",
      "mean travel time 3914.782371179684\n",
      "\n",
      "\n",
      "\n",
      "r2: 0.49314627154370827\n",
      "MAPE: 8.405208873449588\n",
      "max travel time 7691\n",
      "min travel time 1859\n",
      "mean travel time 3939.0659583886677\n",
      "\n",
      "\n",
      "\n",
      "r2: 0.49389345689560193\n",
      "MAPE: 8.413545053888063\n",
      "max travel time 7708\n",
      "min travel time 1871\n",
      "mean travel time 3961.994995584339\n",
      "\n",
      "\n",
      "\n",
      "r2: 0.5103823133890149\n",
      "MAPE: 8.249474982383\n",
      "max travel time 7763\n",
      "min travel time 1900\n",
      "mean travel time 4025.7576203799144\n",
      "\n",
      "\n",
      "\n",
      "r2: 0.540690540502961\n",
      "MAPE: 8.014554471354273\n",
      "max travel time 7841\n",
      "min travel time 1963\n",
      "mean travel time 4116.265701196985\n",
      "\n",
      "\n",
      "\n",
      "r2: 0.5478503340081433\n",
      "MAPE: 7.908246570237395\n",
      "max travel time 7947\n",
      "min travel time 2001\n",
      "mean travel time 4195.186537023186\n",
      "\n",
      "\n",
      "\n",
      "r2: 0.5521173583910814\n",
      "MAPE: 7.979891004000996\n",
      "max travel time 8014\n",
      "min travel time 2032\n",
      "mean travel time 4324.092370081105\n",
      "\n",
      "\n",
      "\n",
      "r2: 0.5578563660633826\n",
      "MAPE: 7.897209810653047\n",
      "max travel time 8074\n",
      "min travel time 2070\n",
      "mean travel time 4390.084031100479\n",
      "\n",
      "\n",
      "\n",
      "r2: 0.5583993855481614\n",
      "MAPE: 7.8772014265690204\n",
      "max travel time 8098\n",
      "min travel time 2106\n",
      "mean travel time 4428.474970023981\n",
      "\n",
      "\n",
      "\n",
      "r2: 0.5572465136945959\n",
      "MAPE: 7.820891754683823\n",
      "max travel time 8140\n",
      "min travel time 2147\n",
      "mean travel time 4487.688818565401\n",
      "\n",
      "\n",
      "\n",
      "r2: 0.555574905073606\n",
      "MAPE: 7.853691080448351\n",
      "max travel time 8170\n",
      "min travel time 2156\n",
      "mean travel time 4516.72484939759\n",
      "\n",
      "\n",
      "\n",
      "r2: 0.5556720426686961\n",
      "MAPE: 7.838448154696533\n",
      "max travel time 8218\n",
      "min travel time 2185\n",
      "mean travel time 4580.133011612125\n",
      "\n",
      "\n",
      "\n",
      "r2: 0.5657584253985131\n",
      "MAPE: 7.67803495193605\n",
      "max travel time 8285\n",
      "min travel time 2223\n",
      "mean travel time 4652.44661517492\n",
      "\n",
      "\n",
      "\n",
      "r2: 0.575089353294314\n",
      "MAPE: 7.727875950297719\n",
      "max travel time 8386\n",
      "min travel time 2305\n",
      "mean travel time 4786.391985537813\n"
     ]
    },
    {
     "name": "stdout",
     "output_type": "stream",
     "text": [
      "\n",
      "\n",
      "\n",
      "r2: 0.5738726046738318\n",
      "MAPE: 7.754863139067039\n",
      "max travel time 8421\n",
      "min travel time 2171\n",
      "mean travel time 4819.021616684427\n",
      "\n",
      "\n",
      "\n",
      "r2: 0.5703429732391834\n",
      "MAPE: 7.723682633043119\n",
      "max travel time 8466\n",
      "min travel time 2206\n",
      "mean travel time 4869.910511148188\n"
     ]
    }
   ],
   "source": [
    "for i in range(1, len(arr)-1):\n",
    "    test3 = test[(test['distance']>arr[i-1]) & (test['distance']<arr[i+1])]\n",
    "    preds = rgr.predict(test3[simple_features_C])\n",
    "    print('\\n\\n')\n",
    "    print('r2:',metrics.r2_score(test3['traveltime'],preds))\n",
    "    print('MAPE:',((abs(test3['traveltime']-preds)/test3['traveltime'])*100).mean())\n",
    "    print('max travel time',test3['traveltime'].max())\n",
    "    print('min travel time', test3['traveltime'].min())\n",
    "    print('mean travel time',test3['traveltime'].mean())\n",
    "    del (preds)\n",
    "    del (test3)"
   ]
  },
  {
   "cell_type": "code",
   "execution_count": 123,
   "metadata": {},
   "outputs": [
    {
     "ename": "NameError",
     "evalue": "name 'test3' is not defined",
     "output_type": "error",
     "traceback": [
      "\u001b[0;31m---------------------------------------------------------------------------\u001b[0m",
      "\u001b[0;31mNameError\u001b[0m                                 Traceback (most recent call last)",
      "\u001b[0;32m<ipython-input-123-f6cb3ca7908e>\u001b[0m in \u001b[0;36m<module>\u001b[0;34m()\u001b[0m\n\u001b[0;32m----> 1\u001b[0;31m \u001b[0mtest3\u001b[0m\u001b[0;34m[\u001b[0m\u001b[0;34m'traveltime'\u001b[0m\u001b[0;34m]\u001b[0m\u001b[0;34m.\u001b[0m\u001b[0mmin\u001b[0m\u001b[0;34m(\u001b[0m\u001b[0;34m)\u001b[0m\u001b[0;34m\u001b[0m\u001b[0m\n\u001b[0m",
      "\u001b[0;31mNameError\u001b[0m: name 'test3' is not defined"
     ]
    }
   ],
   "source": [
    "test3['traveltime'].min()"
   ]
  },
  {
   "cell_type": "code",
   "execution_count": 130,
   "metadata": {},
   "outputs": [
    {
     "ename": "NameError",
     "evalue": "name 'RandomForestRegressor' is not defined",
     "output_type": "error",
     "traceback": [
      "\u001b[0;31m---------------------------------------------------------------------------\u001b[0m",
      "\u001b[0;31mNameError\u001b[0m                                 Traceback (most recent call last)",
      "\u001b[0;32m<ipython-input-130-2fe28dd3c6d3>\u001b[0m in \u001b[0;36m<module>\u001b[0;34m()\u001b[0m\n\u001b[1;32m      1\u001b[0m \u001b[0;34m\u001b[0m\u001b[0m\n\u001b[0;32m----> 2\u001b[0;31m \u001b[0;32mdel\u001b[0m\u001b[0;34m(\u001b[0m\u001b[0mRandomForestRegressor\u001b[0m\u001b[0;34m)\u001b[0m\u001b[0;34m\u001b[0m\u001b[0m\n\u001b[0m",
      "\u001b[0;31mNameError\u001b[0m: name 'RandomForestRegressor' is not defined"
     ]
    }
   ],
   "source": [
    "\n",
    "del(RandomForestRegressor)"
   ]
  },
  {
   "cell_type": "markdown",
   "metadata": {},
   "source": [
    "# What about a neural network?"
   ]
  },
  {
   "cell_type": "code",
   "execution_count": 128,
   "metadata": {},
   "outputs": [],
   "source": [
    "from sklearn.neural_network import MLPRegressor as NN\n"
   ]
  },
  {
   "cell_type": "code",
   "execution_count": 132,
   "metadata": {},
   "outputs": [
    {
     "name": "stderr",
     "output_type": "stream",
     "text": [
      "/home/student/anaconda3/lib/python3.6/site-packages/sklearn/neural_network/multilayer_perceptron.py:566: UserWarning: Training interrupted by user.\n",
      "  warnings.warn(\"Training interrupted by user.\")\n"
     ]
    }
   ],
   "source": [
    "rgr = NN().fit(train[simple_features_C],train['traveltime'])"
   ]
  },
  {
   "cell_type": "code",
   "execution_count": 133,
   "metadata": {},
   "outputs": [],
   "source": [
    "dummy_df.to_csv('/data/dummy_15_df.csv',index=False)"
   ]
  },
  {
   "cell_type": "code",
   "execution_count": null,
   "metadata": {},
   "outputs": [],
   "source": [
    "\n"
   ]
  },
  {
   "cell_type": "code",
   "execution_count": null,
   "metadata": {},
   "outputs": [],
   "source": []
  }
 ],
 "metadata": {
  "kernelspec": {
   "display_name": "Python 3",
   "language": "python",
   "name": "python3"
  },
  "language_info": {
   "codemirror_mode": {
    "name": "ipython",
    "version": 3
   },
   "file_extension": ".py",
   "mimetype": "text/x-python",
   "name": "python",
   "nbconvert_exporter": "python",
   "pygments_lexer": "ipython3",
   "version": "3.6.5"
  }
 },
 "nbformat": 4,
 "nbformat_minor": 2
}
