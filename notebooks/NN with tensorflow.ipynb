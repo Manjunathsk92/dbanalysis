{
 "cells": [
  {
   "cell_type": "code",
   "execution_count": 3,
   "metadata": {},
   "outputs": [
    {
     "name": "stderr",
     "output_type": "stream",
     "text": [
      "/home/student/anaconda3/lib/python3.6/site-packages/h5py/__init__.py:36: FutureWarning: Conversion of the second argument of issubdtype from `float` to `np.floating` is deprecated. In future, it will be treated as `np.float64 == np.dtype(float).type`.\n",
      "  from ._conv import register_converters as _register_converters\n"
     ]
    }
   ],
   "source": [
    "import tensorflow as tf"
   ]
  },
  {
   "cell_type": "code",
   "execution_count": 4,
   "metadata": {},
   "outputs": [],
   "source": [
    "record_defaults = [tf.float32] * 5"
   ]
  },
  {
   "cell_type": "code",
   "execution_count": 5,
   "metadata": {},
   "outputs": [],
   "source": [
    "data=tf.contrib.data.CsvDataset('/data/cluser1.csv', record_defaults, header=True, select_cols=[13, 15, 19,21,25])"
   ]
  },
  {
   "cell_type": "code",
   "execution_count": 6,
   "metadata": {},
   "outputs": [
    {
     "name": "stdout",
     "output_type": "stream",
     "text": [
      "<class 'tensorflow.contrib.data.python.ops.readers.CsvDataset'>\n"
     ]
    }
   ],
   "source": [
    "print(type(data))"
   ]
  },
  {
   "cell_type": "code",
   "execution_count": 8,
   "metadata": {},
   "outputs": [
    {
     "name": "stdout",
     "output_type": "stream",
     "text": [
      "(0.0, 65.49618, 1.0, 2017.0, 92.0)\n",
      "(13.0, 39.765537, 1.0, 2017.0, 92.0)\n",
      "(0.0, 58.60184, 1.0, 2017.0, 92.0)\n",
      "(0.0, 58.60184, 1.0, 2017.0, 94.0)\n",
      "(10.0, 44.5374, 1.0, 2017.0, 94.0)\n",
      "(0.0, 61.857502, 1.0, 2017.0, 94.0)\n",
      "(0.0, 65.49618, 1.0, 2017.0, 95.0)\n",
      "(10.0, 44.5374, 1.0, 2017.0, 95.0)\n",
      "(0.0, 69.58969, 1.0, 2017.0, 95.0)\n",
      "(14.0, 39.765537, 1.0, 2017.0, 86.0)\n"
     ]
    }
   ],
   "source": [
    "next = data.make_one_shot_iterator().get_next()\n",
    "with tf.Session() as sess:\n",
    "    for i in range(10):\n",
    "        try:\n",
    "          print(sess.run(next))\n",
    "        except tf.errors.OutOfRangeError:\n",
    "          break"
   ]
  },
  {
   "cell_type": "code",
   "execution_count": 9,
   "metadata": {},
   "outputs": [],
   "source": [
    "n_nodes_hl1=500\n",
    "n_nodes_hl2=500\n",
    "n_nodes_hl3=500"
   ]
  },
  {
   "cell_type": "code",
   "execution_count": 10,
   "metadata": {},
   "outputs": [],
   "source": [
    "batch_size=100"
   ]
  },
  {
   "cell_type": "code",
   "execution_count": 13,
   "metadata": {},
   "outputs": [],
   "source": [
    "x=tf.placeholder('float')\n",
    "y=tf.placeholder('float')"
   ]
  },
  {
   "cell_type": "code",
   "execution_count": null,
   "metadata": {},
   "outputs": [],
   "source": [
    "def neural_network_model(data):\n",
    "    hidden_1_layer={'weights': tf.Variable(tf.random_normal([5, n_nodes_hl1])), 'biases':tf.Variable(tf.random_normal(n_nodes_hl1))}\n",
    "    hidden_2_layer={'weights': tf.Variable(tf.random_normal([n_nodes_hl1, n_nodes_hl2])), 'biases':tf.Variable(tf.random_normal(n_nodes_hl2))}\n",
    "    hidden_3_layer={'weights': tf.Variable(tf.random_normal([n_nodes_hl2, n_nodes_hl3])), 'biases':tf.Variable(tf.random_normal(n_nodes_hl3))}\n",
    "    output_layer={'weights': tf.Variable(tf.random_normal([5, n_nodes_hl1]))}\n",
    "    \n",
    "    \n",
    "    l1=tf.add(tf.matmul(data,hidden_1_layer['weights'])+ hidden_1_layer['biases'])\n",
    "    l1=tf.nn.relu(l1)\n",
    "    \n",
    "    l2=tf.add(tf.matmul(l1,hidden_2_layer['weights'])+ hidden_2_layer['biases'])\n",
    "    l2=tf.nn.relu(l2)\n",
    "    \n",
    "    l3=tf.add(tf.matmul(l2,hidden_3_layer['weights'])+ hidden_3_layer['biases'])\n",
    "    l3=tf.nn.relu(l3)\n",
    "    \n",
    "    output = tf.matmul(l3, output_layer['weights'])\n",
    "    \n",
    "    return output"
   ]
  }
 ],
 "metadata": {
  "kernelspec": {
   "display_name": "Python 3",
   "language": "python",
   "name": "python3"
  },
  "language_info": {
   "codemirror_mode": {
    "name": "ipython",
    "version": 3
   },
   "file_extension": ".py",
   "mimetype": "text/x-python",
   "name": "python",
   "nbconvert_exporter": "python",
   "pygments_lexer": "ipython3",
   "version": "3.6.5"
  }
 },
 "nbformat": 4,
 "nbformat_minor": 2
}
