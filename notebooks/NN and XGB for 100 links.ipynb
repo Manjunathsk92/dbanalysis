{
 "cells": [
  {
   "cell_type": "code",
   "execution_count": 1,
   "metadata": {},
   "outputs": [
    {
     "name": "stderr",
     "output_type": "stream",
     "text": [
      "/home/student/anaconda3/lib/python3.6/site-packages/sklearn/cross_validation.py:41: DeprecationWarning: This module was deprecated in version 0.18 in favor of the model_selection module into which all the refactored classes and functions are moved. Also note that the interface of the new CV iterators are different from that of this module. This module will be removed in 0.20.\n",
      "  \"This module will be removed in 0.20.\", DeprecationWarning)\n"
     ]
    }
   ],
   "source": [
    "import numpy as np\n",
    "import pandas as pd\n",
    "from sklearn.neural_network import MLPClassifier, MLPRegressor\n",
    "from sklearn.cross_validation import train_test_split\n",
    "from dbanalysis import stop_tools\n",
    "from dbanalysis import headers as hd\n",
    "import time\n",
    "from sklearn.metrics import mean_absolute_error\n",
    "import xgboost\n",
    "from xgboost import XGBRegressor\n",
    "from sklearn import metrics\n",
    "#from sklearn.utils import check_arrays\n",
    "\n",
    "pd.set_option('display.max_columns', 500)"
   ]
  },
  {
   "cell_type": "code",
   "execution_count": 2,
   "metadata": {},
   "outputs": [],
   "source": [
    "def mean_absolute_percentage_error(y_true, y_pred): \n",
    "    y_true, y_pred = np.array(y_true), np.array(y_pred)\n",
    "    MAPE=np.mean(np.abs((y_true - y_pred) / y_true)) * 100\n",
    "    del(y_true)\n",
    "    del(y_pred)\n",
    "    return MAPE"
   ]
  },
  {
   "cell_type": "code",
   "execution_count": 3,
   "metadata": {},
   "outputs": [],
   "source": [
    "def neural_networks(df, df_traveltime):\n",
    "    errors=[]\n",
    "    x_train, x_test, y_train, y_test=train_test_split(df, df_traveltime, test_size=0.2, random_state=4)\n",
    "    nn=MLPRegressor(activation='relu',solver='adam',hidden_layer_sizes=(100, 60,20),random_state=1, max_iter=1000)\n",
    "    nn.fit(x_train,y_train.values.ravel())\n",
    "    pred=nn.predict(x_test)\n",
    "    errors.append(mean_absolute_error(y_test, pred))\n",
    "    errors.append(mean_absolute_percentage_error(y_test, pred))\n",
    "    errors.append(metrics.r2_score(y_test, pred))\n",
    "    del(df)\n",
    "    del(df_traveltime)\n",
    "    return errors\n",
    "    "
   ]
  },
  {
   "cell_type": "code",
   "execution_count": 4,
   "metadata": {},
   "outputs": [],
   "source": [
    "def xgb(df, df_traveltime):\n",
    "    errors=[]\n",
    "    x_train, x_test, y_train, y_test=train_test_split(df, df_traveltime, test_size=0.2, random_state=4)\n",
    "    xgb=XGBRegressor()\n",
    "    xgb.fit(x_train,y_train.values.ravel())\n",
    "    pred=xgb.predict(x_test)\n",
    "    errors.append(mean_absolute_error(y_test, pred))\n",
    "    errors.append(mean_absolute_percentage_error(y_test, pred))\n",
    "    errors.append(metrics.r2_score(y_test, pred))\n",
    "    del(df)\n",
    "    del(df_traveltime)\n",
    "    return errors"
   ]
  },
  {
   "cell_type": "code",
   "execution_count": 7,
   "metadata": {},
   "outputs": [
    {
     "name": "stdout",
     "output_type": "stream",
     "text": [
      "Mean absolute percentage error for NN :  51.00045686295201\n",
      "r2 score for nn :  -0.047260775521005716\n",
      "Mean absolute percentage error for XGB :  55.04627571725654\n",
      "r2 score for xgb :  0.047167920761142734\n",
      "Mean absolute percentage error for NN :  14.582525862985815\n",
      "r2 score for nn :  0.016612211550022682\n",
      "Mean absolute percentage error for XGB :  15.352983754849573\n",
      "r2 score for xgb :  0.06170512499206593\n",
      "Mean absolute percentage error for NN :  16.390433579027274\n",
      "r2 score for nn :  0.0700379851265801\n",
      "Mean absolute percentage error for XGB :  16.477221102224394\n",
      "r2 score for xgb :  0.17780300601420196\n",
      "Mean absolute percentage error for NN :  235.73310083981474\n",
      "r2 score for nn :  -0.008574818706121201\n",
      "Mean absolute percentage error for XGB :  202.01834763824996\n",
      "r2 score for xgb :  -0.1648547849389539\n",
      "Mean absolute percentage error for NN :  38.76149801734364\n",
      "r2 score for nn :  0.08271158123854294\n",
      "Mean absolute percentage error for XGB :  42.28177173927749\n",
      "r2 score for xgb :  0.1917526848034925\n",
      "Mean absolute percentage error for NN :  61.36718721316762\n",
      "r2 score for nn :  0.3422702950050249\n",
      "Mean absolute percentage error for XGB :  58.32238546442837\n",
      "r2 score for xgb :  0.3698542730379918\n",
      "Mean absolute percentage error for NN :  7.994400975910203\n",
      "r2 score for nn :  -0.09509318138889822\n",
      "Mean absolute percentage error for XGB :  8.313481778794626\n",
      "r2 score for xgb :  0.019129051514936157\n",
      "Mean absolute percentage error for NN :  32.23661848208212\n",
      "r2 score for nn :  0.09669910479738619\n",
      "Mean absolute percentage error for XGB :  32.00074050192757\n",
      "r2 score for xgb :  0.11663148454069316\n",
      "Mean absolute percentage error for NN :  15.294410183065512\n",
      "r2 score for nn :  -0.022656983207445025\n",
      "Mean absolute percentage error for XGB :  37.56575333652364\n",
      "r2 score for xgb :  -4.643837315442853\n",
      "Mean absolute percentage error for NN :  14.10478480696259\n",
      "r2 score for nn :  0.004766424054268303\n",
      "Mean absolute percentage error for XGB :  14.721200570276618\n",
      "r2 score for xgb :  0.02035991079959032\n",
      "Mean absolute percentage error for NN :  35.84891187886186\n",
      "r2 score for nn :  0.005132216563673242\n",
      "Mean absolute percentage error for XGB :  40.20706646721388\n",
      "r2 score for xgb :  0.14409828323976015\n",
      "Mean absolute percentage error for NN :  16.704562644934313\n",
      "r2 score for nn :  -0.01483607987574409\n",
      "Mean absolute percentage error for XGB :  18.60914492244366\n",
      "r2 score for xgb :  0.32520158789253406\n",
      "Mean absolute percentage error for NN :  31.492725301760288\n",
      "r2 score for nn :  -0.46415317918119237\n",
      "Mean absolute percentage error for XGB :  25.606597468008747\n",
      "r2 score for xgb :  -0.3084453675633567\n",
      "Mean absolute percentage error for NN :  22.09811563804271\n",
      "r2 score for nn :  -0.19758345171091252\n",
      "Mean absolute percentage error for XGB :  16.933062275659296\n",
      "r2 score for xgb :  0.02497773419086169\n",
      "Mean absolute percentage error for NN :  11.382894866246136\n",
      "r2 score for nn :  0.06523735141621623\n",
      "Mean absolute percentage error for XGB :  12.794613748768842\n",
      "r2 score for xgb :  0.19886603035341743\n"
     ]
    },
    {
     "name": "stderr",
     "output_type": "stream",
     "text": [
      "/home/student/anaconda3/lib/python3.6/site-packages/ipykernel_launcher.py:3: RuntimeWarning: divide by zero encountered in true_divide\n",
      "  This is separate from the ipykernel package so we can avoid doing imports until\n"
     ]
    },
    {
     "name": "stdout",
     "output_type": "stream",
     "text": [
      "Mean absolute percentage error for NN :  inf\n",
      "r2 score for nn :  0.009864871527831442\n"
     ]
    },
    {
     "name": "stderr",
     "output_type": "stream",
     "text": [
      "/home/student/anaconda3/lib/python3.6/site-packages/ipykernel_launcher.py:3: RuntimeWarning: divide by zero encountered in true_divide\n",
      "  This is separate from the ipykernel package so we can avoid doing imports until\n"
     ]
    },
    {
     "name": "stdout",
     "output_type": "stream",
     "text": [
      "Mean absolute percentage error for XGB :  inf\n",
      "r2 score for xgb :  0.03465224073476503\n",
      "Mean absolute percentage error for NN :  48.87784959803932\n",
      "r2 score for nn :  0.0020919218997544897\n",
      "Mean absolute percentage error for XGB :  48.81051106408499\n",
      "r2 score for xgb :  0.1864886427788549\n",
      "Mean absolute percentage error for NN :  15.200301427065757\n",
      "r2 score for nn :  -0.15037526738325768\n",
      "Mean absolute percentage error for XGB :  15.413245567808914\n",
      "r2 score for xgb :  -0.12927758151379498\n",
      "Mean absolute percentage error for NN :  19.420611013320798\n",
      "r2 score for nn :  0.06338122742314889\n",
      "Mean absolute percentage error for XGB :  20.71669528243635\n",
      "r2 score for xgb :  0.12777997637635063\n",
      "Mean absolute percentage error for NN :  14.533991614601769\n",
      "r2 score for nn :  -0.002176811681787516\n",
      "Mean absolute percentage error for XGB :  15.12602432060359\n",
      "r2 score for xgb :  -0.0004837364276186751\n",
      "Errors for NN\n",
      "Average MAPE  25.96068222035387\n",
      "r2 : -0.013550297669661938\n",
      "Errors for XGB\n",
      "Average MAPE  27.461043060143723\n",
      "r2 : -0.17780171299199551\n"
     ]
    }
   ],
   "source": [
    "avg_MAE_nn=0\n",
    "avg_MAPE_nn=0\n",
    "avg_MAE_xgb=0\n",
    "avg_MAPE_xgb=0\n",
    "count_links_processed_nn=0\n",
    "count_links_processed_xgb=0\n",
    "r2_scores_nn=0\n",
    "r2_scores_xgb=0\n",
    "for i in range(20):\n",
    "    df_stop=stop_tools.random_stop_data()\n",
    "    df=df_stop[[ 'dewpt', 'msl', 'rain', 'rhum', 'temp', 'vappr', 'wetb']]\n",
    "    df_traveltime=df_stop[['traveltime']]\n",
    "    day_dummies = pd.get_dummies(df_stop.day, prefix='day')\n",
    "    hour_dummies = pd.get_dummies(df_stop.hour, prefix='hour')\n",
    "    df=pd.concat([df, day_dummies, hour_dummies], axis=1)\n",
    "    df_traveltime[df_traveltime['traveltime'] != 0]\n",
    "    err_nn=neural_networks(df, df_traveltime)\n",
    "    #print('Mean absolute error for NN : ', err_nn[0])\n",
    "    print('Mean absolute percentage error for NN : ', err_nn[1])\n",
    "    avg_MAE_nn+=err_nn[0]\n",
    "    print('r2 score for nn : ', err_nn[2])\n",
    "    if err_nn[1]<100:\n",
    "        avg_MAPE_nn+=err_nn[1]\n",
    "        count_links_processed_nn+=1\n",
    "    r2_scores_nn+=err_nn[2]\n",
    "    err_xgb=xgb(df,df_traveltime)\n",
    "    #print('Mean absolute error for XGB : ', err_xgb[0])\n",
    "    print('Mean absolute percentage error for XGB : ', err_xgb[1])\n",
    "    avg_MAE_xgb+=err_xgb[0]\n",
    "    if err_xgb[1]<100:\n",
    "        avg_MAPE_xgb+=err_xgb[1]\n",
    "        count_links_processed_xgb+=1\n",
    "    r2_scores_xgb+=err_xgb[2]\n",
    "    print('r2 score for xgb : ', err_xgb[2])\n",
    "    del(df)\n",
    "    \n",
    "print('Errors for NN')    \n",
    "#print('Average error ', avg_MAE_nn/10)\n",
    "print('Average MAPE ', avg_MAPE_nn/count_links_processed_nn)\n",
    "print('r2 :', r2_scores_nn/count_links_processed_nn)\n",
    "print('Errors for XGB')\n",
    "#print('Average error ', avg_MAE_xgb/10)\n",
    "print('Average MAPE ', avg_MAPE_xgb/count_links_processed_xgb)\n",
    "print('r2 :', r2_scores_xgb/count_links_processed_xgb)"
   ]
  },
  {
   "cell_type": "code",
   "execution_count": 49,
   "metadata": {},
   "outputs": [
    {
     "data": {
      "text/plain": [
       "23"
      ]
     },
     "execution_count": 49,
     "metadata": {},
     "output_type": "execute_result"
    }
   ],
   "source": [
    "count_links_processed_nn"
   ]
  },
  {
   "cell_type": "code",
   "execution_count": 50,
   "metadata": {},
   "outputs": [
    {
     "data": {
      "text/plain": [
       "23"
      ]
     },
     "execution_count": 50,
     "metadata": {},
     "output_type": "execute_result"
    }
   ],
   "source": [
    "count_links_processed_xgb"
   ]
  },
  {
   "cell_type": "code",
   "execution_count": 7,
   "metadata": {},
   "outputs": [
    {
     "data": {
      "text/plain": [
       "Index(['index', 'dayofservice', 'tripid', 'plannedtime_arr_from',\n",
       "       'plannedtime_dep_from', 'actualtime_arr_from', 'actualtime_dep_from',\n",
       "       'plannedtime_arr_to', 'actualtime_arr_to', 'routeid', 'fromstop',\n",
       "       'tostop', 'traveltime', 'dwelltime', 'distance', 'speed', 'dt', 'date',\n",
       "       'day', 'month', 'hour', 'year', 'dewpt', 'msl', 'rain', 'rhum', 'temp',\n",
       "       'vappr', 'wetb'],\n",
       "      dtype='object')"
      ]
     },
     "execution_count": 7,
     "metadata": {},
     "output_type": "execute_result"
    }
   ],
   "source": [
    "df.columns"
   ]
  },
  {
   "cell_type": "code",
   "execution_count": null,
   "metadata": {},
   "outputs": [],
   "source": []
  }
 ],
 "metadata": {
  "kernelspec": {
   "display_name": "Python 3",
   "language": "python",
   "name": "python3"
  },
  "language_info": {
   "codemirror_mode": {
    "name": "ipython",
    "version": 3
   },
   "file_extension": ".py",
   "mimetype": "text/x-python",
   "name": "python",
   "nbconvert_exporter": "python",
   "pygments_lexer": "ipython3",
   "version": "3.6.5"
  }
 },
 "nbformat": 4,
 "nbformat_minor": 2
}
