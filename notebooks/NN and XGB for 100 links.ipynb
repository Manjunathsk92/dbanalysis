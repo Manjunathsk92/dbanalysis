{
 "cells": [
  {
   "cell_type": "code",
   "execution_count": 1,
   "metadata": {},
   "outputs": [
    {
     "name": "stderr",
     "output_type": "stream",
     "text": [
      "/home/student/anaconda3/lib/python3.6/site-packages/sklearn/cross_validation.py:41: DeprecationWarning: This module was deprecated in version 0.18 in favor of the model_selection module into which all the refactored classes and functions are moved. Also note that the interface of the new CV iterators are different from that of this module. This module will be removed in 0.20.\n",
      "  \"This module will be removed in 0.20.\", DeprecationWarning)\n"
     ]
    }
   ],
   "source": [
    "import numpy as np\n",
    "import pandas as pd\n",
    "from sklearn.neural_network import MLPClassifier, MLPRegressor\n",
    "from sklearn.cross_validation import train_test_split\n",
    "from dbanalysis import stop_tools\n",
    "from dbanalysis import headers as hd\n",
    "import time\n",
    "from sklearn.metrics import mean_absolute_error\n",
    "import xgboost\n",
    "from xgboost import XGBRegressor\n",
    "from sklearn import metrics\n",
    "#from sklearn.utils import check_arrays\n",
    "\n",
    "pd.set_option('display.max_columns', 500)"
   ]
  },
  {
   "cell_type": "code",
   "execution_count": 2,
   "metadata": {},
   "outputs": [],
   "source": [
    "def mean_absolute_percentage_error(y_true, y_pred): \n",
    "    y_true, y_pred = np.array(y_true), np.array(y_pred)\n",
    "    MAPE=np.mean(np.abs((y_true - y_pred) / y_true)) * 100\n",
    "    del(y_true)\n",
    "    del(y_pred)\n",
    "    return MAPE"
   ]
  },
  {
   "cell_type": "code",
   "execution_count": 3,
   "metadata": {},
   "outputs": [],
   "source": [
    "def neural_networks(df, df_traveltime):\n",
    "    errors=[]\n",
    "    x_train, x_test, y_train, y_test=train_test_split(df, df_traveltime, test_size=0.2, random_state=4)\n",
    "    nn=MLPRegressor(activation='relu',solver='adam',hidden_layer_sizes=(100, 60,20),random_state=1, max_iter=1000)\n",
    "    nn.fit(x_train,y_train.values.ravel())\n",
    "    pred=nn.predict(x_test)\n",
    "    errors.append(mean_absolute_error(y_test, pred))\n",
    "    errors.append(mean_absolute_percentage_error(y_test, pred))\n",
    "    errors.append(metrics.r2_score(y_test, pred))\n",
    "    del(df)\n",
    "    del(df_traveltime)\n",
    "    return errors\n",
    "    "
   ]
  },
  {
   "cell_type": "code",
   "execution_count": 4,
   "metadata": {},
   "outputs": [],
   "source": [
    "def xgb(df, df_traveltime):\n",
    "    errors=[]\n",
    "    x_train, x_test, y_train, y_test=train_test_split(df, df_traveltime, test_size=0.2, random_state=4)\n",
    "    xgb=XGBRegressor()\n",
    "    xgb.fit(x_train,y_train.values.ravel())\n",
    "    pred=xgb.predict(x_test)\n",
    "    errors.append(mean_absolute_error(y_test, pred))\n",
    "    errors.append(mean_absolute_percentage_error(y_test, pred))\n",
    "    errors.append(metrics.r2_score(y_test, pred))\n",
    "    del(df)\n",
    "    del(df_traveltime)\n",
    "    return errors"
   ]
  },
  {
   "cell_type": "code",
   "execution_count": 5,
   "metadata": {},
   "outputs": [
    {
     "name": "stdout",
     "output_type": "stream",
     "text": [
      "Mean absolute percentage error for NN :  7.857400913622467\n",
      "r2 score for nn :  -0.1225524718262283\n",
      "Mean absolute percentage error for XGB :  7.707005193340809\n",
      "r2 score for xgb :  0.04225566466111996\n",
      "Mean absolute percentage error for NN :  15.712383569816316\n",
      "r2 score for nn :  0.06454155176740273\n",
      "Mean absolute percentage error for XGB :  17.01155512721498\n",
      "r2 score for xgb :  0.18621801766244306\n",
      "Mean absolute percentage error for NN :  14.639382899451142\n",
      "r2 score for nn :  0.0052774719589694374\n",
      "Mean absolute percentage error for XGB :  14.509118110883943\n",
      "r2 score for xgb :  0.2943935160146919\n",
      "Mean absolute percentage error for NN :  7.9994962386339905\n",
      "r2 score for nn :  -0.005418023659189197\n",
      "Mean absolute percentage error for XGB :  8.506641784578715\n",
      "r2 score for xgb :  0.03305675901671212\n",
      "Mean absolute percentage error for NN :  24.46069719671816\n",
      "r2 score for nn :  0.2282339702694891\n",
      "Mean absolute percentage error for XGB :  25.92053368100026\n",
      "r2 score for xgb :  0.31221990526419785\n",
      "Mean absolute percentage error for NN :  18.77349665372455\n",
      "r2 score for nn :  -0.01366527666043127\n",
      "Mean absolute percentage error for XGB :  20.095435103749214\n",
      "r2 score for xgb :  0.04340978484332392\n",
      "Mean absolute percentage error for NN :  18.417781331413195\n",
      "r2 score for nn :  0.010282084023635951\n",
      "Mean absolute percentage error for XGB :  18.916951448896587\n",
      "r2 score for xgb :  0.08657317284863209\n",
      "Mean absolute percentage error for NN :  19.71036944010429\n",
      "r2 score for nn :  0.017645655452336317\n",
      "Mean absolute percentage error for XGB :  19.499077276833514\n",
      "r2 score for xgb :  0.07274723450291298\n",
      "Mean absolute percentage error for NN :  40.0783852362402\n",
      "r2 score for nn :  0.16772865995483643\n",
      "Mean absolute percentage error for XGB :  38.776786400837715\n",
      "r2 score for xgb :  0.23276861955419081\n",
      "Mean absolute percentage error for NN :  9.392012346556648\n",
      "r2 score for nn :  -0.00650666909954567\n",
      "Mean absolute percentage error for XGB :  9.243392955493533\n",
      "r2 score for xgb :  0.044275612478310244\n",
      "Mean absolute percentage error for NN :  23.883044207582227\n",
      "r2 score for nn :  0.054048462087389226\n",
      "Mean absolute percentage error for XGB :  24.968875104694035\n",
      "r2 score for xgb :  0.10850376370165504\n",
      "Mean absolute percentage error for NN :  28.464314961703856\n",
      "r2 score for nn :  0.01662275531983881\n",
      "Mean absolute percentage error for XGB :  26.572665159022495\n",
      "r2 score for xgb :  0.07551341046796145\n",
      "Mean absolute percentage error for NN :  11.759741500816899\n",
      "r2 score for nn :  -0.09056500613418628\n",
      "Mean absolute percentage error for XGB :  11.76125759095915\n",
      "r2 score for xgb :  0.18639639652325002\n"
     ]
    },
    {
     "ename": "MemoryError",
     "evalue": "",
     "output_type": "error",
     "traceback": [
      "\u001b[0;31m---------------------------------------------------------------------------\u001b[0m",
      "\u001b[0;31mMemoryError\u001b[0m                               Traceback (most recent call last)",
      "\u001b[0;32m<ipython-input-5-1e006d1e5363>\u001b[0m in \u001b[0;36m<module>\u001b[0;34m()\u001b[0m\n\u001b[1;32m     15\u001b[0m     \u001b[0mdf\u001b[0m\u001b[0;34m=\u001b[0m\u001b[0mpd\u001b[0m\u001b[0;34m.\u001b[0m\u001b[0mconcat\u001b[0m\u001b[0;34m(\u001b[0m\u001b[0;34m[\u001b[0m\u001b[0mdf\u001b[0m\u001b[0;34m,\u001b[0m \u001b[0mday_dummies\u001b[0m\u001b[0;34m,\u001b[0m \u001b[0mhour_dummies\u001b[0m\u001b[0;34m]\u001b[0m\u001b[0;34m,\u001b[0m \u001b[0maxis\u001b[0m\u001b[0;34m=\u001b[0m\u001b[0;36m1\u001b[0m\u001b[0;34m)\u001b[0m\u001b[0;34m\u001b[0m\u001b[0m\n\u001b[1;32m     16\u001b[0m     \u001b[0mdf_traveltime\u001b[0m\u001b[0;34m[\u001b[0m\u001b[0mdf_traveltime\u001b[0m\u001b[0;34m[\u001b[0m\u001b[0;34m'traveltime'\u001b[0m\u001b[0;34m]\u001b[0m \u001b[0;34m!=\u001b[0m \u001b[0;36m0\u001b[0m\u001b[0;34m]\u001b[0m\u001b[0;34m\u001b[0m\u001b[0m\n\u001b[0;32m---> 17\u001b[0;31m     \u001b[0merr_nn\u001b[0m\u001b[0;34m=\u001b[0m\u001b[0mneural_networks\u001b[0m\u001b[0;34m(\u001b[0m\u001b[0mdf\u001b[0m\u001b[0;34m,\u001b[0m \u001b[0mdf_traveltime\u001b[0m\u001b[0;34m)\u001b[0m\u001b[0;34m\u001b[0m\u001b[0m\n\u001b[0m\u001b[1;32m     18\u001b[0m     \u001b[0;31m#print('Mean absolute error for NN : ', err_nn[0])\u001b[0m\u001b[0;34m\u001b[0m\u001b[0;34m\u001b[0m\u001b[0m\n\u001b[1;32m     19\u001b[0m     \u001b[0mprint\u001b[0m\u001b[0;34m(\u001b[0m\u001b[0;34m'Mean absolute percentage error for NN : '\u001b[0m\u001b[0;34m,\u001b[0m \u001b[0merr_nn\u001b[0m\u001b[0;34m[\u001b[0m\u001b[0;36m1\u001b[0m\u001b[0;34m]\u001b[0m\u001b[0;34m)\u001b[0m\u001b[0;34m\u001b[0m\u001b[0m\n",
      "\u001b[0;32m<ipython-input-3-59606cb8e3c6>\u001b[0m in \u001b[0;36mneural_networks\u001b[0;34m(df, df_traveltime)\u001b[0m\n\u001b[1;32m      6\u001b[0m     \u001b[0mpred\u001b[0m\u001b[0;34m=\u001b[0m\u001b[0mnn\u001b[0m\u001b[0;34m.\u001b[0m\u001b[0mpredict\u001b[0m\u001b[0;34m(\u001b[0m\u001b[0mx_test\u001b[0m\u001b[0;34m)\u001b[0m\u001b[0;34m\u001b[0m\u001b[0m\n\u001b[1;32m      7\u001b[0m     \u001b[0merrors\u001b[0m\u001b[0;34m.\u001b[0m\u001b[0mappend\u001b[0m\u001b[0;34m(\u001b[0m\u001b[0mmean_absolute_error\u001b[0m\u001b[0;34m(\u001b[0m\u001b[0my_test\u001b[0m\u001b[0;34m,\u001b[0m \u001b[0mpred\u001b[0m\u001b[0;34m)\u001b[0m\u001b[0;34m)\u001b[0m\u001b[0;34m\u001b[0m\u001b[0m\n\u001b[0;32m----> 8\u001b[0;31m     \u001b[0merrors\u001b[0m\u001b[0;34m.\u001b[0m\u001b[0mappend\u001b[0m\u001b[0;34m(\u001b[0m\u001b[0mmean_absolute_percentage_error\u001b[0m\u001b[0;34m(\u001b[0m\u001b[0my_test\u001b[0m\u001b[0;34m,\u001b[0m \u001b[0mpred\u001b[0m\u001b[0;34m)\u001b[0m\u001b[0;34m)\u001b[0m\u001b[0;34m\u001b[0m\u001b[0m\n\u001b[0m\u001b[1;32m      9\u001b[0m     \u001b[0merrors\u001b[0m\u001b[0;34m.\u001b[0m\u001b[0mappend\u001b[0m\u001b[0;34m(\u001b[0m\u001b[0mmetrics\u001b[0m\u001b[0;34m.\u001b[0m\u001b[0mr2_score\u001b[0m\u001b[0;34m(\u001b[0m\u001b[0my_test\u001b[0m\u001b[0;34m,\u001b[0m \u001b[0mpred\u001b[0m\u001b[0;34m)\u001b[0m\u001b[0;34m)\u001b[0m\u001b[0;34m\u001b[0m\u001b[0m\n\u001b[1;32m     10\u001b[0m     \u001b[0;32mdel\u001b[0m\u001b[0;34m(\u001b[0m\u001b[0mdf\u001b[0m\u001b[0;34m)\u001b[0m\u001b[0;34m\u001b[0m\u001b[0m\n",
      "\u001b[0;32m<ipython-input-2-001c78214c8c>\u001b[0m in \u001b[0;36mmean_absolute_percentage_error\u001b[0;34m(y_true, y_pred)\u001b[0m\n\u001b[1;32m      1\u001b[0m \u001b[0;32mdef\u001b[0m \u001b[0mmean_absolute_percentage_error\u001b[0m\u001b[0;34m(\u001b[0m\u001b[0my_true\u001b[0m\u001b[0;34m,\u001b[0m \u001b[0my_pred\u001b[0m\u001b[0;34m)\u001b[0m\u001b[0;34m:\u001b[0m\u001b[0;34m\u001b[0m\u001b[0m\n\u001b[1;32m      2\u001b[0m     \u001b[0my_true\u001b[0m\u001b[0;34m,\u001b[0m \u001b[0my_pred\u001b[0m \u001b[0;34m=\u001b[0m \u001b[0mnp\u001b[0m\u001b[0;34m.\u001b[0m\u001b[0marray\u001b[0m\u001b[0;34m(\u001b[0m\u001b[0my_true\u001b[0m\u001b[0;34m)\u001b[0m\u001b[0;34m,\u001b[0m \u001b[0mnp\u001b[0m\u001b[0;34m.\u001b[0m\u001b[0marray\u001b[0m\u001b[0;34m(\u001b[0m\u001b[0my_pred\u001b[0m\u001b[0;34m)\u001b[0m\u001b[0;34m\u001b[0m\u001b[0m\n\u001b[0;32m----> 3\u001b[0;31m     \u001b[0mMAPE\u001b[0m\u001b[0;34m=\u001b[0m\u001b[0mnp\u001b[0m\u001b[0;34m.\u001b[0m\u001b[0mmean\u001b[0m\u001b[0;34m(\u001b[0m\u001b[0mnp\u001b[0m\u001b[0;34m.\u001b[0m\u001b[0mabs\u001b[0m\u001b[0;34m(\u001b[0m\u001b[0;34m(\u001b[0m\u001b[0my_true\u001b[0m \u001b[0;34m-\u001b[0m \u001b[0my_pred\u001b[0m\u001b[0;34m)\u001b[0m \u001b[0;34m/\u001b[0m \u001b[0my_true\u001b[0m\u001b[0;34m)\u001b[0m\u001b[0;34m)\u001b[0m \u001b[0;34m*\u001b[0m \u001b[0;36m100\u001b[0m\u001b[0;34m\u001b[0m\u001b[0m\n\u001b[0m\u001b[1;32m      4\u001b[0m     \u001b[0;32mdel\u001b[0m\u001b[0;34m(\u001b[0m\u001b[0my_true\u001b[0m\u001b[0;34m)\u001b[0m\u001b[0;34m\u001b[0m\u001b[0m\n\u001b[1;32m      5\u001b[0m     \u001b[0;32mdel\u001b[0m\u001b[0;34m(\u001b[0m\u001b[0my_pred\u001b[0m\u001b[0;34m)\u001b[0m\u001b[0;34m\u001b[0m\u001b[0m\n",
      "\u001b[0;31mMemoryError\u001b[0m: "
     ]
    }
   ],
   "source": [
    "avg_MAE_nn=0\n",
    "avg_MAPE_nn=0\n",
    "avg_MAE_xgb=0\n",
    "avg_MAPE_xgb=0\n",
    "count_links_processed_nn=0\n",
    "count_links_processed_xgb=0\n",
    "r2_scores_nn=0\n",
    "r2_scores_xgb=0\n",
    "for i in range(20):\n",
    "    df_stop=stop_tools.random_stop_data()\n",
    "    df=df_stop[[ 'dewpt', 'msl', 'rain', 'rhum', 'temp', 'vappr', 'wetb']]\n",
    "    df_traveltime=df_stop[['traveltime']]\n",
    "    day_dummies = pd.get_dummies(df_stop.day, prefix='day')\n",
    "    hour_dummies = pd.get_dummies(df_stop.hour, prefix='hour')\n",
    "    df=pd.concat([df, day_dummies, hour_dummies], axis=1)\n",
    "    df_traveltime[df_traveltime['traveltime'] != 0]\n",
    "    err_nn=neural_networks(df, df_traveltime)\n",
    "    #print('Mean absolute error for NN : ', err_nn[0])\n",
    "    print('Mean absolute percentage error for NN : ', err_nn[1])\n",
    "    avg_MAE_nn+=err_nn[0]\n",
    "    print('r2 score for nn : ', err_nn[2])\n",
    "    if err_nn[1]<100:\n",
    "        avg_MAPE_nn+=err_nn[1]\n",
    "        count_links_processed_nn+=1\n",
    "    r2_scores_nn+=err_nn[2]\n",
    "    err_xgb=xgb(df,df_traveltime)\n",
    "    #print('Mean absolute error for XGB : ', err_xgb[0])\n",
    "    print('Mean absolute percentage error for XGB : ', err_xgb[1])\n",
    "    avg_MAE_xgb+=err_xgb[0]\n",
    "    if err_xgb[1]<100:\n",
    "        avg_MAPE_xgb+=err_xgb[1]\n",
    "        count_links_processed_xgb+=1\n",
    "    r2_scores_xgb+=err_xgb[2]\n",
    "    print('r2 score for xgb : ', err_xgb[2])\n",
    "    del(df)\n",
    "    \n",
    "print('Errors for NN')    \n",
    "#print('Average error ', avg_MAE_nn/10)\n",
    "print('Average MAPE ', avg_MAPE_nn/count_links_processed_nn)\n",
    "print('r2 :', r2_scores_nn/count_links_processed_nn)\n",
    "print('Errors for XGB')\n",
    "#print('Average error ', avg_MAE_xgb/10)\n",
    "print('Average MAPE ', avg_MAPE_xgb/count_links_processed_xgb)\n",
    "print('r2 :', r2_scores_xgb/count_links_processed_xgb)"
   ]
  },
  {
   "cell_type": "code",
   "execution_count": 49,
   "metadata": {},
   "outputs": [
    {
     "data": {
      "text/plain": [
       "23"
      ]
     },
     "execution_count": 49,
     "metadata": {},
     "output_type": "execute_result"
    }
   ],
   "source": [
    "count_links_processed_nn"
   ]
  },
  {
   "cell_type": "code",
   "execution_count": 50,
   "metadata": {},
   "outputs": [
    {
     "data": {
      "text/plain": [
       "23"
      ]
     },
     "execution_count": 50,
     "metadata": {},
     "output_type": "execute_result"
    }
   ],
   "source": [
    "count_links_processed_xgb"
   ]
  },
  {
   "cell_type": "code",
   "execution_count": 7,
   "metadata": {},
   "outputs": [
    {
     "data": {
      "text/plain": [
       "Index(['index', 'dayofservice', 'tripid', 'plannedtime_arr_from',\n",
       "       'plannedtime_dep_from', 'actualtime_arr_from', 'actualtime_dep_from',\n",
       "       'plannedtime_arr_to', 'actualtime_arr_to', 'routeid', 'fromstop',\n",
       "       'tostop', 'traveltime', 'dwelltime', 'distance', 'speed', 'dt', 'date',\n",
       "       'day', 'month', 'hour', 'year', 'dewpt', 'msl', 'rain', 'rhum', 'temp',\n",
       "       'vappr', 'wetb'],\n",
       "      dtype='object')"
      ]
     },
     "execution_count": 7,
     "metadata": {},
     "output_type": "execute_result"
    }
   ],
   "source": [
    "df.columns"
   ]
  },
  {
   "cell_type": "code",
   "execution_count": null,
   "metadata": {},
   "outputs": [],
   "source": []
  }
 ],
 "metadata": {
  "kernelspec": {
   "display_name": "Python 3",
   "language": "python",
   "name": "python3"
  },
  "language_info": {
   "codemirror_mode": {
    "name": "ipython",
    "version": 3
   },
   "file_extension": ".py",
   "mimetype": "text/x-python",
   "name": "python",
   "nbconvert_exporter": "python",
   "pygments_lexer": "ipython3",
   "version": "3.6.5"
  }
 },
 "nbformat": 4,
 "nbformat_minor": 2
}
