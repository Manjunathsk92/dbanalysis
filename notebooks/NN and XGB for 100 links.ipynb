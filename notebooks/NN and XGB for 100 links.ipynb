{
 "cells": [
  {
   "cell_type": "code",
   "execution_count": 1,
   "metadata": {},
   "outputs": [
    {
     "name": "stderr",
     "output_type": "stream",
     "text": [
      "/home/student/anaconda3/lib/python3.6/site-packages/sklearn/cross_validation.py:41: DeprecationWarning: This module was deprecated in version 0.18 in favor of the model_selection module into which all the refactored classes and functions are moved. Also note that the interface of the new CV iterators are different from that of this module. This module will be removed in 0.20.\n",
      "  \"This module will be removed in 0.20.\", DeprecationWarning)\n"
     ]
    }
   ],
   "source": [
    "import numpy as np\n",
    "import pandas as pd\n",
    "from sklearn.neural_network import MLPClassifier, MLPRegressor\n",
    "from sklearn.cross_validation import train_test_split\n",
    "from dbanalysis import stop_tools\n",
    "from dbanalysis import headers as hd\n",
    "import time\n",
    "from sklearn.metrics import mean_absolute_error\n",
    "import xgboost\n",
    "from xgboost import XGBRegressor\n",
    "from sklearn import metrics\n",
    "#from sklearn.utils import check_arrays\n",
    "\n",
    "pd.set_option('display.max_columns', 500)"
   ]
  },
  {
   "cell_type": "code",
   "execution_count": 2,
   "metadata": {},
   "outputs": [],
   "source": [
    "def mean_absolute_percentage_error(y_true, y_pred): \n",
    "    y_true, y_pred = np.array(y_true), np.array(y_pred)\n",
    "    MAPE=np.mean(np.abs((y_true - y_pred) / y_true)) * 100\n",
    "    del(y_true)\n",
    "    del(y_pred)\n",
    "    return MAPE"
   ]
  },
  {
   "cell_type": "code",
   "execution_count": 3,
   "metadata": {},
   "outputs": [],
   "source": [
    "def neural_networks(df, df_traveltime):\n",
    "    errors=[]\n",
    "    x_train, x_test, y_train, y_test=train_test_split(df, df_traveltime, test_size=0.2, random_state=4)\n",
    "    nn=MLPRegressor(activation='relu',solver='adam',hidden_layer_sizes=(100, 60,20),random_state=1, max_iter=1000)\n",
    "    nn.fit(x_train,y_train.values.ravel())\n",
    "    pred=nn.predict(x_test)\n",
    "    errors.append(mean_absolute_error(y_test, pred))\n",
    "    errors.append(mean_absolute_percentage_error(y_test, pred))\n",
    "    errors.append(metrics.r2_score(y_test, pred))\n",
    "    del(df)\n",
    "    del(df_traveltime)\n",
    "    return errors\n",
    "    "
   ]
  },
  {
   "cell_type": "code",
   "execution_count": 4,
   "metadata": {},
   "outputs": [],
   "source": [
    "def xgb(df, df_traveltime):\n",
    "    errors=[]\n",
    "    x_train, x_test, y_train, y_test=train_test_split(df, df_traveltime, test_size=0.2, random_state=4)\n",
    "    xgb=XGBRegressor()\n",
    "    xgb.fit(x_train,y_train.values.ravel())\n",
    "    pred=xgb.predict(x_test)\n",
    "    errors.append(mean_absolute_error(y_test, pred))\n",
    "    errors.append(mean_absolute_percentage_error(y_test, pred))\n",
    "    errors.append(metrics.r2_score(y_test, pred))\n",
    "    del(df)\n",
    "    del(df_traveltime)\n",
    "    return errors"
   ]
  },
  {
   "cell_type": "code",
   "execution_count": 5,
   "metadata": {},
   "outputs": [
    {
     "name": "stdout",
     "output_type": "stream",
     "text": [
      "Mean absolute percentage error for NN :  11.257964712485238\n",
      "r2 score for nn :  0.0010903678413085593\n",
      "Mean absolute percentage error for XGB :  11.903314153928058\n",
      "r2 score for xgb :  0.09270000992148131\n",
      "Mean absolute percentage error for NN :  16.225588001165356\n",
      "r2 score for nn :  0.02156088915593024\n",
      "Mean absolute percentage error for XGB :  18.646163928080004\n",
      "r2 score for xgb :  -2.601787067640987\n",
      "Mean absolute percentage error for NN :  25.340552380192793\n",
      "r2 score for nn :  -0.016122889739528468\n",
      "Mean absolute percentage error for XGB :  23.946410788812308\n",
      "r2 score for xgb :  0.07440784636310271\n"
     ]
    },
    {
     "name": "stderr",
     "output_type": "stream",
     "text": [
      "/home/student/anaconda3/lib/python3.6/site-packages/ipykernel_launcher.py:3: RuntimeWarning: divide by zero encountered in true_divide\n",
      "  This is separate from the ipykernel package so we can avoid doing imports until\n"
     ]
    },
    {
     "name": "stdout",
     "output_type": "stream",
     "text": [
      "Mean absolute percentage error for NN :  inf\n",
      "r2 score for nn :  -0.1241086031808809\n"
     ]
    },
    {
     "name": "stderr",
     "output_type": "stream",
     "text": [
      "/home/student/anaconda3/lib/python3.6/site-packages/ipykernel_launcher.py:3: RuntimeWarning: divide by zero encountered in true_divide\n",
      "  This is separate from the ipykernel package so we can avoid doing imports until\n"
     ]
    },
    {
     "name": "stdout",
     "output_type": "stream",
     "text": [
      "Mean absolute percentage error for XGB :  inf\n",
      "r2 score for xgb :  0.016204693538447557\n",
      "Mean absolute percentage error for NN :  12.602160063775003\n",
      "r2 score for nn :  0.006045917401829581\n",
      "Mean absolute percentage error for XGB :  14.783644378423036\n",
      "r2 score for xgb :  0.21781837778520774\n",
      "Mean absolute percentage error for NN :  19.710373534211463\n",
      "r2 score for nn :  0.005549467017372134\n",
      "Mean absolute percentage error for XGB :  19.907423158019842\n",
      "r2 score for xgb :  0.035077688151492925\n",
      "Mean absolute percentage error for NN :  15.772789974482462\n",
      "r2 score for nn :  -0.004886268674727967\n",
      "Mean absolute percentage error for XGB :  15.659391677549609\n",
      "r2 score for xgb :  0.009926641539696135\n",
      "Mean absolute percentage error for NN :  32.900540311647234\n",
      "r2 score for nn :  -1.5308791601137912\n",
      "Mean absolute percentage error for XGB :  32.17083351061204\n",
      "r2 score for xgb :  -16.771216404064738\n",
      "Mean absolute percentage error for NN :  27.311147823154453\n",
      "r2 score for nn :  -1.7763166992227197\n",
      "Mean absolute percentage error for XGB :  19.87299305349076\n",
      "r2 score for xgb :  -1.1144400247551371\n",
      "Mean absolute percentage error for NN :  7.912314548790447\n",
      "r2 score for nn :  -0.000534825268034389\n",
      "Mean absolute percentage error for XGB :  7.829793250975431\n",
      "r2 score for xgb :  -0.007658051229295415\n",
      "Mean absolute percentage error for NN :  12.75679360947111\n",
      "r2 score for nn :  0.0031814113416809287\n",
      "Mean absolute percentage error for XGB :  13.860125355763877\n",
      "r2 score for xgb :  0.21591888253063252\n",
      "Mean absolute percentage error for NN :  24.84615468421391\n",
      "r2 score for nn :  0.10620335469095887\n",
      "Mean absolute percentage error for XGB :  28.194309195606415\n",
      "r2 score for xgb :  0.23897228072656307\n",
      "Mean absolute percentage error for NN :  18.263796850881974\n",
      "r2 score for nn :  0.029923325520303745\n",
      "Mean absolute percentage error for XGB :  20.066255569803168\n",
      "r2 score for xgb :  0.10160757890939542\n",
      "Mean absolute percentage error for NN :  11.94537751735618\n",
      "r2 score for nn :  0.0010325045583964299\n",
      "Mean absolute percentage error for XGB :  13.07663884219274\n",
      "r2 score for xgb :  -0.06478960933338151\n",
      "Mean absolute percentage error for NN :  24.813977165555993\n",
      "r2 score for nn :  0.06710420432909503\n",
      "Mean absolute percentage error for XGB :  28.984999057256367\n",
      "r2 score for xgb :  0.1699310837865523\n",
      "Mean absolute percentage error for NN :  37.456198717763996\n",
      "r2 score for nn :  0.0025383395735468772\n",
      "Mean absolute percentage error for XGB :  44.34283710557407\n",
      "r2 score for xgb :  0.09560975392154725\n"
     ]
    },
    {
     "name": "stderr",
     "output_type": "stream",
     "text": [
      "/home/student/anaconda3/lib/python3.6/site-packages/ipykernel_launcher.py:3: RuntimeWarning: divide by zero encountered in true_divide\n",
      "  This is separate from the ipykernel package so we can avoid doing imports until\n"
     ]
    },
    {
     "name": "stdout",
     "output_type": "stream",
     "text": [
      "Mean absolute percentage error for NN :  inf\n",
      "r2 score for nn :  0.0014967852010450144\n"
     ]
    },
    {
     "name": "stderr",
     "output_type": "stream",
     "text": [
      "/home/student/anaconda3/lib/python3.6/site-packages/ipykernel_launcher.py:3: RuntimeWarning: divide by zero encountered in true_divide\n",
      "  This is separate from the ipykernel package so we can avoid doing imports until\n"
     ]
    },
    {
     "name": "stdout",
     "output_type": "stream",
     "text": [
      "Mean absolute percentage error for XGB :  inf\n",
      "r2 score for xgb :  0.010814969350340542\n",
      "Mean absolute percentage error for NN :  15.547719525503052\n",
      "r2 score for nn :  -0.0015971444399660584\n",
      "Mean absolute percentage error for XGB :  15.949473325100701\n",
      "r2 score for xgb :  0.018718694796437174\n",
      "Mean absolute percentage error for NN :  54.32923476827492\n",
      "r2 score for nn :  -0.02734620641687968\n",
      "Mean absolute percentage error for XGB :  67.43755041485296\n",
      "r2 score for xgb :  0.10467599503076952\n",
      "Mean absolute percentage error for NN :  35.723117142434816\n",
      "r2 score for nn :  0.12024910977743875\n",
      "Mean absolute percentage error for XGB :  37.91402109324667\n",
      "r2 score for xgb :  0.12529512584143376\n",
      "Mean absolute percentage error for NN :  20.32265045787947\n",
      "r2 score for nn :  0.0412085389734671\n",
      "Mean absolute percentage error for XGB :  20.804975825090956\n",
      "r2 score for xgb :  0.09071806913230462\n",
      "Mean absolute percentage error for NN :  10.93102941641439\n",
      "r2 score for nn :  -0.00026586038624376584\n",
      "Mean absolute percentage error for XGB :  11.269182228692836\n",
      "r2 score for xgb :  0.0010521433233672273\n",
      "Mean absolute percentage error for NN :  12.14131351202493\n",
      "r2 score for nn :  -0.004151473189684118\n",
      "Mean absolute percentage error for XGB :  13.664381866356523\n",
      "r2 score for xgb :  -0.5629202509212978\n",
      "Mean absolute percentage error for NN :  24.82931036190418\n",
      "r2 score for nn :  -0.2995706326468486\n",
      "Mean absolute percentage error for XGB :  19.701025096806973\n",
      "r2 score for xgb :  -0.015798818037324525\n",
      "Mean absolute percentage error for NN :  10.184171153177687\n",
      "r2 score for nn :  -0.006892113108091458\n",
      "Mean absolute percentage error for XGB :  10.828885378603225\n",
      "r2 score for xgb :  0.03333435356841652\n",
      "Mean absolute percentage error for NN :  42.437351228596725\n",
      "r2 score for nn :  0.2374609806238388\n",
      "Mean absolute percentage error for XGB :  42.00102775619726\n",
      "r2 score for xgb :  0.25766388428851694\n",
      "Mean absolute percentage error for NN :  11.390190335708436\n",
      "r2 score for nn :  0.14537872108389138\n",
      "Mean absolute percentage error for XGB :  11.603126281729383\n",
      "r2 score for xgb :  0.15853970695050768\n",
      "Mean absolute percentage error for NN :  10.123658760434365\n",
      "r2 score for nn :  0.017366907602647252\n",
      "Mean absolute percentage error for XGB :  10.808441540184988\n",
      "r2 score for xgb :  0.12041240459284586\n",
      "Mean absolute percentage error for NN :  34.445531013738915\n",
      "r2 score for nn :  0.032862589089083905\n",
      "Mean absolute percentage error for XGB :  36.189526284340126\n",
      "r2 score for xgb :  0.04408907909720294\n",
      "Mean absolute percentage error for NN :  32.535034766482156\n",
      "r2 score for nn :  0.019235480905361646\n",
      "Mean absolute percentage error for XGB :  33.5478645078257\n",
      "r2 score for xgb :  0.2122886928353923\n",
      "Mean absolute percentage error for NN :  28.150803320265684\n",
      "r2 score for nn :  7.362760789275669e-05\n",
      "Mean absolute percentage error for XGB :  28.52988327159351\n",
      "r2 score for xgb :  0.0496797808039372\n",
      "Mean absolute percentage error for NN :  13.47825887906437\n",
      "r2 score for nn :  -0.04678687408075022\n",
      "Mean absolute percentage error for XGB :  14.431002316041392\n",
      "r2 score for xgb :  -1.662593849419419\n",
      "Mean absolute percentage error for NN :  23.026114254317232\n",
      "r2 score for nn :  0.007617525301889083\n",
      "Mean absolute percentage error for XGB :  23.733039504349616\n",
      "r2 score for xgb :  0.008431021468830457\n",
      "Mean absolute percentage error for NN :  20.36337334858947\n",
      "r2 score for nn :  0.02127555529733749\n",
      "Mean absolute percentage error for XGB :  26.009851504180602\n",
      "r2 score for xgb :  0.22119661895495635\n",
      "Mean absolute percentage error for NN :  53.956923965909866\n",
      "r2 score for nn :  -0.7965016915313083\n",
      "Mean absolute percentage error for XGB :  26.159011800785102\n",
      "r2 score for xgb :  -0.487429796457717\n",
      "Mean absolute percentage error for NN :  55.62839006183252\n",
      "r2 score for nn :  0.26392394843958855\n",
      "Mean absolute percentage error for XGB :  51.78299508863644\n",
      "r2 score for xgb :  0.3293083866655011\n",
      "Mean absolute percentage error for NN :  18.539090650707344\n",
      "r2 score for nn :  -0.030977761086431466\n",
      "Mean absolute percentage error for XGB :  22.559036788184468\n",
      "r2 score for xgb :  0.062023069090987204\n",
      "Mean absolute percentage error for NN :  39.63763466043456\n",
      "r2 score for nn :  0.10228205994999351\n",
      "Mean absolute percentage error for XGB :  37.36725167358523\n",
      "r2 score for xgb :  0.182171904999759\n"
     ]
    },
    {
     "ename": "ValueError",
     "evalue": "Found array with 0 sample(s) (shape=(0, 7)) while a minimum of 1 is required.",
     "output_type": "error",
     "traceback": [
      "\u001b[0;31m---------------------------------------------------------------------------\u001b[0m",
      "\u001b[0;31mValueError\u001b[0m                                Traceback (most recent call last)",
      "\u001b[0;32m<ipython-input-5-02cd8cae2932>\u001b[0m in \u001b[0;36m<module>\u001b[0;34m()\u001b[0m\n\u001b[1;32m     15\u001b[0m     \u001b[0mdf\u001b[0m\u001b[0;34m=\u001b[0m\u001b[0mpd\u001b[0m\u001b[0;34m.\u001b[0m\u001b[0mconcat\u001b[0m\u001b[0;34m(\u001b[0m\u001b[0;34m[\u001b[0m\u001b[0mdf\u001b[0m\u001b[0;34m,\u001b[0m \u001b[0mday_dummies\u001b[0m\u001b[0;34m,\u001b[0m \u001b[0mhour_dummies\u001b[0m\u001b[0;34m]\u001b[0m\u001b[0;34m,\u001b[0m \u001b[0maxis\u001b[0m\u001b[0;34m=\u001b[0m\u001b[0;36m1\u001b[0m\u001b[0;34m)\u001b[0m\u001b[0;34m\u001b[0m\u001b[0m\n\u001b[1;32m     16\u001b[0m     \u001b[0mdf_traveltime\u001b[0m\u001b[0;34m[\u001b[0m\u001b[0mdf_traveltime\u001b[0m\u001b[0;34m[\u001b[0m\u001b[0;34m'traveltime'\u001b[0m\u001b[0;34m]\u001b[0m \u001b[0;34m!=\u001b[0m \u001b[0;36m0\u001b[0m\u001b[0;34m]\u001b[0m\u001b[0;34m\u001b[0m\u001b[0m\n\u001b[0;32m---> 17\u001b[0;31m     \u001b[0merr_nn\u001b[0m\u001b[0;34m=\u001b[0m\u001b[0mneural_networks\u001b[0m\u001b[0;34m(\u001b[0m\u001b[0mdf\u001b[0m\u001b[0;34m,\u001b[0m \u001b[0mdf_traveltime\u001b[0m\u001b[0;34m)\u001b[0m\u001b[0;34m\u001b[0m\u001b[0m\n\u001b[0m\u001b[1;32m     18\u001b[0m     \u001b[0;31m#print('Mean absolute error for NN : ', err_nn[0])\u001b[0m\u001b[0;34m\u001b[0m\u001b[0;34m\u001b[0m\u001b[0m\n\u001b[1;32m     19\u001b[0m     \u001b[0mprint\u001b[0m\u001b[0;34m(\u001b[0m\u001b[0;34m'Mean absolute percentage error for NN : '\u001b[0m\u001b[0;34m,\u001b[0m \u001b[0merr_nn\u001b[0m\u001b[0;34m[\u001b[0m\u001b[0;36m1\u001b[0m\u001b[0;34m]\u001b[0m\u001b[0;34m)\u001b[0m\u001b[0;34m\u001b[0m\u001b[0m\n",
      "\u001b[0;32m<ipython-input-3-59606cb8e3c6>\u001b[0m in \u001b[0;36mneural_networks\u001b[0;34m(df, df_traveltime)\u001b[0m\n\u001b[1;32m      3\u001b[0m     \u001b[0mx_train\u001b[0m\u001b[0;34m,\u001b[0m \u001b[0mx_test\u001b[0m\u001b[0;34m,\u001b[0m \u001b[0my_train\u001b[0m\u001b[0;34m,\u001b[0m \u001b[0my_test\u001b[0m\u001b[0;34m=\u001b[0m\u001b[0mtrain_test_split\u001b[0m\u001b[0;34m(\u001b[0m\u001b[0mdf\u001b[0m\u001b[0;34m,\u001b[0m \u001b[0mdf_traveltime\u001b[0m\u001b[0;34m,\u001b[0m \u001b[0mtest_size\u001b[0m\u001b[0;34m=\u001b[0m\u001b[0;36m0.2\u001b[0m\u001b[0;34m,\u001b[0m \u001b[0mrandom_state\u001b[0m\u001b[0;34m=\u001b[0m\u001b[0;36m4\u001b[0m\u001b[0;34m)\u001b[0m\u001b[0;34m\u001b[0m\u001b[0m\n\u001b[1;32m      4\u001b[0m     \u001b[0mnn\u001b[0m\u001b[0;34m=\u001b[0m\u001b[0mMLPRegressor\u001b[0m\u001b[0;34m(\u001b[0m\u001b[0mactivation\u001b[0m\u001b[0;34m=\u001b[0m\u001b[0;34m'relu'\u001b[0m\u001b[0;34m,\u001b[0m\u001b[0msolver\u001b[0m\u001b[0;34m=\u001b[0m\u001b[0;34m'adam'\u001b[0m\u001b[0;34m,\u001b[0m\u001b[0mhidden_layer_sizes\u001b[0m\u001b[0;34m=\u001b[0m\u001b[0;34m(\u001b[0m\u001b[0;36m100\u001b[0m\u001b[0;34m,\u001b[0m \u001b[0;36m60\u001b[0m\u001b[0;34m,\u001b[0m\u001b[0;36m20\u001b[0m\u001b[0;34m)\u001b[0m\u001b[0;34m,\u001b[0m\u001b[0mrandom_state\u001b[0m\u001b[0;34m=\u001b[0m\u001b[0;36m1\u001b[0m\u001b[0;34m,\u001b[0m \u001b[0mmax_iter\u001b[0m\u001b[0;34m=\u001b[0m\u001b[0;36m1000\u001b[0m\u001b[0;34m)\u001b[0m\u001b[0;34m\u001b[0m\u001b[0m\n\u001b[0;32m----> 5\u001b[0;31m     \u001b[0mnn\u001b[0m\u001b[0;34m.\u001b[0m\u001b[0mfit\u001b[0m\u001b[0;34m(\u001b[0m\u001b[0mx_train\u001b[0m\u001b[0;34m,\u001b[0m\u001b[0my_train\u001b[0m\u001b[0;34m.\u001b[0m\u001b[0mvalues\u001b[0m\u001b[0;34m.\u001b[0m\u001b[0mravel\u001b[0m\u001b[0;34m(\u001b[0m\u001b[0;34m)\u001b[0m\u001b[0;34m)\u001b[0m\u001b[0;34m\u001b[0m\u001b[0m\n\u001b[0m\u001b[1;32m      6\u001b[0m     \u001b[0mpred\u001b[0m\u001b[0;34m=\u001b[0m\u001b[0mnn\u001b[0m\u001b[0;34m.\u001b[0m\u001b[0mpredict\u001b[0m\u001b[0;34m(\u001b[0m\u001b[0mx_test\u001b[0m\u001b[0;34m)\u001b[0m\u001b[0;34m\u001b[0m\u001b[0m\n\u001b[1;32m      7\u001b[0m     \u001b[0merrors\u001b[0m\u001b[0;34m.\u001b[0m\u001b[0mappend\u001b[0m\u001b[0;34m(\u001b[0m\u001b[0mmean_absolute_error\u001b[0m\u001b[0;34m(\u001b[0m\u001b[0my_test\u001b[0m\u001b[0;34m,\u001b[0m \u001b[0mpred\u001b[0m\u001b[0;34m)\u001b[0m\u001b[0;34m)\u001b[0m\u001b[0;34m\u001b[0m\u001b[0m\n",
      "\u001b[0;32m~/anaconda3/lib/python3.6/site-packages/sklearn/neural_network/multilayer_perceptron.py\u001b[0m in \u001b[0;36mfit\u001b[0;34m(self, X, y)\u001b[0m\n\u001b[1;32m    618\u001b[0m         \u001b[0mself\u001b[0m \u001b[0;34m:\u001b[0m \u001b[0mreturns\u001b[0m \u001b[0ma\u001b[0m \u001b[0mtrained\u001b[0m \u001b[0mMLP\u001b[0m \u001b[0mmodel\u001b[0m\u001b[0;34m.\u001b[0m\u001b[0;34m\u001b[0m\u001b[0m\n\u001b[1;32m    619\u001b[0m         \"\"\"\n\u001b[0;32m--> 620\u001b[0;31m         \u001b[0;32mreturn\u001b[0m \u001b[0mself\u001b[0m\u001b[0;34m.\u001b[0m\u001b[0m_fit\u001b[0m\u001b[0;34m(\u001b[0m\u001b[0mX\u001b[0m\u001b[0;34m,\u001b[0m \u001b[0my\u001b[0m\u001b[0;34m,\u001b[0m \u001b[0mincremental\u001b[0m\u001b[0;34m=\u001b[0m\u001b[0;32mFalse\u001b[0m\u001b[0;34m)\u001b[0m\u001b[0;34m\u001b[0m\u001b[0m\n\u001b[0m\u001b[1;32m    621\u001b[0m \u001b[0;34m\u001b[0m\u001b[0m\n\u001b[1;32m    622\u001b[0m     \u001b[0;34m@\u001b[0m\u001b[0mproperty\u001b[0m\u001b[0;34m\u001b[0m\u001b[0m\n",
      "\u001b[0;32m~/anaconda3/lib/python3.6/site-packages/sklearn/neural_network/multilayer_perceptron.py\u001b[0m in \u001b[0;36m_fit\u001b[0;34m(self, X, y, incremental)\u001b[0m\n\u001b[1;32m    329\u001b[0m                              hidden_layer_sizes)\n\u001b[1;32m    330\u001b[0m \u001b[0;34m\u001b[0m\u001b[0m\n\u001b[0;32m--> 331\u001b[0;31m         \u001b[0mX\u001b[0m\u001b[0;34m,\u001b[0m \u001b[0my\u001b[0m \u001b[0;34m=\u001b[0m \u001b[0mself\u001b[0m\u001b[0;34m.\u001b[0m\u001b[0m_validate_input\u001b[0m\u001b[0;34m(\u001b[0m\u001b[0mX\u001b[0m\u001b[0;34m,\u001b[0m \u001b[0my\u001b[0m\u001b[0;34m,\u001b[0m \u001b[0mincremental\u001b[0m\u001b[0;34m)\u001b[0m\u001b[0;34m\u001b[0m\u001b[0m\n\u001b[0m\u001b[1;32m    332\u001b[0m         \u001b[0mn_samples\u001b[0m\u001b[0;34m,\u001b[0m \u001b[0mn_features\u001b[0m \u001b[0;34m=\u001b[0m \u001b[0mX\u001b[0m\u001b[0;34m.\u001b[0m\u001b[0mshape\u001b[0m\u001b[0;34m\u001b[0m\u001b[0m\n\u001b[1;32m    333\u001b[0m \u001b[0;34m\u001b[0m\u001b[0m\n",
      "\u001b[0;32m~/anaconda3/lib/python3.6/site-packages/sklearn/neural_network/multilayer_perceptron.py\u001b[0m in \u001b[0;36m_validate_input\u001b[0;34m(self, X, y, incremental)\u001b[0m\n\u001b[1;32m   1302\u001b[0m     \u001b[0;32mdef\u001b[0m \u001b[0m_validate_input\u001b[0m\u001b[0;34m(\u001b[0m\u001b[0mself\u001b[0m\u001b[0;34m,\u001b[0m \u001b[0mX\u001b[0m\u001b[0;34m,\u001b[0m \u001b[0my\u001b[0m\u001b[0;34m,\u001b[0m \u001b[0mincremental\u001b[0m\u001b[0;34m)\u001b[0m\u001b[0;34m:\u001b[0m\u001b[0;34m\u001b[0m\u001b[0m\n\u001b[1;32m   1303\u001b[0m         X, y = check_X_y(X, y, accept_sparse=['csr', 'csc', 'coo'],\n\u001b[0;32m-> 1304\u001b[0;31m                          multi_output=True, y_numeric=True)\n\u001b[0m\u001b[1;32m   1305\u001b[0m         \u001b[0;32mif\u001b[0m \u001b[0my\u001b[0m\u001b[0;34m.\u001b[0m\u001b[0mndim\u001b[0m \u001b[0;34m==\u001b[0m \u001b[0;36m2\u001b[0m \u001b[0;32mand\u001b[0m \u001b[0my\u001b[0m\u001b[0;34m.\u001b[0m\u001b[0mshape\u001b[0m\u001b[0;34m[\u001b[0m\u001b[0;36m1\u001b[0m\u001b[0;34m]\u001b[0m \u001b[0;34m==\u001b[0m \u001b[0;36m1\u001b[0m\u001b[0;34m:\u001b[0m\u001b[0;34m\u001b[0m\u001b[0m\n\u001b[1;32m   1306\u001b[0m             \u001b[0my\u001b[0m \u001b[0;34m=\u001b[0m \u001b[0mcolumn_or_1d\u001b[0m\u001b[0;34m(\u001b[0m\u001b[0my\u001b[0m\u001b[0;34m,\u001b[0m \u001b[0mwarn\u001b[0m\u001b[0;34m=\u001b[0m\u001b[0;32mTrue\u001b[0m\u001b[0;34m)\u001b[0m\u001b[0;34m\u001b[0m\u001b[0m\n",
      "\u001b[0;32m~/anaconda3/lib/python3.6/site-packages/sklearn/utils/validation.py\u001b[0m in \u001b[0;36mcheck_X_y\u001b[0;34m(X, y, accept_sparse, dtype, order, copy, force_all_finite, ensure_2d, allow_nd, multi_output, ensure_min_samples, ensure_min_features, y_numeric, warn_on_dtype, estimator)\u001b[0m\n\u001b[1;32m    571\u001b[0m     X = check_array(X, accept_sparse, dtype, order, copy, force_all_finite,\n\u001b[1;32m    572\u001b[0m                     \u001b[0mensure_2d\u001b[0m\u001b[0;34m,\u001b[0m \u001b[0mallow_nd\u001b[0m\u001b[0;34m,\u001b[0m \u001b[0mensure_min_samples\u001b[0m\u001b[0;34m,\u001b[0m\u001b[0;34m\u001b[0m\u001b[0m\n\u001b[0;32m--> 573\u001b[0;31m                     ensure_min_features, warn_on_dtype, estimator)\n\u001b[0m\u001b[1;32m    574\u001b[0m     \u001b[0;32mif\u001b[0m \u001b[0mmulti_output\u001b[0m\u001b[0;34m:\u001b[0m\u001b[0;34m\u001b[0m\u001b[0m\n\u001b[1;32m    575\u001b[0m         y = check_array(y, 'csr', force_all_finite=True, ensure_2d=False,\n",
      "\u001b[0;32m~/anaconda3/lib/python3.6/site-packages/sklearn/utils/validation.py\u001b[0m in \u001b[0;36mcheck_array\u001b[0;34m(array, accept_sparse, dtype, order, copy, force_all_finite, ensure_2d, allow_nd, ensure_min_samples, ensure_min_features, warn_on_dtype, estimator)\u001b[0m\n\u001b[1;32m    460\u001b[0m                              \u001b[0;34m\" minimum of %d is required%s.\"\u001b[0m\u001b[0;34m\u001b[0m\u001b[0m\n\u001b[1;32m    461\u001b[0m                              % (n_samples, shape_repr, ensure_min_samples,\n\u001b[0;32m--> 462\u001b[0;31m                                 context))\n\u001b[0m\u001b[1;32m    463\u001b[0m \u001b[0;34m\u001b[0m\u001b[0m\n\u001b[1;32m    464\u001b[0m     \u001b[0;32mif\u001b[0m \u001b[0mensure_min_features\u001b[0m \u001b[0;34m>\u001b[0m \u001b[0;36m0\u001b[0m \u001b[0;32mand\u001b[0m \u001b[0marray\u001b[0m\u001b[0;34m.\u001b[0m\u001b[0mndim\u001b[0m \u001b[0;34m==\u001b[0m \u001b[0;36m2\u001b[0m\u001b[0;34m:\u001b[0m\u001b[0;34m\u001b[0m\u001b[0m\n",
      "\u001b[0;31mValueError\u001b[0m: Found array with 0 sample(s) (shape=(0, 7)) while a minimum of 1 is required."
     ]
    }
   ],
   "source": [
    "avg_MAE_nn=0\n",
    "avg_MAPE_nn=0\n",
    "avg_MAE_xgb=0\n",
    "avg_MAPE_xgb=0\n",
    "count_links_processed_nn=0\n",
    "count_links_processed_xgb=0\n",
    "r2_scores_nn=0\n",
    "r2_scores_xgb=0\n",
    "for i in range(50):\n",
    "    df_stop=stop_tools.random_stop_data()\n",
    "    df=df_stop[[ 'dewpt', 'msl', 'rain', 'rhum', 'temp', 'vappr', 'wetb']]\n",
    "    df_traveltime=df_stop[['traveltime']]\n",
    "    day_dummies = pd.get_dummies(df_stop.day, prefix='day')\n",
    "    hour_dummies = pd.get_dummies(df_stop.hour, prefix='hour')\n",
    "    df=pd.concat([df, day_dummies, hour_dummies], axis=1)\n",
    "    df_traveltime[df_traveltime['traveltime'] != 0]\n",
    "    err_nn=neural_networks(df, df_traveltime)\n",
    "    #print('Mean absolute error for NN : ', err_nn[0])\n",
    "    print('Mean absolute percentage error for NN : ', err_nn[1])\n",
    "    avg_MAE_nn+=err_nn[0]\n",
    "    print('r2 score for nn : ', err_nn[2])\n",
    "    if err_nn[1]<100:\n",
    "        avg_MAPE_nn+=err_nn[1]\n",
    "        count_links_processed_nn+=1\n",
    "    r2_scores_nn+=err_nn[2]\n",
    "    err_xgb=xgb(df,df_traveltime)\n",
    "    #print('Mean absolute error for XGB : ', err_xgb[0])\n",
    "    print('Mean absolute percentage error for XGB : ', err_xgb[1])\n",
    "    avg_MAE_xgb+=err_xgb[0]\n",
    "    if err_xgb[1]<100:\n",
    "        avg_MAPE_xgb+=err_xgb[1]\n",
    "        count_links_processed_xgb+=1\n",
    "    r2_scores_xgb+=err_xgb[2]\n",
    "    print('r2 score for xgb : ', err_xgb[2])\n",
    "    del(df)\n",
    "    \n",
    "print('Errors for NN')    \n",
    "#print('Average error ', avg_MAE_nn/10)\n",
    "print('Average MAPE ', avg_MAPE_nn/count_links_processed_nn)\n",
    "print('r2 :', r2_scores_nn/count_links_processed_nn)\n",
    "print('Errors for XGB')\n",
    "#print('Average error ', avg_MAE_xgb/10)\n",
    "print('Average MAPE ', avg_MAPE_xgb/count_links_processed_xgb)\n",
    "print('r2 :', r2_scores_xgb/count_links_processed_xgb)"
   ]
  },
  {
   "cell_type": "code",
   "execution_count": 49,
   "metadata": {},
   "outputs": [
    {
     "data": {
      "text/plain": [
       "23"
      ]
     },
     "execution_count": 49,
     "metadata": {},
     "output_type": "execute_result"
    }
   ],
   "source": [
    "count_links_processed_nn"
   ]
  },
  {
   "cell_type": "code",
   "execution_count": 50,
   "metadata": {},
   "outputs": [
    {
     "data": {
      "text/plain": [
       "23"
      ]
     },
     "execution_count": 50,
     "metadata": {},
     "output_type": "execute_result"
    }
   ],
   "source": [
    "count_links_processed_xgb"
   ]
  },
  {
   "cell_type": "code",
   "execution_count": 7,
   "metadata": {},
   "outputs": [
    {
     "data": {
      "text/plain": [
       "Index(['index', 'dayofservice', 'tripid', 'plannedtime_arr_from',\n",
       "       'plannedtime_dep_from', 'actualtime_arr_from', 'actualtime_dep_from',\n",
       "       'plannedtime_arr_to', 'actualtime_arr_to', 'routeid', 'fromstop',\n",
       "       'tostop', 'traveltime', 'dwelltime', 'distance', 'speed', 'dt', 'date',\n",
       "       'day', 'month', 'hour', 'year', 'dewpt', 'msl', 'rain', 'rhum', 'temp',\n",
       "       'vappr', 'wetb'],\n",
       "      dtype='object')"
      ]
     },
     "execution_count": 7,
     "metadata": {},
     "output_type": "execute_result"
    }
   ],
   "source": [
    "df.columns"
   ]
  },
  {
   "cell_type": "code",
   "execution_count": null,
   "metadata": {},
   "outputs": [],
   "source": []
  }
 ],
 "metadata": {
  "kernelspec": {
   "display_name": "Python 3",
   "language": "python",
   "name": "python3"
  },
  "language_info": {
   "codemirror_mode": {
    "name": "ipython",
    "version": 3
   },
   "file_extension": ".py",
   "mimetype": "text/x-python",
   "name": "python",
   "nbconvert_exporter": "python",
   "pygments_lexer": "ipython3",
   "version": "3.6.5"
  }
 },
 "nbformat": 4,
 "nbformat_minor": 2
}
