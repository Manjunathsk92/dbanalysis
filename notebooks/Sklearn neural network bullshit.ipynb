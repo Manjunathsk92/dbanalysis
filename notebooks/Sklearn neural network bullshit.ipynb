{
 "cells": [
  {
   "cell_type": "code",
   "execution_count": 2,
   "metadata": {},
   "outputs": [],
   "source": [
    "from dbanalysis import stop_tools"
   ]
  },
  {
   "cell_type": "code",
   "execution_count": 6,
   "metadata": {},
   "outputs": [],
   "source": [
    "import pandas as pd\n"
   ]
  },
  {
   "cell_type": "code",
   "execution_count": 5,
   "metadata": {},
   "outputs": [],
   "source": [
    "\n",
    "from sklearn.neural_network import MLPRegressor as neural_net"
   ]
  },
  {
   "cell_type": "code",
   "execution_count": 4,
   "metadata": {},
   "outputs": [],
   "source": [
    "import numpy as np\n"
   ]
  },
  {
   "cell_type": "code",
   "execution_count": 8,
   "metadata": {},
   "outputs": [
    {
     "data": {
      "text/plain": [
       "10269"
      ]
     },
     "execution_count": 8,
     "metadata": {},
     "output_type": "execute_result"
    }
   ],
   "source": [
    "df.shape[0]"
   ]
  },
  {
   "cell_type": "code",
   "execution_count": 9,
   "metadata": {},
   "outputs": [],
   "source": []
  },
  {
   "cell_type": "code",
   "execution_count": 83,
   "metadata": {},
   "outputs": [
    {
     "data": {
      "text/plain": [
       "1"
      ]
     },
     "execution_count": 83,
     "metadata": {},
     "output_type": "execute_result"
    }
   ],
   "source": [
    "df['month'].min()"
   ]
  },
  {
   "cell_type": "code",
   "execution_count": null,
   "metadata": {},
   "outputs": [
    {
     "name": "stdout",
     "output_type": "stream",
     "text": [
      "43.16740646797717\n",
      "43.16740646797717\n",
      "15.228518020817914 -1.0861777203777971\n",
      "6.9165717530454085 -0.024316085765168305\n",
      "\n",
      "52.56287425149701\n",
      "52.56287425149701\n",
      "16.106510731772175 -0.151167026633251\n",
      "12.230825199668873 0.042730702521187824\n",
      "\n",
      "75.81061616431049\n",
      "75.81061616431049\n",
      "28.313644228427503 -0.7065530460511107\n",
      "17.126941461871965 0.007126191443933005\n",
      "\n",
      "68.87098858496661\n",
      "68.87098858496661\n",
      "29.472046420605295 -0.541322256640318\n",
      "21.2485181737887 0.006381018022038498\n",
      "\n",
      "75.09718462371413\n",
      "75.09718462371413\n",
      "35.45335145070449 -1.1131055086016155\n",
      "21.85537538622985 0.06365497867921843\n",
      "\n",
      "55.96950146627566\n",
      "55.96950146627566\n",
      "30.15095520495307 -0.4084200051376743\n",
      "25.33965396319888 0.03394326759304156\n",
      "\n",
      "99.54638863705047\n",
      "99.54638863705047\n",
      "41.47556309830654 -1.3343368052021698\n",
      "27.01674232383963 0.010284514103276132\n",
      "\n",
      "46.4834406623735\n",
      "46.4834406623735\n",
      "18.566202135995844 -1.1714996102475204\n",
      "12.319324689609326 0.006581330846566091\n"
     ]
    }
   ],
   "source": [
    "abserr=0\n",
    "count=0\n",
    "r2=0\n",
    "from sklearn.linear_model import LinearRegression\n",
    "for i in range(100):\n",
    "    if True:\n",
    "        df = stop_tools.random_stop_data()\n",
    "        df['month']=df['dt'].dt.month\n",
    "        df['dayofweek']=df['dt'].dt.dayofweek\n",
    "        cols = ['actualtime_arr_from','hour','hour','month','dayofweek','distance']\n",
    "        msk = np.random.rand(len(df)) < 0.8\n",
    "        train = df[df['month']<5]\n",
    "        test=df[df['month']>=5]\n",
    "        print((df['actualtime_arr_to']-df['actualtime_dep_from']).mean())\n",
    "        print(df['traveltime'].mean())\n",
    "        regr = neural_net(hidden_layer_sizes=(100,100,100,100,100,100)).fit(train[cols],train['traveltime'])\n",
    "        regr2 = LinearRegression(fit_intercept=True).fit(train[cols],train['traveltime'])\n",
    "        predicts = regr.predict(test[cols])\n",
    "        predicts2 = regr2.predict(test[cols])\n",
    "        a=metrics.mean_absolute_error(test['traveltime'],predicts)\n",
    "        b=metrics.r2_score(test['traveltime'],predicts)\n",
    "        c=metrics.mean_absolute_error(test['traveltime'],predicts2)\n",
    "        d=metrics.r2_score(test['traveltime'],predicts2)\n",
    "        print(a,b)\n",
    "        print(c,d)\n",
    "        input()\n",
    "        abserr+=a\n",
    "        r2+=b\n",
    "        count+=1\n",
    "    \n",
    "        pass\n",
    "print(r2/count)\n",
    "print(abserr/count)\n",
    "print(count)"
   ]
  },
  {
   "cell_type": "code",
   "execution_count": null,
   "metadata": {},
   "outputs": [],
   "source": []
  },
  {
   "cell_type": "code",
   "execution_count": 142,
   "metadata": {},
   "outputs": [
    {
     "name": "stdout",
     "output_type": "stream",
     "text": [
      "50.015063418379874 0.9999866950687438\n"
     ]
    },
    {
     "name": "stderr",
     "output_type": "stream",
     "text": [
      "/home/student/anaconda3/lib/python3.6/site-packages/sklearn/neural_network/multilayer_perceptron.py:566: UserWarning: Training interrupted by user.\n",
      "  warnings.warn(\"Training interrupted by user.\")\n"
     ]
    },
    {
     "name": "stdout",
     "output_type": "stream",
     "text": [
      "5427.5659884287215 0.8857619593293028\n",
      "30.999711572072062 0.9999957219639224\n",
      "12.947484777358053 0.9999990918806431\n",
      "3684.8491803165844 0.942024404218951\n",
      "21.848783514589183 0.9999979883712585\n",
      "24.265421798011864 0.9999950531629554\n",
      "27.56851303729947 0.9999944291077816\n",
      "30.174121750420664 0.9999946024364853\n",
      "23.09443324125038 0.9999925182637656\n",
      "68.76585721170672 0.9999733292491674\n",
      "52.400408347912595 0.999982242725305\n",
      "19.604085474130038 0.9999961249899376\n",
      "6066.72602735363 -77.56399999754206\n",
      "62.63305617577138 0.9999781549498379\n",
      "10225.100637216594 0.2464771149116728\n",
      "16.270995472543035 0.9999985748753282\n",
      "14.97351461927679 0.9999987493452394\n",
      "23.701735794207774 0.9999967682211475\n",
      "17.431557697082102 0.9999984790985158\n",
      "22.24365339278414 0.9999967772944091\n",
      "14.733859707213993 0.999997874363915\n",
      "27.519216909335547 0.9999930999441217\n",
      "21.968204820800754 0.9999933087493668\n",
      "14.429272653361059 0.9999989572586564\n",
      "36.99847233384732 0.9999918983383795\n",
      "21.80882863967383 0.9999974305995568\n",
      "9.48135345539733 0.999999478541253\n",
      "12.737797896709742 0.9999990773844754\n",
      "46.10025524549567 0.9999833070935702\n",
      "28.88163460934603 0.9999939381518569\n",
      "19.33788717805102 0.9999978059393196\n",
      "3635.178548738076 -2.60345600383157\n",
      "17.99485626430074 0.9999984289806568\n",
      "20.270664335650192 0.9999971091823963\n",
      "22.226135734036014 0.9999970101561148\n",
      "22.83433874646334 0.999997871681001\n",
      "10.366502805547169 0.9999990185559954\n",
      "9.032931359888488 0.9999995637290415\n",
      "14.848612716493767 0.9999986761149141\n",
      "41.22362859284959 0.9999917851432453\n",
      "19.72973169564084 0.999997981330116\n",
      "17.3864034183372 0.9999981554503456\n",
      "24.5460735781897 0.99999555246456\n",
      "33.81259022710416 0.9999937061528353\n",
      "12.463683391946851 0.9999988513537849\n",
      "19.1620864505347 0.9999968826090014\n",
      "22572.284593630422 -6736.356954490495\n",
      "17.062555301615085 0.999998749863788\n",
      "35.70737390690169 0.9999837276870039\n",
      "16.055221249488202 0.999998591358862\n",
      "26.96715516166516 0.9999957062890384\n",
      "31.37044299816381 0.9999902118509113\n",
      "9.581695884861977 0.9999992747317409\n",
      "11.449462246962165 0.9999991676579822\n",
      "20.33512368196701 0.9999913386440025\n",
      "35.68938698655283 0.9999936219938157\n",
      "5.546128369191233 0.9999995194720692\n",
      "41.98011901533693 0.9999898784680479\n",
      "10.63680561410377 0.9999993153946466\n",
      "46.11404109214999 0.999991282415338\n",
      "8.83875230438561 0.999999566936574\n",
      "28.48808185216907 0.9999952216468079\n",
      "22.60375723881114 0.999997882572397\n",
      "9.177183046818369 0.9999995231313804\n",
      "20.899835956627246 0.9999908245219379\n",
      "12.314587085893798 0.9999991401730919\n",
      "22.55678041947969 0.9999980711349025\n",
      "66.89001248773452 0.9999621590297593\n",
      "28.364724641513966 0.9999957660968581\n",
      "11.323660445896664 0.9999993032055189\n",
      "27045.52310413909 -86155.6545193849\n",
      "13.281248859257524 0.9999989713085272\n",
      "25.363839673413498 0.9999925393895184\n",
      "27.508441172874925 0.9999963461402821\n",
      "34.517745583071545 0.999992386697766\n",
      "11390.243822413724 -228.46579629232005\n",
      "14.4257711358674 0.9999978636981394\n",
      "25.363171656548356 0.9999954487556535\n",
      "21.101581986792716 0.999997044546416\n",
      "9.282595386141738 0.9999996600725171\n",
      "31.44486504937917 0.9999947463283401\n",
      "8.099513146433852 0.9999996226701963\n",
      "16.0357950895326 0.9999990208084729\n",
      "17.329871358773385 0.9999980025486342\n",
      "29.50295360754436 0.9999953599727048\n",
      "21.943825221844545 0.9999943972132577\n",
      "5025.280839184794 0.9293627647847709\n",
      "19.39183346009118 0.9999977900679297\n",
      "9.607573847853526 0.9999993373302495\n",
      "21.394404195680846 0.9999972084698339\n",
      "38.35261717038661 0.9999922699363448\n",
      "34.436239036568 0.999993330528919\n",
      "30.473484586774763 0.9999957727393303\n",
      "42.61548283341737 0.9999832848562576\n",
      "7.12143344438403 0.9999996807107296\n",
      "67.67816169903611 0.9997837736461284\n",
      "55.684578142221106 0.9999782809785416\n",
      "10.850330392280634 0.9999994193443008\n",
      "63.86479257539702 0.9999770963912558\n",
      "-931.0664180135615\n",
      "973.6821119878246\n",
      "100\n"
     ]
    }
   ],
   "source": [
    "r2=0\n",
    "abserr=0\n",
    "count=0\n",
    "for i in range(100):\n",
    "    try:\n",
    "        df = stop_tools.random_stop_data()\n",
    "        df['month']=df['dt'].dt.month\n",
    "        df['dayofweek']=df['dt'].dt.dayofweek\n",
    "        cols = ['actualtime_arr_from','hour','hour','month','dayofweek','distance']\n",
    "        msk = np.random.rand(len(df)) < 0.8\n",
    "        train = df[msk]\n",
    "        test=df[~msk]\n",
    "        regr = neural_net(hidden_layer_sizes=(100,100,100,100,100,100)).fit(train[cols],train['actualtime_arr_to'])\n",
    "        predicts = regr.predict(test[cols])\n",
    "        a=metrics.mean_absolute_error(test['actualtime_arr_to'],predicts)\n",
    "        b=metrics.r2_score(test['actualtime_arr_to'],predicts)\n",
    "        print(a,b)\n",
    "        abserr+=a\n",
    "        r2+=b\n",
    "        \n",
    "        count+=1\n",
    "    except:\n",
    "        pass\n",
    "print(r2/count)\n",
    "print(abserr/count)\n",
    "print(count)"
   ]
  },
  {
   "cell_type": "code",
   "execution_count": 135,
   "metadata": {},
   "outputs": [],
   "source": [
    "predicts = regr.predict(test[cols])"
   ]
  },
  {
   "cell_type": "code",
   "execution_count": 8,
   "metadata": {},
   "outputs": [],
   "source": [
    "from sklearn import metrics"
   ]
  },
  {
   "cell_type": "code",
   "execution_count": 136,
   "metadata": {},
   "outputs": [
    {
     "name": "stdout",
     "output_type": "stream",
     "text": [
      "5.597383668228591\n",
      "0.9999998020799792\n"
     ]
    }
   ],
   "source": [
    "print(metrics.mean_absolute_error(test['actualtime_arr_to'],predicts))\n",
    "print(metrics.r2_score(test['actualtime_arr_to'],predicts))"
   ]
  },
  {
   "cell_type": "code",
   "execution_count": 24,
   "metadata": {},
   "outputs": [
    {
     "ename": "ValueError",
     "evalue": "Input contains NaN, infinity or a value too large for dtype('float64').",
     "output_type": "error",
     "traceback": [
      "\u001b[0;31m---------------------------------------------------------------------------\u001b[0m",
      "\u001b[0;31mValueError\u001b[0m                                Traceback (most recent call last)",
      "\u001b[0;32m<ipython-input-24-ea126cb7ba80>\u001b[0m in \u001b[0;36m<module>\u001b[0;34m()\u001b[0m\n\u001b[0;32m----> 1\u001b[0;31m \u001b[0mregr\u001b[0m \u001b[0;34m=\u001b[0m \u001b[0mneural_net\u001b[0m\u001b[0;34m(\u001b[0m\u001b[0mhidden_layer_sizes\u001b[0m\u001b[0;34m=\u001b[0m\u001b[0;34m(\u001b[0m\u001b[0;36m100\u001b[0m\u001b[0;34m,\u001b[0m\u001b[0;36m100\u001b[0m\u001b[0;34m,\u001b[0m\u001b[0;36m100\u001b[0m\u001b[0;34m,\u001b[0m\u001b[0;36m100\u001b[0m\u001b[0;34m,\u001b[0m\u001b[0;36m100\u001b[0m\u001b[0;34m,\u001b[0m\u001b[0;36m100\u001b[0m\u001b[0;34m)\u001b[0m\u001b[0;34m)\u001b[0m\u001b[0;34m.\u001b[0m\u001b[0mfit\u001b[0m\u001b[0;34m(\u001b[0m\u001b[0mtrain\u001b[0m\u001b[0;34m[\u001b[0m\u001b[0mcols\u001b[0m\u001b[0;34m]\u001b[0m\u001b[0;34m,\u001b[0m\u001b[0mtrain\u001b[0m\u001b[0;34m[\u001b[0m\u001b[0;34m'traveltime'\u001b[0m\u001b[0;34m]\u001b[0m\u001b[0;34m)\u001b[0m\u001b[0;34m\u001b[0m\u001b[0m\n\u001b[0m",
      "\u001b[0;32m~/anaconda3/lib/python3.6/site-packages/sklearn/neural_network/multilayer_perceptron.py\u001b[0m in \u001b[0;36mfit\u001b[0;34m(self, X, y)\u001b[0m\n\u001b[1;32m    618\u001b[0m         \u001b[0mself\u001b[0m \u001b[0;34m:\u001b[0m \u001b[0mreturns\u001b[0m \u001b[0ma\u001b[0m \u001b[0mtrained\u001b[0m \u001b[0mMLP\u001b[0m \u001b[0mmodel\u001b[0m\u001b[0;34m.\u001b[0m\u001b[0;34m\u001b[0m\u001b[0m\n\u001b[1;32m    619\u001b[0m         \"\"\"\n\u001b[0;32m--> 620\u001b[0;31m         \u001b[0;32mreturn\u001b[0m \u001b[0mself\u001b[0m\u001b[0;34m.\u001b[0m\u001b[0m_fit\u001b[0m\u001b[0;34m(\u001b[0m\u001b[0mX\u001b[0m\u001b[0;34m,\u001b[0m \u001b[0my\u001b[0m\u001b[0;34m,\u001b[0m \u001b[0mincremental\u001b[0m\u001b[0;34m=\u001b[0m\u001b[0;32mFalse\u001b[0m\u001b[0;34m)\u001b[0m\u001b[0;34m\u001b[0m\u001b[0m\n\u001b[0m\u001b[1;32m    621\u001b[0m \u001b[0;34m\u001b[0m\u001b[0m\n\u001b[1;32m    622\u001b[0m     \u001b[0;34m@\u001b[0m\u001b[0mproperty\u001b[0m\u001b[0;34m\u001b[0m\u001b[0m\n",
      "\u001b[0;32m~/anaconda3/lib/python3.6/site-packages/sklearn/neural_network/multilayer_perceptron.py\u001b[0m in \u001b[0;36m_fit\u001b[0;34m(self, X, y, incremental)\u001b[0m\n\u001b[1;32m    329\u001b[0m                              hidden_layer_sizes)\n\u001b[1;32m    330\u001b[0m \u001b[0;34m\u001b[0m\u001b[0m\n\u001b[0;32m--> 331\u001b[0;31m         \u001b[0mX\u001b[0m\u001b[0;34m,\u001b[0m \u001b[0my\u001b[0m \u001b[0;34m=\u001b[0m \u001b[0mself\u001b[0m\u001b[0;34m.\u001b[0m\u001b[0m_validate_input\u001b[0m\u001b[0;34m(\u001b[0m\u001b[0mX\u001b[0m\u001b[0;34m,\u001b[0m \u001b[0my\u001b[0m\u001b[0;34m,\u001b[0m \u001b[0mincremental\u001b[0m\u001b[0;34m)\u001b[0m\u001b[0;34m\u001b[0m\u001b[0m\n\u001b[0m\u001b[1;32m    332\u001b[0m         \u001b[0mn_samples\u001b[0m\u001b[0;34m,\u001b[0m \u001b[0mn_features\u001b[0m \u001b[0;34m=\u001b[0m \u001b[0mX\u001b[0m\u001b[0;34m.\u001b[0m\u001b[0mshape\u001b[0m\u001b[0;34m\u001b[0m\u001b[0m\n\u001b[1;32m    333\u001b[0m \u001b[0;34m\u001b[0m\u001b[0m\n",
      "\u001b[0;32m~/anaconda3/lib/python3.6/site-packages/sklearn/neural_network/multilayer_perceptron.py\u001b[0m in \u001b[0;36m_validate_input\u001b[0;34m(self, X, y, incremental)\u001b[0m\n\u001b[1;32m   1302\u001b[0m     \u001b[0;32mdef\u001b[0m \u001b[0m_validate_input\u001b[0m\u001b[0;34m(\u001b[0m\u001b[0mself\u001b[0m\u001b[0;34m,\u001b[0m \u001b[0mX\u001b[0m\u001b[0;34m,\u001b[0m \u001b[0my\u001b[0m\u001b[0;34m,\u001b[0m \u001b[0mincremental\u001b[0m\u001b[0;34m)\u001b[0m\u001b[0;34m:\u001b[0m\u001b[0;34m\u001b[0m\u001b[0m\n\u001b[1;32m   1303\u001b[0m         X, y = check_X_y(X, y, accept_sparse=['csr', 'csc', 'coo'],\n\u001b[0;32m-> 1304\u001b[0;31m                          multi_output=True, y_numeric=True)\n\u001b[0m\u001b[1;32m   1305\u001b[0m         \u001b[0;32mif\u001b[0m \u001b[0my\u001b[0m\u001b[0;34m.\u001b[0m\u001b[0mndim\u001b[0m \u001b[0;34m==\u001b[0m \u001b[0;36m2\u001b[0m \u001b[0;32mand\u001b[0m \u001b[0my\u001b[0m\u001b[0;34m.\u001b[0m\u001b[0mshape\u001b[0m\u001b[0;34m[\u001b[0m\u001b[0;36m1\u001b[0m\u001b[0;34m]\u001b[0m \u001b[0;34m==\u001b[0m \u001b[0;36m1\u001b[0m\u001b[0;34m:\u001b[0m\u001b[0;34m\u001b[0m\u001b[0m\n\u001b[1;32m   1306\u001b[0m             \u001b[0my\u001b[0m \u001b[0;34m=\u001b[0m \u001b[0mcolumn_or_1d\u001b[0m\u001b[0;34m(\u001b[0m\u001b[0my\u001b[0m\u001b[0;34m,\u001b[0m \u001b[0mwarn\u001b[0m\u001b[0;34m=\u001b[0m\u001b[0;32mTrue\u001b[0m\u001b[0;34m)\u001b[0m\u001b[0;34m\u001b[0m\u001b[0m\n",
      "\u001b[0;32m~/anaconda3/lib/python3.6/site-packages/sklearn/utils/validation.py\u001b[0m in \u001b[0;36mcheck_X_y\u001b[0;34m(X, y, accept_sparse, dtype, order, copy, force_all_finite, ensure_2d, allow_nd, multi_output, ensure_min_samples, ensure_min_features, y_numeric, warn_on_dtype, estimator)\u001b[0m\n\u001b[1;32m    571\u001b[0m     X = check_array(X, accept_sparse, dtype, order, copy, force_all_finite,\n\u001b[1;32m    572\u001b[0m                     \u001b[0mensure_2d\u001b[0m\u001b[0;34m,\u001b[0m \u001b[0mallow_nd\u001b[0m\u001b[0;34m,\u001b[0m \u001b[0mensure_min_samples\u001b[0m\u001b[0;34m,\u001b[0m\u001b[0;34m\u001b[0m\u001b[0m\n\u001b[0;32m--> 573\u001b[0;31m                     ensure_min_features, warn_on_dtype, estimator)\n\u001b[0m\u001b[1;32m    574\u001b[0m     \u001b[0;32mif\u001b[0m \u001b[0mmulti_output\u001b[0m\u001b[0;34m:\u001b[0m\u001b[0;34m\u001b[0m\u001b[0m\n\u001b[1;32m    575\u001b[0m         y = check_array(y, 'csr', force_all_finite=True, ensure_2d=False,\n",
      "\u001b[0;32m~/anaconda3/lib/python3.6/site-packages/sklearn/utils/validation.py\u001b[0m in \u001b[0;36mcheck_array\u001b[0;34m(array, accept_sparse, dtype, order, copy, force_all_finite, ensure_2d, allow_nd, ensure_min_samples, ensure_min_features, warn_on_dtype, estimator)\u001b[0m\n\u001b[1;32m    451\u001b[0m                              % (array.ndim, estimator_name))\n\u001b[1;32m    452\u001b[0m         \u001b[0;32mif\u001b[0m \u001b[0mforce_all_finite\u001b[0m\u001b[0;34m:\u001b[0m\u001b[0;34m\u001b[0m\u001b[0m\n\u001b[0;32m--> 453\u001b[0;31m             \u001b[0m_assert_all_finite\u001b[0m\u001b[0;34m(\u001b[0m\u001b[0marray\u001b[0m\u001b[0;34m)\u001b[0m\u001b[0;34m\u001b[0m\u001b[0m\n\u001b[0m\u001b[1;32m    454\u001b[0m \u001b[0;34m\u001b[0m\u001b[0m\n\u001b[1;32m    455\u001b[0m     \u001b[0mshape_repr\u001b[0m \u001b[0;34m=\u001b[0m \u001b[0m_shape_repr\u001b[0m\u001b[0;34m(\u001b[0m\u001b[0marray\u001b[0m\u001b[0;34m.\u001b[0m\u001b[0mshape\u001b[0m\u001b[0;34m)\u001b[0m\u001b[0;34m\u001b[0m\u001b[0m\n",
      "\u001b[0;32m~/anaconda3/lib/python3.6/site-packages/sklearn/utils/validation.py\u001b[0m in \u001b[0;36m_assert_all_finite\u001b[0;34m(X)\u001b[0m\n\u001b[1;32m     42\u001b[0m             and not np.isfinite(X).all()):\n\u001b[1;32m     43\u001b[0m         raise ValueError(\"Input contains NaN, infinity\"\n\u001b[0;32m---> 44\u001b[0;31m                          \" or a value too large for %r.\" % X.dtype)\n\u001b[0m\u001b[1;32m     45\u001b[0m \u001b[0;34m\u001b[0m\u001b[0m\n\u001b[1;32m     46\u001b[0m \u001b[0;34m\u001b[0m\u001b[0m\n",
      "\u001b[0;31mValueError\u001b[0m: Input contains NaN, infinity or a value too large for dtype('float64')."
     ]
    }
   ],
   "source": [
    "regr = neural_net(hidden_layer_sizes=(100,100,100,100,100,100)).fit(train[cols],train['traveltime'])"
   ]
  },
  {
   "cell_type": "code",
   "execution_count": null,
   "metadata": {},
   "outputs": [],
   "source": []
  }
 ],
 "metadata": {
  "kernelspec": {
   "display_name": "Python 3",
   "language": "python",
   "name": "python3"
  },
  "language_info": {
   "codemirror_mode": {
    "name": "ipython",
    "version": 3
   },
   "file_extension": ".py",
   "mimetype": "text/x-python",
   "name": "python",
   "nbconvert_exporter": "python",
   "pygments_lexer": "ipython3",
   "version": "3.6.5"
  }
 },
 "nbformat": 4,
 "nbformat_minor": 2
}
