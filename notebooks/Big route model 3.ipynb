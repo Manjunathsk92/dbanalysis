{
 "cells": [
  {
   "cell_type": "code",
   "execution_count": 1,
   "metadata": {},
   "outputs": [],
   "source": [
    "import pandas as pd\n",
    "df=pd.read_csv('/data/dummy_15_df.csv')"
   ]
  },
  {
   "cell_type": "code",
   "execution_count": 2,
   "metadata": {},
   "outputs": [
    {
     "data": {
      "text/plain": [
       "1170823"
      ]
     },
     "execution_count": 2,
     "metadata": {},
     "output_type": "execute_result"
    }
   ],
   "source": [
    "len(df)"
   ]
  },
  {
   "cell_type": "code",
   "execution_count": 2,
   "metadata": {},
   "outputs": [],
   "source": [
    "import numpy as np\n",
    "msk = np.random.rand(len(df))>0.3"
   ]
  },
  {
   "cell_type": "code",
   "execution_count": 3,
   "metadata": {},
   "outputs": [],
   "source": [
    "af = df[msk]\n",
    "del(df)"
   ]
  },
  {
   "cell_type": "code",
   "execution_count": 8,
   "metadata": {},
   "outputs": [
    {
     "name": "stdout",
     "output_type": "stream",
     "text": [
      "['68_72', '27X_42', '83A_20', '33_44', '17_12', '70D_71', '66X_95', '151_15', '17A_13', '83_19', '13_66', '32_58', '39A_43', '185_57', '17A_17', '7_70', '46A_72', '41C_80', '31D_51', '40B_63', '13_63', '49_29', '7B_91', '65_75', '83_16', '13_72', '238_11', '120_9', '33_17', '68_73', '68_66', '31B_45', '44_37', '33A_22', '16C_29', '49_27', '27B_36', '79A_28', '151_16', '31B_44', '4_12', '27_17', '41C_79', '39A_40', '27A_5', '67_6', '45A_67', '13_67', '32X_74', '66A_34', '102_10', '69X_58', '33_45', '185_63', '39_20', '41X_119', '59_11', '63_30', '26_26', '45A_60', '40_33', '29A_15', '40B_64', '69_30', '15A_80', '83A_26', '76_37', '41A_22', '29A_14', '13_75', '38B_44', '84A_1', '9_7', '67X_39', '150_5', '83_21', '185_59', '42D_51', '151_18', '123_35', '25A_273', '31_18', '33_69', '4_11', '54A_11', '120_10', '84X_52', '220_10', '61_107', '41_9', '238_15', '27B_26', '31B_46', '39_21', '16_22', '16C_26', '41X_116', '38_9', '66X_92', '68_67', '40D_104', '32X_76', '66X_96', '31A_25', '27B_40', '68_71', '75_20', '11_40', '84_32', '47_139', '33_72', '116_3', '33A_27', '40_24', '67_4', '111_9', '270_42', '77X_61', '68_70', '46A_73', '27A_4', '13_64', '122_15', '104_16', '32X_75', '11_42', '46A_77', '63_27', '145_102', '47_135', '27B_27', '184_28', '41_20', '15_16', '68X_77', '40_18', '45A_64', '1_38', '51X_63', '239_26', '151_17', '27_12', '41_4', '11_41', '66B_55', '140_22', '1_40', '13_62', '16_24', '16C_27', '40D_103', '120_8', '185_58', '13_68', '76A_29', '145_104', '43_88', '66X_101', '757_1', '66B_57', '43_84', '66X_93', '42D_50', '145_107', '33_40', '15_10', '41B_53', '83_27', '145_91', '32_57', '75_19', '49_28', '7A_85', '238_12', '123_37', '118_3', '13_73', '61_108', '25X_7', '9_6', '67X_41', '120_7', '41X_115', '66X_99', '65B_65', '47_137', '38A_20', '40_26', '65_74', '41_3', '61_106', '45A_69', '43_85', '220_15', '33B_56', '69X_57', '27B_25', '27B_39', '15_18', '25D_277', '83_22', '25B_274', '77A_28', '70_67', '40_17', '75_16', '31_16', '142_9', '84_30', '161_52', '236_10', '40_19', '15A_82', '37_13', '7A_86', '39_23', '46A_64', '40_20', '83A_23', '25X_9', '46A_68', '41X_120', '140_21', '39A_45', '33_18', '37_15', '67X_38', '63_26', '17A_16', '33_42', '40D_101', '84A_4', '17_19', '13_74', '38_10', '39_22', '7A_88', '17A_15', '16_20', '56A_30', '122_14', '161_50', '41B_51', '14_12', '44B_60', '59_10', '1_37', '69_41', '220_12', '185_55', '17_13', '41B_52', '13_70', '69_42', '33B_57', '27B_35', '40D_105', '65_76', '27B_37', '66_14', '17_15', '27B_38', '68A_75', '46A_62', '38D_68', '65_73', '145_106', '16_21', '18_4', '15_17', '27A_6', '44_30', '140_19', '53_17', '7D_121', '31_15', '39A_44', '75_21', '7_66', '66A_36', '44_36', '42_44', '104_15', '145_86', '75_17', '185_52', '38B_40', '145_93', '185_56', '145_99', '142_8', '239_28', '79_11', '41X_118', '185_51', '7A_87', '27B_34', '40B_65', '44B_61', '83_18', '33_70', '4_10', '25B_276', '111_10', '33A_26', '7D_122', '63_28', '67X_40', '15B_58', '1_39', '38A_23', '25_269', '185_50', '70_69', '41_7', '41C_78', '46A_69', '111_8', '7_71', '161_51', '67X_42', '13_61', '111_7', '38D_61', '83_24', '151_19', '44_39', '41X_117', '41_10', '130_11', '17A_14', '1_41', '43_89', '7D_120', '31A_26', '39A_42', '145_105', '84A_2', '40_27', '54A_12', '17A_12', '185_60', '37_14', '38A_33', '66X_100', '70_60', '38_13', '47_138', '76_36', '40_25', '84X_58', '44_40', '31D_50', '122_17', '63_29', '47_136', '16C_28', '17_14', '65B_66', '45A_68', '150_6', '84_31', '150_7', '75_7', '40_28', '236_9', '51D_47', '83A_17', '185_62', '185_54', '33_73', '114_5', '17A_18', '27_20', '66_16', '15B_57', '14_16', '17_18', '122_16', '9_5', '77A_29', '15A_81', '27X_43', '11_43', '15B_56', '40_31', '41_6', '130_10', '61_109', '65_77', '33_41', '41X_109', '116_1', '44_33', '18_3', '33X_46', '9_8', '46A_65', '41_8', '79A_27', '7B_93', '84_28', '114_6', '66X_94', '40D_102', '13_69', '184_29', '13_65', '84X_57', '56A_31', '27_19', '84A_3', '142_12', '46A_66', '46A_70', '123_36', '68_69', '13_76', '40D_106', '27B_23', '84_29', '270_44', '27_9', '17_11', '65_72', '66_13', '757_2', '84X_53', '44_38', '42_42', '17_17', '63_25', '66_11', '75_13', '102_9', '33B_58', '33X_48', '44_31', '7_67', '33_16', '70D_70', '33X_47', '40_30', '33A_23', '123_34', '145_88', '142_10', '25D_275', '68A_76', '41X_108', '145_94', '53_19', '33_43', '46A_67', '68_68', '68_74', '46E_93', '25X_5', '140_20', '185_53', '16_23', '75_14', '145_87', '75_8', '14_15', '27_18', '38A_32', '15B_59', '39A_41', '140_16', '185_61', '84X_59', '84X_56', '4_13', '84_27', '75_18', '38_14', '76A_28', '13_28', '33_71', '41_21', '38_15', '38B_45', '41_5', '63_31', '17_10', '75_15', '14C_17', '66X_97', '14C_18', '17A_11', '33A_25', '145_89', '46A_74', '33B_59', '41X_110', '51D_50', '13_71', '17_16', '18_5', '15B_55', '13_60', '25A_270', '45A_70', '26_24', '25_272', '25B_271', '40_32', '44_35', '31_17', '145_95', '102_8', '79_10', '33B_60', '83_25', '46A_63', '220_14', '40_29']\n"
     ]
    }
   ],
   "source": [
    "import os\n",
    "print(os.listdir('/data/routesplits'))"
   ]
  },
  {
   "cell_type": "code",
   "execution_count": 1,
   "metadata": {},
   "outputs": [],
   "source": [
    "import pandas as pd\n",
    "df=pd.read_csv('/data/routesplits/15_16')"
   ]
  },
  {
   "cell_type": "code",
   "execution_count": 2,
   "metadata": {},
   "outputs": [
    {
     "data": {
      "text/plain": [
       "(552274, 19)"
      ]
     },
     "execution_count": 2,
     "metadata": {},
     "output_type": "execute_result"
    }
   ],
   "source": [
    "df.shape"
   ]
  },
  {
   "cell_type": "code",
   "execution_count": 5,
   "metadata": {},
   "outputs": [],
   "source": [
    "df=pd.get_dummies(df,columns=['stopA','stopB'])\n"
   ]
  },
  {
   "cell_type": "code",
   "execution_count": 8,
   "metadata": {},
   "outputs": [],
   "source": [
    "df[features].to_csv('/data/full_route_15.csv',index=False,chunksize=10000)"
   ]
  },
  {
   "cell_type": "code",
   "execution_count": 2,
   "metadata": {},
   "outputs": [],
   "source": [
    "# Get data for route 15\n",
    "import json\n",
    "routes = json.loads(open('/home/student/dbanalysis/dbanalysis/resources/trimmed_routes.json','r').read())\n",
    "r=routes['15'][1]"
   ]
  },
  {
   "cell_type": "code",
   "execution_count": 3,
   "metadata": {},
   "outputs": [],
   "source": [
    "del(df)"
   ]
  },
  {
   "cell_type": "code",
   "execution_count": 3,
   "metadata": {},
   "outputs": [],
   "source": [
    "from dbanalysis import stop_tools\n",
    "s_getter =stop_tools.stop_getter()\n",
    "total_distance = 0\n",
    "route_distances = {r[1]:0}\n",
    "for i in range(1, len(r)-1):\n",
    "    distance = s_getter.get_stop_distance(str(r[i]),str(r[i+1]))\n",
    "    \n",
    "    \n",
    "    route_distances[r[i]]=distance\n",
    "    "
   ]
  },
  {
   "cell_type": "code",
   "execution_count": 4,
   "metadata": {},
   "outputs": [],
   "source": [
    "df['distance']=df['stopA'].apply(lambda x: route_distances[x])"
   ]
  },
  {
   "cell_type": "markdown",
   "metadata": {},
   "source": [
    "# Models with dummies for stops"
   ]
  },
  {
   "cell_type": "code",
   "execution_count": 11,
   "metadata": {
    "scrolled": true
   },
   "outputs": [
    {
     "name": "stdout",
     "output_type": "stream",
     "text": [
      "['dayofservice', 'tripid', 'plannedtime_arr_from', 'plannedtime_dep_from', 'actualtime_arr_from', 'actualtime_dep_from', 'plannedtime_arr_to', 'actualtime_arr_to', 'routeid', 'dewpt', 'msl', 'rain', 'rhum', 'temp', 'vappr', 'wetb', 'distance', 'base_time_dep', 'traveltime', 'dt', 'weekend', 'year', 'day_0', 'day_1', 'day_2', 'day_3', 'day_4', 'day_5', 'day_6', 'hour_5', 'hour_6', 'hour_7', 'hour_8', 'hour_9', 'hour_10', 'hour_11', 'hour_12', 'hour_13', 'hour_14', 'hour_15', 'hour_16', 'hour_17', 'hour_18', 'hour_19', 'hour_20', 'hour_21', 'hour_22', 'hour_23', 'month_1', 'month_2', 'month_3', 'month_4', 'month_5', 'month_6', 'stopA_301', 'stopA_614', 'stopA_615', 'stopA_616', 'stopA_617', 'stopA_618', 'stopA_619', 'stopA_664', 'stopA_665', 'stopA_666', 'stopA_667', 'stopA_668', 'stopA_675', 'stopA_1016', 'stopA_1017', 'stopA_1018', 'stopA_1019', 'stopA_1020', 'stopA_1076', 'stopA_1077', 'stopA_1078', 'stopA_1079', 'stopA_1080', 'stopA_1081', 'stopA_1082', 'stopA_1083', 'stopA_1085', 'stopA_1121', 'stopA_1122', 'stopA_1123', 'stopA_1124', 'stopA_1125', 'stopA_1127', 'stopA_1130', 'stopA_1140', 'stopA_1141', 'stopA_1142', 'stopA_1143', 'stopA_1144', 'stopA_1145', 'stopA_1218', 'stopA_1219', 'stopA_1220', 'stopA_1221', 'stopA_1270', 'stopA_1272', 'stopA_1273', 'stopA_1274', 'stopA_1275', 'stopA_1276', 'stopA_1277', 'stopA_1283', 'stopA_1285', 'stopA_3007', 'stopA_4415', 'stopA_4495', 'stopA_4563', 'stopA_4594', 'stopA_4595', 'stopA_4596', 'stopA_4869', 'stopA_4870', 'stopA_6283', 'stopA_6319', 'stopA_6320', 'stopA_7246', 'stopA_7579', 'stopA_7581', 'stopB_301', 'stopB_614', 'stopB_615', 'stopB_616', 'stopB_617', 'stopB_618', 'stopB_619', 'stopB_664', 'stopB_665', 'stopB_666', 'stopB_667', 'stopB_668', 'stopB_675', 'stopB_1016', 'stopB_1017', 'stopB_1018', 'stopB_1019', 'stopB_1020', 'stopB_1076', 'stopB_1077', 'stopB_1078', 'stopB_1079', 'stopB_1080', 'stopB_1081', 'stopB_1082', 'stopB_1083', 'stopB_1085', 'stopB_1121', 'stopB_1122', 'stopB_1123', 'stopB_1124', 'stopB_1125', 'stopB_1127', 'stopB_1130', 'stopB_1140', 'stopB_1141', 'stopB_1142', 'stopB_1143', 'stopB_1144', 'stopB_1145', 'stopB_1218', 'stopB_1219', 'stopB_1220', 'stopB_1221', 'stopB_1270', 'stopB_1272', 'stopB_1273', 'stopB_1274', 'stopB_1275', 'stopB_1276', 'stopB_1277', 'stopB_1283', 'stopB_1285', 'stopB_3007', 'stopB_4415', 'stopB_4495', 'stopB_4563', 'stopB_4594', 'stopB_4595', 'stopB_4596', 'stopB_4869', 'stopB_4870', 'stopB_6282', 'stopB_6283', 'stopB_6320', 'stopB_7246', 'stopB_7579', 'stopB_7581']\n"
     ]
    }
   ],
   "source": [
    "print([i for i in df.columns])"
   ]
  },
  {
   "cell_type": "code",
   "execution_count": 6,
   "metadata": {},
   "outputs": [],
   "source": [
    "features = ['traveltime','dewpt', 'msl', 'rain', 'rhum', 'temp', 'vappr', 'wetb', 'distance',\\\n",
    "            'day_0', 'day_1', 'day_2', 'day_3',\\\n",
    "            'day_4', 'day_5', 'day_6', 'hour_5',\\\n",
    "            'hour_6', 'hour_7', 'hour_8', 'hour_9',\\\n",
    "            'hour_10', 'hour_11', 'hour_12', 'hour_13',\\\n",
    "            'hour_14', 'hour_15', 'hour_16', 'hour_17', \\\n",
    "            'hour_18', 'hour_19', 'hour_20', 'hour_21',\\\n",
    "            'hour_22', 'hour_23', 'month_1', 'month_2',\\\n",
    "            'month_3', 'month_4', 'month_5', 'month_6',\\\n",
    "            'stopA_301', 'stopA_614', 'stopA_615',\\\n",
    "            'stopA_616', 'stopA_617', 'stopA_618',\\\n",
    "            'stopA_619', 'stopA_664', 'stopA_665',\\\n",
    "            'stopA_666', 'stopA_667', 'stopA_668',\\\n",
    "            'stopA_675', 'stopA_1016', 'stopA_1017',\\\n",
    "            'stopA_1018', 'stopA_1019', 'stopA_1020',\\\n",
    "            'stopA_1076', 'stopA_1077', 'stopA_1078',\\\n",
    "            'stopA_1079', 'stopA_1080', 'stopA_1081',\\\n",
    "            'stopA_1082', 'stopA_1083', 'stopA_1085',\\\n",
    "            'stopA_1121', 'stopA_1122', 'stopA_1123',\\\n",
    "            'stopA_1124', 'stopA_1125', 'stopA_1127',\\\n",
    "            'stopA_1130', 'stopA_1140', 'stopA_1141',\\\n",
    "            'stopA_1142', 'stopA_1143', 'stopA_1144', 'stopA_1145', 'stopA_1218', 'stopA_1219', 'stopA_1220', 'stopA_1221', 'stopA_1270', 'stopA_1272', 'stopA_1273', 'stopA_1274', 'stopA_1275', 'stopA_1276', 'stopA_1277', 'stopA_1283', 'stopA_1285', 'stopA_3007', 'stopA_4415', 'stopA_4495', 'stopA_4563', 'stopA_4594', 'stopA_4595', 'stopA_4596', 'stopA_4869', 'stopA_4870', 'stopA_6283', 'stopA_6319', 'stopA_6320', 'stopA_7246', 'stopA_7579', 'stopA_7581', 'stopB_301', 'stopB_614', 'stopB_615', 'stopB_616', 'stopB_617', 'stopB_618', 'stopB_619', 'stopB_664', 'stopB_665', 'stopB_666', 'stopB_667', 'stopB_668', 'stopB_675', 'stopB_1016', 'stopB_1017', 'stopB_1018', 'stopB_1019', 'stopB_1020', 'stopB_1076', 'stopB_1077', 'stopB_1078', 'stopB_1079', 'stopB_1080', 'stopB_1081', 'stopB_1082', 'stopB_1083', 'stopB_1085', 'stopB_1121', 'stopB_1122', 'stopB_1123', 'stopB_1124', 'stopB_1125', 'stopB_1127', 'stopB_1130', 'stopB_1140', 'stopB_1141', 'stopB_1142', 'stopB_1143', 'stopB_1144', 'stopB_1145', 'stopB_1218', 'stopB_1219', 'stopB_1220', 'stopB_1221', 'stopB_1270', 'stopB_1272', 'stopB_1273', 'stopB_1274', 'stopB_1275', 'stopB_1276', 'stopB_1277', 'stopB_1283', 'stopB_1285', 'stopB_3007', 'stopB_4415', 'stopB_4495', 'stopB_4563', 'stopB_4594', 'stopB_4595', 'stopB_4596', 'stopB_4869', 'stopB_4870', 'stopB_6282', 'stopB_6283', 'stopB_6320', 'stopB_7246', 'stopB_7579', 'stopB_7581']"
   ]
  },
  {
   "cell_type": "code",
   "execution_count": 12,
   "metadata": {},
   "outputs": [],
   "source": [
    "test=df[df['year']==2016]\n",
    "train = df[df['year']==2017]"
   ]
  },
  {
   "cell_type": "code",
   "execution_count": 7,
   "metadata": {},
   "outputs": [
    {
     "ename": "MemoryError",
     "evalue": "",
     "output_type": "error",
     "traceback": [
      "\u001b[0;31m---------------------------------------------------------------------------\u001b[0m",
      "\u001b[0;31mMemoryError\u001b[0m                               Traceback (most recent call last)",
      "\u001b[0;32m<ipython-input-7-46dab2bad49e>\u001b[0m in \u001b[0;36m<module>\u001b[0;34m()\u001b[0m\n\u001b[1;32m      1\u001b[0m \u001b[0;32mfrom\u001b[0m \u001b[0msklearn\u001b[0m\u001b[0;34m.\u001b[0m\u001b[0mlinear_model\u001b[0m \u001b[0;32mimport\u001b[0m \u001b[0mLinearRegression\u001b[0m \u001b[0;32mas\u001b[0m \u001b[0mlr\u001b[0m\u001b[0;34m\u001b[0m\u001b[0m\n\u001b[0;32m----> 2\u001b[0;31m \u001b[0mrgr\u001b[0m \u001b[0;34m=\u001b[0m \u001b[0mlr\u001b[0m\u001b[0;34m(\u001b[0m\u001b[0mfit_intercept\u001b[0m\u001b[0;34m=\u001b[0m\u001b[0;32mTrue\u001b[0m\u001b[0;34m)\u001b[0m\u001b[0;34m.\u001b[0m\u001b[0mfit\u001b[0m\u001b[0;34m(\u001b[0m\u001b[0mdf\u001b[0m\u001b[0;34m[\u001b[0m\u001b[0mfeatures\u001b[0m\u001b[0;34m]\u001b[0m\u001b[0;34m,\u001b[0m\u001b[0mdf\u001b[0m\u001b[0;34m[\u001b[0m\u001b[0;34m'traveltime'\u001b[0m\u001b[0;34m]\u001b[0m\u001b[0;34m)\u001b[0m\u001b[0;34m\u001b[0m\u001b[0m\n\u001b[0m",
      "\u001b[0;32m~/anaconda3/lib/python3.6/site-packages/sklearn/linear_model/base.py\u001b[0m in \u001b[0;36mfit\u001b[0;34m(self, X, y, sample_weight)\u001b[0m\n\u001b[1;32m    487\u001b[0m         X, y, X_offset, y_offset, X_scale = self._preprocess_data(\n\u001b[1;32m    488\u001b[0m             \u001b[0mX\u001b[0m\u001b[0;34m,\u001b[0m \u001b[0my\u001b[0m\u001b[0;34m,\u001b[0m \u001b[0mfit_intercept\u001b[0m\u001b[0;34m=\u001b[0m\u001b[0mself\u001b[0m\u001b[0;34m.\u001b[0m\u001b[0mfit_intercept\u001b[0m\u001b[0;34m,\u001b[0m \u001b[0mnormalize\u001b[0m\u001b[0;34m=\u001b[0m\u001b[0mself\u001b[0m\u001b[0;34m.\u001b[0m\u001b[0mnormalize\u001b[0m\u001b[0;34m,\u001b[0m\u001b[0;34m\u001b[0m\u001b[0m\n\u001b[0;32m--> 489\u001b[0;31m             copy=self.copy_X, sample_weight=sample_weight)\n\u001b[0m\u001b[1;32m    490\u001b[0m \u001b[0;34m\u001b[0m\u001b[0m\n\u001b[1;32m    491\u001b[0m         \u001b[0;32mif\u001b[0m \u001b[0msample_weight\u001b[0m \u001b[0;32mis\u001b[0m \u001b[0;32mnot\u001b[0m \u001b[0;32mNone\u001b[0m\u001b[0;34m:\u001b[0m\u001b[0;34m\u001b[0m\u001b[0m\n",
      "\u001b[0;32m~/anaconda3/lib/python3.6/site-packages/sklearn/linear_model/base.py\u001b[0m in \u001b[0;36m_preprocess_data\u001b[0;34m(X, y, fit_intercept, normalize, copy, sample_weight, return_mean)\u001b[0m\n\u001b[1;32m    166\u001b[0m \u001b[0;34m\u001b[0m\u001b[0m\n\u001b[1;32m    167\u001b[0m     X = check_array(X, copy=copy, accept_sparse=['csr', 'csc'],\n\u001b[0;32m--> 168\u001b[0;31m                     dtype=FLOAT_DTYPES)\n\u001b[0m\u001b[1;32m    169\u001b[0m     \u001b[0my\u001b[0m \u001b[0;34m=\u001b[0m \u001b[0mnp\u001b[0m\u001b[0;34m.\u001b[0m\u001b[0masarray\u001b[0m\u001b[0;34m(\u001b[0m\u001b[0my\u001b[0m\u001b[0;34m,\u001b[0m \u001b[0mdtype\u001b[0m\u001b[0;34m=\u001b[0m\u001b[0mX\u001b[0m\u001b[0;34m.\u001b[0m\u001b[0mdtype\u001b[0m\u001b[0;34m)\u001b[0m\u001b[0;34m\u001b[0m\u001b[0m\n\u001b[1;32m    170\u001b[0m \u001b[0;34m\u001b[0m\u001b[0m\n",
      "\u001b[0;32m~/anaconda3/lib/python3.6/site-packages/sklearn/utils/validation.py\u001b[0m in \u001b[0;36mcheck_array\u001b[0;34m(array, accept_sparse, dtype, order, copy, force_all_finite, ensure_2d, allow_nd, ensure_min_samples, ensure_min_features, warn_on_dtype, estimator)\u001b[0m\n\u001b[1;32m    431\u001b[0m                                       force_all_finite)\n\u001b[1;32m    432\u001b[0m     \u001b[0;32melse\u001b[0m\u001b[0;34m:\u001b[0m\u001b[0;34m\u001b[0m\u001b[0m\n\u001b[0;32m--> 433\u001b[0;31m         \u001b[0marray\u001b[0m \u001b[0;34m=\u001b[0m \u001b[0mnp\u001b[0m\u001b[0;34m.\u001b[0m\u001b[0marray\u001b[0m\u001b[0;34m(\u001b[0m\u001b[0marray\u001b[0m\u001b[0;34m,\u001b[0m \u001b[0mdtype\u001b[0m\u001b[0;34m=\u001b[0m\u001b[0mdtype\u001b[0m\u001b[0;34m,\u001b[0m \u001b[0morder\u001b[0m\u001b[0;34m=\u001b[0m\u001b[0morder\u001b[0m\u001b[0;34m,\u001b[0m \u001b[0mcopy\u001b[0m\u001b[0;34m=\u001b[0m\u001b[0mcopy\u001b[0m\u001b[0;34m)\u001b[0m\u001b[0;34m\u001b[0m\u001b[0m\n\u001b[0m\u001b[1;32m    434\u001b[0m \u001b[0;34m\u001b[0m\u001b[0m\n\u001b[1;32m    435\u001b[0m         \u001b[0;32mif\u001b[0m \u001b[0mensure_2d\u001b[0m\u001b[0;34m:\u001b[0m\u001b[0;34m\u001b[0m\u001b[0m\n",
      "\u001b[0;31mMemoryError\u001b[0m: "
     ]
    }
   ],
   "source": [
    "from sklearn.linear_model import LinearRegression as lr\n",
    "rgr = lr(fit_intercept=True).fit(df[features],df['traveltime'])"
   ]
  },
  {
   "cell_type": "code",
   "execution_count": 3,
   "metadata": {},
   "outputs": [],
   "source": [
    "from sklearn.neural_network import MLPRegressor as NN"
   ]
  },
  {
   "cell_type": "code",
   "execution_count": 11,
   "metadata": {},
   "outputs": [
    {
     "data": {
      "text/plain": [
       "Index(['dayofservice', 'tripid', 'plannedtime_arr_from',\n",
       "       'plannedtime_dep_from', 'actualtime_arr_from', 'actualtime_dep_from',\n",
       "       'plannedtime_arr_to', 'actualtime_arr_to', 'routeid', 'dewpt',\n",
       "       ...\n",
       "       'stopB_4595', 'stopB_4596', 'stopB_4869', 'stopB_4870', 'stopB_6282',\n",
       "       'stopB_6283', 'stopB_6320', 'stopB_7246', 'stopB_7579', 'stopB_7581'],\n",
       "      dtype='object', length=190)"
      ]
     },
     "execution_count": 11,
     "metadata": {},
     "output_type": "execute_result"
    }
   ],
   "source": [
    "af.columns"
   ]
  },
  {
   "cell_type": "code",
   "execution_count": 9,
   "metadata": {},
   "outputs": [],
   "source": [
    "features = ['dewpt', 'msl', 'rain', 'rhum', 'temp', 'vappr', 'wetb', 'weekend','stopA','stopB','distance','day_0',\n",
    "       'day_1', 'day_2', 'day_3', 'day_4', 'day_5', 'day_6', 'hour_5',\n",
    "       'hour_6', 'hour_7', 'hour_8', 'hour_9', 'hour_10', 'hour_11', 'hour_12',\n",
    "       'hour_13', 'hour_14', 'hour_15', 'hour_16', 'hour_17', 'hour_18',\n",
    "       'hour_19', 'hour_20', 'hour_21', 'hour_22', 'hour_23', 'month_1',\n",
    "       'month_2', 'month_3', 'month_4', 'month_5', 'month_6']"
   ]
  },
  {
   "cell_type": "code",
   "execution_count": 15,
   "metadata": {},
   "outputs": [],
   "source": [
    "train = af[af['year']==2016]\n",
    "test = af[af['year']==2017]"
   ]
  },
  {
   "cell_type": "code",
   "execution_count": 8,
   "metadata": {},
   "outputs": [],
   "source": [
    "from sklearn.ensemble import RandomForestRegressor"
   ]
  },
  {
   "cell_type": "code",
   "execution_count": 16,
   "metadata": {},
   "outputs": [
    {
     "ename": "MemoryError",
     "evalue": "",
     "output_type": "error",
     "traceback": [
      "\u001b[0;31m---------------------------------------------------------------------------\u001b[0m",
      "\u001b[0;31mMemoryError\u001b[0m                               Traceback (most recent call last)",
      "\u001b[0;32m<ipython-input-16-b5028631eb1f>\u001b[0m in \u001b[0;36m<module>\u001b[0;34m()\u001b[0m\n\u001b[0;32m----> 1\u001b[0;31m \u001b[0mrgr\u001b[0m \u001b[0;34m=\u001b[0m \u001b[0mRandomForestRegressor\u001b[0m\u001b[0;34m(\u001b[0m\u001b[0;34m)\u001b[0m\u001b[0;34m.\u001b[0m\u001b[0mfit\u001b[0m\u001b[0;34m(\u001b[0m\u001b[0mtrain\u001b[0m\u001b[0;34m[\u001b[0m\u001b[0mfeatures\u001b[0m\u001b[0;34m]\u001b[0m\u001b[0;34m,\u001b[0m\u001b[0mtrain\u001b[0m\u001b[0;34m[\u001b[0m\u001b[0;34m'traveltime'\u001b[0m\u001b[0;34m]\u001b[0m\u001b[0;34m)\u001b[0m\u001b[0;34m\u001b[0m\u001b[0m\n\u001b[0m",
      "\u001b[0;32m~/anaconda3/lib/python3.6/site-packages/pandas/core/frame.py\u001b[0m in \u001b[0;36m__getitem__\u001b[0;34m(self, key)\u001b[0m\n\u001b[1;32m   2677\u001b[0m         \u001b[0;32mif\u001b[0m \u001b[0misinstance\u001b[0m\u001b[0;34m(\u001b[0m\u001b[0mkey\u001b[0m\u001b[0;34m,\u001b[0m \u001b[0;34m(\u001b[0m\u001b[0mSeries\u001b[0m\u001b[0;34m,\u001b[0m \u001b[0mnp\u001b[0m\u001b[0;34m.\u001b[0m\u001b[0mndarray\u001b[0m\u001b[0;34m,\u001b[0m \u001b[0mIndex\u001b[0m\u001b[0;34m,\u001b[0m \u001b[0mlist\u001b[0m\u001b[0;34m)\u001b[0m\u001b[0;34m)\u001b[0m\u001b[0;34m:\u001b[0m\u001b[0;34m\u001b[0m\u001b[0m\n\u001b[1;32m   2678\u001b[0m             \u001b[0;31m# either boolean or fancy integer index\u001b[0m\u001b[0;34m\u001b[0m\u001b[0;34m\u001b[0m\u001b[0m\n\u001b[0;32m-> 2679\u001b[0;31m             \u001b[0;32mreturn\u001b[0m \u001b[0mself\u001b[0m\u001b[0;34m.\u001b[0m\u001b[0m_getitem_array\u001b[0m\u001b[0;34m(\u001b[0m\u001b[0mkey\u001b[0m\u001b[0;34m)\u001b[0m\u001b[0;34m\u001b[0m\u001b[0m\n\u001b[0m\u001b[1;32m   2680\u001b[0m         \u001b[0;32melif\u001b[0m \u001b[0misinstance\u001b[0m\u001b[0;34m(\u001b[0m\u001b[0mkey\u001b[0m\u001b[0;34m,\u001b[0m \u001b[0mDataFrame\u001b[0m\u001b[0;34m)\u001b[0m\u001b[0;34m:\u001b[0m\u001b[0;34m\u001b[0m\u001b[0m\n\u001b[1;32m   2681\u001b[0m             \u001b[0;32mreturn\u001b[0m \u001b[0mself\u001b[0m\u001b[0;34m.\u001b[0m\u001b[0m_getitem_frame\u001b[0m\u001b[0;34m(\u001b[0m\u001b[0mkey\u001b[0m\u001b[0;34m)\u001b[0m\u001b[0;34m\u001b[0m\u001b[0m\n",
      "\u001b[0;32m~/anaconda3/lib/python3.6/site-packages/pandas/core/frame.py\u001b[0m in \u001b[0;36m_getitem_array\u001b[0;34m(self, key)\u001b[0m\n\u001b[1;32m   2722\u001b[0m         \u001b[0;32melse\u001b[0m\u001b[0;34m:\u001b[0m\u001b[0;34m\u001b[0m\u001b[0m\n\u001b[1;32m   2723\u001b[0m             \u001b[0mindexer\u001b[0m \u001b[0;34m=\u001b[0m \u001b[0mself\u001b[0m\u001b[0;34m.\u001b[0m\u001b[0mloc\u001b[0m\u001b[0;34m.\u001b[0m\u001b[0m_convert_to_indexer\u001b[0m\u001b[0;34m(\u001b[0m\u001b[0mkey\u001b[0m\u001b[0;34m,\u001b[0m \u001b[0maxis\u001b[0m\u001b[0;34m=\u001b[0m\u001b[0;36m1\u001b[0m\u001b[0;34m)\u001b[0m\u001b[0;34m\u001b[0m\u001b[0m\n\u001b[0;32m-> 2724\u001b[0;31m             \u001b[0;32mreturn\u001b[0m \u001b[0mself\u001b[0m\u001b[0;34m.\u001b[0m\u001b[0m_take\u001b[0m\u001b[0;34m(\u001b[0m\u001b[0mindexer\u001b[0m\u001b[0;34m,\u001b[0m \u001b[0maxis\u001b[0m\u001b[0;34m=\u001b[0m\u001b[0;36m1\u001b[0m\u001b[0;34m)\u001b[0m\u001b[0;34m\u001b[0m\u001b[0m\n\u001b[0m\u001b[1;32m   2725\u001b[0m \u001b[0;34m\u001b[0m\u001b[0m\n\u001b[1;32m   2726\u001b[0m     \u001b[0;32mdef\u001b[0m \u001b[0m_getitem_multilevel\u001b[0m\u001b[0;34m(\u001b[0m\u001b[0mself\u001b[0m\u001b[0;34m,\u001b[0m \u001b[0mkey\u001b[0m\u001b[0;34m)\u001b[0m\u001b[0;34m:\u001b[0m\u001b[0;34m\u001b[0m\u001b[0m\n",
      "\u001b[0;32m~/anaconda3/lib/python3.6/site-packages/pandas/core/generic.py\u001b[0m in \u001b[0;36m_take\u001b[0;34m(self, indices, axis, is_copy)\u001b[0m\n\u001b[1;32m   2784\u001b[0m         new_data = self._data.take(indices,\n\u001b[1;32m   2785\u001b[0m                                    \u001b[0maxis\u001b[0m\u001b[0;34m=\u001b[0m\u001b[0mself\u001b[0m\u001b[0;34m.\u001b[0m\u001b[0m_get_block_manager_axis\u001b[0m\u001b[0;34m(\u001b[0m\u001b[0maxis\u001b[0m\u001b[0;34m)\u001b[0m\u001b[0;34m,\u001b[0m\u001b[0;34m\u001b[0m\u001b[0m\n\u001b[0;32m-> 2786\u001b[0;31m                                    verify=True)\n\u001b[0m\u001b[1;32m   2787\u001b[0m         \u001b[0mresult\u001b[0m \u001b[0;34m=\u001b[0m \u001b[0mself\u001b[0m\u001b[0;34m.\u001b[0m\u001b[0m_constructor\u001b[0m\u001b[0;34m(\u001b[0m\u001b[0mnew_data\u001b[0m\u001b[0;34m)\u001b[0m\u001b[0;34m.\u001b[0m\u001b[0m__finalize__\u001b[0m\u001b[0;34m(\u001b[0m\u001b[0mself\u001b[0m\u001b[0;34m)\u001b[0m\u001b[0;34m\u001b[0m\u001b[0m\n\u001b[1;32m   2788\u001b[0m \u001b[0;34m\u001b[0m\u001b[0m\n",
      "\u001b[0;32m~/anaconda3/lib/python3.6/site-packages/pandas/core/internals.py\u001b[0m in \u001b[0;36mtake\u001b[0;34m(self, indexer, axis, verify, convert)\u001b[0m\n\u001b[1;32m   4537\u001b[0m         \u001b[0mnew_labels\u001b[0m \u001b[0;34m=\u001b[0m \u001b[0mself\u001b[0m\u001b[0;34m.\u001b[0m\u001b[0maxes\u001b[0m\u001b[0;34m[\u001b[0m\u001b[0maxis\u001b[0m\u001b[0;34m]\u001b[0m\u001b[0;34m.\u001b[0m\u001b[0mtake\u001b[0m\u001b[0;34m(\u001b[0m\u001b[0mindexer\u001b[0m\u001b[0;34m)\u001b[0m\u001b[0;34m\u001b[0m\u001b[0m\n\u001b[1;32m   4538\u001b[0m         return self.reindex_indexer(new_axis=new_labels, indexer=indexer,\n\u001b[0;32m-> 4539\u001b[0;31m                                     axis=axis, allow_dups=True)\n\u001b[0m\u001b[1;32m   4540\u001b[0m \u001b[0;34m\u001b[0m\u001b[0m\n\u001b[1;32m   4541\u001b[0m     \u001b[0;32mdef\u001b[0m \u001b[0mmerge\u001b[0m\u001b[0;34m(\u001b[0m\u001b[0mself\u001b[0m\u001b[0;34m,\u001b[0m \u001b[0mother\u001b[0m\u001b[0;34m,\u001b[0m \u001b[0mlsuffix\u001b[0m\u001b[0;34m=\u001b[0m\u001b[0;34m''\u001b[0m\u001b[0;34m,\u001b[0m \u001b[0mrsuffix\u001b[0m\u001b[0;34m=\u001b[0m\u001b[0;34m''\u001b[0m\u001b[0;34m)\u001b[0m\u001b[0;34m:\u001b[0m\u001b[0;34m\u001b[0m\u001b[0m\n",
      "\u001b[0;32m~/anaconda3/lib/python3.6/site-packages/pandas/core/internals.py\u001b[0m in \u001b[0;36mreindex_indexer\u001b[0;34m(self, new_axis, indexer, axis, fill_value, allow_dups, copy)\u001b[0m\n\u001b[1;32m   4419\u001b[0m         \u001b[0;32mif\u001b[0m \u001b[0maxis\u001b[0m \u001b[0;34m==\u001b[0m \u001b[0;36m0\u001b[0m\u001b[0;34m:\u001b[0m\u001b[0;34m\u001b[0m\u001b[0m\n\u001b[1;32m   4420\u001b[0m             new_blocks = self._slice_take_blocks_ax0(indexer,\n\u001b[0;32m-> 4421\u001b[0;31m                                                      fill_tuple=(fill_value,))\n\u001b[0m\u001b[1;32m   4422\u001b[0m         \u001b[0;32melse\u001b[0m\u001b[0;34m:\u001b[0m\u001b[0;34m\u001b[0m\u001b[0m\n\u001b[1;32m   4423\u001b[0m             new_blocks = [blk.take_nd(indexer, axis=axis, fill_tuple=(\n",
      "\u001b[0;32m~/anaconda3/lib/python3.6/site-packages/pandas/core/internals.py\u001b[0m in \u001b[0;36m_slice_take_blocks_ax0\u001b[0;34m(self, slice_or_indexer, fill_tuple)\u001b[0m\n\u001b[1;32m   4499\u001b[0m                     blocks.append(blk.take_nd(blklocs[mgr_locs.indexer],\n\u001b[1;32m   4500\u001b[0m                                               \u001b[0maxis\u001b[0m\u001b[0;34m=\u001b[0m\u001b[0;36m0\u001b[0m\u001b[0;34m,\u001b[0m \u001b[0mnew_mgr_locs\u001b[0m\u001b[0;34m=\u001b[0m\u001b[0mmgr_locs\u001b[0m\u001b[0;34m,\u001b[0m\u001b[0;34m\u001b[0m\u001b[0m\n\u001b[0;32m-> 4501\u001b[0;31m                                               fill_tuple=None))\n\u001b[0m\u001b[1;32m   4502\u001b[0m \u001b[0;34m\u001b[0m\u001b[0m\n\u001b[1;32m   4503\u001b[0m         \u001b[0;32mreturn\u001b[0m \u001b[0mblocks\u001b[0m\u001b[0;34m\u001b[0m\u001b[0m\n",
      "\u001b[0;32m~/anaconda3/lib/python3.6/site-packages/pandas/core/internals.py\u001b[0m in \u001b[0;36mtake_nd\u001b[0;34m(self, indexer, axis, new_mgr_locs, fill_tuple)\u001b[0m\n\u001b[1;32m   1252\u001b[0m             \u001b[0mfill_value\u001b[0m \u001b[0;34m=\u001b[0m \u001b[0mself\u001b[0m\u001b[0;34m.\u001b[0m\u001b[0mfill_value\u001b[0m\u001b[0;34m\u001b[0m\u001b[0m\n\u001b[1;32m   1253\u001b[0m             new_values = algos.take_nd(values, indexer, axis=axis,\n\u001b[0;32m-> 1254\u001b[0;31m                                        allow_fill=False)\n\u001b[0m\u001b[1;32m   1255\u001b[0m         \u001b[0;32melse\u001b[0m\u001b[0;34m:\u001b[0m\u001b[0;34m\u001b[0m\u001b[0m\n\u001b[1;32m   1256\u001b[0m             \u001b[0mfill_value\u001b[0m \u001b[0;34m=\u001b[0m \u001b[0mfill_tuple\u001b[0m\u001b[0;34m[\u001b[0m\u001b[0;36m0\u001b[0m\u001b[0;34m]\u001b[0m\u001b[0;34m\u001b[0m\u001b[0m\n",
      "\u001b[0;32m~/anaconda3/lib/python3.6/site-packages/pandas/core/algorithms.py\u001b[0m in \u001b[0;36mtake_nd\u001b[0;34m(arr, indexer, axis, out, fill_value, mask_info, allow_fill)\u001b[0m\n\u001b[1;32m   1650\u001b[0m             \u001b[0mout\u001b[0m \u001b[0;34m=\u001b[0m \u001b[0mnp\u001b[0m\u001b[0;34m.\u001b[0m\u001b[0mempty\u001b[0m\u001b[0;34m(\u001b[0m\u001b[0mout_shape\u001b[0m\u001b[0;34m,\u001b[0m \u001b[0mdtype\u001b[0m\u001b[0;34m=\u001b[0m\u001b[0mdtype\u001b[0m\u001b[0;34m,\u001b[0m \u001b[0morder\u001b[0m\u001b[0;34m=\u001b[0m\u001b[0;34m'F'\u001b[0m\u001b[0;34m)\u001b[0m\u001b[0;34m\u001b[0m\u001b[0m\n\u001b[1;32m   1651\u001b[0m         \u001b[0;32melse\u001b[0m\u001b[0;34m:\u001b[0m\u001b[0;34m\u001b[0m\u001b[0m\n\u001b[0;32m-> 1652\u001b[0;31m             \u001b[0mout\u001b[0m \u001b[0;34m=\u001b[0m \u001b[0mnp\u001b[0m\u001b[0;34m.\u001b[0m\u001b[0mempty\u001b[0m\u001b[0;34m(\u001b[0m\u001b[0mout_shape\u001b[0m\u001b[0;34m,\u001b[0m \u001b[0mdtype\u001b[0m\u001b[0;34m=\u001b[0m\u001b[0mdtype\u001b[0m\u001b[0;34m)\u001b[0m\u001b[0;34m\u001b[0m\u001b[0m\n\u001b[0m\u001b[1;32m   1653\u001b[0m \u001b[0;34m\u001b[0m\u001b[0m\n\u001b[1;32m   1654\u001b[0m     func = _get_take_nd_function(arr.ndim, arr.dtype, out.dtype, axis=axis,\n",
      "\u001b[0;31mMemoryError\u001b[0m: "
     ]
    }
   ],
   "source": [
    "rgr = RandomForestRegressor().fit(train[features],train['traveltime'])"
   ]
  },
  {
   "cell_type": "code",
   "execution_count": 14,
   "metadata": {},
   "outputs": [
    {
     "ename": "NotFittedError",
     "evalue": "This RandomForestRegressor instance is not fitted yet. Call 'fit' with appropriate arguments before using this method.",
     "output_type": "error",
     "traceback": [
      "\u001b[0;31m---------------------------------------------------------------------------\u001b[0m",
      "\u001b[0;31mNotFittedError\u001b[0m                            Traceback (most recent call last)",
      "\u001b[0;32m<ipython-input-14-de29a6e6042d>\u001b[0m in \u001b[0;36m<module>\u001b[0;34m()\u001b[0m\n\u001b[0;32m----> 1\u001b[0;31m \u001b[0mpreds\u001b[0m\u001b[0;34m=\u001b[0m\u001b[0mrgr\u001b[0m\u001b[0;34m.\u001b[0m\u001b[0mpredict\u001b[0m\u001b[0;34m(\u001b[0m\u001b[0maf\u001b[0m\u001b[0;34m[\u001b[0m\u001b[0mfeatures\u001b[0m\u001b[0;34m]\u001b[0m\u001b[0;34m)\u001b[0m\u001b[0;34m\u001b[0m\u001b[0m\n\u001b[0m",
      "\u001b[0;32m~/anaconda3/lib/python3.6/site-packages/sklearn/ensemble/forest.py\u001b[0m in \u001b[0;36mpredict\u001b[0;34m(self, X)\u001b[0m\n\u001b[1;32m    677\u001b[0m             \u001b[0mThe\u001b[0m \u001b[0mpredicted\u001b[0m \u001b[0mvalues\u001b[0m\u001b[0;34m.\u001b[0m\u001b[0;34m\u001b[0m\u001b[0m\n\u001b[1;32m    678\u001b[0m         \"\"\"\n\u001b[0;32m--> 679\u001b[0;31m         \u001b[0mcheck_is_fitted\u001b[0m\u001b[0;34m(\u001b[0m\u001b[0mself\u001b[0m\u001b[0;34m,\u001b[0m \u001b[0;34m'estimators_'\u001b[0m\u001b[0;34m)\u001b[0m\u001b[0;34m\u001b[0m\u001b[0m\n\u001b[0m\u001b[1;32m    680\u001b[0m         \u001b[0;31m# Check data\u001b[0m\u001b[0;34m\u001b[0m\u001b[0;34m\u001b[0m\u001b[0m\n\u001b[1;32m    681\u001b[0m         \u001b[0mX\u001b[0m \u001b[0;34m=\u001b[0m \u001b[0mself\u001b[0m\u001b[0;34m.\u001b[0m\u001b[0m_validate_X_predict\u001b[0m\u001b[0;34m(\u001b[0m\u001b[0mX\u001b[0m\u001b[0;34m)\u001b[0m\u001b[0;34m\u001b[0m\u001b[0m\n",
      "\u001b[0;32m~/anaconda3/lib/python3.6/site-packages/sklearn/utils/validation.py\u001b[0m in \u001b[0;36mcheck_is_fitted\u001b[0;34m(estimator, attributes, msg, all_or_any)\u001b[0m\n\u001b[1;32m    766\u001b[0m \u001b[0;34m\u001b[0m\u001b[0m\n\u001b[1;32m    767\u001b[0m     \u001b[0;32mif\u001b[0m \u001b[0;32mnot\u001b[0m \u001b[0mall_or_any\u001b[0m\u001b[0;34m(\u001b[0m\u001b[0;34m[\u001b[0m\u001b[0mhasattr\u001b[0m\u001b[0;34m(\u001b[0m\u001b[0mestimator\u001b[0m\u001b[0;34m,\u001b[0m \u001b[0mattr\u001b[0m\u001b[0;34m)\u001b[0m \u001b[0;32mfor\u001b[0m \u001b[0mattr\u001b[0m \u001b[0;32min\u001b[0m \u001b[0mattributes\u001b[0m\u001b[0;34m]\u001b[0m\u001b[0;34m)\u001b[0m\u001b[0;34m:\u001b[0m\u001b[0;34m\u001b[0m\u001b[0m\n\u001b[0;32m--> 768\u001b[0;31m         \u001b[0;32mraise\u001b[0m \u001b[0mNotFittedError\u001b[0m\u001b[0;34m(\u001b[0m\u001b[0mmsg\u001b[0m \u001b[0;34m%\u001b[0m \u001b[0;34m{\u001b[0m\u001b[0;34m'name'\u001b[0m\u001b[0;34m:\u001b[0m \u001b[0mtype\u001b[0m\u001b[0;34m(\u001b[0m\u001b[0mestimator\u001b[0m\u001b[0;34m)\u001b[0m\u001b[0;34m.\u001b[0m\u001b[0m__name__\u001b[0m\u001b[0;34m}\u001b[0m\u001b[0;34m)\u001b[0m\u001b[0;34m\u001b[0m\u001b[0m\n\u001b[0m\u001b[1;32m    769\u001b[0m \u001b[0;34m\u001b[0m\u001b[0m\n\u001b[1;32m    770\u001b[0m \u001b[0;34m\u001b[0m\u001b[0m\n",
      "\u001b[0;31mNotFittedError\u001b[0m: This RandomForestRegressor instance is not fitted yet. Call 'fit' with appropriate arguments before using this method."
     ]
    }
   ],
   "source": [
    "preds=rgr.predict(af[features])"
   ]
  },
  {
   "cell_type": "code",
   "execution_count": null,
   "metadata": {},
   "outputs": [],
   "source": [
    "print('hello')"
   ]
  },
  {
   "cell_type": "code",
   "execution_count": 1,
   "metadata": {},
   "outputs": [],
   "source": [
    "import pandas as pd\n",
    "leavetimes = pd.read_csv('/data/full_route_15.csv',chunksize=300000)"
   ]
  },
  {
   "cell_type": "code",
   "execution_count": 2,
   "metadata": {},
   "outputs": [],
   "source": [
    "df = leavetimes.get_chunk()"
   ]
  },
  {
   "cell_type": "code",
   "execution_count": 25,
   "metadata": {},
   "outputs": [],
   "source": [
    "import numpy as np\n",
    "msk = np.random.rand(len(df)) < 0.8\n",
    "train = df[msk]\n",
    "test = df[~msk]"
   ]
  },
  {
   "cell_type": "code",
   "execution_count": 4,
   "metadata": {},
   "outputs": [],
   "source": [
    "features = [i for i in df.columns if i != 'traveltime']"
   ]
  },
  {
   "cell_type": "code",
   "execution_count": 5,
   "metadata": {},
   "outputs": [
    {
     "data": {
      "text/plain": [
       "['dewpt',\n",
       " 'msl',\n",
       " 'rain',\n",
       " 'rhum',\n",
       " 'temp',\n",
       " 'vappr',\n",
       " 'wetb',\n",
       " 'distance',\n",
       " 'day_0',\n",
       " 'day_1',\n",
       " 'day_2',\n",
       " 'day_3',\n",
       " 'day_4',\n",
       " 'day_5',\n",
       " 'day_6',\n",
       " 'hour_5',\n",
       " 'hour_6',\n",
       " 'hour_7',\n",
       " 'hour_8',\n",
       " 'hour_9',\n",
       " 'hour_10',\n",
       " 'hour_11',\n",
       " 'hour_12',\n",
       " 'hour_13',\n",
       " 'hour_14',\n",
       " 'hour_15',\n",
       " 'hour_16',\n",
       " 'hour_17',\n",
       " 'hour_18',\n",
       " 'hour_19',\n",
       " 'hour_20',\n",
       " 'hour_21',\n",
       " 'hour_22',\n",
       " 'hour_23',\n",
       " 'month_1',\n",
       " 'month_2',\n",
       " 'month_3',\n",
       " 'month_4',\n",
       " 'month_5',\n",
       " 'month_6',\n",
       " 'stopA_301',\n",
       " 'stopA_614',\n",
       " 'stopA_615',\n",
       " 'stopA_616',\n",
       " 'stopA_617',\n",
       " 'stopA_618',\n",
       " 'stopA_619',\n",
       " 'stopA_664',\n",
       " 'stopA_665',\n",
       " 'stopA_666',\n",
       " 'stopA_667',\n",
       " 'stopA_668',\n",
       " 'stopA_675',\n",
       " 'stopA_1016',\n",
       " 'stopA_1017',\n",
       " 'stopA_1018',\n",
       " 'stopA_1019',\n",
       " 'stopA_1020',\n",
       " 'stopA_1076',\n",
       " 'stopA_1077',\n",
       " 'stopA_1078',\n",
       " 'stopA_1079',\n",
       " 'stopA_1080',\n",
       " 'stopA_1081',\n",
       " 'stopA_1082',\n",
       " 'stopA_1083',\n",
       " 'stopA_1085',\n",
       " 'stopA_1121',\n",
       " 'stopA_1122',\n",
       " 'stopA_1123',\n",
       " 'stopA_1124',\n",
       " 'stopA_1125',\n",
       " 'stopA_1127',\n",
       " 'stopA_1130',\n",
       " 'stopA_1140',\n",
       " 'stopA_1141',\n",
       " 'stopA_1142',\n",
       " 'stopA_1143',\n",
       " 'stopA_1144',\n",
       " 'stopA_1145',\n",
       " 'stopA_1218',\n",
       " 'stopA_1219',\n",
       " 'stopA_1220',\n",
       " 'stopA_1221',\n",
       " 'stopA_1270',\n",
       " 'stopA_1272',\n",
       " 'stopA_1273',\n",
       " 'stopA_1274',\n",
       " 'stopA_1275',\n",
       " 'stopA_1276',\n",
       " 'stopA_1277',\n",
       " 'stopA_1283',\n",
       " 'stopA_1285',\n",
       " 'stopA_3007',\n",
       " 'stopA_4415',\n",
       " 'stopA_4495',\n",
       " 'stopA_4563',\n",
       " 'stopA_4594',\n",
       " 'stopA_4595',\n",
       " 'stopA_4596',\n",
       " 'stopA_4869',\n",
       " 'stopA_4870',\n",
       " 'stopA_6283',\n",
       " 'stopA_6319',\n",
       " 'stopA_6320',\n",
       " 'stopA_7246',\n",
       " 'stopA_7579',\n",
       " 'stopA_7581',\n",
       " 'stopB_301',\n",
       " 'stopB_614',\n",
       " 'stopB_615',\n",
       " 'stopB_616',\n",
       " 'stopB_617',\n",
       " 'stopB_618',\n",
       " 'stopB_619',\n",
       " 'stopB_664',\n",
       " 'stopB_665',\n",
       " 'stopB_666',\n",
       " 'stopB_667',\n",
       " 'stopB_668',\n",
       " 'stopB_675',\n",
       " 'stopB_1016',\n",
       " 'stopB_1017',\n",
       " 'stopB_1018',\n",
       " 'stopB_1019',\n",
       " 'stopB_1020',\n",
       " 'stopB_1076',\n",
       " 'stopB_1077',\n",
       " 'stopB_1078',\n",
       " 'stopB_1079',\n",
       " 'stopB_1080',\n",
       " 'stopB_1081',\n",
       " 'stopB_1082',\n",
       " 'stopB_1083',\n",
       " 'stopB_1085',\n",
       " 'stopB_1121',\n",
       " 'stopB_1122',\n",
       " 'stopB_1123',\n",
       " 'stopB_1124',\n",
       " 'stopB_1125',\n",
       " 'stopB_1127',\n",
       " 'stopB_1130',\n",
       " 'stopB_1140',\n",
       " 'stopB_1141',\n",
       " 'stopB_1142',\n",
       " 'stopB_1143',\n",
       " 'stopB_1144',\n",
       " 'stopB_1145',\n",
       " 'stopB_1218',\n",
       " 'stopB_1219',\n",
       " 'stopB_1220',\n",
       " 'stopB_1221',\n",
       " 'stopB_1270',\n",
       " 'stopB_1272',\n",
       " 'stopB_1273',\n",
       " 'stopB_1274',\n",
       " 'stopB_1275',\n",
       " 'stopB_1276',\n",
       " 'stopB_1277',\n",
       " 'stopB_1283',\n",
       " 'stopB_1285',\n",
       " 'stopB_3007',\n",
       " 'stopB_4415',\n",
       " 'stopB_4495',\n",
       " 'stopB_4563',\n",
       " 'stopB_4594',\n",
       " 'stopB_4595',\n",
       " 'stopB_4596',\n",
       " 'stopB_4869',\n",
       " 'stopB_4870',\n",
       " 'stopB_6282',\n",
       " 'stopB_6283',\n",
       " 'stopB_6320',\n",
       " 'stopB_7246',\n",
       " 'stopB_7579',\n",
       " 'stopB_7581']"
      ]
     },
     "execution_count": 5,
     "metadata": {},
     "output_type": "execute_result"
    }
   ],
   "source": [
    "features"
   ]
  },
  {
   "cell_type": "code",
   "execution_count": 28,
   "metadata": {},
   "outputs": [],
   "source": [
    "features = ['day_0',\n",
    " 'day_1',\n",
    " 'day_2',\n",
    " 'day_3',\n",
    " 'day_4',\n",
    " 'day_5',\n",
    " 'day_6',\n",
    " 'hour_5',\n",
    " 'hour_6',\n",
    " 'hour_7',\n",
    " 'hour_8',\n",
    " 'hour_9',\n",
    " 'hour_10',\n",
    " 'hour_11',\n",
    " 'hour_12',\n",
    " 'hour_13',\n",
    " 'hour_14',\n",
    " 'hour_15',\n",
    " 'hour_16',\n",
    " 'hour_17',\n",
    " 'hour_18',\n",
    " 'hour_19',\n",
    " 'hour_20',\n",
    " 'hour_21',\n",
    " 'hour_22',\n",
    " 'hour_23',\n",
    " 'month_1',\n",
    " 'month_2',\n",
    " 'month_3',\n",
    " 'month_4',\n",
    " 'month_5',\n",
    " 'month_6','stopA_301',\n",
    " 'stopA_614',\n",
    " 'stopA_615',\n",
    " 'stopA_616',\n",
    " 'stopA_617',\n",
    " 'stopA_618',\n",
    " 'stopA_619',\n",
    " 'stopA_664',\n",
    " 'stopA_665',\n",
    " 'stopA_666',\n",
    " 'stopA_667',\n",
    " 'stopA_668',\n",
    " 'stopA_675',\n",
    " 'stopA_1016',\n",
    " 'stopA_1017',\n",
    " 'stopA_1018',\n",
    " 'stopA_1019',\n",
    " 'stopA_1020',\n",
    " 'stopA_1076',\n",
    " 'stopA_1077',\n",
    " 'stopA_1078',\n",
    " 'stopA_1079',\n",
    " 'stopA_1080',\n",
    " 'stopA_1081',\n",
    " 'stopA_1082',\n",
    " 'stopA_1083',\n",
    " 'stopA_1085',\n",
    " 'stopA_1121',\n",
    " 'stopA_1122',\n",
    " 'stopA_1123',\n",
    " 'stopA_1124',\n",
    " 'stopA_1125',\n",
    " 'stopA_1127',\n",
    " 'stopA_1130',\n",
    " 'stopA_1140',\n",
    " 'stopA_1141',\n",
    " 'stopA_1142',\n",
    " 'stopA_1143',\n",
    " 'stopA_1144',\n",
    " 'stopA_1145',\n",
    " 'stopA_1218',\n",
    " 'stopA_1219',\n",
    " 'stopA_1220',\n",
    " 'stopA_1221',\n",
    " 'stopA_1270',\n",
    " 'stopA_1272',\n",
    " 'stopA_1273',\n",
    " 'stopA_1274',\n",
    " 'stopA_1275',\n",
    " 'stopA_1276',\n",
    " 'stopA_1277',\n",
    " 'stopA_1283',\n",
    " 'stopA_1285',\n",
    " 'stopA_3007',\n",
    " 'stopA_4415',\n",
    " 'stopA_4495',\n",
    " 'stopA_4563',\n",
    " 'stopA_4594',\n",
    " 'stopA_4595',\n",
    " 'stopA_4596',\n",
    " 'stopA_4869',\n",
    " 'stopA_4870',\n",
    " 'stopA_6283',\n",
    " 'stopA_6319',\n",
    " 'stopA_6320',\n",
    " 'stopA_7246',\n",
    " 'stopA_7579',\n",
    " 'stopA_7581',\n",
    " 'stopB_301',\n",
    " 'stopB_614',\n",
    " 'stopB_615',\n",
    " 'stopB_616',\n",
    " 'stopB_617',\n",
    " 'stopB_618',\n",
    " 'stopB_619',\n",
    " 'stopB_664',\n",
    " 'stopB_665',\n",
    " 'stopB_666',\n",
    " 'stopB_667',\n",
    " 'stopB_668',\n",
    " 'stopB_675',\n",
    " 'stopB_1016',\n",
    " 'stopB_1017',\n",
    " 'stopB_1018',\n",
    " 'stopB_1019',\n",
    " 'stopB_1020',\n",
    " 'stopB_1076',\n",
    " 'stopB_1077',\n",
    " 'stopB_1078',\n",
    " 'stopB_1079',\n",
    " 'stopB_1080',\n",
    " 'stopB_1081',\n",
    " 'stopB_1082',\n",
    " 'stopB_1083',\n",
    " 'stopB_1085',\n",
    " 'stopB_1121',\n",
    " 'stopB_1122',\n",
    " 'stopB_1123',\n",
    " 'stopB_1124',\n",
    " 'stopB_1125',\n",
    " 'stopB_1127',\n",
    " 'stopB_1130',\n",
    " 'stopB_1140',\n",
    " 'stopB_1141',\n",
    " 'stopB_1142',\n",
    " 'stopB_1143',\n",
    " 'stopB_1144',\n",
    " 'stopB_1145',\n",
    " 'stopB_1218',\n",
    " 'stopB_1219',\n",
    " 'stopB_1220',\n",
    " 'stopB_1221',\n",
    " 'stopB_1270',\n",
    " 'stopB_1272',\n",
    " 'stopB_1273',\n",
    " 'stopB_1274',\n",
    " 'stopB_1275',\n",
    " 'stopB_1276',\n",
    " 'stopB_1277',\n",
    " 'stopB_1283',\n",
    " 'stopB_1285',\n",
    " 'stopB_3007',\n",
    " 'stopB_4415',\n",
    " 'stopB_4495',\n",
    " 'stopB_4563',\n",
    " 'stopB_4594',\n",
    " 'stopB_4595',\n",
    " 'stopB_4596',\n",
    " 'stopB_4869',\n",
    " 'stopB_4870',\n",
    " 'stopB_6282',\n",
    " 'stopB_6283',\n",
    " 'stopB_6320',\n",
    " 'stopB_7246',\n",
    " 'stopB_7579',\n",
    " 'stopB_7581']"
   ]
  },
  {
   "cell_type": "code",
   "execution_count": 29,
   "metadata": {},
   "outputs": [],
   "source": [
    "from sklearn.linear_model import LinearRegression as lr"
   ]
  },
  {
   "cell_type": "code",
   "execution_count": 30,
   "metadata": {},
   "outputs": [],
   "source": [
    "rgr = lr(fit_intercept=True).fit(train[features],train['traveltime'])"
   ]
  },
  {
   "cell_type": "code",
   "execution_count": 31,
   "metadata": {},
   "outputs": [],
   "source": [
    "preds = rgr.predict(test[features])"
   ]
  },
  {
   "cell_type": "code",
   "execution_count": 32,
   "metadata": {},
   "outputs": [
    {
     "data": {
      "text/plain": [
       "0.9409848314081584"
      ]
     },
     "execution_count": 32,
     "metadata": {},
     "output_type": "execute_result"
    }
   ],
   "source": [
    "from sklearn import metrics\n",
    "metrics.r2_score(test['traveltime'],preds)"
   ]
  },
  {
   "cell_type": "code",
   "execution_count": 10,
   "metadata": {},
   "outputs": [
    {
     "data": {
      "text/plain": [
       "Index(['traveltime', 'dewpt', 'msl', 'rain', 'rhum', 'temp', 'vappr', 'wetb',\n",
       "       'distance', 'day_0',\n",
       "       ...\n",
       "       'stopB_4595', 'stopB_4596', 'stopB_4869', 'stopB_4870', 'stopB_6282',\n",
       "       'stopB_6283', 'stopB_6320', 'stopB_7246', 'stopB_7579', 'stopB_7581'],\n",
       "      dtype='object', length=177)"
      ]
     },
     "execution_count": 10,
     "metadata": {},
     "output_type": "execute_result"
    }
   ],
   "source": [
    "test.columns"
   ]
  },
  {
   "cell_type": "code",
   "execution_count": 33,
   "metadata": {},
   "outputs": [],
   "source": [
    "test = test[test['stopB_7246']==1]"
   ]
  },
  {
   "cell_type": "code",
   "execution_count": 21,
   "metadata": {},
   "outputs": [
    {
     "data": {
      "text/html": [
       "<div>\n",
       "<style scoped>\n",
       "    .dataframe tbody tr th:only-of-type {\n",
       "        vertical-align: middle;\n",
       "    }\n",
       "\n",
       "    .dataframe tbody tr th {\n",
       "        vertical-align: top;\n",
       "    }\n",
       "\n",
       "    .dataframe thead th {\n",
       "        text-align: right;\n",
       "    }\n",
       "</style>\n",
       "<table border=\"1\" class=\"dataframe\">\n",
       "  <thead>\n",
       "    <tr style=\"text-align: right;\">\n",
       "      <th></th>\n",
       "      <th>traveltime</th>\n",
       "      <th>dewpt</th>\n",
       "      <th>msl</th>\n",
       "      <th>rain</th>\n",
       "      <th>rhum</th>\n",
       "      <th>temp</th>\n",
       "      <th>vappr</th>\n",
       "      <th>wetb</th>\n",
       "      <th>distance</th>\n",
       "      <th>day_0</th>\n",
       "      <th>...</th>\n",
       "      <th>stopB_4595</th>\n",
       "      <th>stopB_4596</th>\n",
       "      <th>stopB_4869</th>\n",
       "      <th>stopB_4870</th>\n",
       "      <th>stopB_6282</th>\n",
       "      <th>stopB_6283</th>\n",
       "      <th>stopB_6320</th>\n",
       "      <th>stopB_7246</th>\n",
       "      <th>stopB_7579</th>\n",
       "      <th>stopB_7581</th>\n",
       "    </tr>\n",
       "  </thead>\n",
       "  <tbody>\n",
       "    <tr>\n",
       "      <th>0</th>\n",
       "      <td>24</td>\n",
       "      <td>3.6</td>\n",
       "      <td>1029.1</td>\n",
       "      <td>0.0</td>\n",
       "      <td>90</td>\n",
       "      <td>5.1</td>\n",
       "      <td>7.9</td>\n",
       "      <td>4.5</td>\n",
       "      <td>0.232222</td>\n",
       "      <td>0</td>\n",
       "      <td>...</td>\n",
       "      <td>0</td>\n",
       "      <td>0</td>\n",
       "      <td>0</td>\n",
       "      <td>0</td>\n",
       "      <td>0</td>\n",
       "      <td>0</td>\n",
       "      <td>0</td>\n",
       "      <td>1</td>\n",
       "      <td>0</td>\n",
       "      <td>0</td>\n",
       "    </tr>\n",
       "    <tr>\n",
       "      <th>4</th>\n",
       "      <td>293</td>\n",
       "      <td>3.6</td>\n",
       "      <td>1029.1</td>\n",
       "      <td>0.0</td>\n",
       "      <td>90</td>\n",
       "      <td>5.1</td>\n",
       "      <td>7.9</td>\n",
       "      <td>4.5</td>\n",
       "      <td>0.276448</td>\n",
       "      <td>0</td>\n",
       "      <td>...</td>\n",
       "      <td>0</td>\n",
       "      <td>1</td>\n",
       "      <td>0</td>\n",
       "      <td>0</td>\n",
       "      <td>0</td>\n",
       "      <td>0</td>\n",
       "      <td>0</td>\n",
       "      <td>0</td>\n",
       "      <td>0</td>\n",
       "      <td>0</td>\n",
       "    </tr>\n",
       "  </tbody>\n",
       "</table>\n",
       "<p>2 rows × 177 columns</p>\n",
       "</div>"
      ],
      "text/plain": [
       "   traveltime  dewpt     msl  rain  rhum  temp  vappr  wetb  distance  day_0  \\\n",
       "0          24    3.6  1029.1   0.0    90   5.1    7.9   4.5  0.232222      0   \n",
       "4         293    3.6  1029.1   0.0    90   5.1    7.9   4.5  0.276448      0   \n",
       "\n",
       "      ...      stopB_4595  stopB_4596  stopB_4869  stopB_4870  stopB_6282  \\\n",
       "0     ...               0           0           0           0           0   \n",
       "4     ...               0           1           0           0           0   \n",
       "\n",
       "   stopB_6283  stopB_6320  stopB_7246  stopB_7579  stopB_7581  \n",
       "0           0           0           1           0           0  \n",
       "4           0           0           0           0           0  \n",
       "\n",
       "[2 rows x 177 columns]"
      ]
     },
     "execution_count": 21,
     "metadata": {},
     "output_type": "execute_result"
    }
   ],
   "source": [
    "test.head(2)"
   ]
  },
  {
   "cell_type": "code",
   "execution_count": 20,
   "metadata": {},
   "outputs": [
    {
     "data": {
      "text/plain": [
       "38.07179545221219"
      ]
     },
     "execution_count": 20,
     "metadata": {},
     "output_type": "execute_result"
    }
   ],
   "source": [
    "((abs(train['traveltime']-preds)/train['traveltime'])*100).mean()"
   ]
  },
  {
   "cell_type": "code",
   "execution_count": 34,
   "metadata": {},
   "outputs": [],
   "source": [
    "preds = rgr.predict(test[features])"
   ]
  },
  {
   "cell_type": "code",
   "execution_count": 35,
   "metadata": {},
   "outputs": [
    {
     "data": {
      "text/plain": [
       "-466.24161210205085"
      ]
     },
     "execution_count": 35,
     "metadata": {},
     "output_type": "execute_result"
    }
   ],
   "source": [
    "from sklearn import metrics\n",
    "metrics.r2_score(test['traveltime'],preds)"
   ]
  },
  {
   "cell_type": "code",
   "execution_count": 24,
   "metadata": {},
   "outputs": [
    {
     "data": {
      "text/plain": [
       "37.885080368748945"
      ]
     },
     "execution_count": 24,
     "metadata": {},
     "output_type": "execute_result"
    }
   ],
   "source": [
    "((abs(test['traveltime']-preds)/test['traveltime'])*100).mean()"
   ]
  },
  {
   "cell_type": "code",
   "execution_count": 25,
   "metadata": {},
   "outputs": [],
   "source": [
    "del(rgr)"
   ]
  },
  {
   "cell_type": "code",
   "execution_count": 26,
   "metadata": {},
   "outputs": [],
   "source": [
    "from sklearn.ensemble import RandomForestRegressor as rf"
   ]
  },
  {
   "cell_type": "code",
   "execution_count": 45,
   "metadata": {},
   "outputs": [],
   "source": [
    "rgr = rf().fit(train[features],train['traveltime'])"
   ]
  },
  {
   "cell_type": "code",
   "execution_count": 46,
   "metadata": {},
   "outputs": [],
   "source": [
    "preds = rgr.predict(train[features])"
   ]
  },
  {
   "cell_type": "code",
   "execution_count": 47,
   "metadata": {},
   "outputs": [
    {
     "data": {
      "text/plain": [
       "0.9699119414067788"
      ]
     },
     "execution_count": 47,
     "metadata": {},
     "output_type": "execute_result"
    }
   ],
   "source": [
    "metrics.r2_score(train['traveltime'],preds)"
   ]
  },
  {
   "cell_type": "code",
   "execution_count": 48,
   "metadata": {},
   "outputs": [],
   "source": [
    "preds = rgr.predict(test[features])"
   ]
  },
  {
   "cell_type": "code",
   "execution_count": 49,
   "metadata": {},
   "outputs": [
    {
     "data": {
      "text/plain": [
       "-0.06499827996957008"
      ]
     },
     "execution_count": 49,
     "metadata": {},
     "output_type": "execute_result"
    }
   ],
   "source": [
    "metrics.r2_score(test['traveltime'],preds)"
   ]
  },
  {
   "cell_type": "code",
   "execution_count": 50,
   "metadata": {},
   "outputs": [
    {
     "data": {
      "text/plain": [
       "18.061982015153312"
      ]
     },
     "execution_count": 50,
     "metadata": {},
     "output_type": "execute_result"
    }
   ],
   "source": [
    "((abs(test['traveltime']-preds)/test['traveltime'])*100).mean()"
   ]
  },
  {
   "cell_type": "code",
   "execution_count": 33,
   "metadata": {},
   "outputs": [],
   "source": [
    "# promising I guess"
   ]
  },
  {
   "cell_type": "code",
   "execution_count": 36,
   "metadata": {},
   "outputs": [],
   "source": [
    "test = test[test['distance']==test['distance'].max()]"
   ]
  },
  {
   "cell_type": "code",
   "execution_count": 37,
   "metadata": {},
   "outputs": [],
   "source": [
    "preds = rgr.predict(test[features])"
   ]
  },
  {
   "cell_type": "code",
   "execution_count": 38,
   "metadata": {},
   "outputs": [
    {
     "data": {
      "text/plain": [
       "-0.17739585513108014"
      ]
     },
     "execution_count": 38,
     "metadata": {},
     "output_type": "execute_result"
    }
   ],
   "source": [
    "metrics.r2_score(test['traveltime'],preds)"
   ]
  },
  {
   "cell_type": "code",
   "execution_count": 39,
   "metadata": {},
   "outputs": [
    {
     "data": {
      "text/plain": [
       "19.50298690778115"
      ]
     },
     "execution_count": 39,
     "metadata": {},
     "output_type": "execute_result"
    }
   ],
   "source": [
    "((abs(test['traveltime']-preds)/test['traveltime'])*100).mean()"
   ]
  },
  {
   "cell_type": "code",
   "execution_count": 40,
   "metadata": {},
   "outputs": [],
   "source": [
    "test = test[test['distance']==test['distance'].min()]\n",
    "preds = rgr.predict(test[features])"
   ]
  },
  {
   "cell_type": "code",
   "execution_count": 41,
   "metadata": {},
   "outputs": [
    {
     "data": {
      "text/plain": [
       "-0.17739585513108014"
      ]
     },
     "execution_count": 41,
     "metadata": {},
     "output_type": "execute_result"
    }
   ],
   "source": [
    "metrics.r2_score(test['traveltime'],preds)"
   ]
  },
  {
   "cell_type": "code",
   "execution_count": 42,
   "metadata": {},
   "outputs": [
    {
     "data": {
      "text/plain": [
       "19.50298690778115"
      ]
     },
     "execution_count": 42,
     "metadata": {},
     "output_type": "execute_result"
    }
   ],
   "source": [
    "((abs(test['traveltime']-preds)/test['traveltime'])*100).mean()"
   ]
  },
  {
   "cell_type": "code",
   "execution_count": 44,
   "metadata": {},
   "outputs": [],
   "source": [
    "features = features[7:]"
   ]
  },
  {
   "cell_type": "code",
   "execution_count": 51,
   "metadata": {},
   "outputs": [
    {
     "data": {
      "text/plain": [
       "82"
      ]
     },
     "execution_count": 51,
     "metadata": {},
     "output_type": "execute_result"
    }
   ],
   "source": [
    "test['traveltime'].min()"
   ]
  },
  {
   "cell_type": "code",
   "execution_count": 52,
   "metadata": {},
   "outputs": [
    {
     "data": {
      "text/plain": [
       "481"
      ]
     },
     "execution_count": 52,
     "metadata": {},
     "output_type": "execute_result"
    }
   ],
   "source": [
    "test['traveltime'].max()"
   ]
  },
  {
   "cell_type": "code",
   "execution_count": 53,
   "metadata": {},
   "outputs": [
    {
     "data": {
      "text/plain": [
       "152.0"
      ]
     },
     "execution_count": 53,
     "metadata": {},
     "output_type": "execute_result"
    }
   ],
   "source": [
    "test['traveltime'].median()"
   ]
  },
  {
   "cell_type": "code",
   "execution_count": 54,
   "metadata": {},
   "outputs": [
    {
     "data": {
      "text/plain": [
       "155.84839044652128"
      ]
     },
     "execution_count": 54,
     "metadata": {},
     "output_type": "execute_result"
    }
   ],
   "source": [
    "test['traveltime'].mean()"
   ]
  },
  {
   "cell_type": "code",
   "execution_count": null,
   "metadata": {},
   "outputs": [],
   "source": []
  }
 ],
 "metadata": {
  "kernelspec": {
   "display_name": "Python 3",
   "language": "python",
   "name": "python3"
  },
  "language_info": {
   "codemirror_mode": {
    "name": "ipython",
    "version": 3
   },
   "file_extension": ".py",
   "mimetype": "text/x-python",
   "name": "python",
   "nbconvert_exporter": "python",
   "pygments_lexer": "ipython3",
   "version": "3.6.5"
  }
 },
 "nbformat": 4,
 "nbformat_minor": 2
}
