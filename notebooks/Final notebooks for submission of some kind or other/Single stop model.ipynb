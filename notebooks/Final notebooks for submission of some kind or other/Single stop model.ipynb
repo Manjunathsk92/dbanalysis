{
 "cells": [
  {
   "cell_type": "code",
   "execution_count": 39,
   "metadata": {},
   "outputs": [],
   "source": [
    "import pandas as pd\n",
    "from dbanalysis import stop_tools\n",
    "df = stop_tools.random_stop_data()"
   ]
  },
  {
   "cell_type": "code",
   "execution_count": 40,
   "metadata": {},
   "outputs": [],
   "source": [
    "traveltimes = df['traveltime']"
   ]
  },
  {
   "cell_type": "code",
   "execution_count": 54,
   "metadata": {},
   "outputs": [
    {
     "data": {
      "text/plain": [
       "51.3286931981544"
      ]
     },
     "execution_count": 54,
     "metadata": {},
     "output_type": "execute_result"
    }
   ],
   "source": [
    "a.mean()"
   ]
  },
  {
   "cell_type": "code",
   "execution_count": 55,
   "metadata": {},
   "outputs": [
    {
     "data": {
      "text/plain": [
       "49.484342563082954"
      ]
     },
     "execution_count": 55,
     "metadata": {},
     "output_type": "execute_result"
    }
   ],
   "source": [
    "traveltimes.mean()"
   ]
  },
  {
   "cell_type": "code",
   "execution_count": 41,
   "metadata": {},
   "outputs": [],
   "source": [
    "features = ['actualtime_arr_from','day','month','hour','rain','rhum','temp']"
   ]
  },
  {
   "cell_type": "code",
   "execution_count": 42,
   "metadata": {},
   "outputs": [],
   "source": [
    "from sklearn.preprocessing import normalize\n",
    "df,norm = normalize(df[features+['traveltime']],return_norm=True)"
   ]
  },
  {
   "cell_type": "code",
   "execution_count": 43,
   "metadata": {},
   "outputs": [],
   "source": [
    "import pandas as pd\n",
    "df = pd.DataFrame(df,columns = features+['traveltime'])\n",
    "from sklearn.linear_model import LinearRegression as lr\n"
   ]
  },
  {
   "cell_type": "code",
   "execution_count": 44,
   "metadata": {},
   "outputs": [],
   "source": [
    "rgr = lr(fit_intercept=True).fit(df[features],df['traveltime'])"
   ]
  },
  {
   "cell_type": "code",
   "execution_count": 45,
   "metadata": {},
   "outputs": [
    {
     "data": {
      "text/plain": [
       "0.8126539619688364"
      ]
     },
     "execution_count": 45,
     "metadata": {},
     "output_type": "execute_result"
    }
   ],
   "source": [
    "preds = rgr.predict(df[features])\n",
    "from sklearn import metrics\n",
    "metrics.r2_score(df['traveltime'],preds)"
   ]
  },
  {
   "cell_type": "code",
   "execution_count": 56,
   "metadata": {},
   "outputs": [
    {
     "name": "stdout",
     "output_type": "stream",
     "text": [
      "0.7021523471900775\n"
     ]
    },
    {
     "data": {
      "text/plain": [
       "85.68746104964886"
      ]
     },
     "execution_count": 56,
     "metadata": {},
     "output_type": "execute_result"
    }
   ],
   "source": [
    "print(metrics.r2_score(traveltimes,preds*norm))\n",
    "a = preds*norm\n",
    "((abs(traveltimes -a)/traveltimes)*100).mean()"
   ]
  },
  {
   "cell_type": "code",
   "execution_count": 57,
   "metadata": {},
   "outputs": [
    {
     "data": {
      "text/plain": [
       "85.68746104964886"
      ]
     },
     "execution_count": 57,
     "metadata": {},
     "output_type": "execute_result"
    }
   ],
   "source": [
    "((abs(df['traveltime'] -preds)/df['traveltime'])*100).mean()"
   ]
  },
  {
   "cell_type": "code",
   "execution_count": 10,
   "metadata": {},
   "outputs": [
    {
     "data": {
      "text/plain": [
       "Index(['index', 'dayofservice', 'tripid', 'plannedtime_arr_from',\n",
       "       'plannedtime_dep_from', 'actualtime_arr_from', 'actualtime_dep_from',\n",
       "       'plannedtime_arr_to', 'actualtime_arr_to', 'fromstop', 'tostop',\n",
       "       'traveltime', 'dwelltime', 'distance', 'speed', 'dt', 'date', 'year',\n",
       "       'dewpt', 'msl', 'rain', 'rhum', 'temp', 'vappr', 'wetb', 'day_0',\n",
       "       'day_1', 'day_2', 'day_3', 'day_4', 'day_5', 'day_6', 'hour_6',\n",
       "       'hour_7', 'hour_8', 'hour_9', 'hour_10', 'hour_11', 'hour_12',\n",
       "       'hour_13', 'hour_14', 'hour_15', 'hour_16', 'hour_17', 'hour_18',\n",
       "       'hour_19', 'hour_20', 'hour_21', 'hour_22', 'hour_23', 'month_1',\n",
       "       'month_2', 'month_3', 'month_4', 'month_5', 'month_6',\n",
       "       'routeid_145_102', 'routeid_145_104', 'routeid_145_107',\n",
       "       'routeid_145_94', 'routeid_145_99', 'routeid_185_56', 'routeid_185_57',\n",
       "       'routeid_185_58', 'routeid_185_59', 'routeid_185_60', 'routeid_185_61',\n",
       "       'routeid_185_62', 'routeid_45A_60', 'routeid_45A_67', 'routeid_45A_68',\n",
       "       'routeid_84A_1', 'routeid_84A_2', 'routeid_84_27', 'routeid_84_28'],\n",
       "      dtype='object')"
      ]
     },
     "execution_count": 10,
     "metadata": {},
     "output_type": "execute_result"
    }
   ],
   "source": [
    "df.columns"
   ]
  },
  {
   "cell_type": "code",
   "execution_count": 5,
   "metadata": {},
   "outputs": [],
   "source": [
    "features1 =['day_0',\n",
    "       'day_1', 'day_2', 'day_3', 'day_4', 'day_5', 'day_6', 'hour_6',\n",
    "       'hour_7', 'hour_8', 'hour_9', 'hour_10', 'hour_11', 'hour_12',\n",
    "       'hour_13', 'hour_14', 'hour_15', 'hour_16', 'hour_17', 'hour_18',\n",
    "       'hour_19', 'hour_20', 'hour_21', 'hour_22', 'hour_23', 'month_1',\n",
    "       'month_2', 'month_3', 'month_4', 'month_5', 'month_6',\n",
    "       'routeid_145_102', 'routeid_145_104', 'routeid_145_107',\n",
    "       'routeid_145_94', 'routeid_145_99', 'routeid_185_56', 'routeid_185_57',\n",
    "       'routeid_185_58', 'routeid_185_59', 'routeid_185_60', 'routeid_185_61',\n",
    "       'routeid_185_62', 'routeid_45A_60', 'routeid_45A_67', 'routeid_45A_68',\n",
    "       'routeid_84A_1', 'routeid_84A_2', 'routeid_84_27', 'routeid_84_28']"
   ]
  },
  {
   "cell_type": "code",
   "execution_count": 6,
   "metadata": {},
   "outputs": [
    {
     "ename": "KeyError",
     "evalue": "\"['routeid_145_102' 'routeid_145_104' 'routeid_145_107' 'routeid_145_94'\\n 'routeid_145_99' 'routeid_185_56' 'routeid_185_57' 'routeid_185_58'\\n 'routeid_185_59' 'routeid_185_60' 'routeid_185_61' 'routeid_185_62'\\n 'routeid_45A_60' 'routeid_45A_67' 'routeid_45A_68' 'routeid_84A_1'\\n 'routeid_84A_2' 'routeid_84_27' 'routeid_84_28'] not in index\"",
     "output_type": "error",
     "traceback": [
      "\u001b[0;31m---------------------------------------------------------------------------\u001b[0m",
      "\u001b[0;31mKeyError\u001b[0m                                  Traceback (most recent call last)",
      "\u001b[0;32m<ipython-input-6-02b3aa255f0d>\u001b[0m in \u001b[0;36m<module>\u001b[0;34m()\u001b[0m\n\u001b[1;32m      1\u001b[0m \u001b[0;32mfrom\u001b[0m \u001b[0msklearn\u001b[0m\u001b[0;34m.\u001b[0m\u001b[0mpreprocessing\u001b[0m \u001b[0;32mimport\u001b[0m \u001b[0mnormalize\u001b[0m\u001b[0;34m\u001b[0m\u001b[0m\n\u001b[0;32m----> 2\u001b[0;31m \u001b[0mdf\u001b[0m\u001b[0;34m,\u001b[0m\u001b[0mnorm\u001b[0m \u001b[0;34m=\u001b[0m \u001b[0mnormalize\u001b[0m\u001b[0;34m(\u001b[0m\u001b[0mdf\u001b[0m\u001b[0;34m[\u001b[0m\u001b[0mfeatures1\u001b[0m\u001b[0;34m+\u001b[0m\u001b[0;34m[\u001b[0m\u001b[0;34m'traveltime'\u001b[0m\u001b[0;34m]\u001b[0m\u001b[0;34m]\u001b[0m\u001b[0;34m,\u001b[0m\u001b[0mreturn_norm\u001b[0m\u001b[0;34m=\u001b[0m\u001b[0;32mTrue\u001b[0m\u001b[0;34m)\u001b[0m\u001b[0;34m\u001b[0m\u001b[0m\n\u001b[0m",
      "\u001b[0;32m~/anaconda3/lib/python3.6/site-packages/pandas/core/frame.py\u001b[0m in \u001b[0;36m__getitem__\u001b[0;34m(self, key)\u001b[0m\n\u001b[1;32m   2677\u001b[0m         \u001b[0;32mif\u001b[0m \u001b[0misinstance\u001b[0m\u001b[0;34m(\u001b[0m\u001b[0mkey\u001b[0m\u001b[0;34m,\u001b[0m \u001b[0;34m(\u001b[0m\u001b[0mSeries\u001b[0m\u001b[0;34m,\u001b[0m \u001b[0mnp\u001b[0m\u001b[0;34m.\u001b[0m\u001b[0mndarray\u001b[0m\u001b[0;34m,\u001b[0m \u001b[0mIndex\u001b[0m\u001b[0;34m,\u001b[0m \u001b[0mlist\u001b[0m\u001b[0;34m)\u001b[0m\u001b[0;34m)\u001b[0m\u001b[0;34m:\u001b[0m\u001b[0;34m\u001b[0m\u001b[0m\n\u001b[1;32m   2678\u001b[0m             \u001b[0;31m# either boolean or fancy integer index\u001b[0m\u001b[0;34m\u001b[0m\u001b[0;34m\u001b[0m\u001b[0m\n\u001b[0;32m-> 2679\u001b[0;31m             \u001b[0;32mreturn\u001b[0m \u001b[0mself\u001b[0m\u001b[0;34m.\u001b[0m\u001b[0m_getitem_array\u001b[0m\u001b[0;34m(\u001b[0m\u001b[0mkey\u001b[0m\u001b[0;34m)\u001b[0m\u001b[0;34m\u001b[0m\u001b[0m\n\u001b[0m\u001b[1;32m   2680\u001b[0m         \u001b[0;32melif\u001b[0m \u001b[0misinstance\u001b[0m\u001b[0;34m(\u001b[0m\u001b[0mkey\u001b[0m\u001b[0;34m,\u001b[0m \u001b[0mDataFrame\u001b[0m\u001b[0;34m)\u001b[0m\u001b[0;34m:\u001b[0m\u001b[0;34m\u001b[0m\u001b[0m\n\u001b[1;32m   2681\u001b[0m             \u001b[0;32mreturn\u001b[0m \u001b[0mself\u001b[0m\u001b[0;34m.\u001b[0m\u001b[0m_getitem_frame\u001b[0m\u001b[0;34m(\u001b[0m\u001b[0mkey\u001b[0m\u001b[0;34m)\u001b[0m\u001b[0;34m\u001b[0m\u001b[0m\n",
      "\u001b[0;32m~/anaconda3/lib/python3.6/site-packages/pandas/core/frame.py\u001b[0m in \u001b[0;36m_getitem_array\u001b[0;34m(self, key)\u001b[0m\n\u001b[1;32m   2721\u001b[0m             \u001b[0;32mreturn\u001b[0m \u001b[0mself\u001b[0m\u001b[0;34m.\u001b[0m\u001b[0m_take\u001b[0m\u001b[0;34m(\u001b[0m\u001b[0mindexer\u001b[0m\u001b[0;34m,\u001b[0m \u001b[0maxis\u001b[0m\u001b[0;34m=\u001b[0m\u001b[0;36m0\u001b[0m\u001b[0;34m)\u001b[0m\u001b[0;34m\u001b[0m\u001b[0m\n\u001b[1;32m   2722\u001b[0m         \u001b[0;32melse\u001b[0m\u001b[0;34m:\u001b[0m\u001b[0;34m\u001b[0m\u001b[0m\n\u001b[0;32m-> 2723\u001b[0;31m             \u001b[0mindexer\u001b[0m \u001b[0;34m=\u001b[0m \u001b[0mself\u001b[0m\u001b[0;34m.\u001b[0m\u001b[0mloc\u001b[0m\u001b[0;34m.\u001b[0m\u001b[0m_convert_to_indexer\u001b[0m\u001b[0;34m(\u001b[0m\u001b[0mkey\u001b[0m\u001b[0;34m,\u001b[0m \u001b[0maxis\u001b[0m\u001b[0;34m=\u001b[0m\u001b[0;36m1\u001b[0m\u001b[0;34m)\u001b[0m\u001b[0;34m\u001b[0m\u001b[0m\n\u001b[0m\u001b[1;32m   2724\u001b[0m             \u001b[0;32mreturn\u001b[0m \u001b[0mself\u001b[0m\u001b[0;34m.\u001b[0m\u001b[0m_take\u001b[0m\u001b[0;34m(\u001b[0m\u001b[0mindexer\u001b[0m\u001b[0;34m,\u001b[0m \u001b[0maxis\u001b[0m\u001b[0;34m=\u001b[0m\u001b[0;36m1\u001b[0m\u001b[0;34m)\u001b[0m\u001b[0;34m\u001b[0m\u001b[0m\n\u001b[1;32m   2725\u001b[0m \u001b[0;34m\u001b[0m\u001b[0m\n",
      "\u001b[0;32m~/anaconda3/lib/python3.6/site-packages/pandas/core/indexing.py\u001b[0m in \u001b[0;36m_convert_to_indexer\u001b[0;34m(self, obj, axis, is_setter)\u001b[0m\n\u001b[1;32m   1325\u001b[0m                 \u001b[0;32mif\u001b[0m \u001b[0mmask\u001b[0m\u001b[0;34m.\u001b[0m\u001b[0many\u001b[0m\u001b[0;34m(\u001b[0m\u001b[0;34m)\u001b[0m\u001b[0;34m:\u001b[0m\u001b[0;34m\u001b[0m\u001b[0m\n\u001b[1;32m   1326\u001b[0m                     raise KeyError('{mask} not in index'\n\u001b[0;32m-> 1327\u001b[0;31m                                    .format(mask=objarr[mask]))\n\u001b[0m\u001b[1;32m   1328\u001b[0m \u001b[0;34m\u001b[0m\u001b[0m\n\u001b[1;32m   1329\u001b[0m                 \u001b[0;32mreturn\u001b[0m \u001b[0mcom\u001b[0m\u001b[0;34m.\u001b[0m\u001b[0m_values_from_object\u001b[0m\u001b[0;34m(\u001b[0m\u001b[0mindexer\u001b[0m\u001b[0;34m)\u001b[0m\u001b[0;34m\u001b[0m\u001b[0m\n",
      "\u001b[0;31mKeyError\u001b[0m: \"['routeid_145_102' 'routeid_145_104' 'routeid_145_107' 'routeid_145_94'\\n 'routeid_145_99' 'routeid_185_56' 'routeid_185_57' 'routeid_185_58'\\n 'routeid_185_59' 'routeid_185_60' 'routeid_185_61' 'routeid_185_62'\\n 'routeid_45A_60' 'routeid_45A_67' 'routeid_45A_68' 'routeid_84A_1'\\n 'routeid_84A_2' 'routeid_84_27' 'routeid_84_28'] not in index\""
     ]
    }
   ],
   "source": [
    "from sklearn.preprocessing import normalize\n",
    "df,norm = normalize(df[features1+['traveltime']],return_norm=True)"
   ]
  },
  {
   "cell_type": "code",
   "execution_count": 13,
   "metadata": {},
   "outputs": [],
   "source": [
    "from sklearn.linear_model import LinearRegression as lr\n",
    "df['traveltime']=df['actualtime_arr_to']-df['actualtime_arr_from']\n",
    "df=df[df['traveltime']!=0]"
   ]
  },
  {
   "cell_type": "code",
   "execution_count": 14,
   "metadata": {},
   "outputs": [],
   "source": [
    "rgr = lr(fit_intercept=True).fit(df[features1],df['traveltime'])"
   ]
  },
  {
   "cell_type": "code",
   "execution_count": 15,
   "metadata": {},
   "outputs": [],
   "source": [
    "preds = rgr.predict(df[features1])"
   ]
  },
  {
   "cell_type": "code",
   "execution_count": 16,
   "metadata": {},
   "outputs": [
    {
     "data": {
      "text/plain": [
       "0.140071034941619"
      ]
     },
     "execution_count": 16,
     "metadata": {},
     "output_type": "execute_result"
    }
   ],
   "source": [
    "from sklearn import metrics\n",
    "metrics.r2_score(df['traveltime'],preds)"
   ]
  },
  {
   "cell_type": "code",
   "execution_count": 31,
   "metadata": {},
   "outputs": [],
   "source": [
    "#add weather\n",
    "features2 = features1 + ['rhum','rain','vappr']"
   ]
  },
  {
   "cell_type": "code",
   "execution_count": 20,
   "metadata": {},
   "outputs": [
    {
     "data": {
      "text/plain": [
       "0.14040836109172505"
      ]
     },
     "execution_count": 20,
     "metadata": {},
     "output_type": "execute_result"
    }
   ],
   "source": [
    "rgr = lr(fit_intercept=True).fit(df[features2],df['traveltime'])\n",
    "preds = rgr.predict(df[features2])\n",
    "from sklearn import metrics\n",
    "metrics.r2_score(df['traveltime'],preds)"
   ]
  },
  {
   "cell_type": "code",
   "execution_count": 3,
   "metadata": {},
   "outputs": [],
   "source": [
    "features3 =['day_0',\n",
    "       'day_1', 'day_2', 'day_3', 'day_4', 'day_5', 'day_6', 'hour_6',\n",
    "       'hour_7', 'hour_8', 'hour_9', 'hour_10', 'hour_11', 'hour_12',\n",
    "       'hour_13', 'hour_14', 'hour_15', 'hour_16', 'hour_17', 'hour_18',\n",
    "       'hour_19', 'hour_20', 'hour_21', 'hour_22', 'hour_23', 'month_1',\n",
    "       'month_2', 'month_3', 'month_4', 'month_5', 'month_6']"
   ]
  },
  {
   "cell_type": "code",
   "execution_count": 22,
   "metadata": {},
   "outputs": [
    {
     "data": {
      "text/plain": [
       "0.1136244799773043"
      ]
     },
     "execution_count": 22,
     "metadata": {},
     "output_type": "execute_result"
    }
   ],
   "source": [
    "rgr = lr(fit_intercept=True).fit(df[features3],df['traveltime'])\n",
    "preds = rgr.predict(df[features3])\n",
    "from sklearn import metrics\n",
    "metrics.r2_score(df['traveltime'],preds)"
   ]
  },
  {
   "cell_type": "code",
   "execution_count": 23,
   "metadata": {},
   "outputs": [],
   "source": [
    "features4 =['day_0',\n",
    "       'day_1', 'day_2', 'day_3', 'day_4', 'day_5', 'day_6', 'hour_6',\n",
    "       'hour_7', 'hour_8', 'hour_9', 'hour_10', 'hour_11', 'hour_12',\n",
    "       'hour_13', 'hour_14', 'hour_15', 'hour_16', 'hour_17', 'hour_18',\n",
    "       'hour_19', 'hour_20', 'hour_21', 'hour_22', 'hour_23']"
   ]
  },
  {
   "cell_type": "code",
   "execution_count": 24,
   "metadata": {},
   "outputs": [
    {
     "data": {
      "text/plain": [
       "0.11084425065365555"
      ]
     },
     "execution_count": 24,
     "metadata": {},
     "output_type": "execute_result"
    }
   ],
   "source": [
    "rgr = lr(fit_intercept=True).fit(df[features4],df['traveltime'])\n",
    "preds = rgr.predict(df[features4])\n",
    "from sklearn import metrics\n",
    "metrics.r2_score(df['traveltime'],preds)"
   ]
  },
  {
   "cell_type": "code",
   "execution_count": 25,
   "metadata": {},
   "outputs": [],
   "source": [
    "features5 =['day_0',\n",
    "       'day_1', 'day_2', 'day_3', 'day_4', 'day_5', 'day_6', 'hour_6',\n",
    "       'hour_7', 'hour_8', 'hour_9', 'hour_10', 'hour_11', 'hour_12',\n",
    "       'hour_13', 'hour_14', 'hour_15', 'hour_16', 'hour_17', 'hour_18',\n",
    "       'hour_19', 'hour_20', 'hour_21', 'hour_22', 'hour_23', \n",
    "       'routeid_145_102', 'routeid_145_104', 'routeid_145_107',\n",
    "       'routeid_145_94', 'routeid_145_99', 'routeid_185_56', 'routeid_185_57',\n",
    "       'routeid_185_58', 'routeid_185_59', 'routeid_185_60', 'routeid_185_61',\n",
    "       'routeid_185_62', 'routeid_45A_60', 'routeid_45A_67', 'routeid_45A_68',\n",
    "       'routeid_84A_1', 'routeid_84A_2', 'routeid_84_27', 'routeid_84_28']"
   ]
  },
  {
   "cell_type": "code",
   "execution_count": 26,
   "metadata": {},
   "outputs": [
    {
     "data": {
      "text/plain": [
       "0.13729885263832164"
      ]
     },
     "execution_count": 26,
     "metadata": {},
     "output_type": "execute_result"
    }
   ],
   "source": [
    "rgr = lr(fit_intercept=True).fit(df[features5],df['traveltime'])\n",
    "preds = rgr.predict(df[features5])\n",
    "from sklearn import metrics\n",
    "metrics.r2_score(df['traveltime'],preds)"
   ]
  },
  {
   "cell_type": "code",
   "execution_count": 29,
   "metadata": {},
   "outputs": [],
   "source": [
    "features6 = features5 + ['rhum','rain','vappr','actualtime_arr_from']"
   ]
  },
  {
   "cell_type": "code",
   "execution_count": 30,
   "metadata": {},
   "outputs": [
    {
     "data": {
      "text/plain": [
       "0.1389909809706904"
      ]
     },
     "execution_count": 30,
     "metadata": {},
     "output_type": "execute_result"
    }
   ],
   "source": [
    "rgr = lr(fit_intercept=True).fit(df[features6],df['traveltime'])\n",
    "preds = rgr.predict(df[features6])\n",
    "from sklearn import metrics\n",
    "metrics.r2_score(df['traveltime'],preds)"
   ]
  },
  {
   "cell_type": "code",
   "execution_count": 32,
   "metadata": {},
   "outputs": [],
   "source": [
    "features7 = features2 + ['dewpt', 'msl', 'temp','wetb']"
   ]
  },
  {
   "cell_type": "code",
   "execution_count": 33,
   "metadata": {},
   "outputs": [
    {
     "data": {
      "text/plain": [
       "0.14060171605845662"
      ]
     },
     "execution_count": 33,
     "metadata": {},
     "output_type": "execute_result"
    }
   ],
   "source": [
    "rgr = lr(fit_intercept=True).fit(df[features7],df['traveltime'])\n",
    "preds = rgr.predict(df[features7])\n",
    "from sklearn import metrics\n",
    "metrics.r2_score(df['traveltime'],preds)"
   ]
  },
  {
   "cell_type": "code",
   "execution_count": 37,
   "metadata": {},
   "outputs": [
    {
     "name": "stdout",
     "output_type": "stream",
     "text": [
      "0.11285077865614042\n"
     ]
    }
   ],
   "source": [
    "r2_scores = 0\n",
    "count = 0\n",
    "for i in range(100):\n",
    "    try:\n",
    "        df = stop_tools.random_stop_data()\n",
    "        df = pd.get_dummies(df,columns=['day','hour','month','routeid'])\n",
    "        features = [f for f in df.columns if f not in\\\n",
    "                   ['index', 'dayofservice', 'tripid', 'plannedtime_arr_from',\n",
    "           'plannedtime_dep_from', 'actualtime_arr_from', 'actualtime_dep_from',\n",
    "           'plannedtime_arr_to', 'actualtime_arr_to', 'fromstop', 'tostop',\n",
    "           'traveltime', 'dwelltime', 'distance', 'speed', 'dt', 'date', 'year']]\n",
    "        rgr = lr(fit_intercept=True).fit(df[features],df['traveltime'])\n",
    "        preds = rgr.predict(df[features])\n",
    "        r2_scores+=metrics.r2_score(df['traveltime'],preds)\n",
    "        count+=1\n",
    "    except:\n",
    "        pass\n",
    "print(r2_scores/count)"
   ]
  },
  {
   "cell_type": "markdown",
   "metadata": {},
   "source": [
    "# Well. Fuck. That is the best the linear models can do?"
   ]
  },
  {
   "cell_type": "markdown",
   "metadata": {},
   "source": [
    "## Keep hitting click on this code. r2 score varies massively by random stop - from a 0.3+ fit for some stops, to a negative fit for other stops. Pissh"
   ]
  },
  {
   "cell_type": "code",
   "execution_count": 53,
   "metadata": {},
   "outputs": [
    {
     "data": {
      "text/plain": [
       "0.36455179783455394"
      ]
     },
     "execution_count": 53,
     "metadata": {},
     "output_type": "execute_result"
    }
   ],
   "source": [
    "\n",
    "df = stop_tools.random_stop_data()\n",
    "df = pd.get_dummies(df,columns=['day','hour','month','routeid'])\n",
    "features = [f for f in df.columns if f not in\\\n",
    "                   ['index', 'dayofservice', 'tripid', 'plannedtime_arr_from',\n",
    "           'plannedtime_dep_from', 'actualtime_arr_from', 'actualtime_dep_from',\n",
    "           'plannedtime_arr_to', 'actualtime_arr_to', 'fromstop', 'tostop',\n",
    "           'traveltime', 'dwelltime', 'distance', 'speed', 'dt', 'date', 'year']]\n",
    "train = df[df['year']==2016]\n",
    "test = df[df['year']==2017]\n",
    "rgr = lr(fit_intercept=True).fit(train[features],train['traveltime'])\n",
    "preds = rgr.predict(test[features])\n",
    "metrics.r2_score(test['traveltime'],preds)"
   ]
  },
  {
   "cell_type": "code",
   "execution_count": 59,
   "metadata": {},
   "outputs": [
    {
     "data": {
      "text/plain": [
       "0.00814913558870678"
      ]
     },
     "execution_count": 59,
     "metadata": {},
     "output_type": "execute_result"
    }
   ],
   "source": [
    "from sklearn.ensemble import RandomForestRegressor as rf\n",
    "df = stop_tools.random_stop_data()\n",
    "df = pd.get_dummies(df,columns=['day','hour','month','routeid'])\n",
    "features = [f for f in df.columns if f not in\\\n",
    "                   ['index', 'dayofservice', 'tripid', 'plannedtime_arr_from',\n",
    "           'plannedtime_dep_from', 'actualtime_arr_from', 'actualtime_dep_from',\n",
    "           'plannedtime_arr_to', 'actualtime_arr_to', 'fromstop', 'tostop',\n",
    "           'traveltime', 'dwelltime', 'distance', 'speed', 'dt', 'date', 'year']]\n",
    "train = df[df['year']==2016]\n",
    "test = df[df['year']==2017]\n",
    "rgr = rf().fit(train[features],train['traveltime'])\n",
    "preds = rgr.predict(test[features])\n",
    "metrics.r2_score(test['traveltime'],preds)"
   ]
  },
  {
   "cell_type": "markdown",
   "metadata": {},
   "source": [
    "# Linear regression performs better than random forest though\n",
    "\n",
    "With neural networks - its possible to learn good models for some stops and not for others, which you know. Yeah"
   ]
  },
  {
   "cell_type": "code",
   "execution_count": 78,
   "metadata": {},
   "outputs": [
    {
     "data": {
      "text/plain": [
       "-0.014537840881587938"
      ]
     },
     "execution_count": 78,
     "metadata": {},
     "output_type": "execute_result"
    }
   ],
   "source": [
    "from sklearn.neural_network import MLPRegressor as NN\n",
    "df = stop_tools.random_stop_data()\n",
    "df = pd.get_dummies(df,columns=['day','hour','month','routeid'])\n",
    "features = [f for f in df.columns if f not in\\\n",
    "                   ['index', 'dayofservice', 'tripid', 'plannedtime_arr_from',\n",
    "           'plannedtime_dep_from', 'actualtime_arr_from', 'actualtime_dep_from',\n",
    "           'plannedtime_arr_to', 'actualtime_arr_to', 'fromstop', 'tostop',\n",
    "           'traveltime', 'dwelltime', 'distance', 'speed', 'dt', 'date', 'year']]\n",
    "train = df[df['year']==2016]\n",
    "test = df[df['year']==2017]\n",
    "rgr = NN(hidden_layer_sizes = (200,200,200,200,)).fit(train[features],train['traveltime'])\n",
    "preds = rgr.predict(test[features])\n",
    "metrics.r2_score(test['traveltime'],preds)"
   ]
  },
  {
   "cell_type": "code",
   "execution_count": null,
   "metadata": {},
   "outputs": [],
   "source": []
  }
 ],
 "metadata": {
  "kernelspec": {
   "display_name": "Python 3",
   "language": "python",
   "name": "python3"
  },
  "language_info": {
   "codemirror_mode": {
    "name": "ipython",
    "version": 3
   },
   "file_extension": ".py",
   "mimetype": "text/x-python",
   "name": "python",
   "nbconvert_exporter": "python",
   "pygments_lexer": "ipython3",
   "version": "3.6.5"
  }
 },
 "nbformat": 4,
 "nbformat_minor": 2
}
