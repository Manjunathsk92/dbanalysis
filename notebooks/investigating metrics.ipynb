{
 "cells": [
  {
   "cell_type": "markdown",
   "metadata": {},
   "source": [
    "## Proof that r2 scores sucks for models that predict multiple different variables?"
   ]
  },
  {
   "cell_type": "code",
   "execution_count": 2,
   "metadata": {},
   "outputs": [],
   "source": [
    "import pandas as pd"
   ]
  },
  {
   "cell_type": "code",
   "execution_count": 3,
   "metadata": {},
   "outputs": [],
   "source": [
    "import numpy as np"
   ]
  },
  {
   "cell_type": "code",
   "execution_count": 4,
   "metadata": {},
   "outputs": [],
   "source": [
    "a=np.random.randint(5,9,100)\n"
   ]
  },
  {
   "cell_type": "code",
   "execution_count": 5,
   "metadata": {},
   "outputs": [],
   "source": [
    "from sklearn import metrics"
   ]
  },
  {
   "cell_type": "code",
   "execution_count": 6,
   "metadata": {},
   "outputs": [],
   "source": [
    "distribution_a = pd.Series(np.random.randint(5,9,100))\n",
    "distribution_b = pd.Series(np.random.randint(1,6,100))\n",
    "distribution_c = pd.Series(np.random.randint(7,12,100))\n",
    "predict_a = pd.Series([distribution_a.mean() for i in range(100)])\n",
    "predict_b = pd.Series([distribution_b.mean() for b in range(100)])\n",
    "predict_c = pd.Series([distribution_c.mean() for c in range(100)])\n",
    "\n"
   ]
  },
  {
   "cell_type": "code",
   "execution_count": 17,
   "metadata": {},
   "outputs": [
    {
     "data": {
      "text/plain": [
       "0.0"
      ]
     },
     "execution_count": 17,
     "metadata": {},
     "output_type": "execute_result"
    }
   ],
   "source": [
    "metrics.r2_score(distribution_a,predict_a)\n",
    "metrics.r2_score(distribution_b,predict_b)\n",
    "metrics.r2_score(distribution_c,predict_c)"
   ]
  },
  {
   "cell_type": "code",
   "execution_count": null,
   "metadata": {},
   "outputs": [],
   "source": [
    "metrics.mean_absolute_error(distribution_a,predict_a)\n",
    "metrics.r2_score(distribution_b,predict_b)\n",
    "metrics.r2_score(distribution_c,predict_c)"
   ]
  },
  {
   "cell_type": "code",
   "execution_count": 20,
   "metadata": {},
   "outputs": [
    {
     "data": {
      "text/plain": [
       "0.7609405646293499"
      ]
     },
     "execution_count": 20,
     "metadata": {},
     "output_type": "execute_result"
    }
   ],
   "source": [
    "all_distributions = pd.concat([distribution_a, distribution_b,distribution_c],axis=0)\n",
    "all_predicts = pd.concat([predict_a, predict_b,predict_c],axis=0)\n",
    "metrics.r2_score(all_distributions,all_predicts)"
   ]
  },
  {
   "cell_type": "code",
   "execution_count": 21,
   "metadata": {},
   "outputs": [
    {
     "data": {
      "text/plain": [
       "0     6.4\n",
       "1     6.4\n",
       "2     6.4\n",
       "3     6.4\n",
       "4     6.4\n",
       "5     6.4\n",
       "6     6.4\n",
       "7     6.4\n",
       "8     6.4\n",
       "9     6.4\n",
       "10    6.4\n",
       "11    6.4\n",
       "12    6.4\n",
       "13    6.4\n",
       "14    6.4\n",
       "15    6.4\n",
       "16    6.4\n",
       "17    6.4\n",
       "18    6.4\n",
       "19    6.4\n",
       "20    6.4\n",
       "21    6.4\n",
       "22    6.4\n",
       "23    6.4\n",
       "24    6.4\n",
       "25    6.4\n",
       "26    6.4\n",
       "27    6.4\n",
       "28    6.4\n",
       "29    6.4\n",
       "     ... \n",
       "70    8.9\n",
       "71    8.9\n",
       "72    8.9\n",
       "73    8.9\n",
       "74    8.9\n",
       "75    8.9\n",
       "76    8.9\n",
       "77    8.9\n",
       "78    8.9\n",
       "79    8.9\n",
       "80    8.9\n",
       "81    8.9\n",
       "82    8.9\n",
       "83    8.9\n",
       "84    8.9\n",
       "85    8.9\n",
       "86    8.9\n",
       "87    8.9\n",
       "88    8.9\n",
       "89    8.9\n",
       "90    8.9\n",
       "91    8.9\n",
       "92    8.9\n",
       "93    8.9\n",
       "94    8.9\n",
       "95    8.9\n",
       "96    8.9\n",
       "97    8.9\n",
       "98    8.9\n",
       "99    8.9\n",
       "Length: 300, dtype: float64"
      ]
     },
     "execution_count": 21,
     "metadata": {},
     "output_type": "execute_result"
    }
   ],
   "source": [
    "all_predicts"
   ]
  },
  {
   "cell_type": "code",
   "execution_count": null,
   "metadata": {},
   "outputs": [],
   "source": []
  }
 ],
 "metadata": {
  "kernelspec": {
   "display_name": "Python 3",
   "language": "python",
   "name": "python3"
  }
 },
 "nbformat": 4,
 "nbformat_minor": 2
}
